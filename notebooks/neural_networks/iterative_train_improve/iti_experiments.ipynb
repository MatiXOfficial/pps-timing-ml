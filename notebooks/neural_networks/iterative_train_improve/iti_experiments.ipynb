{
 "cells": [
  {
   "cell_type": "code",
   "execution_count": 1,
   "outputs": [],
   "source": [
    "import copy\n",
    "import pickle\n",
    "import sys\n",
    "from collections import defaultdict\n",
    "from itertools import combinations\n",
    "\n",
    "import numpy as np\n",
    "import pandas as pd\n",
    "from sklearn.model_selection import train_test_split\n",
    "from tensorflow import keras\n",
    "from tensorflow.python.framework.errors_impl import NotFoundError\n",
    "\n",
    "from src.cfd import CFD\n",
    "from src.dataset import X_TIME, load_expanded_dataset_train_val, TIME_STEP, load_expanded_dataset_train_test, \\\n",
    "    _extract_dataset_by_idx\n",
    "from src.gauss_hist import get_gauss_stats\n",
    "from src.models import optimal_model_builder_all_ch\n",
    "from src.network_utils import train_model as _base_train_model, gaussian_kernel, plot_difference_hist\n",
    "\n",
    "PWD = '../../..'\n",
    "sys.path.append(PWD)\n",
    "\n",
    "OPTIMAL_CFD_THRESHOLDS_TRAIN_DATA_PATH = PWD + '/data/tmp/many_channels_tests/optimal_cfd_thresholds_train_data.pkl'"
   ],
   "metadata": {
    "collapsed": false,
    "ExecuteTime": {
     "end_time": "2023-06-15T13:53:29.599375Z",
     "start_time": "2023-06-15T13:53:27.497855200Z"
    }
   }
  },
  {
   "cell_type": "code",
   "execution_count": 2,
   "outputs": [],
   "source": [
    "BASE_CFD_THRESHOLD = 0.2\n",
    "CFD_N_BASELINE = 6\n",
    "\n",
    "base_cfd = CFD(n_baseline=CFD_N_BASELINE, threshold=BASE_CFD_THRESHOLD)"
   ],
   "metadata": {
    "collapsed": false,
    "ExecuteTime": {
     "end_time": "2023-06-15T13:53:29.615414500Z",
     "start_time": "2023-06-15T13:53:29.600375200Z"
    }
   }
  },
  {
   "cell_type": "code",
   "execution_count": 3,
   "outputs": [],
   "source": [
    "N_BASELINE = 6\n",
    "\n",
    "LR = 0.01\n",
    "ES_MIN_DELTA = 0.01\n",
    "\n",
    "N_EPOCHS = 1000\n",
    "BATCH_SIZE = 8192\n",
    "LOSS_WEIGHT = 1000\n",
    "\n",
    "LR_PATIENCE = 5\n",
    "ES_PATIENCE = 50\n",
    "\n",
    "OVERWRITE = False"
   ],
   "metadata": {
    "collapsed": false,
    "ExecuteTime": {
     "end_time": "2023-06-15T13:53:29.634644300Z",
     "start_time": "2023-06-15T13:53:29.616413800Z"
    }
   }
  },
  {
   "cell_type": "code",
   "execution_count": 4,
   "outputs": [
    {
     "data": {
      "text/plain": "((26719,), (6680,))"
     },
     "execution_count": 4,
     "metadata": {},
     "output_type": "execute_result"
    }
   ],
   "source": [
    "base_dataset, _ = load_expanded_dataset_train_test(PWD)\n",
    "train_dataset, val_dataset = load_expanded_dataset_train_val(PWD)\n",
    "train_dataset[0].shape, val_dataset[0].shape"
   ],
   "metadata": {
    "collapsed": false,
    "ExecuteTime": {
     "end_time": "2023-06-15T13:53:29.725254Z",
     "start_time": "2023-06-15T13:53:29.632643700Z"
    }
   }
  },
  {
   "cell_type": "code",
   "execution_count": 5,
   "outputs": [
    {
     "name": "stdout",
     "output_type": "stream",
     "text": [
      "Optimal thresholds:\n",
      "(1,  2): 0.180\n",
      "(1, 11): 0.185\n",
      "(2,  2): 0.220\n",
      "(2, 11): 0.145\n",
      "(3,  2): 0.130\n",
      "(3, 11): 0.175\n"
     ]
    }
   ],
   "source": [
    "with open(OPTIMAL_CFD_THRESHOLDS_TRAIN_DATA_PATH, 'rb') as file:\n",
    "    optimal_cfd_thresholds = pickle.load(file)\n",
    "\n",
    "print('Optimal thresholds:')\n",
    "for (plane, channel), threshold in optimal_cfd_thresholds.items():\n",
    "    print(f'({plane:>1}, {channel:>2}): {threshold:0.3f}')\n",
    "\n",
    "cfd_by_channel = {(p, ch): CFD(n_baseline=N_BASELINE, threshold=thresh) for (p, ch), thresh in\n",
    "                  optimal_cfd_thresholds.items()}"
   ],
   "metadata": {
    "collapsed": false,
    "ExecuteTime": {
     "end_time": "2023-06-15T13:53:29.743925500Z",
     "start_time": "2023-06-15T13:53:29.727253700Z"
    }
   }
  },
  {
   "cell_type": "markdown",
   "source": [
    "# Utils"
   ],
   "metadata": {
    "collapsed": false
   }
  },
  {
   "cell_type": "code",
   "execution_count": 6,
   "outputs": [],
   "source": [
    "def compute_true_t(t_avg: float, t_ch: float, t_0: float) -> float:\n",
    "    # use only timestamps from other channels\n",
    "    return ((3 * t_avg) - (t_ch + t_0)) / 2 - t_0\n",
    "\n",
    "\n",
    "def compute_true_dataset(dataset_t_avg: np.ndarray, dataset_t0: dict, dataset_t_pred: dict) -> dict:\n",
    "    true_dataset = defaultdict(list)\n",
    "    for key in dataset_t0.keys():\n",
    "        print(f'Processing {key}...')\n",
    "\n",
    "        for i, t_avg in enumerate(dataset_t_avg):\n",
    "            if np.isnan(dataset_t0[key][i]):\n",
    "                true_dataset[key].append(np.nan)\n",
    "            else:\n",
    "                t_0 = dataset_t0[key][i]\n",
    "                t_pred = dataset_t_pred[key][i]\n",
    "                true_dataset[key].append(compute_true_t(t_avg, t_pred, t_0))\n",
    "\n",
    "    return true_dataset\n",
    "\n",
    "\n",
    "def build_nn_dataset(dataset_wav: dict, dataset_true: dict) -> tuple[np.ndarray, np.ndarray, np.ndarray]:\n",
    "    x, y = [], []\n",
    "    for key, data in dataset_wav.items():\n",
    "        t_data = dataset_true[key]\n",
    "        for i in range(len(t_data)):\n",
    "            if np.isnan(t_data[i]):\n",
    "                continue\n",
    "            wav = data[i]\n",
    "            true_t = t_data[i]\n",
    "\n",
    "            x.append(wav)\n",
    "            y.append(true_t)\n",
    "\n",
    "    x, y = np.array(x), np.array(y)\n",
    "\n",
    "    # UNet\n",
    "    y_network = np.array([gaussian_kernel(t) for t in y])\n",
    "\n",
    "    return x, y, y_network\n",
    "\n",
    "\n",
    "def build_and_train_network(iteration: int, x_train: np.ndarray, x_val: np.ndarray, y_train: np.ndarray,\n",
    "                            y_val: np.ndarray, overwrite: bool = OVERWRITE,\n",
    "                            verbose: int = 2) -> tuple[keras.Model, pd.DataFrame]:\n",
    "    model = optimal_model_builder_all_ch()\n",
    "    name = f\"optimal_it_{iteration}\"\n",
    "    if overwrite:\n",
    "        history = _base_train_model(model, name, \"iti_experiments\", x_train, y_train, x_val, y_val, LR, True, N_EPOCHS,\n",
    "                                    verbose, BATCH_SIZE, LR_PATIENCE, ES_PATIENCE, ES_MIN_DELTA, LOSS_WEIGHT,\n",
    "                                    root=PWD + '/data')\n",
    "    else:\n",
    "        try:\n",
    "            history = _base_train_model(model, name, \"iti_experiments\", x_train, y_train, x_val, y_val, LR, False,\n",
    "                                        N_EPOCHS,\n",
    "                                        verbose, BATCH_SIZE, LR_PATIENCE, ES_PATIENCE, ES_MIN_DELTA, LOSS_WEIGHT,\n",
    "                                        root=PWD + '/data')\n",
    "        except NotFoundError:\n",
    "            history = _base_train_model(model, name, \"iti_experiments\", x_train, y_train, x_val, y_val, LR, True,\n",
    "                                        N_EPOCHS,\n",
    "                                        verbose, BATCH_SIZE, LR_PATIENCE, ES_PATIENCE, ES_MIN_DELTA, LOSS_WEIGHT,\n",
    "                                        root=PWD + '/data')\n",
    "\n",
    "    return model, history\n",
    "\n",
    "\n",
    "def pred_model(model: keras.Model, x: np.ndarray) -> np.ndarray:\n",
    "    y_pred = model.predict(x, batch_size=BATCH_SIZE)\n",
    "\n",
    "    # UNet\n",
    "    y_pred_t = np.empty(y_pred.shape[0])\n",
    "    for i, y in enumerate(y_pred):\n",
    "        _, y_pred_t[i], _, _ = get_gauss_stats(X_TIME, y, a_0=1, std_0=1. * TIME_STEP)\n",
    "\n",
    "    return y_pred_t\n",
    "\n",
    "\n",
    "def evaluate_model_wrt_cfd_average(model: keras.Model, x: np.ndarray, y_true_t: np.ndarray, show: bool = True) -> float:\n",
    "    y_pred = pred_model(model, x)\n",
    "    std, _, _ = plot_difference_hist(y_true_t, y_pred, show=show)\n",
    "    return std\n",
    "\n",
    "\n",
    "def build_updated_dataset(model: keras.Model, dataset: tuple[np.ndarray, dict, dict, dict]) -> tuple[\n",
    "    np.ndarray, dict, dict, dict]:\n",
    "    _, dataset_wav, dataset_t0, _ = dataset\n",
    "    dataset_t0_updated = {}\n",
    "    dataset_t_pred_updated = {}\n",
    "    dataset_len = list(dataset_wav.values())[0].shape[0]\n",
    "    dataset_avg = np.zeros(dataset_len)\n",
    "    dataset_avg_count = np.zeros(dataset_len)\n",
    "\n",
    "    for key in dataset_wav.keys():\n",
    "        print(f'Processing channel {key}...')\n",
    "        # compute updated t0\n",
    "        wav_array = dataset_wav[key]\n",
    "        t0_array = dataset_t0[key].copy()\n",
    "\n",
    "        mask = ~np.isnan(t0_array)\n",
    "        t0_temp = t0_array[mask]\n",
    "        t_pred_array_temp = pred_model(model, wav_array[mask])\n",
    "        t_pred_array = np.full(dataset_len, np.nan)\n",
    "        t_pred_array[mask] = t_pred_array_temp\n",
    "\n",
    "        t_fixed = t0_temp + t_pred_array_temp\n",
    "        t_mean = np.mean(t_fixed)\n",
    "\n",
    "        t0_array[mask] -= t_mean\n",
    "        dataset_t0_updated[key] = t0_array\n",
    "        dataset_t_pred_updated[key] = t_pred_array\n",
    "\n",
    "        # add to avg\n",
    "        dataset_avg[mask] += t0_array[mask] + t_pred_array_temp\n",
    "        dataset_avg_count[mask] += 1\n",
    "\n",
    "    dataset_avg /= dataset_avg_count\n",
    "\n",
    "    return dataset_avg, dataset_wav, dataset_t0_updated, dataset_t_pred_updated\n",
    "\n",
    "\n",
    "def compute_average_pairwise_precision(dataset_t_pred: dict, dataset_t0: dict) -> float:\n",
    "    dataset_t = copy.deepcopy(dataset_t0)\n",
    "    for key in dataset_t_pred.keys():\n",
    "        mask = ~np.isnan(dataset_t0[key])\n",
    "        dataset_t[key][mask] += dataset_t_pred[key][mask]\n",
    "\n",
    "    pairwise_precisions = {}\n",
    "    for p_ch1, p_ch2 in combinations(dataset_t.keys(), 2):\n",
    "        if p_ch1[1] == p_ch2[1]:  # Only for corresponding channels\n",
    "            ch1_timestamps, ch2_timestamps = dataset_t[p_ch1], dataset_t[p_ch2]\n",
    "            differences = [abs(ch1_t - ch2_t) for ch1_t, ch2_t in zip(ch1_timestamps, ch2_timestamps) if\n",
    "                           not np.isnan(ch1_t) and not np.isnan(ch2_t)]\n",
    "\n",
    "            pairwise_precisions[(p_ch1, p_ch2)] = np.std(differences)\n",
    "\n",
    "    return np.average(pairwise_precisions.values())"
   ],
   "metadata": {
    "collapsed": false,
    "ExecuteTime": {
     "end_time": "2023-06-15T13:53:29.787933700Z",
     "start_time": "2023-06-15T13:53:29.750924900Z"
    }
   }
  },
  {
   "cell_type": "code",
   "execution_count": 10,
   "outputs": [
    {
     "name": "stdout",
     "output_type": "stream",
     "text": [
      "Processing (1, 2)...\n",
      "Processing (1, 11)...\n",
      "Processing (2, 2)...\n",
      "Processing (2, 11)...\n",
      "Processing (3, 2)...\n",
      "Processing (3, 11)...\n",
      "Processing (1, 2)...\n",
      "Processing (1, 11)...\n",
      "Processing (2, 2)...\n",
      "Processing (2, 11)...\n",
      "Processing (3, 2)...\n",
      "Processing (3, 11)...\n"
     ]
    },
    {
     "data": {
      "text/plain": "((80157, 24), (20040, 24), (80157, 24), (20040, 24))"
     },
     "execution_count": 10,
     "metadata": {},
     "output_type": "execute_result"
    }
   ],
   "source": [
    "true_cfd_train = compute_true_dataset(train_dataset[0], train_dataset[2], train_dataset[3])\n",
    "true_cfd_val = compute_true_dataset(val_dataset[0], val_dataset[2], val_dataset[3])\n",
    "x_train, y_train_t, y_train = build_nn_dataset(train_dataset[1], true_cfd_train)\n",
    "x_val, y_val_t, y_val = build_nn_dataset(val_dataset[1], true_cfd_val)\n",
    "x_train.shape, x_val.shape, y_train.shape, y_val.shape"
   ],
   "metadata": {
    "collapsed": false,
    "ExecuteTime": {
     "end_time": "2023-06-15T13:53:53.415254100Z",
     "start_time": "2023-06-15T13:53:52.867227200Z"
    }
   }
  },
  {
   "cell_type": "markdown",
   "source": [
    "# Test"
   ],
   "metadata": {
    "collapsed": false
   }
  },
  {
   "cell_type": "markdown",
   "source": [
    "## Iteration 1"
   ],
   "metadata": {
    "collapsed": false
   }
  },
  {
   "cell_type": "markdown",
   "source": [
    "### 1.1. Train Model"
   ],
   "metadata": {
    "collapsed": false
   }
  },
  {
   "cell_type": "code",
   "execution_count": 11,
   "outputs": [],
   "source": [
    "model_it1, _ = build_and_train_network(iteration=1, x_train=x_train, x_val=x_val, y_train=y_train, y_val=y_val)"
   ],
   "metadata": {
    "collapsed": false,
    "ExecuteTime": {
     "end_time": "2023-06-15T13:53:56.523808100Z",
     "start_time": "2023-06-15T13:53:55.928596400Z"
    }
   }
  },
  {
   "cell_type": "markdown",
   "source": [
    "### 1.2. Evaluate wrt CFD averages"
   ],
   "metadata": {
    "collapsed": false
   }
  },
  {
   "cell_type": "code",
   "execution_count": 12,
   "outputs": [
    {
     "name": "stdout",
     "output_type": "stream",
     "text": [
      "3/3 [==============================] - 1s 177ms/step\n"
     ]
    },
    {
     "data": {
      "text/plain": "<Figure size 640x480 with 1 Axes>",
      "image/png": "[encoded data removed]"
     },
     "metadata": {},
     "output_type": "display_data"
    },
    {
     "name": "stdout",
     "output_type": "stream",
     "text": [
      "Iteration 1. std wrt. CFD average: 79.88 ps\n"
     ]
    }
   ],
   "source": [
    "std = evaluate_model_wrt_cfd_average(model_it1, x_val, y_val_t)\n",
    "print(f\"Iteration 1. std wrt. CFD average: {std * 1000:0.2f} ps\")"
   ],
   "metadata": {
    "collapsed": false,
    "ExecuteTime": {
     "end_time": "2023-06-15T13:54:01.180398600Z",
     "start_time": "2023-06-15T13:53:57.237673300Z"
    }
   }
  },
  {
   "cell_type": "markdown",
   "source": [
    "### 1.3. Update dataset"
   ],
   "metadata": {
    "collapsed": false
   }
  },
  {
   "cell_type": "code",
   "execution_count": 13,
   "outputs": [
    {
     "name": "stdout",
     "output_type": "stream",
     "text": [
      "Processing channel (1, 2)...\n",
      "2/2 [==============================] - 0s 409ms/step\n",
      "Processing channel (1, 11)...\n",
      "3/3 [==============================] - 0s 212ms/step\n",
      "Processing channel (2, 2)...\n",
      "2/2 [==============================] - 0s 445ms/step\n",
      "Processing channel (2, 11)...\n",
      "3/3 [==============================] - 0s 229ms/step\n",
      "Processing channel (3, 2)...\n",
      "2/2 [==============================] - 0s 336ms/step\n",
      "Processing channel (3, 11)...\n",
      "3/3 [==============================] - 0s 220ms/step\n"
     ]
    }
   ],
   "source": [
    "base_dataset_it1 = build_updated_dataset(model_it1, base_dataset)"
   ],
   "metadata": {
    "collapsed": false,
    "ExecuteTime": {
     "end_time": "2023-06-15T13:54:55.193624700Z",
     "start_time": "2023-06-15T13:54:36.892641700Z"
    }
   }
  },
  {
   "cell_type": "code",
   "execution_count": 14,
   "outputs": [
    {
     "name": "stdout",
     "output_type": "stream",
     "text": [
      "Processing (1, 2)...\n",
      "Processing (1, 11)...\n",
      "Processing (2, 2)...\n",
      "Processing (2, 11)...\n",
      "Processing (3, 2)...\n",
      "Processing (3, 11)...\n",
      "Processing (1, 2)...\n",
      "Processing (1, 11)...\n",
      "Processing (2, 2)...\n",
      "Processing (2, 11)...\n",
      "Processing (3, 2)...\n",
      "Processing (3, 11)...\n"
     ]
    },
    {
     "data": {
      "text/plain": "((80157, 24), (80157, 24), (20040, 24), (20040, 24))"
     },
     "execution_count": 14,
     "metadata": {},
     "output_type": "execute_result"
    }
   ],
   "source": [
    "train_idx, val_idx = train_test_split(np.arange(len(base_dataset_it1[0])), test_size=0.2, random_state=42)\n",
    "train_dataset_it1 = _extract_dataset_by_idx(base_dataset_it1, train_idx)\n",
    "val_dataset_it1 = _extract_dataset_by_idx(base_dataset_it1, val_idx)\n",
    "\n",
    "true_t_train_it1 = compute_true_dataset(train_dataset_it1[0], train_dataset_it1[2], train_dataset_it1[3])\n",
    "true_t_val_it1 = compute_true_dataset(val_dataset_it1[0], val_dataset_it1[2], val_dataset_it1[3])\n",
    "x_train_it1, y_train_t_it1, y_train_it1 = build_nn_dataset(train_dataset_it1[1], true_t_train_it1)\n",
    "x_val_it1, y_val_t_it1, y_val_it1 = build_nn_dataset(val_dataset_it1[1], true_t_val_it1)\n",
    "\n",
    "x_train_it1.shape, y_train_it1.shape, x_val_it1.shape, y_val_it1.shape"
   ],
   "metadata": {
    "collapsed": false,
    "ExecuteTime": {
     "end_time": "2023-06-15T13:55:34.983914500Z",
     "start_time": "2023-06-15T13:55:34.395212500Z"
    }
   }
  },
  {
   "cell_type": "markdown",
   "source": [
    "### 1.4 Evaluate pairwise precision"
   ],
   "metadata": {
    "collapsed": false
   }
  },
  {
   "cell_type": "markdown",
   "source": [
    "## Iteration 2"
   ],
   "metadata": {
    "collapsed": false
   }
  },
  {
   "cell_type": "markdown",
   "source": [
    "### 2.1. Train model"
   ],
   "metadata": {
    "collapsed": false
   }
  },
  {
   "cell_type": "code",
   "execution_count": 15,
   "outputs": [],
   "source": [
    "model_it2, _ = build_and_train_network(iteration=2, x_train=x_train_it1, x_val=x_val_it1, y_train=y_train_it1,\n",
    "                                       y_val=y_val_it1)"
   ],
   "metadata": {
    "collapsed": false,
    "ExecuteTime": {
     "end_time": "2023-06-15T13:55:53.292908900Z",
     "start_time": "2023-06-15T13:55:52.635514Z"
    }
   }
  },
  {
   "cell_type": "markdown",
   "source": [
    "### 2.2. Evaluate wrt CFD averages"
   ],
   "metadata": {
    "collapsed": false
   }
  },
  {
   "cell_type": "code",
   "execution_count": 16,
   "outputs": [
    {
     "name": "stdout",
     "output_type": "stream",
     "text": [
      "3/3 [==============================] - 1s 191ms/step\n"
     ]
    },
    {
     "data": {
      "text/plain": "<Figure size 640x480 with 1 Axes>",
      "image/png": "[encoded data removed]"
     },
     "metadata": {},
     "output_type": "display_data"
    },
    {
     "name": "stdout",
     "output_type": "stream",
     "text": [
      "Iteration 1. std wrt. CFD average: 80.17 ps\n"
     ]
    }
   ],
   "source": [
    "std = evaluate_model_wrt_cfd_average(model_it2, x_val, y_val_t)\n",
    "print(f\"Iteration 1. std wrt. CFD average: {std * 1000:0.2f} ps\")"
   ],
   "metadata": {
    "collapsed": false,
    "ExecuteTime": {
     "end_time": "2023-06-15T13:56:00.938468300Z",
     "start_time": "2023-06-15T13:55:56.959770Z"
    }
   }
  },
  {
   "cell_type": "markdown",
   "source": [
    "### 2.3. Evaluate pairwise precision"
   ],
   "metadata": {
    "collapsed": false
   }
  },
  {
   "cell_type": "markdown",
   "source": [
    "### 2.4. Update dataset"
   ],
   "metadata": {
    "collapsed": false
   }
  },
  {
   "cell_type": "code",
   "execution_count": 17,
   "outputs": [
    {
     "name": "stdout",
     "output_type": "stream",
     "text": [
      "Processing channel (1, 2)...\n",
      "2/2 [==============================] - 0s 377ms/step\n",
      "Processing channel (1, 11)...\n",
      "3/3 [==============================] - 0s 87ms/step\n",
      "Processing channel (2, 2)...\n",
      "2/2 [==============================] - 0s 303ms/step\n",
      "Processing channel (2, 11)...\n",
      "3/3 [==============================] - 0s 180ms/step\n",
      "Processing channel (3, 2)...\n",
      "2/2 [==============================] - 0s 248ms/step\n",
      "Processing channel (3, 11)...\n",
      "3/3 [==============================] - 0s 145ms/step\n"
     ]
    }
   ],
   "source": [
    "base_dataset_it2 = build_updated_dataset(model_it2, base_dataset_it1)"
   ],
   "metadata": {
    "collapsed": false,
    "ExecuteTime": {
     "end_time": "2023-06-15T13:56:22.249931800Z",
     "start_time": "2023-06-15T13:56:04.965877500Z"
    }
   }
  },
  {
   "cell_type": "code",
   "execution_count": 18,
   "outputs": [
    {
     "name": "stdout",
     "output_type": "stream",
     "text": [
      "Processing (1, 2)...\n",
      "Processing (1, 11)...\n",
      "Processing (2, 2)...\n",
      "Processing (2, 11)...\n",
      "Processing (3, 2)...\n",
      "Processing (3, 11)...\n",
      "Processing (1, 2)...\n",
      "Processing (1, 11)...\n",
      "Processing (2, 2)...\n",
      "Processing (2, 11)...\n",
      "Processing (3, 2)...\n",
      "Processing (3, 11)...\n"
     ]
    },
    {
     "data": {
      "text/plain": "((80157, 24), (80157, 24), (20040, 24), (20040, 24))"
     },
     "execution_count": 18,
     "metadata": {},
     "output_type": "execute_result"
    }
   ],
   "source": [
    "train_idx, val_idx = train_test_split(np.arange(len(base_dataset_it2[0])), test_size=0.2, random_state=42)\n",
    "train_dataset_it2 = _extract_dataset_by_idx(base_dataset_it2, train_idx)\n",
    "val_dataset_it2 = _extract_dataset_by_idx(base_dataset_it2, val_idx)\n",
    "\n",
    "true_t_train_it2 = compute_true_dataset(train_dataset_it2[0], train_dataset_it2[2], train_dataset_it2[3])\n",
    "true_t_val_it2 = compute_true_dataset(val_dataset_it2[0], val_dataset_it2[2], val_dataset_it2[3])\n",
    "x_train_it2, y_train_t_it2, y_train_it2 = build_nn_dataset(train_dataset_it2[1], true_t_train_it2)\n",
    "x_val_it2, y_val_t_it2, y_val_it2 = build_nn_dataset(val_dataset_it2[1], true_t_val_it2)\n",
    "\n",
    "x_train_it2.shape, y_train_it2.shape, x_val_it2.shape, y_val_it2.shape"
   ],
   "metadata": {
    "collapsed": false,
    "ExecuteTime": {
     "end_time": "2023-06-15T13:56:53.664714500Z",
     "start_time": "2023-06-15T13:56:53.101568700Z"
    }
   }
  },
  {
   "cell_type": "markdown",
   "source": [
    "## Iteration 3"
   ],
   "metadata": {
    "collapsed": false
   }
  },
  {
   "cell_type": "markdown",
   "source": [
    "### 3.1 Train model"
   ],
   "metadata": {
    "collapsed": false
   }
  },
  {
   "cell_type": "code",
   "execution_count": 19,
   "outputs": [
    {
     "name": "stdout",
     "output_type": "stream",
     "text": [
      "WARNING:tensorflow:Detecting that an object or model or tf.train.Checkpoint is being deleted with unrestored values. See the following logs for the specific values in question. To silence these warnings, use `status.expect_partial()`. See https://www.tensorflow.org/api_docs/python/tf/train/Checkpoint#restorefor details about the status object returned by the restore function.\n",
      "WARNING:tensorflow:Value in checkpoint could not be found in the restored object: (root).optimizer.iter\n",
      "WARNING:tensorflow:Value in checkpoint could not be found in the restored object: (root).optimizer.beta_1\n",
      "WARNING:tensorflow:Value in checkpoint could not be found in the restored object: (root).optimizer.beta_2\n",
      "WARNING:tensorflow:Value in checkpoint could not be found in the restored object: (root).optimizer.decay\n",
      "WARNING:tensorflow:Value in checkpoint could not be found in the restored object: (root).optimizer.learning_rate\n"
     ]
    }
   ],
   "source": [
    "model_it3, _ = build_and_train_network(iteration=3, x_train=x_train_it2, x_val=x_val_it2, y_train=y_train_it2,\n",
    "                                       y_val=y_val_it2)"
   ],
   "metadata": {
    "collapsed": false,
    "ExecuteTime": {
     "end_time": "2023-06-15T13:56:57.874620100Z",
     "start_time": "2023-06-15T13:56:57.162772700Z"
    }
   }
  },
  {
   "cell_type": "markdown",
   "source": [
    "### 3.2. Evaluate wrt CFD averages"
   ],
   "metadata": {
    "collapsed": false
   }
  },
  {
   "cell_type": "code",
   "execution_count": 20,
   "outputs": [
    {
     "name": "stdout",
     "output_type": "stream",
     "text": [
      "3/3 [==============================] - 1s 187ms/step\n"
     ]
    },
    {
     "name": "stderr",
     "output_type": "stream",
     "text": [
      "C:\\Users\\MatiX\\miniconda3\\envs\\cern-ml\\lib\\site-packages\\statsmodels\\stats\\weightstats.py:196: RuntimeWarning: invalid value encountered in sqrt\n",
      "  return np.sqrt(self.var)\n"
     ]
    },
    {
     "data": {
      "text/plain": "<Figure size 640x480 with 1 Axes>",
      "image/png": "[encoded data removed]"
     },
     "metadata": {},
     "output_type": "display_data"
    },
    {
     "name": "stdout",
     "output_type": "stream",
     "text": [
      "Iteration 1. std wrt. CFD average: 80.66 ps\n"
     ]
    }
   ],
   "source": [
    "std = evaluate_model_wrt_cfd_average(model_it3, x_val, y_val_t)\n",
    "print(f\"Iteration 1. std wrt. CFD average: {std * 1000:0.2f} ps\")"
   ],
   "metadata": {
    "collapsed": false,
    "ExecuteTime": {
     "end_time": "2023-06-15T13:57:04.189390Z",
     "start_time": "2023-06-15T13:57:00.122814700Z"
    }
   }
  },
  {
   "cell_type": "markdown",
   "source": [
    "### 3.3. Evaluate pairwise precision"
   ],
   "metadata": {
    "collapsed": false
   }
  },
  {
   "cell_type": "markdown",
   "source": [
    "### 3.4. Update dataset"
   ],
   "metadata": {
    "collapsed": false
   }
  },
  {
   "cell_type": "code",
   "execution_count": 21,
   "outputs": [
    {
     "name": "stdout",
     "output_type": "stream",
     "text": [
      "Processing channel (1, 2)...\n",
      "2/2 [==============================] - 0s 432ms/step\n",
      "Processing channel (1, 11)...\n",
      "3/3 [==============================] - 0s 158ms/step\n",
      "Processing channel (2, 2)...\n",
      "2/2 [==============================] - 0s 298ms/step\n",
      "Processing channel (2, 11)...\n",
      "3/3 [==============================] - 0s 136ms/step\n",
      "Processing channel (3, 2)...\n",
      "2/2 [==============================] - 0s 249ms/step\n",
      "Processing channel (3, 11)...\n",
      "3/3 [==============================] - 0s 163ms/step\n"
     ]
    }
   ],
   "source": [
    "base_dataset_it3 = build_updated_dataset(model_it3, base_dataset_it2)"
   ],
   "metadata": {
    "collapsed": false,
    "ExecuteTime": {
     "end_time": "2023-06-15T13:57:27.599158800Z",
     "start_time": "2023-06-15T13:57:09.498621700Z"
    }
   }
  },
  {
   "cell_type": "code",
   "execution_count": 22,
   "outputs": [
    {
     "name": "stdout",
     "output_type": "stream",
     "text": [
      "Processing (1, 2)...\n",
      "Processing (1, 11)...\n",
      "Processing (2, 2)...\n",
      "Processing (2, 11)...\n",
      "Processing (3, 2)...\n",
      "Processing (3, 11)...\n",
      "Processing (1, 2)...\n",
      "Processing (1, 11)...\n",
      "Processing (2, 2)...\n",
      "Processing (2, 11)...\n",
      "Processing (3, 2)...\n",
      "Processing (3, 11)...\n"
     ]
    },
    {
     "data": {
      "text/plain": "((80157, 24), (80157, 24), (20040, 24), (20040, 24))"
     },
     "execution_count": 22,
     "metadata": {},
     "output_type": "execute_result"
    }
   ],
   "source": [
    "train_idx, val_idx = train_test_split(np.arange(len(base_dataset_it3[0])), test_size=0.2, random_state=42)\n",
    "train_dataset_it3 = _extract_dataset_by_idx(base_dataset_it3, train_idx)\n",
    "val_dataset_it3 = _extract_dataset_by_idx(base_dataset_it3, val_idx)\n",
    "\n",
    "true_t_train_it3 = compute_true_dataset(train_dataset_it3[0], train_dataset_it3[2], train_dataset_it3[3])\n",
    "true_t_val_it3 = compute_true_dataset(val_dataset_it3[0], val_dataset_it3[2], val_dataset_it3[3])\n",
    "x_train_it3, y_train_t_it3, y_train_it3 = build_nn_dataset(train_dataset_it3[1], true_t_train_it3)\n",
    "x_val_it3, y_val_t_it3, y_val_it3 = build_nn_dataset(val_dataset_it3[1], true_t_val_it3)\n",
    "\n",
    "x_train_it3.shape, y_train_it3.shape, x_val_it3.shape, y_val_it3.shape"
   ],
   "metadata": {
    "collapsed": false,
    "ExecuteTime": {
     "end_time": "2023-06-15T13:57:36.196911900Z",
     "start_time": "2023-06-15T13:57:35.603533100Z"
    }
   }
  },
  {
   "cell_type": "markdown",
   "source": [],
   "metadata": {
    "collapsed": false
   }
  }
 ],
 "metadata": {
  "kernelspec": {
   "display_name": "Python 3",
   "language": "python",
   "name": "python3"
  },
  "language_info": {
   "codemirror_mode": {
    "name": "ipython",
    "version": 2
   },
   "file_extension": ".py",
   "mimetype": "text/x-python",
   "name": "python",
   "nbconvert_exporter": "python",
   "pygments_lexer": "ipython2",
   "version": "2.7.6"
  }
 },
 "nbformat": 4,
 "nbformat_minor": 0
}
