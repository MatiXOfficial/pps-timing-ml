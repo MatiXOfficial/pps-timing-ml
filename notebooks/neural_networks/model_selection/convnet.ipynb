{
 "cells": [
  {
   "cell_type": "code",
   "execution_count": 1,
   "metadata": {
    "collapsed": true,
    "ExecuteTime": {
     "start_time": "2023-04-10T14:32:46.983901Z",
     "end_time": "2023-04-10T14:32:49.044931Z"
    }
   },
   "outputs": [],
   "source": [
    "import sys\n",
    "\n",
    "PWD = '../../..'\n",
    "sys.path.append(PWD)\n",
    "\n",
    "import numpy as np\n",
    "import pandas as pd\n",
    "\n",
    "import tensorflow as tf\n",
    "\n",
    "tf.get_logger().setLevel('ERROR')\n",
    "from tensorflow import keras\n",
    "from tensorflow.keras import optimizers\n",
    "from tensorflow.keras import callbacks\n",
    "import keras_tuner as kt\n",
    "\n",
    "from src.network_utils import count_params\n",
    "from src.cross_validator import KerasTunerCrossValidator\n",
    "from src.dataset import load_dataset_train_test, load_dataset_train_val\n",
    "from src.models import convnet_builder as bare_model_builder"
   ]
  },
  {
   "cell_type": "code",
   "execution_count": 2,
   "outputs": [],
   "source": [
    "PROJECT_NAME = 'convnet'\n",
    "\n",
    "PLANE = 2\n",
    "CHANNEL = 11\n",
    "\n",
    "OVERWRITE = False\n",
    "\n",
    "DATASET_PATH = PWD + '/data/dataset/dataset.pkl'\n",
    "TRIALS_DIR = PWD + f'/data/model_selection/channel_{PLANE}_{CHANNEL}/tuner'\n",
    "CROSSVAL_DIR = PWD + f'/data/model_selection/channel_{PLANE}_{CHANNEL}/cross_val'\n",
    "\n",
    "LR = 0.01\n",
    "ES_MIN_DELTA = 0.01\n",
    "\n",
    "N_EPOCHS = 3000\n",
    "BATCH_SIZE = 2048\n",
    "MAX_TRIALS = 40\n",
    "EXECUTIONS_PER_TRIAL = 2\n",
    "\n",
    "TOP_N = 5\n",
    "CROSSVAL_N_CV = 5\n",
    "CROSSVAL_N_EXEC = 2\n",
    "LOSS_WEIGHT = 1000"
   ],
   "metadata": {
    "collapsed": false,
    "ExecuteTime": {
     "start_time": "2023-04-10T14:32:49.046934Z",
     "end_time": "2023-04-10T14:32:49.060642Z"
    }
   }
  },
  {
   "cell_type": "code",
   "execution_count": 3,
   "outputs": [
    {
     "data": {
      "text/plain": "((22412, 24), (17929, 24), (4483, 24))"
     },
     "execution_count": 3,
     "metadata": {},
     "output_type": "execute_result"
    }
   ],
   "source": [
    "X_base_train, _, y_base_train, _ = load_dataset_train_test(PWD, PLANE, CHANNEL)\n",
    "X_train, X_val, y_train, y_val = load_dataset_train_val(PWD, PLANE, CHANNEL)\n",
    "\n",
    "X_base_train.shape, X_train.shape, X_val.shape"
   ],
   "metadata": {
    "collapsed": false,
    "ExecuteTime": {
     "start_time": "2023-04-10T14:32:49.061642Z",
     "end_time": "2023-04-10T14:32:49.091754Z"
    }
   }
  },
  {
   "cell_type": "markdown",
   "source": [
    "# Model"
   ],
   "metadata": {
    "collapsed": false
   }
  },
  {
   "cell_type": "code",
   "execution_count": 4,
   "outputs": [],
   "source": [
    "def model_builder(hp: kt.HyperParameters) -> keras.Model:\n",
    "    # Convolutional network params\n",
    "    hp_n_conv_blocks = hp.Int(\"n_conv_blocks\", min_value=1, max_value=3, step=1)\n",
    "    hp_n_conv_layers = hp.Int(\"n_conv_layers\", min_value=1, max_value=3, step=1)\n",
    "    hp_filters_mult = hp.Choice(\"conv_filters_mult\", values=[1, 2, 4, 8])\n",
    "    hp_conv_spatial_dropout = hp.Choice(\"conv_spatial_dropout\", values=[0.0, 0.1, 0.2])\n",
    "\n",
    "    # MLP at the end params\n",
    "    hp_mlp_n_hidden_layers = hp.Int(\"n_mlp_hidden_layers\", min_value=0, max_value=3, step=1, default=0)\n",
    "    hp_mlp_units_mult, hp_mlp_dropout = None, None\n",
    "    if hp_mlp_n_hidden_layers > 0:\n",
    "        hp_mlp_units_mult = hp.Choice(\"mlp_units_mult\", values=[1, 2, 4, 8, 16], default=4)\n",
    "        hp_mlp_dropout = hp.Choice(\"mlp_dropout\", values=[0.0, 0.2, 0.5])\n",
    "\n",
    "    # Other params\n",
    "    hp_batch_normalization = hp.Boolean(\"batch_normalization\", default=False)\n",
    "    hp_input_batch_normalization = hp.Boolean(\"input_batch_normalization\", default=False)\n",
    "\n",
    "    model = bare_model_builder(hp_n_conv_blocks, hp_n_conv_layers, hp_filters_mult, hp_conv_spatial_dropout,\n",
    "                               hp_mlp_n_hidden_layers, hp_mlp_units_mult, hp_mlp_dropout, hp_batch_normalization,\n",
    "                               hp_input_batch_normalization)\n",
    "    model.compile(loss='mse', optimizer=optimizers.Adam(LR), loss_weights=LOSS_WEIGHT)\n",
    "    return model"
   ],
   "metadata": {
    "collapsed": false,
    "ExecuteTime": {
     "start_time": "2023-04-10T14:32:49.094758Z",
     "end_time": "2023-04-10T14:32:49.110273Z"
    }
   }
  },
  {
   "cell_type": "code",
   "execution_count": 5,
   "outputs": [
    {
     "name": "stdout",
     "output_type": "stream",
     "text": [
      "Model: \"sequential\"\n",
      "_________________________________________________________________\n",
      " Layer (type)                Output Shape              Param #   \n",
      "=================================================================\n",
      " reshape (Reshape)           (None, 24, 1)             0         \n",
      "                                                                 \n",
      " conv1d (Conv1D)             (None, 24, 8)             32        \n",
      "                                                                 \n",
      " max_pooling1d (MaxPooling1D  (None, 12, 8)            0         \n",
      " )                                                               \n",
      "                                                                 \n",
      " flatten (Flatten)           (None, 96)                0         \n",
      "                                                                 \n",
      " dense (Dense)               (None, 1)                 97        \n",
      "                                                                 \n",
      "=================================================================\n",
      "Total params: 129\n",
      "Trainable params: 129\n",
      "Non-trainable params: 0\n",
      "_________________________________________________________________\n"
     ]
    }
   ],
   "source": [
    "model_builder(kt.HyperParameters()).summary()"
   ],
   "metadata": {
    "collapsed": false,
    "ExecuteTime": {
     "start_time": "2023-04-10T14:32:49.109274Z",
     "end_time": "2023-04-10T14:32:49.863737Z"
    }
   }
  },
  {
   "cell_type": "code",
   "execution_count": 6,
   "outputs": [],
   "source": [
    "model_callbacks = [\n",
    "    callbacks.EarlyStopping(patience=60, min_delta=ES_MIN_DELTA),\n",
    "    callbacks.ReduceLROnPlateau(monitor='loss', factor=0.9, patience=10)\n",
    "]"
   ],
   "metadata": {
    "collapsed": false,
    "ExecuteTime": {
     "start_time": "2023-04-10T14:32:49.865738Z",
     "end_time": "2023-04-10T14:32:49.881760Z"
    }
   }
  },
  {
   "cell_type": "markdown",
   "source": [
    "# Bayesian tuner"
   ],
   "metadata": {
    "collapsed": false
   }
  },
  {
   "cell_type": "code",
   "execution_count": 7,
   "outputs": [],
   "source": [
    "bayesian_tuner = kt.BayesianOptimization(model_builder, objective='val_loss', executions_per_trial=EXECUTIONS_PER_TRIAL,\n",
    "                                         max_trials=MAX_TRIALS, directory=TRIALS_DIR, project_name=PROJECT_NAME,\n",
    "                                         overwrite=OVERWRITE)\n",
    "\n",
    "bayesian_tuner.search(X_train, y_train, validation_data=[X_val, y_val], epochs=N_EPOCHS, callbacks=model_callbacks,\n",
    "                      batch_size=BATCH_SIZE, verbose=3)"
   ],
   "metadata": {
    "collapsed": false,
    "ExecuteTime": {
     "start_time": "2023-04-10T14:32:49.880761Z",
     "end_time": "2023-04-10T15:10:56.961086Z"
    }
   }
  },
  {
   "cell_type": "markdown",
   "source": [
    "# Results"
   ],
   "metadata": {
    "collapsed": false
   }
  },
  {
   "cell_type": "code",
   "execution_count": 8,
   "outputs": [
    {
     "name": "stdout",
     "output_type": "stream",
     "text": [
      "========== Model 0 ==========\n",
      "{'n_conv_blocks': 1, 'n_conv_layers': 2, 'conv_filters_mult': 4, 'conv_spatial_dropout': 0.1, 'n_mlp_hidden_layers': 2, 'batch_normalization': True, 'input_batch_normalization': True, 'mlp_units_mult': 4, 'mlp_dropout': 0.2}\n",
      "Number of parameters: 16369\n",
      "========== Model 1 ==========\n",
      "{'n_conv_blocks': 2, 'n_conv_layers': 2, 'conv_filters_mult': 2, 'conv_spatial_dropout': 0.0, 'n_mlp_hidden_layers': 3, 'batch_normalization': True, 'input_batch_normalization': False, 'mlp_units_mult': 8, 'mlp_dropout': 0.5}\n",
      "Number of parameters: 41233\n",
      "========== Model 2 ==========\n",
      "{'n_conv_blocks': 2, 'n_conv_layers': 1, 'conv_filters_mult': 8, 'conv_spatial_dropout': 0.1, 'n_mlp_hidden_layers': 0, 'batch_normalization': False, 'input_batch_normalization': True, 'mlp_units_mult': 2, 'mlp_dropout': 0.2}\n",
      "Number of parameters: 25777\n",
      "========== Model 3 ==========\n",
      "{'n_conv_blocks': 2, 'n_conv_layers': 3, 'conv_filters_mult': 8, 'conv_spatial_dropout': 0.0, 'n_mlp_hidden_layers': 0, 'batch_normalization': False, 'input_batch_normalization': True, 'mlp_units_mult': 8, 'mlp_dropout': 0.0}\n",
      "Number of parameters: 149041\n",
      "========== Model 4 ==========\n",
      "{'n_conv_blocks': 1, 'n_conv_layers': 1, 'conv_filters_mult': 8, 'conv_spatial_dropout': 0.1, 'n_mlp_hidden_layers': 1, 'batch_normalization': False, 'input_batch_normalization': True, 'mlp_units_mult': 2, 'mlp_dropout': 0.0}\n",
      "Number of parameters: 6465\n"
     ]
    }
   ],
   "source": [
    "for i, hyperparameters in enumerate(bayesian_tuner.get_best_hyperparameters(TOP_N)):\n",
    "    print(f'========== Model {i} ==========')\n",
    "    print(hyperparameters.get_config()['values'])\n",
    "    model_tmp = model_builder(hyperparameters)\n",
    "    print('Number of parameters:', count_params(model_tmp))"
   ],
   "metadata": {
    "collapsed": false,
    "ExecuteTime": {
     "start_time": "2023-04-10T15:10:56.964083Z",
     "end_time": "2023-04-10T15:10:57.278154Z"
    }
   }
  },
  {
   "cell_type": "markdown",
   "source": [
    "# Cross-validation for top 5 models"
   ],
   "metadata": {
    "collapsed": false
   }
  },
  {
   "cell_type": "code",
   "execution_count": 9,
   "outputs": [
    {
     "data": {
      "text/plain": "<IPython.core.display.HTML object>",
      "text/html": "<h3>Model 0</h3>"
     },
     "metadata": {},
     "output_type": "display_data"
    },
    {
     "name": "stdout",
     "output_type": "stream",
     "text": [
      "{'n_conv_blocks': 1, 'n_conv_layers': 2, 'conv_filters_mult': 4, 'conv_spatial_dropout': 0.1, 'n_mlp_hidden_layers': 2, 'batch_normalization': True, 'input_batch_normalization': True, 'mlp_units_mult': 4, 'mlp_dropout': 0.2}\n",
      "Number of parameters: 16369\n",
      "Got score: 8.6875 (8.6926, 8.6824)\n",
      "Got score: 8.3864 (8.3377, 8.4351)\n",
      "Got score: 8.2769 (8.3760, 8.1778)\n",
      "Got score: 8.5380 (8.5629, 8.5131)\n",
      "Got score: 8.7846 (8.7500, 8.8193)\n"
     ]
    },
    {
     "data": {
      "text/plain": "<IPython.core.display.HTML object>",
      "text/html": "<h3>Model 1</h3>"
     },
     "metadata": {},
     "output_type": "display_data"
    },
    {
     "name": "stdout",
     "output_type": "stream",
     "text": [
      "{'n_conv_blocks': 2, 'n_conv_layers': 2, 'conv_filters_mult': 2, 'conv_spatial_dropout': 0.0, 'n_mlp_hidden_layers': 3, 'batch_normalization': True, 'input_batch_normalization': False, 'mlp_units_mult': 8, 'mlp_dropout': 0.5}\n",
      "Number of parameters: 41233\n",
      "Got score: 85.1805 (161.4244, 8.9366)\n",
      "Got score: 66.8397 (8.5015, 125.1779)\n",
      "Got score: 33.7293 (8.5296, 58.9290)\n",
      "Got score: 138.5524 (195.6927, 81.4120)\n",
      "Got score: 9.3482 (9.7569, 8.9395)\n"
     ]
    },
    {
     "data": {
      "text/plain": "<IPython.core.display.HTML object>",
      "text/html": "<h3>Model 2</h3>"
     },
     "metadata": {},
     "output_type": "display_data"
    },
    {
     "name": "stdout",
     "output_type": "stream",
     "text": [
      "{'n_conv_blocks': 2, 'n_conv_layers': 1, 'conv_filters_mult': 8, 'conv_spatial_dropout': 0.1, 'n_mlp_hidden_layers': 0, 'batch_normalization': False, 'input_batch_normalization': True, 'mlp_units_mult': 2, 'mlp_dropout': 0.2}\n",
      "Number of parameters: 25777\n",
      "Got score: 8.8196 (8.8545, 8.7847)\n",
      "Got score: 8.6826 (8.8821, 8.4830)\n",
      "Got score: 8.2013 (8.1434, 8.2591)\n",
      "Got score: 8.4961 (8.5495, 8.4427)\n",
      "Got score: 8.8874 (8.9295, 8.8452)\n"
     ]
    },
    {
     "data": {
      "text/plain": "<IPython.core.display.HTML object>",
      "text/html": "<h3>Model 3</h3>"
     },
     "metadata": {},
     "output_type": "display_data"
    },
    {
     "name": "stdout",
     "output_type": "stream",
     "text": [
      "{'n_conv_blocks': 2, 'n_conv_layers': 3, 'conv_filters_mult': 8, 'conv_spatial_dropout': 0.0, 'n_mlp_hidden_layers': 0, 'batch_normalization': False, 'input_batch_normalization': True, 'mlp_units_mult': 8, 'mlp_dropout': 0.0}\n",
      "Number of parameters: 149041\n",
      "Got score: 9.1780 (9.3384, 9.0177)\n",
      "Got score: 16.1133 (8.5631, 23.6636)\n",
      "Got score: 8.1411 (8.1177, 8.1644)\n",
      "Got score: 8.5712 (8.5712, 8.5712)\n",
      "Got score: 8.8865 (8.8273, 8.9456)\n"
     ]
    },
    {
     "data": {
      "text/plain": "<IPython.core.display.HTML object>",
      "text/html": "<h3>Model 4</h3>"
     },
     "metadata": {},
     "output_type": "display_data"
    },
    {
     "name": "stdout",
     "output_type": "stream",
     "text": [
      "{'n_conv_blocks': 1, 'n_conv_layers': 1, 'conv_filters_mult': 8, 'conv_spatial_dropout': 0.1, 'n_mlp_hidden_layers': 1, 'batch_normalization': False, 'input_batch_normalization': True, 'mlp_units_mult': 2, 'mlp_dropout': 0.0}\n",
      "Number of parameters: 6465\n",
      "Got score: 8.8826 (8.8742, 8.8910)\n",
      "Got score: 8.6055 (8.7584, 8.4527)\n",
      "Got score: 8.1408 (8.1452, 8.1365)\n",
      "Got score: 8.5688 (8.5976, 8.5400)\n",
      "Got score: 8.8680 (8.8864, 8.8496)\n"
     ]
    }
   ],
   "source": [
    "cross_validator = KerasTunerCrossValidator(bayesian_tuner, X_base_train, y_base_train, model_builder,\n",
    "                                           directory=CROSSVAL_DIR, project_name=PROJECT_NAME,\n",
    "                                           n_epochs=N_EPOCHS, batch_size=BATCH_SIZE, n_top=TOP_N,\n",
    "                                           es_min_delta=ES_MIN_DELTA, n_cv=CROSSVAL_N_CV, n_executions=CROSSVAL_N_EXEC,\n",
    "                                           overwrite=OVERWRITE)\n",
    "model_scores = cross_validator()"
   ],
   "metadata": {
    "collapsed": false
   }
  },
  {
   "cell_type": "code",
   "execution_count": 10,
   "outputs": [
    {
     "data": {
      "text/plain": "        mean    std  n_params\nModel                        \n0       8.53   0.19     16369\n1      66.73  44.45     41233\n2       8.62   0.25     25777\n3      10.18   2.99    149041\n4       8.61   0.27      6465",
      "text/html": "<div>\n<style scoped>\n    .dataframe tbody tr th:only-of-type {\n        vertical-align: middle;\n    }\n\n    .dataframe tbody tr th {\n        vertical-align: top;\n    }\n\n    .dataframe thead th {\n        text-align: right;\n    }\n</style>\n<table border=\"1\" class=\"dataframe\">\n  <thead>\n    <tr style=\"text-align: right;\">\n      <th></th>\n      <th>mean</th>\n      <th>std</th>\n      <th>n_params</th>\n    </tr>\n    <tr>\n      <th>Model</th>\n      <th></th>\n      <th></th>\n      <th></th>\n    </tr>\n  </thead>\n  <tbody>\n    <tr>\n      <th>0</th>\n      <td>8.53</td>\n      <td>0.19</td>\n      <td>16369</td>\n    </tr>\n    <tr>\n      <th>1</th>\n      <td>66.73</td>\n      <td>44.45</td>\n      <td>41233</td>\n    </tr>\n    <tr>\n      <th>2</th>\n      <td>8.62</td>\n      <td>0.25</td>\n      <td>25777</td>\n    </tr>\n    <tr>\n      <th>3</th>\n      <td>10.18</td>\n      <td>2.99</td>\n      <td>149041</td>\n    </tr>\n    <tr>\n      <th>4</th>\n      <td>8.61</td>\n      <td>0.27</td>\n      <td>6465</td>\n    </tr>\n  </tbody>\n</table>\n</div>"
     },
     "execution_count": 10,
     "metadata": {},
     "output_type": "execute_result"
    }
   ],
   "source": [
    "mean_scores = [f\"{np.mean(scores):0.2f}\" for scores in model_scores.values()]\n",
    "std_scores = [f\"{np.std(scores):0.2f}\" for scores in model_scores.values()]\n",
    "n_params = [count_params(model_builder(hyperparameters)) for hyperparameters in\n",
    "            bayesian_tuner.get_best_hyperparameters(TOP_N)]\n",
    "\n",
    "df = pd.DataFrame({'mean': mean_scores, 'std': std_scores, 'n_params': n_params}, index=model_scores.keys())\n",
    "df.index.name = 'Model'\n",
    "df"
   ],
   "metadata": {
    "collapsed": false
   }
  },
  {
   "cell_type": "code",
   "execution_count": 10,
   "outputs": [],
   "source": [],
   "metadata": {
    "collapsed": false
   }
  }
 ],
 "metadata": {
  "kernelspec": {
   "display_name": "Python 3",
   "language": "python",
   "name": "python3"
  },
  "language_info": {
   "codemirror_mode": {
    "name": "ipython",
    "version": 2
   },
   "file_extension": ".py",
   "mimetype": "text/x-python",
   "name": "python",
   "nbconvert_exporter": "python",
   "pygments_lexer": "ipython2",
   "version": "2.7.6"
  }
 },
 "nbformat": 4,
 "nbformat_minor": 0
}
