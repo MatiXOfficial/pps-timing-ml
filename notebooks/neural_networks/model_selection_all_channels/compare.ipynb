{
 "cells": [
  {
   "cell_type": "code",
   "execution_count": 1,
   "metadata": {
    "collapsed": true,
    "ExecuteTime": {
     "end_time": "2023-08-20T13:16:43.084751100Z",
     "start_time": "2023-08-20T13:16:41.065473900Z"
    }
   },
   "outputs": [],
   "source": [
    "import sys\n",
    "\n",
    "import numpy as np\n",
    "import pandas as pd\n",
    "import tensorflow as tf\n",
    "from tensorflow.keras import optimizers\n",
    "\n",
    "from src.cross_validator import AllChannelsCrossValidator\n",
    "from src.dataset import X_TIME, TIME_STEP, load_dataset_train_test_all_channels\n",
    "from src.gauss_hist import get_gauss_stats\n",
    "from src.models import optimal_model_builders_all_ch as optimal_model_builders\n",
    "from src.network_utils import plot_difference_hist, gaussian_kernel, count_params\n",
    "\n",
    "PWD = '../../..'\n",
    "sys.path.append(PWD)\n",
    "\n",
    "tf.get_logger().setLevel('ERROR')"
   ]
  },
  {
   "cell_type": "code",
   "execution_count": 2,
   "outputs": [],
   "source": [
    "PROJECT_NAME = 'compare'\n",
    "\n",
    "OVERWRITE = False\n",
    "\n",
    "DATASET_PATH = PWD + '/data/dataset/dataset.pkl'\n",
    "CROSSVAL_DIR = PWD + f'/data/model_selection/channel_all/cross_val'\n",
    "\n",
    "LR = 0.01\n",
    "ES_MIN_DELTA = 0.01\n",
    "\n",
    "N_EPOCHS = 500\n",
    "BATCH_SIZE = 8096\n",
    "\n",
    "CROSSVAL_N_CV = 5\n",
    "CROSSVAL_N_EXEC = 3\n",
    "LOSS_WEIGHT_REGULAR = 1000\n",
    "LOSS_WEIGHT_HEATMAP = 1000\n",
    "LOSS_WEIGHT_DIST = 1000"
   ],
   "metadata": {
    "collapsed": false,
    "ExecuteTime": {
     "end_time": "2023-08-20T13:16:43.099184200Z",
     "start_time": "2023-08-20T13:16:43.086255800Z"
    }
   }
  },
  {
   "cell_type": "code",
   "execution_count": 3,
   "outputs": [
    {
     "data": {
      "text/plain": "((22134, 24), (22134,))"
     },
     "execution_count": 3,
     "metadata": {},
     "output_type": "execute_result"
    }
   ],
   "source": [
    "X_base_train, _, y_base_train, _ = load_dataset_train_test_all_channels(PWD)\n",
    "\n",
    "X_base_train[(2, 11)].shape, y_base_train[(2, 11)].shape"
   ],
   "metadata": {
    "collapsed": false,
    "ExecuteTime": {
     "end_time": "2023-08-20T13:16:43.131299100Z",
     "start_time": "2023-08-20T13:16:43.100184700Z"
    }
   }
  },
  {
   "cell_type": "code",
   "execution_count": 4,
   "outputs": [
    {
     "data": {
      "text/plain": "(22134, 24)"
     },
     "execution_count": 4,
     "metadata": {},
     "output_type": "execute_result"
    }
   ],
   "source": [
    "y_base_train_heatmap = {key: np.array([gaussian_kernel(y) for y in val]) for key, val in y_base_train.items()}\n",
    "\n",
    "y_base_train_heatmap[(2, 11)].shape"
   ],
   "metadata": {
    "collapsed": false,
    "ExecuteTime": {
     "end_time": "2023-08-20T13:16:43.461416500Z",
     "start_time": "2023-08-20T13:16:43.132298300Z"
    }
   }
  },
  {
   "cell_type": "code",
   "execution_count": 5,
   "outputs": [],
   "source": [
    "def compile_wrapper(builder, loss_weight):\n",
    "    def compiled_builder():\n",
    "        model = builder()\n",
    "        model.compile(loss='mse', optimizer=optimizers.Adam(LR), loss_weights=loss_weight)\n",
    "        return model\n",
    "\n",
    "    return compiled_builder"
   ],
   "metadata": {
    "collapsed": false,
    "ExecuteTime": {
     "end_time": "2023-08-20T13:16:43.506015200Z",
     "start_time": "2023-08-20T13:16:43.463416400Z"
    }
   }
  },
  {
   "cell_type": "markdown",
   "source": [
    "# Regular models"
   ],
   "metadata": {
    "collapsed": false
   }
  },
  {
   "cell_type": "code",
   "execution_count": 6,
   "outputs": [
    {
     "data": {
      "text/plain": "<IPython.core.display.HTML object>",
      "text/html": "<h3>Model: mlp</h3>"
     },
     "metadata": {},
     "output_type": "display_data"
    },
    {
     "name": "stdout",
     "output_type": "stream",
     "text": [
      "Number of parameters: 95617\n",
      "Got score: 79.6506 (79.5030, 79.5303, 79.9185)\n",
      "Got score: 80.7693 (81.0757, 80.6698, 80.5622)\n",
      "Got score: 80.0843 (80.1834, 80.1237, 79.9457)\n",
      "Got score: 80.0320 (79.8828, 79.9832, 80.2299)\n",
      "Got score: 79.2966 (79.3929, 79.1562, 79.3407)\n"
     ]
    },
    {
     "data": {
      "text/plain": "<IPython.core.display.HTML object>",
      "text/html": "<h3>Model: convnet</h3>"
     },
     "metadata": {},
     "output_type": "display_data"
    },
    {
     "name": "stdout",
     "output_type": "stream",
     "text": [
      "Number of parameters: 107873\n",
      "Got score: 80.4665 (79.4477, 79.7359, 82.2159)\n",
      "Got score: 80.7915 (81.0263, 80.9209, 80.4274)\n",
      "Got score: 79.7261 (79.9310, 79.4388, 79.8086)\n",
      "Got score: 80.6633 (80.0492, 82.5190, 79.4218)\n",
      "Got score: 80.2047 (79.1747, 82.2015, 79.2378)\n"
     ]
    },
    {
     "data": {
      "text/plain": "<IPython.core.display.HTML object>",
      "text/html": "<h3>Model: rnn</h3>"
     },
     "metadata": {},
     "output_type": "display_data"
    },
    {
     "name": "stdout",
     "output_type": "stream",
     "text": [
      "Number of parameters: 3377\n",
      "Got score: 80.2265 (80.1497, 80.1922, 80.3376)\n",
      "Got score: 81.0805 (80.9224, 81.4260, 80.8932)\n",
      "Got score: 80.6605 (80.7855, 80.7291, 80.4669)\n",
      "Got score: 80.5210 (80.3321, 80.6909, 80.5401)\n",
      "Got score: 79.9784 (79.9993, 79.8396, 80.0963)\n"
     ]
    }
   ],
   "source": [
    "def regular_metric(y_true, y_pred):\n",
    "    std, _, _ = plot_difference_hist(y_true, y_pred[:, 0], show=False, close=False)\n",
    "    return std * 1000  # ps\n",
    "\n",
    "\n",
    "regular_model_builders = [\n",
    "    compile_wrapper(optimal_model_builders.mlp, loss_weight=LOSS_WEIGHT_REGULAR),\n",
    "    compile_wrapper(optimal_model_builders.convnet, loss_weight=LOSS_WEIGHT_REGULAR),\n",
    "    compile_wrapper(optimal_model_builders.rnn, loss_weight=LOSS_WEIGHT_REGULAR),\n",
    "]\n",
    "regular_model_names = ['mlp', 'convnet', 'rnn']\n",
    "\n",
    "cross_validator = AllChannelsCrossValidator(regular_model_builders, list(X_base_train.values()),\n",
    "                                            list(y_base_train.values()), CROSSVAL_DIR, PROJECT_NAME, n_epochs=N_EPOCHS,\n",
    "                                            batch_size=BATCH_SIZE, es_min_delta=ES_MIN_DELTA, n_cv=CROSSVAL_N_CV,\n",
    "                                            n_executions=CROSSVAL_N_EXEC, model_names=regular_model_names,\n",
    "                                            eval_metric=regular_metric, overwrite=OVERWRITE)\n",
    "\n",
    "regular_model_scores = cross_validator()"
   ],
   "metadata": {
    "collapsed": false,
    "ExecuteTime": {
     "end_time": "2023-08-20T13:16:44.291141900Z",
     "start_time": "2023-08-20T13:16:43.479003800Z"
    }
   }
  },
  {
   "cell_type": "markdown",
   "source": [
    "# Heatmap-based models"
   ],
   "metadata": {
    "collapsed": false
   }
  },
  {
   "cell_type": "code",
   "execution_count": 7,
   "outputs": [
    {
     "data": {
      "text/plain": "<IPython.core.display.HTML object>",
      "text/html": "<h3>Model: unet</h3>"
     },
     "metadata": {},
     "output_type": "display_data"
    },
    {
     "name": "stdout",
     "output_type": "stream",
     "text": [
      "Number of parameters: 2962785\n",
      "Got score: 79.6230 (79.7827, 79.5840, 79.5023)\n",
      "Got score: 80.5697 (80.7721, 80.3485, 80.5885)\n",
      "Got score: 80.0314 (80.0679, 80.0334, 79.9930)\n"
     ]
    },
    {
     "name": "stderr",
     "output_type": "stream",
     "text": [
      "C:\\Users\\MatiX\\miniconda3\\envs\\cern-ml\\lib\\site-packages\\statsmodels\\stats\\weightstats.py:196: RuntimeWarning: invalid value encountered in sqrt\n",
      "  return np.sqrt(self.var)\n"
     ]
    },
    {
     "name": "stdout",
     "output_type": "stream",
     "text": [
      "Got score: 79.8245 (79.8400, 79.4493, 80.1842)\n",
      "Got score: 79.4802 (79.4840, 79.3837, 79.5731)\n"
     ]
    },
    {
     "data": {
      "text/plain": "<Figure size 640x480 with 1 Axes>",
      "image/png": "[encoded data removed]"
     },
     "metadata": {},
     "output_type": "display_data"
    }
   ],
   "source": [
    "def heatmap_metric(y_heatmap_true, y_heatmap_pred):\n",
    "    y_true = np.empty(y_heatmap_true.shape[0])\n",
    "    for i, y in enumerate(y_heatmap_true):\n",
    "        _, y_true[i], _, _ = get_gauss_stats(X_TIME, y, a_0=1, std_0=1. * TIME_STEP)\n",
    "\n",
    "    y_pred = np.empty(y_heatmap_pred.shape[0])\n",
    "    for i, y in enumerate(y_heatmap_pred):\n",
    "        _, y_pred[i], _, _ = get_gauss_stats(X_TIME, y, a_0=1, std_0=1. * TIME_STEP)\n",
    "\n",
    "    std, _, _ = plot_difference_hist(y_true, y_pred, show=False, close=False)\n",
    "    return std * 1000  # ps\n",
    "\n",
    "\n",
    "heatmap_model_builders = [compile_wrapper(optimal_model_builders.unet, loss_weight=LOSS_WEIGHT_HEATMAP)]\n",
    "heatmap_model_names = ['unet']\n",
    "\n",
    "cross_validator = AllChannelsCrossValidator(heatmap_model_builders, list(X_base_train.values()),\n",
    "                                            list(y_base_train_heatmap.values()), CROSSVAL_DIR, PROJECT_NAME,\n",
    "                                            n_epochs=N_EPOCHS, batch_size=BATCH_SIZE, es_min_delta=ES_MIN_DELTA,\n",
    "                                            n_cv=CROSSVAL_N_CV, n_executions=CROSSVAL_N_EXEC,\n",
    "                                            model_names=heatmap_model_names, eval_metric=heatmap_metric,\n",
    "                                            overwrite=OVERWRITE)\n",
    "\n",
    "heatmap_model_scores = cross_validator()"
   ],
   "metadata": {
    "collapsed": false,
    "ExecuteTime": {
     "end_time": "2023-08-20T13:44:54.725923700Z",
     "start_time": "2023-08-20T13:16:44.291141900Z"
    }
   }
  },
  {
   "cell_type": "markdown",
   "source": [
    "# Comparison"
   ],
   "metadata": {
    "collapsed": false
   }
  },
  {
   "cell_type": "code",
   "execution_count": 8,
   "outputs": [],
   "source": [
    "all_model_builders = regular_model_builders + heatmap_model_builders\n",
    "all_model_names = regular_model_names + heatmap_model_names\n",
    "all_model_scores = regular_model_scores | heatmap_model_scores"
   ],
   "metadata": {
    "collapsed": false,
    "ExecuteTime": {
     "end_time": "2023-08-20T13:44:54.760075100Z",
     "start_time": "2023-08-20T13:44:54.727015100Z"
    }
   }
  },
  {
   "cell_type": "code",
   "execution_count": 9,
   "outputs": [
    {
     "data": {
      "text/plain": "          mean   std  n_params\nModel                         \nmlp      79.97  0.49     95617\nconvnet  80.37  0.38    107873\nrnn      80.49  0.38      3377\nunet     79.91  0.38   2962785",
      "text/html": "<div>\n<style scoped>\n    .dataframe tbody tr th:only-of-type {\n        vertical-align: middle;\n    }\n\n    .dataframe tbody tr th {\n        vertical-align: top;\n    }\n\n    .dataframe thead th {\n        text-align: right;\n    }\n</style>\n<table border=\"1\" class=\"dataframe\">\n  <thead>\n    <tr style=\"text-align: right;\">\n      <th></th>\n      <th>mean</th>\n      <th>std</th>\n      <th>n_params</th>\n    </tr>\n    <tr>\n      <th>Model</th>\n      <th></th>\n      <th></th>\n      <th></th>\n    </tr>\n  </thead>\n  <tbody>\n    <tr>\n      <th>mlp</th>\n      <td>79.97</td>\n      <td>0.49</td>\n      <td>95617</td>\n    </tr>\n    <tr>\n      <th>convnet</th>\n      <td>80.37</td>\n      <td>0.38</td>\n      <td>107873</td>\n    </tr>\n    <tr>\n      <th>rnn</th>\n      <td>80.49</td>\n      <td>0.38</td>\n      <td>3377</td>\n    </tr>\n    <tr>\n      <th>unet</th>\n      <td>79.91</td>\n      <td>0.38</td>\n      <td>2962785</td>\n    </tr>\n  </tbody>\n</table>\n</div>"
     },
     "execution_count": 9,
     "metadata": {},
     "output_type": "execute_result"
    }
   ],
   "source": [
    "mean_scores = [f\"{np.mean(scores):0.2f}\" for scores in all_model_scores.values()]\n",
    "std_scores = [f\"{np.std(scores):0.2f}\" for scores in all_model_scores.values()]\n",
    "n_params = [count_params(builder()) for builder in all_model_builders]\n",
    "\n",
    "df = pd.DataFrame({'mean': mean_scores, 'std': std_scores, 'n_params': n_params}, index=all_model_scores.keys())\n",
    "df.index.name = 'Model'\n",
    "df"
   ],
   "metadata": {
    "collapsed": false,
    "ExecuteTime": {
     "end_time": "2023-08-20T13:44:55.347615700Z",
     "start_time": "2023-08-20T13:44:54.742049Z"
    }
   }
  },
  {
   "cell_type": "code",
   "execution_count": 9,
   "outputs": [],
   "source": [],
   "metadata": {
    "collapsed": false,
    "ExecuteTime": {
     "end_time": "2023-08-20T13:44:55.362818600Z",
     "start_time": "2023-08-20T13:44:55.348616700Z"
    }
   }
  }
 ],
 "metadata": {
  "kernelspec": {
   "display_name": "Python 3",
   "language": "python",
   "name": "python3"
  },
  "language_info": {
   "codemirror_mode": {
    "name": "ipython",
    "version": 2
   },
   "file_extension": ".py",
   "mimetype": "text/x-python",
   "name": "python",
   "nbconvert_exporter": "python",
   "pygments_lexer": "ipython2",
   "version": "2.7.6"
  }
 },
 "nbformat": 4,
 "nbformat_minor": 0
}
