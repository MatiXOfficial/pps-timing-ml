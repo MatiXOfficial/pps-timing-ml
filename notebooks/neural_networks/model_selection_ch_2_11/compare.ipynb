{
 "cells": [
  {
   "cell_type": "code",
   "execution_count": 1,
   "metadata": {
    "collapsed": true,
    "ExecuteTime": {
     "end_time": "2023-05-15T15:38:02.868328100Z",
     "start_time": "2023-05-15T15:38:00.076927800Z"
    }
   },
   "outputs": [],
   "source": [
    "import sys\n",
    "\n",
    "from src.gauss_hist import get_gauss_stats\n",
    "\n",
    "PWD = '../../..'\n",
    "sys.path.append(PWD)\n",
    "\n",
    "import numpy as np\n",
    "import pandas as pd\n",
    "\n",
    "import tensorflow as tf\n",
    "\n",
    "tf.get_logger().setLevel('ERROR')\n",
    "from tensorflow.keras import optimizers\n",
    "\n",
    "from src.network_utils import count_params, plot_difference_hist, gaussian_kernel, dist_kernel, get_dist_root\n",
    "from src.cross_validator import CrossValidator\n",
    "from src.dataset import load_dataset_train_test, X_TIME, TIME_STEP\n",
    "from src.models import optimal_model_builders_ch_2_11 as optimal_model_builders"
   ]
  },
  {
   "cell_type": "code",
   "execution_count": 2,
   "outputs": [],
   "source": [
    "PROJECT_NAME = 'compare'\n",
    "\n",
    "PLANE = 2\n",
    "CHANNEL = 11\n",
    "\n",
    "OVERWRITE = False\n",
    "\n",
    "DATASET_PATH = PWD + '/data/dataset/dataset.pkl'\n",
    "CROSSVAL_DIR = PWD + f'/data/model_selection/channel_{PLANE}_{CHANNEL}/cross_val'\n",
    "\n",
    "LR = 0.01\n",
    "ES_MIN_DELTA = 0.01\n",
    "\n",
    "N_EPOCHS = 3000\n",
    "BATCH_SIZE = 2048\n",
    "\n",
    "CROSSVAL_N_CV = 5\n",
    "CROSSVAL_N_EXEC = 3\n",
    "LOSS_WEIGHT_REGULAR = 1000\n",
    "LOSS_WEIGHT_HEATMAP = 1000\n",
    "LOSS_WEIGHT_DIST = 1000"
   ],
   "metadata": {
    "collapsed": false,
    "ExecuteTime": {
     "end_time": "2023-05-15T15:38:02.884370400Z",
     "start_time": "2023-05-15T15:38:02.870328600Z"
    }
   }
  },
  {
   "cell_type": "code",
   "execution_count": 3,
   "outputs": [
    {
     "data": {
      "text/plain": "(22412, 24)"
     },
     "execution_count": 3,
     "metadata": {},
     "output_type": "execute_result"
    }
   ],
   "source": [
    "X_base_train, _, y_base_train, _ = load_dataset_train_test(PWD, PLANE, CHANNEL)\n",
    "\n",
    "X_base_train.shape"
   ],
   "metadata": {
    "collapsed": false,
    "ExecuteTime": {
     "end_time": "2023-05-15T15:38:02.916027100Z",
     "start_time": "2023-05-15T15:38:02.885369800Z"
    }
   }
  },
  {
   "cell_type": "code",
   "execution_count": 4,
   "outputs": [
    {
     "data": {
      "text/plain": "((22412, 24), (22412, 24))"
     },
     "execution_count": 4,
     "metadata": {},
     "output_type": "execute_result"
    }
   ],
   "source": [
    "y_base_train_heatmap = np.array([gaussian_kernel(y) for y in y_base_train])\n",
    "y_base_train_dist = np.array([dist_kernel(y) for y in y_base_train])\n",
    "\n",
    "y_base_train_heatmap.shape, y_base_train_dist.shape"
   ],
   "metadata": {
    "collapsed": false,
    "ExecuteTime": {
     "end_time": "2023-05-15T15:38:03.041945500Z",
     "start_time": "2023-05-15T15:38:02.918027200Z"
    }
   }
  },
  {
   "cell_type": "code",
   "execution_count": 5,
   "outputs": [],
   "source": [
    "def compile_wrapper(builder, loss_weight):\n",
    "    def compiled_builder():\n",
    "        model = builder()\n",
    "        model.compile(loss='mse', optimizer=optimizers.Adam(LR), loss_weights=loss_weight)\n",
    "        return model\n",
    "\n",
    "    return compiled_builder"
   ],
   "metadata": {
    "collapsed": false,
    "ExecuteTime": {
     "end_time": "2023-05-15T15:38:03.071439200Z",
     "start_time": "2023-05-15T15:38:03.043946400Z"
    }
   }
  },
  {
   "cell_type": "markdown",
   "source": [
    "# Regular models"
   ],
   "metadata": {
    "collapsed": false
   }
  },
  {
   "cell_type": "code",
   "execution_count": 6,
   "outputs": [
    {
     "data": {
      "text/plain": "<IPython.core.display.HTML object>",
      "text/html": "<h3>Model: mlp</h3>"
     },
     "metadata": {},
     "output_type": "display_data"
    },
    {
     "name": "stdout",
     "output_type": "stream",
     "text": [
      "Number of parameters: 1345\n",
      "Got score: 85.8182 (85.2082, 86.3506, 85.8958)\n",
      "Got score: 84.9782 (85.6770, 84.4533, 84.8043)\n",
      "Got score: 81.9961 (82.2099, 81.8709, 81.9074)\n",
      "Got score: 83.9243 (84.2446, 84.0658, 83.4625)\n",
      "Got score: 85.4189 (86.0884, 85.4138, 84.7544)\n"
     ]
    },
    {
     "data": {
      "text/plain": "<IPython.core.display.HTML object>",
      "text/html": "<h3>Model: convnet</h3>"
     },
     "metadata": {},
     "output_type": "display_data"
    },
    {
     "name": "stdout",
     "output_type": "stream",
     "text": [
      "Number of parameters: 13553\n",
      "Got score: 85.2196 (85.1203, 84.9610, 85.5776)\n",
      "Got score: 83.7896 (83.7101, 83.9589, 83.6999)\n",
      "Got score: 81.3911 (81.2853, 81.1271, 81.7609)\n",
      "Got score: 83.6338 (83.3635, 83.5488, 83.9892)\n",
      "Got score: 85.2455 (85.1520, 85.2323, 85.3523)\n"
     ]
    },
    {
     "data": {
      "text/plain": "<IPython.core.display.HTML object>",
      "text/html": "<h3>Model: rnn</h3>"
     },
     "metadata": {},
     "output_type": "display_data"
    },
    {
     "name": "stdout",
     "output_type": "stream",
     "text": [
      "Number of parameters: 264545\n",
      "Got score: 84.8595 (84.7013, 84.6646, 85.2127)\n",
      "Got score: 84.7381 (85.1875, 84.4762, 84.5505)\n",
      "Got score: 81.6774 (81.4409, 82.0477, 81.5436)\n",
      "Got score: 84.0294 (83.9436, 83.5843, 84.5604)\n",
      "Got score: 85.4018 (85.1559, 85.1366, 85.9130)\n"
     ]
    }
   ],
   "source": [
    "def regular_metric(y_true, y_pred):\n",
    "    std, _, _ = plot_difference_hist(y_true, y_pred[:, 0], show=False, close=False)\n",
    "    return std * 1000  # ps\n",
    "\n",
    "\n",
    "regular_model_builders = [\n",
    "    compile_wrapper(optimal_model_builders.mlp, loss_weight=LOSS_WEIGHT_REGULAR),\n",
    "    compile_wrapper(optimal_model_builders.convnet, loss_weight=LOSS_WEIGHT_REGULAR),\n",
    "    compile_wrapper(optimal_model_builders.rnn, loss_weight=LOSS_WEIGHT_REGULAR),\n",
    "]\n",
    "regular_model_names = ['mlp', 'convnet', 'rnn']\n",
    "\n",
    "cross_validator = CrossValidator(regular_model_builders, X_base_train, y_base_train, CROSSVAL_DIR, PROJECT_NAME,\n",
    "                                 n_epochs=N_EPOCHS, batch_size=BATCH_SIZE, es_min_delta=ES_MIN_DELTA,\n",
    "                                 n_cv=CROSSVAL_N_CV, n_executions=CROSSVAL_N_EXEC, model_names=regular_model_names,\n",
    "                                 eval_metric=regular_metric, overwrite=OVERWRITE)\n",
    "\n",
    "regular_model_scores = cross_validator()"
   ],
   "metadata": {
    "collapsed": false,
    "ExecuteTime": {
     "end_time": "2023-05-15T15:38:03.688740600Z",
     "start_time": "2023-05-15T15:38:03.060440800Z"
    }
   }
  },
  {
   "cell_type": "markdown",
   "source": [
    "# Heatmap-based models"
   ],
   "metadata": {
    "collapsed": false
   }
  },
  {
   "cell_type": "code",
   "execution_count": 7,
   "outputs": [
    {
     "data": {
      "text/plain": "<IPython.core.display.HTML object>",
      "text/html": "<h3>Model: unet</h3>"
     },
     "metadata": {},
     "output_type": "display_data"
    },
    {
     "name": "stdout",
     "output_type": "stream",
     "text": [
      "Number of parameters: 16929\n",
      "Got score: 84.8620 (84.5342, 84.8974, 85.1544)\n",
      "Got score: 84.4100 (84.4219, 84.3360, 84.4720)\n",
      "Got score: 81.3848 (81.5780, 81.0446, 81.5318)\n",
      "Got score: 83.4783 (83.5911, 83.5551, 83.2888)\n",
      "Got score: 84.9185 (85.1657, 84.6379, 84.9518)\n"
     ]
    }
   ],
   "source": [
    "def heatmap_metric(y_heatmap_true, y_heatmap_pred):\n",
    "    y_true = np.empty(y_heatmap_true.shape[0])\n",
    "    for i, y in enumerate(y_heatmap_true):\n",
    "        _, y_true[i], _, _ = get_gauss_stats(X_TIME, y, a_0=1, std_0=1. * TIME_STEP)\n",
    "\n",
    "    y_pred = np.empty(y_heatmap_pred.shape[0])\n",
    "    for i, y in enumerate(y_heatmap_pred):\n",
    "        _, y_pred[i], _, _ = get_gauss_stats(X_TIME, y, a_0=1, std_0=1. * TIME_STEP)\n",
    "\n",
    "    std, _, _ = plot_difference_hist(y_true, y_pred, show=False, close=False)\n",
    "    return std * 1000  # ps\n",
    "\n",
    "\n",
    "heatmap_model_builders = [compile_wrapper(optimal_model_builders.unet, loss_weight=LOSS_WEIGHT_HEATMAP)]\n",
    "heatmap_model_names = ['unet']\n",
    "\n",
    "cross_validator = CrossValidator(heatmap_model_builders, X_base_train, y_base_train_heatmap, CROSSVAL_DIR, PROJECT_NAME,\n",
    "                                 n_epochs=N_EPOCHS, batch_size=BATCH_SIZE, es_min_delta=ES_MIN_DELTA,\n",
    "                                 n_cv=CROSSVAL_N_CV, n_executions=CROSSVAL_N_EXEC, model_names=heatmap_model_names,\n",
    "                                 eval_metric=heatmap_metric, overwrite=OVERWRITE)\n",
    "\n",
    "heatmap_model_scores = cross_validator()"
   ],
   "metadata": {
    "collapsed": false,
    "ExecuteTime": {
     "end_time": "2023-05-15T15:38:03.845781500Z",
     "start_time": "2023-05-15T15:38:03.691740900Z"
    }
   }
  },
  {
   "cell_type": "markdown",
   "source": [
    "# Dist-based models"
   ],
   "metadata": {
    "collapsed": false
   }
  },
  {
   "cell_type": "code",
   "execution_count": 8,
   "outputs": [
    {
     "data": {
      "text/plain": "<IPython.core.display.HTML object>",
      "text/html": "<h3>Model: unet_dist</h3>"
     },
     "metadata": {},
     "output_type": "display_data"
    },
    {
     "name": "stdout",
     "output_type": "stream",
     "text": [
      "Number of parameters: 367041\n",
      "Got score: 85.9044 (85.2599, 85.4235, 87.0297)\n",
      "Got score: 121.9634 (144.3092, 84.7950, 136.7860)\n",
      "Got score: 82.0241 (82.9411, 81.5390, 81.5922)\n",
      "Got score: 86.2123 (87.1228, 84.3470, 87.1670)\n",
      "Got score: 86.4720 (85.9575, 87.2450, 86.2135)\n"
     ]
    },
    {
     "data": {
      "text/plain": "<Figure size 640x480 with 1 Axes>",
      "image/png": "[encoded data removed]"
     },
     "metadata": {},
     "output_type": "display_data"
    }
   ],
   "source": [
    "def dist_metric(y_dist_true, y_dist_pred):\n",
    "    y_true = np.empty(y_dist_true.shape[0])\n",
    "    for i, y in enumerate(y_dist_true):\n",
    "        y_true[i] = get_dist_root(y)\n",
    "\n",
    "    y_pred = np.empty(y_dist_pred.shape[0])\n",
    "    for i, y in enumerate(y_dist_pred):\n",
    "        y_pred[i] = get_dist_root(y)\n",
    "\n",
    "    std, _, _ = plot_difference_hist(y_true, y_pred, show=False, close=False)\n",
    "    return std * 1000  # ps\n",
    "\n",
    "\n",
    "dist_model_builders = [compile_wrapper(optimal_model_builders.unet_dist, loss_weight=LOSS_WEIGHT_DIST)]\n",
    "dist_model_names = ['unet_dist']\n",
    "\n",
    "cross_validator = CrossValidator(dist_model_builders, X_base_train, y_base_train_dist, CROSSVAL_DIR, PROJECT_NAME,\n",
    "                                 n_epochs=N_EPOCHS, batch_size=BATCH_SIZE, es_min_delta=ES_MIN_DELTA,\n",
    "                                 n_cv=CROSSVAL_N_CV, n_executions=CROSSVAL_N_EXEC, model_names=dist_model_names,\n",
    "                                 eval_metric=dist_metric, overwrite=OVERWRITE)\n",
    "\n",
    "dist_model_scores = cross_validator()"
   ],
   "metadata": {
    "collapsed": false,
    "ExecuteTime": {
     "end_time": "2023-05-15T16:02:08.257308300Z",
     "start_time": "2023-05-15T15:38:03.848782300Z"
    }
   }
  },
  {
   "cell_type": "markdown",
   "source": [
    "# Comparison"
   ],
   "metadata": {
    "collapsed": false
   }
  },
  {
   "cell_type": "code",
   "execution_count": 9,
   "outputs": [],
   "source": [
    "all_model_builders = regular_model_builders + heatmap_model_builders + dist_model_builders\n",
    "all_model_names = regular_model_names + heatmap_model_names + dist_model_names\n",
    "all_model_scores = regular_model_scores | heatmap_model_scores | dist_model_scores"
   ],
   "metadata": {
    "collapsed": false,
    "ExecuteTime": {
     "end_time": "2023-05-15T16:02:08.299001100Z",
     "start_time": "2023-05-15T16:02:08.259307500Z"
    }
   }
  },
  {
   "cell_type": "code",
   "execution_count": 10,
   "outputs": [
    {
     "data": {
      "text/plain": "            mean    std  n_params\nModel                            \nmlp        84.43   1.37      1345\nconvnet    83.86   1.41     13553\nrnn        84.14   1.31    264545\nunet       83.81   1.32     16929\nunet_dist  92.52  14.81    367041",
      "text/html": "<div>\n<style scoped>\n    .dataframe tbody tr th:only-of-type {\n        vertical-align: middle;\n    }\n\n    .dataframe tbody tr th {\n        vertical-align: top;\n    }\n\n    .dataframe thead th {\n        text-align: right;\n    }\n</style>\n<table border=\"1\" class=\"dataframe\">\n  <thead>\n    <tr style=\"text-align: right;\">\n      <th></th>\n      <th>mean</th>\n      <th>std</th>\n      <th>n_params</th>\n    </tr>\n    <tr>\n      <th>Model</th>\n      <th></th>\n      <th></th>\n      <th></th>\n    </tr>\n  </thead>\n  <tbody>\n    <tr>\n      <th>mlp</th>\n      <td>84.43</td>\n      <td>1.37</td>\n      <td>1345</td>\n    </tr>\n    <tr>\n      <th>convnet</th>\n      <td>83.86</td>\n      <td>1.41</td>\n      <td>13553</td>\n    </tr>\n    <tr>\n      <th>rnn</th>\n      <td>84.14</td>\n      <td>1.31</td>\n      <td>264545</td>\n    </tr>\n    <tr>\n      <th>unet</th>\n      <td>83.81</td>\n      <td>1.32</td>\n      <td>16929</td>\n    </tr>\n    <tr>\n      <th>unet_dist</th>\n      <td>92.52</td>\n      <td>14.81</td>\n      <td>367041</td>\n    </tr>\n  </tbody>\n</table>\n</div>"
     },
     "execution_count": 10,
     "metadata": {},
     "output_type": "execute_result"
    }
   ],
   "source": [
    "mean_scores = [f\"{np.mean(scores):0.2f}\" for scores in all_model_scores.values()]\n",
    "std_scores = [f\"{np.std(scores):0.2f}\" for scores in all_model_scores.values()]\n",
    "n_params = [count_params(builder()) for builder in all_model_builders]\n",
    "\n",
    "df = pd.DataFrame({'mean': mean_scores, 'std': std_scores, 'n_params': n_params}, index=all_model_scores.keys())\n",
    "df.index.name = 'Model'\n",
    "df"
   ],
   "metadata": {
    "collapsed": false,
    "ExecuteTime": {
     "end_time": "2023-05-15T16:02:08.802707400Z",
     "start_time": "2023-05-15T16:02:08.276547700Z"
    }
   }
  },
  {
   "cell_type": "code",
   "execution_count": 10,
   "outputs": [],
   "source": [],
   "metadata": {
    "collapsed": false,
    "ExecuteTime": {
     "end_time": "2023-05-15T16:02:08.821681700Z",
     "start_time": "2023-05-15T16:02:08.803708100Z"
    }
   }
  }
 ],
 "metadata": {
  "kernelspec": {
   "display_name": "Python 3",
   "language": "python",
   "name": "python3"
  },
  "language_info": {
   "codemirror_mode": {
    "name": "ipython",
    "version": 2
   },
   "file_extension": ".py",
   "mimetype": "text/x-python",
   "name": "python",
   "nbconvert_exporter": "python",
   "pygments_lexer": "ipython2",
   "version": "2.7.6"
  }
 },
 "nbformat": 4,
 "nbformat_minor": 0
}
