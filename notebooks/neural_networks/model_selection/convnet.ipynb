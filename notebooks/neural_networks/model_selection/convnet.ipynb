{
 "cells": [
  {
   "cell_type": "code",
   "execution_count": 1,
   "metadata": {
    "collapsed": true
   },
   "outputs": [],
   "source": [
    "import sys\n",
    "\n",
    "PWD = '../../..'\n",
    "sys.path.append(PWD)\n",
    "\n",
    "import numpy as np\n",
    "import pandas as pd\n",
    "\n",
    "import tensorflow as tf\n",
    "\n",
    "tf.get_logger().setLevel('ERROR')\n",
    "from tensorflow import keras\n",
    "from tensorflow.keras import optimizers\n",
    "from tensorflow.keras import callbacks\n",
    "import keras_tuner as kt\n",
    "\n",
    "from src.network_utils import count_params\n",
    "from src.cross_validator import KerasTunerCrossValidator\n",
    "from src.dataset import load_dataset_train_test, load_dataset_train_val\n",
    "from src.models import convnet_builder as bare_model_builder"
   ]
  },
  {
   "cell_type": "code",
   "execution_count": 2,
   "outputs": [],
   "source": [
    "PROJECT_NAME = 'convnet'\n",
    "\n",
    "PLANE = 2\n",
    "CHANNEL = 11\n",
    "\n",
    "DATASET_PATH = PWD + '/data/dataset/dataset.pkl'\n",
    "TRIALS_DIR = PWD + f'/data/model_selection/channel_{PLANE}_{CHANNEL}/tuner'\n",
    "CROSSVAL_DIR = PWD + f'/data/model_selection/channel_{PLANE}_{CHANNEL}/cross_val'\n",
    "\n",
    "LR = 0.01\n",
    "\n",
    "N_EPOCHS = 3000\n",
    "BATCH_SIZE = 2048\n",
    "MAX_TRIALS = 40\n",
    "EXECUTIONS_PER_TRIAL = 2\n",
    "\n",
    "TOP_N = 5\n",
    "CROSSVAL_N_CV = 5\n",
    "CROSSVAL_N_EXEC = 2\n",
    "LOSS_WEIGHT = 1000"
   ],
   "metadata": {
    "collapsed": false
   }
  },
  {
   "cell_type": "code",
   "execution_count": 3,
   "outputs": [
    {
     "data": {
      "text/plain": "((22412, 24), (17929, 24), (4483, 24))"
     },
     "execution_count": 3,
     "metadata": {},
     "output_type": "execute_result"
    }
   ],
   "source": [
    "X_base_train, _, y_base_train, _ = load_dataset_train_test(PWD, PLANE, CHANNEL)\n",
    "X_train, X_val, y_train, y_val = load_dataset_train_val(PWD, PLANE, CHANNEL)\n",
    "\n",
    "X_base_train.shape, X_train.shape, X_val.shape"
   ],
   "metadata": {
    "collapsed": false
   }
  },
  {
   "cell_type": "markdown",
   "source": [
    "# Model"
   ],
   "metadata": {
    "collapsed": false
   }
  },
  {
   "cell_type": "code",
   "execution_count": 4,
   "outputs": [],
   "source": [
    "def model_builder(hp: kt.HyperParameters) -> keras.Model:\n",
    "    # Convolutional network params\n",
    "    hp_n_conv_blocks = hp.Int(\"n_conv_blocks\", min_value=1, max_value=3, step=1)\n",
    "    hp_n_conv_layers = hp.Int(\"n_conv_layers\", min_value=1, max_value=3, step=1)\n",
    "    hp_filters_mult = hp.Choice(\"conv_filters_mult\", values=[1, 2, 4, 8])\n",
    "    hp_conv_spatial_dropout = hp.Choice(\"conv_spatial_dropout\", values=[0.0, 0.1, 0.2])\n",
    "\n",
    "    # MLP at the end params\n",
    "    hp_mlp_n_hidden_layers = hp.Int(\"n_mlp_hidden_layers\", min_value=0, max_value=3, step=1, default=0)\n",
    "    hp_mlp_units_mult, hp_mlp_dropout = None, None\n",
    "    if hp_mlp_n_hidden_layers > 0:\n",
    "        hp_mlp_units_mult = hp.Choice(\"mlp_units_mult\", values=[1, 2, 4, 8, 16], default=4)\n",
    "        hp_mlp_dropout = hp.Choice(\"mlp_dropout\", values=[0.0, 0.2, 0.5])\n",
    "\n",
    "    # Other params\n",
    "    hp_batch_normalization = hp.Boolean(\"batch_normalization\", default=False)\n",
    "    hp_input_batch_normalization = hp.Boolean(\"input_batch_normalization\", default=False)\n",
    "\n",
    "    model = bare_model_builder(hp_n_conv_blocks, hp_n_conv_layers, hp_filters_mult, hp_conv_spatial_dropout,\n",
    "                               hp_mlp_n_hidden_layers, hp_mlp_units_mult, hp_mlp_dropout, hp_batch_normalization,\n",
    "                               hp_input_batch_normalization)\n",
    "    model.compile(loss='mse', optimizer=optimizers.Adam(LR), loss_weights=LOSS_WEIGHT)\n",
    "    return model"
   ],
   "metadata": {
    "collapsed": false
   }
  },
  {
   "cell_type": "code",
   "execution_count": 5,
   "outputs": [
    {
     "name": "stdout",
     "output_type": "stream",
     "text": [
      "Model: \"sequential\"\n",
      "_________________________________________________________________\n",
      " Layer (type)                Output Shape              Param #   \n",
      "=================================================================\n",
      " reshape (Reshape)           (None, 24, 1)             0         \n",
      "                                                                 \n",
      " conv1d (Conv1D)             (None, 24, 8)             32        \n",
      "                                                                 \n",
      " max_pooling1d (MaxPooling1D  (None, 12, 8)            0         \n",
      " )                                                               \n",
      "                                                                 \n",
      " flatten (Flatten)           (None, 96)                0         \n",
      "                                                                 \n",
      " dense (Dense)               (None, 1)                 97        \n",
      "                                                                 \n",
      "=================================================================\n",
      "Total params: 129\n",
      "Trainable params: 129\n",
      "Non-trainable params: 0\n",
      "_________________________________________________________________\n"
     ]
    }
   ],
   "source": [
    "model_builder(kt.HyperParameters()).summary()"
   ],
   "metadata": {
    "collapsed": false
   }
  },
  {
   "cell_type": "code",
   "execution_count": 6,
   "outputs": [],
   "source": [
    "model_callbacks = [\n",
    "    callbacks.EarlyStopping(patience=50),\n",
    "    callbacks.ReduceLROnPlateau(monitor='loss', factor=0.9, patience=10)\n",
    "]"
   ],
   "metadata": {
    "collapsed": false
   }
  },
  {
   "cell_type": "markdown",
   "source": [
    "# Bayesian tuner"
   ],
   "metadata": {
    "collapsed": false
   }
  },
  {
   "cell_type": "code",
   "execution_count": 7,
   "outputs": [],
   "source": [
    "bayesian_tuner = kt.BayesianOptimization(model_builder, objective='val_loss', executions_per_trial=EXECUTIONS_PER_TRIAL,\n",
    "                                         max_trials=MAX_TRIALS, directory=TRIALS_DIR,\n",
    "                                         project_name=PROJECT_NAME, overwrite=False)\n",
    "\n",
    "bayesian_tuner.search(X_train, y_train, validation_data=[X_val, y_val], epochs=N_EPOCHS, callbacks=model_callbacks,\n",
    "                      batch_size=BATCH_SIZE, verbose=3)"
   ],
   "metadata": {
    "collapsed": false
   }
  },
  {
   "cell_type": "markdown",
   "source": [
    "# Results"
   ],
   "metadata": {
    "collapsed": false
   }
  },
  {
   "cell_type": "code",
   "execution_count": 8,
   "outputs": [
    {
     "name": "stdout",
     "output_type": "stream",
     "text": [
      "Results summary\n",
      "Results in ../../../data/model_selection/channel_2_11/tuner\\convnet\n",
      "Showing 1 best trials\n",
      "<keras_tuner.engine.objective.Objective object at 0x000002508246B100>\n",
      "Trial summary\n",
      "Hyperparameters:\n",
      "n_conv_blocks: 1\n",
      "n_conv_layers: 1\n",
      "conv_filters_mult: 4\n",
      "conv_spatial_dropout: 0.2\n",
      "n_mlp_hidden_layers: 3\n",
      "batch_normalization: False\n",
      "input_batch_normalization: True\n",
      "mlp_units_mult: 1\n",
      "mlp_dropout: 0.0\n",
      "Score: 8.680209159851074\n"
     ]
    }
   ],
   "source": [
    "bayesian_tuner.results_summary(1)"
   ],
   "metadata": {
    "collapsed": false
   }
  },
  {
   "cell_type": "code",
   "execution_count": 9,
   "outputs": [
    {
     "name": "stdout",
     "output_type": "stream",
     "text": [
      "Model: \"sequential\"\n",
      "_________________________________________________________________\n",
      " Layer (type)                Output Shape              Param #   \n",
      "=================================================================\n",
      " batch_normalization (BatchN  (None, 24)               96        \n",
      " ormalization)                                                   \n",
      "                                                                 \n",
      " reshape (Reshape)           (None, 24, 1)             0         \n",
      "                                                                 \n",
      " conv1d (Conv1D)             (None, 24, 32)            128       \n",
      "                                                                 \n",
      " spatial_dropout1d (SpatialD  (None, 24, 32)           0         \n",
      " ropout1D)                                                       \n",
      "                                                                 \n",
      " max_pooling1d (MaxPooling1D  (None, 12, 32)           0         \n",
      " )                                                               \n",
      "                                                                 \n",
      " flatten (Flatten)           (None, 384)               0         \n",
      "                                                                 \n",
      " dense (Dense)               (None, 16)                6160      \n",
      "                                                                 \n",
      " dense_1 (Dense)             (None, 8)                 136       \n",
      "                                                                 \n",
      " dense_2 (Dense)             (None, 4)                 36        \n",
      "                                                                 \n",
      " dense_3 (Dense)             (None, 1)                 5         \n",
      "                                                                 \n",
      "=================================================================\n",
      "Total params: 6,561\n",
      "Trainable params: 6,513\n",
      "Non-trainable params: 48\n",
      "_________________________________________________________________\n"
     ]
    }
   ],
   "source": [
    "best_model = bayesian_tuner.get_best_models(num_models=1)[0]\n",
    "best_model.summary()"
   ],
   "metadata": {
    "collapsed": false
   }
  },
  {
   "cell_type": "markdown",
   "source": [
    "---"
   ],
   "metadata": {
    "collapsed": false
   }
  },
  {
   "cell_type": "code",
   "execution_count": 10,
   "outputs": [
    {
     "name": "stdout",
     "output_type": "stream",
     "text": [
      "========== Model 0 ==========\n",
      "{'n_conv_blocks': 1, 'n_conv_layers': 1, 'conv_filters_mult': 4, 'conv_spatial_dropout': 0.2, 'n_mlp_hidden_layers': 3, 'batch_normalization': False, 'input_batch_normalization': True, 'mlp_units_mult': 1, 'mlp_dropout': 0.0}\n",
      "Number of parameters: 6513\n",
      "========== Model 1 ==========\n",
      "{'n_conv_blocks': 1, 'n_conv_layers': 1, 'conv_filters_mult': 4, 'conv_spatial_dropout': 0.0, 'n_mlp_hidden_layers': 2, 'batch_normalization': True, 'input_batch_normalization': True, 'mlp_units_mult': 4, 'mlp_dropout': 0.2}\n",
      "Number of parameters: 13201\n",
      "========== Model 2 ==========\n",
      "{'n_conv_blocks': 2, 'n_conv_layers': 2, 'conv_filters_mult': 2, 'conv_spatial_dropout': 0.0, 'n_mlp_hidden_layers': 1, 'batch_normalization': False, 'input_batch_normalization': True, 'mlp_units_mult': 4, 'mlp_dropout': 0.0}\n",
      "Number of parameters: 8673\n",
      "========== Model 3 ==========\n",
      "{'n_conv_blocks': 1, 'n_conv_layers': 1, 'conv_filters_mult': 2, 'conv_spatial_dropout': 0.1, 'n_mlp_hidden_layers': 0, 'batch_normalization': True, 'input_batch_normalization': True, 'mlp_units_mult': 8, 'mlp_dropout': 0.5}\n",
      "Number of parameters: 337\n",
      "========== Model 4 ==========\n",
      "{'n_conv_blocks': 1, 'n_conv_layers': 3, 'conv_filters_mult': 2, 'conv_spatial_dropout': 0.2, 'n_mlp_hidden_layers': 3, 'batch_normalization': True, 'input_batch_normalization': True, 'mlp_units_mult': 2, 'mlp_dropout': 0.0}\n",
      "Number of parameters: 8737\n"
     ]
    }
   ],
   "source": [
    "for i, hyperparameters in enumerate(bayesian_tuner.get_best_hyperparameters(TOP_N)):\n",
    "    print(f'========== Model {i} ==========')\n",
    "    print(hyperparameters.get_config()['values'])\n",
    "    model_tmp = model_builder(hyperparameters)\n",
    "    print('Number of parameters:', count_params(model_tmp))"
   ],
   "metadata": {
    "collapsed": false
   }
  },
  {
   "cell_type": "code",
   "execution_count": 11,
   "outputs": [
    {
     "name": "stdout",
     "output_type": "stream",
     "text": [
      "Results summary\n",
      "Results in ../../../data/model_selection/channel_2_11/tuner\\convnet\n",
      "Showing 5 best trials\n",
      "<keras_tuner.engine.objective.Objective object at 0x000002508246B100>\n",
      "Trial summary\n",
      "Hyperparameters:\n",
      "n_conv_blocks: 1\n",
      "n_conv_layers: 1\n",
      "conv_filters_mult: 4\n",
      "conv_spatial_dropout: 0.2\n",
      "n_mlp_hidden_layers: 3\n",
      "batch_normalization: False\n",
      "input_batch_normalization: True\n",
      "mlp_units_mult: 1\n",
      "mlp_dropout: 0.0\n",
      "Score: 8.680209159851074\n",
      "Trial summary\n",
      "Hyperparameters:\n",
      "n_conv_blocks: 1\n",
      "n_conv_layers: 1\n",
      "conv_filters_mult: 4\n",
      "conv_spatial_dropout: 0.0\n",
      "n_mlp_hidden_layers: 2\n",
      "batch_normalization: True\n",
      "input_batch_normalization: True\n",
      "mlp_units_mult: 4\n",
      "mlp_dropout: 0.2\n",
      "Score: 8.708035469055176\n",
      "Trial summary\n",
      "Hyperparameters:\n",
      "n_conv_blocks: 2\n",
      "n_conv_layers: 2\n",
      "conv_filters_mult: 2\n",
      "conv_spatial_dropout: 0.0\n",
      "n_mlp_hidden_layers: 1\n",
      "batch_normalization: False\n",
      "input_batch_normalization: True\n",
      "mlp_units_mult: 4\n",
      "mlp_dropout: 0.0\n",
      "Score: 8.718840599060059\n",
      "Trial summary\n",
      "Hyperparameters:\n",
      "n_conv_blocks: 1\n",
      "n_conv_layers: 1\n",
      "conv_filters_mult: 2\n",
      "conv_spatial_dropout: 0.1\n",
      "n_mlp_hidden_layers: 0\n",
      "batch_normalization: True\n",
      "input_batch_normalization: True\n",
      "mlp_units_mult: 8\n",
      "mlp_dropout: 0.5\n",
      "Score: 8.741291046142578\n",
      "Trial summary\n",
      "Hyperparameters:\n",
      "n_conv_blocks: 1\n",
      "n_conv_layers: 3\n",
      "conv_filters_mult: 2\n",
      "conv_spatial_dropout: 0.2\n",
      "n_mlp_hidden_layers: 3\n",
      "batch_normalization: True\n",
      "input_batch_normalization: True\n",
      "mlp_units_mult: 2\n",
      "mlp_dropout: 0.0\n",
      "Score: 8.76516056060791\n"
     ]
    }
   ],
   "source": [
    "bayesian_tuner.results_summary(TOP_N)"
   ],
   "metadata": {
    "collapsed": false
   }
  },
  {
   "cell_type": "markdown",
   "source": [
    "# Cross-validation for top 5 models"
   ],
   "metadata": {
    "collapsed": false
   }
  },
  {
   "cell_type": "code",
   "execution_count": 12,
   "outputs": [
    {
     "data": {
      "text/plain": "<IPython.core.display.HTML object>",
      "text/html": "<h3>Model 0</h3>"
     },
     "metadata": {},
     "output_type": "display_data"
    },
    {
     "name": "stdout",
     "output_type": "stream",
     "text": [
      "{'n_conv_blocks': 1, 'n_conv_layers': 1, 'conv_filters_mult': 4, 'conv_spatial_dropout': 0.2, 'n_mlp_hidden_layers': 3, 'batch_normalization': False, 'input_batch_normalization': True, 'mlp_units_mult': 1, 'mlp_dropout': 0.0}\n",
      "Number of parameters: 6513\n",
      "Got score: 8.7255 (8.7430, 8.7079)\n",
      "Got score: 8.4435 (8.4389, 8.4481)\n",
      "Got score: 8.2383 (8.2794, 8.1973)\n",
      "Got score: 15.8212 (23.0435, 8.5989)\n",
      "Got score: 8.8322 (8.8358, 8.8285)\n"
     ]
    },
    {
     "data": {
      "text/plain": "<IPython.core.display.HTML object>",
      "text/html": "<h3>Model 1</h3>"
     },
     "metadata": {},
     "output_type": "display_data"
    },
    {
     "name": "stdout",
     "output_type": "stream",
     "text": [
      "{'n_conv_blocks': 1, 'n_conv_layers': 1, 'conv_filters_mult': 4, 'conv_spatial_dropout': 0.0, 'n_mlp_hidden_layers': 2, 'batch_normalization': True, 'input_batch_normalization': True, 'mlp_units_mult': 4, 'mlp_dropout': 0.2}\n",
      "Number of parameters: 13201\n",
      "Got score: 8.7581 (8.7877, 8.7285)\n",
      "Got score: 8.3915 (8.4092, 8.3737)\n",
      "Got score: 8.2573 (8.1760, 8.3386)\n",
      "Got score: 8.5090 (8.3843, 8.6338)\n",
      "Got score: 8.9264 (8.8143, 9.0385)\n"
     ]
    },
    {
     "data": {
      "text/plain": "<IPython.core.display.HTML object>",
      "text/html": "<h3>Model 2</h3>"
     },
     "metadata": {},
     "output_type": "display_data"
    },
    {
     "name": "stdout",
     "output_type": "stream",
     "text": [
      "{'n_conv_blocks': 2, 'n_conv_layers': 2, 'conv_filters_mult': 2, 'conv_spatial_dropout': 0.0, 'n_mlp_hidden_layers': 1, 'batch_normalization': False, 'input_batch_normalization': True, 'mlp_units_mult': 4, 'mlp_dropout': 0.0}\n",
      "Number of parameters: 8673\n",
      "Got score: 8.8197 (8.7731, 8.8664)\n",
      "Got score: 8.4616 (8.3880, 8.5351)\n",
      "Got score: 8.2369 (8.3219, 8.1519)\n",
      "Got score: 8.9055 (9.3161, 8.4949)\n",
      "Got score: 8.9530 (9.0448, 8.8612)\n"
     ]
    },
    {
     "data": {
      "text/plain": "<IPython.core.display.HTML object>",
      "text/html": "<h3>Model 3</h3>"
     },
     "metadata": {},
     "output_type": "display_data"
    },
    {
     "name": "stdout",
     "output_type": "stream",
     "text": [
      "{'n_conv_blocks': 1, 'n_conv_layers': 1, 'conv_filters_mult': 2, 'conv_spatial_dropout': 0.1, 'n_mlp_hidden_layers': 0, 'batch_normalization': True, 'input_batch_normalization': True, 'mlp_units_mult': 8, 'mlp_dropout': 0.5}\n",
      "Number of parameters: 337\n",
      "Got score: 9.0116 (8.9301, 9.0932)\n",
      "Got score: 8.4990 (8.5419, 8.4561)\n",
      "Got score: 8.3671 (8.4168, 8.3174)\n",
      "Got score: 8.6957 (8.7751, 8.6162)\n",
      "Got score: 8.8894 (8.8633, 8.9156)\n"
     ]
    },
    {
     "data": {
      "text/plain": "<IPython.core.display.HTML object>",
      "text/html": "<h3>Model 4</h3>"
     },
     "metadata": {},
     "output_type": "display_data"
    },
    {
     "name": "stdout",
     "output_type": "stream",
     "text": [
      "{'n_conv_blocks': 1, 'n_conv_layers': 3, 'conv_filters_mult': 2, 'conv_spatial_dropout': 0.2, 'n_mlp_hidden_layers': 3, 'batch_normalization': True, 'input_batch_normalization': True, 'mlp_units_mult': 2, 'mlp_dropout': 0.0}\n",
      "Number of parameters: 8737\n",
      "Got score: 8.8886 (8.9472, 8.8300)\n",
      "Got score: 8.5753 (8.5621, 8.5886)\n",
      "Got score: 8.2738 (8.3331, 8.2146)\n",
      "Got score: 8.6041 (8.6253, 8.5830)\n",
      "Got score: 9.0208 (8.9462, 9.0953)\n"
     ]
    }
   ],
   "source": [
    "cross_validator = KerasTunerCrossValidator(bayesian_tuner, X_base_train, y_base_train, model_builder,\n",
    "                                           directory=CROSSVAL_DIR, project_name=PROJECT_NAME,\n",
    "                                           n_epochs=N_EPOCHS, batch_size=BATCH_SIZE, n_top=TOP_N,\n",
    "                                           n_cv=CROSSVAL_N_CV, n_executions=CROSSVAL_N_EXEC, overwrite=False)\n",
    "model_scores = cross_validator()"
   ],
   "metadata": {
    "collapsed": false
   }
  },
  {
   "cell_type": "code",
   "execution_count": 13,
   "outputs": [
    {
     "data": {
      "text/plain": "        mean   std  n_params\nModel                       \n0      10.01  2.91      6513\n1       8.57  0.24     13201\n2       8.68  0.28      8673\n3       8.69  0.24       337\n4       8.67  0.26      8737",
      "text/html": "<div>\n<style scoped>\n    .dataframe tbody tr th:only-of-type {\n        vertical-align: middle;\n    }\n\n    .dataframe tbody tr th {\n        vertical-align: top;\n    }\n\n    .dataframe thead th {\n        text-align: right;\n    }\n</style>\n<table border=\"1\" class=\"dataframe\">\n  <thead>\n    <tr style=\"text-align: right;\">\n      <th></th>\n      <th>mean</th>\n      <th>std</th>\n      <th>n_params</th>\n    </tr>\n    <tr>\n      <th>Model</th>\n      <th></th>\n      <th></th>\n      <th></th>\n    </tr>\n  </thead>\n  <tbody>\n    <tr>\n      <th>0</th>\n      <td>10.01</td>\n      <td>2.91</td>\n      <td>6513</td>\n    </tr>\n    <tr>\n      <th>1</th>\n      <td>8.57</td>\n      <td>0.24</td>\n      <td>13201</td>\n    </tr>\n    <tr>\n      <th>2</th>\n      <td>8.68</td>\n      <td>0.28</td>\n      <td>8673</td>\n    </tr>\n    <tr>\n      <th>3</th>\n      <td>8.69</td>\n      <td>0.24</td>\n      <td>337</td>\n    </tr>\n    <tr>\n      <th>4</th>\n      <td>8.67</td>\n      <td>0.26</td>\n      <td>8737</td>\n    </tr>\n  </tbody>\n</table>\n</div>"
     },
     "execution_count": 13,
     "metadata": {},
     "output_type": "execute_result"
    }
   ],
   "source": [
    "mean_scores = [f\"{np.mean(scores):0.2f}\" for scores in model_scores.values()]\n",
    "std_scores = [f\"{np.std(scores):0.2f}\" for scores in model_scores.values()]\n",
    "n_params = [count_params(model_builder(hyperparameters)) for hyperparameters in\n",
    "            bayesian_tuner.get_best_hyperparameters(TOP_N)]\n",
    "\n",
    "df = pd.DataFrame({'mean': mean_scores, 'std': std_scores, 'n_params': n_params}, index=model_scores.keys())\n",
    "df.index.name = 'Model'\n",
    "df"
   ],
   "metadata": {
    "collapsed": false
   }
  },
  {
   "cell_type": "code",
   "execution_count": 13,
   "outputs": [],
   "source": [],
   "metadata": {
    "collapsed": false
   }
  }
 ],
 "metadata": {
  "kernelspec": {
   "display_name": "Python 3",
   "language": "python",
   "name": "python3"
  },
  "language_info": {
   "codemirror_mode": {
    "name": "ipython",
    "version": 2
   },
   "file_extension": ".py",
   "mimetype": "text/x-python",
   "name": "python",
   "nbconvert_exporter": "python",
   "pygments_lexer": "ipython2",
   "version": "2.7.6"
  }
 },
 "nbformat": 4,
 "nbformat_minor": 0
}
