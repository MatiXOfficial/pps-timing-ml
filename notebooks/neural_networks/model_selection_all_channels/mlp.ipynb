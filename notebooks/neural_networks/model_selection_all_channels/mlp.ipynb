{
 "cells": [
  {
   "cell_type": "code",
   "execution_count": 1,
   "outputs": [],
   "source": [
    "import sys\n",
    "\n",
    "import keras_tuner as kt\n",
    "import numpy as np\n",
    "import pandas as pd\n",
    "import tensorflow as tf\n",
    "from tensorflow import keras\n",
    "from tensorflow.keras import callbacks\n",
    "from tensorflow.keras import optimizers\n",
    "\n",
    "from src.cross_validator import KerasTunerAllChannelsCrossValidator\n",
    "from src.dataset import load_dataset_train_val_all_channels, \\\n",
    "    load_dataset_train_test_all_channels\n",
    "from src.models import mlp_builder as bare_model_builder\n",
    "from src.network_utils import count_params\n",
    "\n",
    "PWD = '../../..'\n",
    "sys.path.append(PWD)\n",
    "\n",
    "tf.get_logger().setLevel('ERROR')"
   ],
   "metadata": {
    "collapsed": false,
    "ExecuteTime": {
     "end_time": "2023-08-25T08:01:27.276313800Z",
     "start_time": "2023-08-25T08:01:23.423457700Z"
    }
   }
  },
  {
   "cell_type": "code",
   "execution_count": 2,
   "outputs": [],
   "source": [
    "PROJECT_NAME = 'mlp'\n",
    "\n",
    "OVERWRITE = False\n",
    "\n",
    "DATASET_PATH = PWD + '/data/dataset/dataset.pkl'\n",
    "TRIALS_DIR = PWD + f'/data/model_selection/channel_all/tuner'\n",
    "CROSSVAL_DIR = PWD + f'/data/model_selection/channel_all/cross_val'\n",
    "\n",
    "LR = 0.01\n",
    "ES_MIN_DELTA = 0.01\n",
    "\n",
    "N_EPOCHS = 500\n",
    "BATCH_SIZE = 8096\n",
    "MAX_TRIALS = 40\n",
    "EXECUTIONS_PER_TRIAL = 2\n",
    "\n",
    "TOP_N = 5\n",
    "CROSSVAL_N_CV = 5\n",
    "CROSSVAL_N_EXEC = 2\n",
    "LOSS_WEIGHT = 1000"
   ],
   "metadata": {
    "collapsed": false,
    "ExecuteTime": {
     "end_time": "2023-08-25T08:01:27.290419600Z",
     "start_time": "2023-08-25T08:01:27.277314Z"
    }
   }
  },
  {
   "cell_type": "code",
   "execution_count": 3,
   "outputs": [
    {
     "data": {
      "text/plain": "((22134, 24), (22134,))"
     },
     "execution_count": 3,
     "metadata": {},
     "output_type": "execute_result"
    }
   ],
   "source": [
    "X_all, _, y_all, _ = load_dataset_train_test_all_channels(PWD)\n",
    "\n",
    "X_all[(2, 11)].shape, y_all[(2, 11)].shape"
   ],
   "metadata": {
    "collapsed": false,
    "ExecuteTime": {
     "end_time": "2023-08-25T08:01:27.322468300Z",
     "start_time": "2023-08-25T08:01:27.293462500Z"
    }
   }
  },
  {
   "cell_type": "code",
   "execution_count": 4,
   "outputs": [
    {
     "data": {
      "text/plain": "((84824, 24), (84824,), (21208, 24), (21208,))"
     },
     "execution_count": 4,
     "metadata": {},
     "output_type": "execute_result"
    }
   ],
   "source": [
    "X_train, X_val, y_train, y_val = load_dataset_train_val_all_channels(PWD)\n",
    "\n",
    "X_train = np.concatenate(list(X_train.values()))\n",
    "y_train = np.concatenate(list(y_train.values()))\n",
    "X_val = np.concatenate(list(X_val.values()))\n",
    "y_val = np.concatenate(list(y_val.values()))\n",
    "\n",
    "rng = np.random.default_rng(seed=42)\n",
    "\n",
    "train_idx, val_idx = np.arange(len(X_train)), np.arange(len(X_val))\n",
    "rng.shuffle(train_idx)\n",
    "rng.shuffle(val_idx)\n",
    "\n",
    "X_train, y_train = X_train[train_idx], y_train[train_idx]\n",
    "X_val, y_val = X_val[val_idx], y_val[val_idx]\n",
    "\n",
    "X_train.shape, y_train.shape, X_val.shape, y_val.shape"
   ],
   "metadata": {
    "collapsed": false,
    "ExecuteTime": {
     "end_time": "2023-08-25T08:01:27.386979500Z",
     "start_time": "2023-08-25T08:01:27.325467900Z"
    }
   }
  },
  {
   "cell_type": "markdown",
   "source": [
    "# Model"
   ],
   "metadata": {
    "collapsed": false
   }
  },
  {
   "cell_type": "code",
   "execution_count": 5,
   "outputs": [],
   "source": [
    "def model_builder(hp: kt.HyperParameters) -> keras.Model:\n",
    "    hp_n_hidden_layers = hp.Int(\"n_hidden_layers\", min_value=1, max_value=8, step=1, default=2)\n",
    "    hp_units_mult = hp.Choice(\"units_mult\", values=[1, 2, 4, 8, 16, 32], default=4)\n",
    "    hp_unit_decrease_factor = hp.Choice(\"unit_decrease_factor\", values=[1.0, 1.5, 2.0], default=1.5)\n",
    "    hp_batch_normalization = hp.Boolean(\"batch_normalization\", default=False)\n",
    "    hp_input_batch_normalization = hp.Boolean(\"input_batch_normalization\", default=False)\n",
    "    hp_dropout = hp.Choice(\"dropout\", values=[0.0, 0.2, 0.5])\n",
    "    hp_normalize_signal = hp.Boolean(\"normalize_signal\", default=False)\n",
    "\n",
    "    model = bare_model_builder(hp_n_hidden_layers, hp_units_mult, hp_unit_decrease_factor, hp_batch_normalization,\n",
    "                               hp_input_batch_normalization, hp_dropout, hp_normalize_signal)\n",
    "    model.compile(loss='mse', optimizer=optimizers.Adam(LR), loss_weights=LOSS_WEIGHT)\n",
    "    return model"
   ],
   "metadata": {
    "collapsed": false,
    "ExecuteTime": {
     "end_time": "2023-08-25T08:01:27.386979500Z",
     "start_time": "2023-08-25T08:01:27.372978900Z"
    }
   }
  },
  {
   "cell_type": "code",
   "execution_count": 6,
   "outputs": [
    {
     "name": "stdout",
     "output_type": "stream",
     "text": [
      "Model: \"sequential\"\n",
      "_________________________________________________________________\n",
      " Layer (type)                Output Shape              Param #   \n",
      "=================================================================\n",
      " dense (Dense)               (None, 18)                450       \n",
      "                                                                 \n",
      " dense_1 (Dense)             (None, 12)                228       \n",
      "                                                                 \n",
      " dense_2 (Dense)             (None, 1)                 13        \n",
      "                                                                 \n",
      "=================================================================\n",
      "Total params: 691\n",
      "Trainable params: 691\n",
      "Non-trainable params: 0\n",
      "_________________________________________________________________\n"
     ]
    }
   ],
   "source": [
    "model_builder(kt.HyperParameters()).summary()"
   ],
   "metadata": {
    "collapsed": false,
    "ExecuteTime": {
     "end_time": "2023-08-25T08:01:28.434712Z",
     "start_time": "2023-08-25T08:01:27.387980400Z"
    }
   }
  },
  {
   "cell_type": "code",
   "execution_count": 7,
   "outputs": [],
   "source": [
    "model_callbacks = [callbacks.EarlyStopping(patience=30, min_delta=ES_MIN_DELTA),\n",
    "                   callbacks.ReduceLROnPlateau(monitor='loss', factor=0.9, patience=5)]"
   ],
   "metadata": {
    "collapsed": false,
    "ExecuteTime": {
     "end_time": "2023-08-25T08:01:28.478778400Z",
     "start_time": "2023-08-25T08:01:28.434712Z"
    }
   }
  },
  {
   "cell_type": "markdown",
   "source": [
    "# Bayesian tuner"
   ],
   "metadata": {
    "collapsed": false
   }
  },
  {
   "cell_type": "code",
   "execution_count": 8,
   "outputs": [
    {
     "name": "stdout",
     "output_type": "stream",
     "text": [
      "Trial 40 Complete [00h 00m 20s]\n",
      "val_loss: 8.982244968414307\n",
      "\n",
      "Best val_loss So Far: 8.692980766296387\n",
      "Total elapsed time: 01h 11m 37s\n"
     ]
    }
   ],
   "source": [
    "bayesian_tuner = kt.BayesianOptimization(model_builder, objective='val_loss', executions_per_trial=EXECUTIONS_PER_TRIAL,\n",
    "                                         max_trials=MAX_TRIALS, directory=TRIALS_DIR, project_name=PROJECT_NAME,\n",
    "                                         overwrite=OVERWRITE)\n",
    "\n",
    "bayesian_tuner.search(X_train, y_train, validation_data=[X_val, y_val], epochs=N_EPOCHS, callbacks=model_callbacks,\n",
    "                      batch_size=BATCH_SIZE, verbose=3)"
   ],
   "metadata": {
    "collapsed": false
   }
  },
  {
   "cell_type": "markdown",
   "source": [
    "# Results"
   ],
   "metadata": {
    "collapsed": false
   }
  },
  {
   "cell_type": "code",
   "execution_count": 9,
   "outputs": [
    {
     "name": "stdout",
     "output_type": "stream",
     "text": [
      "========== Model 0 ==========\n",
      "{'n_hidden_layers': 4, 'units_mult': 32, 'unit_decrease_factor': 1.0, 'batch_normalization': False, 'input_batch_normalization': True, 'dropout': 0.0, 'normalize_signal': False}\n",
      "Number of parameters: 30529\n",
      "========== Model 1 ==========\n",
      "{'n_hidden_layers': 4, 'units_mult': 16, 'unit_decrease_factor': 2.0, 'batch_normalization': False, 'input_batch_normalization': True, 'dropout': 0.0, 'normalize_signal': False}\n",
      "Number of parameters: 106849\n",
      "========== Model 2 ==========\n",
      "{'n_hidden_layers': 6, 'units_mult': 32, 'unit_decrease_factor': 2.0, 'batch_normalization': True, 'input_batch_normalization': True, 'dropout': 0.2, 'normalize_signal': False}\n",
      "Number of parameters: 6389473\n",
      "========== Model 3 ==========\n",
      "{'n_hidden_layers': 8, 'units_mult': 32, 'unit_decrease_factor': 1.0, 'batch_normalization': True, 'input_batch_normalization': True, 'dropout': 0.2, 'normalize_signal': False}\n",
      "Number of parameters: 70849\n",
      "========== Model 4 ==========\n",
      "{'n_hidden_layers': 3, 'units_mult': 32, 'unit_decrease_factor': 1.5, 'batch_normalization': True, 'input_batch_normalization': True, 'dropout': 0.2, 'normalize_signal': False}\n",
      "Number of parameters: 52585\n"
     ]
    }
   ],
   "source": [
    "for i, hyperparameters in enumerate(bayesian_tuner.get_best_hyperparameters(TOP_N)):\n",
    "    print(f'========== Model {i} ==========')\n",
    "    print(hyperparameters.get_config()['values'])\n",
    "    model_tmp = model_builder(hyperparameters)\n",
    "    print('Number of parameters:', count_params(model_tmp))"
   ],
   "metadata": {
    "collapsed": false,
    "ExecuteTime": {
     "end_time": "2023-08-25T09:13:05.313334400Z",
     "start_time": "2023-08-25T09:13:04.995472500Z"
    }
   }
  },
  {
   "cell_type": "markdown",
   "source": [
    "# Cross-validation for top 5 models"
   ],
   "metadata": {
    "collapsed": false
   }
  },
  {
   "cell_type": "code",
   "execution_count": 10,
   "outputs": [
    {
     "data": {
      "text/plain": "<IPython.core.display.HTML object>",
      "text/html": "<h3>Model 0</h3>"
     },
     "metadata": {},
     "output_type": "display_data"
    },
    {
     "name": "stdout",
     "output_type": "stream",
     "text": [
      "{'n_hidden_layers': 4, 'units_mult': 32, 'unit_decrease_factor': 1.0, 'batch_normalization': False, 'input_batch_normalization': True, 'dropout': 0.0, 'normalize_signal': False}\n",
      "Number of parameters: 30529\n",
      "Got score: 8.5377 (8.4940, 8.5814)\n",
      "Got score: 8.2280 (8.2266, 8.2295)\n",
      "Got score: 8.3074 (8.3236, 8.2912)\n",
      "Got score: 8.1867 (8.1543, 8.2192)\n",
      "Got score: 8.5293 (8.6464, 8.4121)\n"
     ]
    },
    {
     "data": {
      "text/plain": "<IPython.core.display.HTML object>",
      "text/html": "<h3>Model 1</h3>"
     },
     "metadata": {},
     "output_type": "display_data"
    },
    {
     "name": "stdout",
     "output_type": "stream",
     "text": [
      "{'n_hidden_layers': 4, 'units_mult': 16, 'unit_decrease_factor': 2.0, 'batch_normalization': False, 'input_batch_normalization': True, 'dropout': 0.0, 'normalize_signal': False}\n",
      "Number of parameters: 106849\n",
      "Got score: 8.5930 (8.6659, 8.5202)\n",
      "Got score: 8.3014 (8.2938, 8.3090)\n",
      "Got score: 8.4406 (8.4394, 8.4417)\n",
      "Got score: 8.3182 (8.3333, 8.3032)\n",
      "Got score: 8.5096 (8.5282, 8.4909)\n"
     ]
    },
    {
     "data": {
      "text/plain": "<IPython.core.display.HTML object>",
      "text/html": "<h3>Model 2</h3>"
     },
     "metadata": {},
     "output_type": "display_data"
    },
    {
     "name": "stdout",
     "output_type": "stream",
     "text": [
      "{'n_hidden_layers': 6, 'units_mult': 32, 'unit_decrease_factor': 2.0, 'batch_normalization': True, 'input_batch_normalization': True, 'dropout': 0.2, 'normalize_signal': False}\n",
      "Number of parameters: 6389473\n",
      "Got score: 8.5191 (8.6252, 8.4129)\n",
      "Got score: 8.1838 (8.2583, 8.1093)\n",
      "Got score: 8.3762 (8.4190, 8.3334)\n",
      "Got score: 8.2816 (8.2061, 8.3571)\n",
      "Got score: 8.5444 (8.5363, 8.5524)\n"
     ]
    },
    {
     "data": {
      "text/plain": "<IPython.core.display.HTML object>",
      "text/html": "<h3>Model 3</h3>"
     },
     "metadata": {},
     "output_type": "display_data"
    },
    {
     "name": "stdout",
     "output_type": "stream",
     "text": [
      "{'n_hidden_layers': 8, 'units_mult': 32, 'unit_decrease_factor': 1.0, 'batch_normalization': True, 'input_batch_normalization': True, 'dropout': 0.2, 'normalize_signal': False}\n",
      "Number of parameters: 70849\n",
      "Got score: 8.7599 (8.7255, 8.7943)\n",
      "Got score: 8.4413 (8.3315, 8.5511)\n",
      "Got score: 8.5920 (8.5119, 8.6720)\n",
      "Got score: 8.3911 (8.4006, 8.3817)\n",
      "Got score: 8.8608 (9.0433, 8.6783)\n"
     ]
    },
    {
     "data": {
      "text/plain": "<IPython.core.display.HTML object>",
      "text/html": "<h3>Model 4</h3>"
     },
     "metadata": {},
     "output_type": "display_data"
    },
    {
     "name": "stdout",
     "output_type": "stream",
     "text": [
      "{'n_hidden_layers': 3, 'units_mult': 32, 'unit_decrease_factor': 1.5, 'batch_normalization': True, 'input_batch_normalization': True, 'dropout': 0.2, 'normalize_signal': False}\n",
      "Number of parameters: 52585\n",
      "Got score: 8.6880 (8.6934, 8.6826)\n",
      "Got score: 8.4591 (8.5512, 8.3670)\n",
      "Got score: 8.6220 (8.7078, 8.5362)\n",
      "Got score: 8.3411 (8.3365, 8.3457)\n",
      "Got score: 8.7141 (8.7704, 8.6577)\n"
     ]
    }
   ],
   "source": [
    "cross_validator = KerasTunerAllChannelsCrossValidator(bayesian_tuner, list(X_all.values()), list(y_all.values()),\n",
    "                                                      model_builder, directory=CROSSVAL_DIR, project_name=PROJECT_NAME,\n",
    "                                                      n_epochs=N_EPOCHS, batch_size=BATCH_SIZE, n_top=TOP_N,\n",
    "                                                      es_min_delta=ES_MIN_DELTA, n_cv=CROSSVAL_N_CV,\n",
    "                                                      n_executions=CROSSVAL_N_EXEC, overwrite=OVERWRITE)\n",
    "model_scores = cross_validator()"
   ],
   "metadata": {
    "collapsed": false,
    "ExecuteTime": {
     "end_time": "2023-08-25T09:50:20.275790600Z",
     "start_time": "2023-08-25T09:13:05.310550500Z"
    }
   }
  },
  {
   "cell_type": "code",
   "execution_count": 11,
   "outputs": [
    {
     "data": {
      "text/plain": "       mean   std  n_params\nModel                      \n0      8.36  0.15     30529\n1      8.43  0.11    106849\n2      8.38  0.14   6389473\n3      8.61  0.18     70849\n4      8.56  0.14     52585",
      "text/html": "<div>\n<style scoped>\n    .dataframe tbody tr th:only-of-type {\n        vertical-align: middle;\n    }\n\n    .dataframe tbody tr th {\n        vertical-align: top;\n    }\n\n    .dataframe thead th {\n        text-align: right;\n    }\n</style>\n<table border=\"1\" class=\"dataframe\">\n  <thead>\n    <tr style=\"text-align: right;\">\n      <th></th>\n      <th>mean</th>\n      <th>std</th>\n      <th>n_params</th>\n    </tr>\n    <tr>\n      <th>Model</th>\n      <th></th>\n      <th></th>\n      <th></th>\n    </tr>\n  </thead>\n  <tbody>\n    <tr>\n      <th>0</th>\n      <td>8.36</td>\n      <td>0.15</td>\n      <td>30529</td>\n    </tr>\n    <tr>\n      <th>1</th>\n      <td>8.43</td>\n      <td>0.11</td>\n      <td>106849</td>\n    </tr>\n    <tr>\n      <th>2</th>\n      <td>8.38</td>\n      <td>0.14</td>\n      <td>6389473</td>\n    </tr>\n    <tr>\n      <th>3</th>\n      <td>8.61</td>\n      <td>0.18</td>\n      <td>70849</td>\n    </tr>\n    <tr>\n      <th>4</th>\n      <td>8.56</td>\n      <td>0.14</td>\n      <td>52585</td>\n    </tr>\n  </tbody>\n</table>\n</div>"
     },
     "execution_count": 11,
     "metadata": {},
     "output_type": "execute_result"
    }
   ],
   "source": [
    "mean_scores = [f\"{np.mean(scores):0.2f}\" for scores in model_scores.values()]\n",
    "std_scores = [f\"{np.std(scores):0.2f}\" for scores in model_scores.values()]\n",
    "n_params = [count_params(model_builder(hyperparameters)) for hyperparameters in\n",
    "            bayesian_tuner.get_best_hyperparameters(TOP_N)]\n",
    "\n",
    "df = pd.DataFrame({'mean': mean_scores, 'std': std_scores, 'n_params': n_params}, index=model_scores.keys())\n",
    "df.index.name = 'Model'\n",
    "df"
   ],
   "metadata": {
    "collapsed": false,
    "ExecuteTime": {
     "end_time": "2023-08-25T09:50:20.577890Z",
     "start_time": "2023-08-25T09:50:20.277791Z"
    }
   }
  },
  {
   "cell_type": "code",
   "execution_count": 11,
   "outputs": [],
   "source": [],
   "metadata": {
    "collapsed": false,
    "ExecuteTime": {
     "end_time": "2023-08-25T09:50:20.604452700Z",
     "start_time": "2023-08-25T09:50:20.578893500Z"
    }
   }
  }
 ],
 "metadata": {
  "kernelspec": {
   "display_name": "Python 3",
   "language": "python",
   "name": "python3"
  },
  "language_info": {
   "codemirror_mode": {
    "name": "ipython",
    "version": 2
   },
   "file_extension": ".py",
   "mimetype": "text/x-python",
   "name": "python",
   "nbconvert_exporter": "python",
   "pygments_lexer": "ipython2",
   "version": "2.7.6"
  }
 },
 "nbformat": 4,
 "nbformat_minor": 0
}
