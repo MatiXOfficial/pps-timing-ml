{
 "cells": [
  {
   "cell_type": "code",
   "execution_count": null,
   "outputs": [],
   "source": [
    "import pickle\n",
    "import sys\n",
    "from collections import defaultdict\n",
    "\n",
    "import numpy as np\n",
    "import pandas as pd\n",
    "from tensorflow import keras\n",
    "\n",
    "from src.cfd import CFD\n",
    "from src.dataset import X_TIME, load_expanded_dataset_train_val, TIME_STEP\n",
    "from src.gauss_hist import get_gauss_stats\n",
    "from src.models import optimal_model_builder_all_ch\n",
    "from src.network_utils import train_model as _base_train_model, gaussian_kernel, plot_difference_hist\n",
    "\n",
    "PWD = '../../..'\n",
    "sys.path.append(PWD)\n",
    "\n",
    "OPTIMAL_CFD_THRESHOLDS_TRAIN_DATA_PATH = PWD + '/data/tmp/many_channels_tests/optimal_cfd_thresholds_train_data.pkl'"
   ],
   "metadata": {
    "collapsed": false,
    "is_executing": true,
    "ExecuteTime": {
     "start_time": "2023-06-11T21:23:33.235322600Z"
    }
   }
  },
  {
   "cell_type": "code",
   "execution_count": null,
   "outputs": [],
   "source": [
    "BASE_CFD_THRESHOLD = 0.2\n",
    "CFD_N_BASELINE = 6\n",
    "\n",
    "base_cfd = CFD(n_baseline=CFD_N_BASELINE, threshold=BASE_CFD_THRESHOLD)"
   ],
   "metadata": {
    "collapsed": false,
    "is_executing": true
   }
  },
  {
   "cell_type": "code",
   "execution_count": null,
   "outputs": [],
   "source": [
    "N_BASELINE = 6\n",
    "\n",
    "LR = 0.01\n",
    "ES_MIN_DELTA = 0.01\n",
    "\n",
    "N_EPOCHS = 10\n",
    "BATCH_SIZE = 2048\n",
    "LOSS_WEIGHT = 1000\n",
    "\n",
    "ES_PATIENCE = 5\n",
    "LR_PATIENCE = 50"
   ],
   "metadata": {
    "collapsed": false,
    "is_executing": true,
    "ExecuteTime": {
     "start_time": "2023-06-11T21:23:33.262847600Z"
    }
   }
  },
  {
   "cell_type": "code",
   "execution_count": null,
   "outputs": [
    {
     "data": {
      "text/plain": "((26719,), (6680,))"
     },
     "execution_count": 39,
     "metadata": {},
     "output_type": "execute_result"
    }
   ],
   "source": [
    "train_dataset, val_dataset = load_expanded_dataset_train_val(PWD)\n",
    "train_dataset[0].shape, val_dataset[0].shape"
   ],
   "metadata": {
    "collapsed": false,
    "is_executing": true,
    "ExecuteTime": {
     "start_time": "2023-06-11T21:23:33.278893500Z"
    }
   }
  },
  {
   "cell_type": "code",
   "execution_count": null,
   "outputs": [
    {
     "name": "stdout",
     "output_type": "stream",
     "text": [
      "Optimal thresholds:\n",
      "(1,  2): 0.180\n",
      "(1, 11): 0.185\n",
      "(2,  2): 0.220\n",
      "(2, 11): 0.145\n",
      "(3,  2): 0.130\n",
      "(3, 11): 0.175\n"
     ]
    }
   ],
   "source": [
    "with open(OPTIMAL_CFD_THRESHOLDS_TRAIN_DATA_PATH, 'rb') as file:\n",
    "    optimal_cfd_thresholds = pickle.load(file)\n",
    "\n",
    "print('Optimal thresholds:')\n",
    "for (plane, channel), threshold in optimal_cfd_thresholds.items():\n",
    "    print(f'({plane:>1}, {channel:>2}): {threshold:0.3f}')\n",
    "\n",
    "cfd_by_channel = {(p, ch): CFD(n_baseline=N_BASELINE, threshold=thresh) for (p, ch), thresh in\n",
    "                  optimal_cfd_thresholds.items()}"
   ],
   "metadata": {
    "collapsed": false,
    "is_executing": true,
    "ExecuteTime": {
     "start_time": "2023-06-11T21:23:34.012249200Z"
    }
   }
  },
  {
   "cell_type": "markdown",
   "source": [
    "# Utils"
   ],
   "metadata": {
    "collapsed": false
   }
  },
  {
   "cell_type": "code",
   "execution_count": 54,
   "outputs": [],
   "source": [
    "def compute_true_t(t_avg: float, t_ch: float, t_0: float) -> float:\n",
    "    # use only timestamps from other channels\n",
    "    return ((3 * t_avg) - (t_ch + t_0)) / 2 - t_0\n",
    "\n",
    "\n",
    "def compute_true_dataset(model: CFD | keras.Model, dataset_t_avg: np.ndarray, dataset_wav: dict,\n",
    "                         dataset_t0: dict) -> dict:\n",
    "    true_dataset = defaultdict(list)\n",
    "    for key in dataset_wav.keys():\n",
    "        if isinstance(model, CFD):\n",
    "            t_pred_array = model.predict(X_TIME, dataset_wav[key])\n",
    "        else:\n",
    "            t_pred_array_original = model.predict(dataset_wav[key], batch_size=BATCH_SIZE)\n",
    "            # UNet\n",
    "            t_pred_array = np.empty(t_pred_array_original.shape[0])\n",
    "            for i, y in enumerate(t_pred_array_original):\n",
    "                _, t_pred_array[i], _, _ = get_gauss_stats(X_TIME, y, a_0=1, std_0=1. * TIME_STEP)\n",
    "\n",
    "        for i, t_avg in enumerate(dataset_t_avg):\n",
    "            if np.isnan(dataset_t0[key][i]):\n",
    "                true_dataset[key].append(np.nan)\n",
    "            else:\n",
    "                t_0 = dataset_t0[key][i]\n",
    "                t_pred = t_pred_array[i]\n",
    "                true_dataset[key].append(compute_true_t(t_avg, t_pred, t_0))\n",
    "\n",
    "    return true_dataset\n",
    "\n",
    "\n",
    "def build_nn_dataset(dataset_wav: dict, dataset_true: dict) -> tuple[np.ndarray, np.ndarray, np.ndarray]:\n",
    "    x, y = [], []\n",
    "    for key, data in dataset_wav.items():\n",
    "        t_data = dataset_true[key]\n",
    "        for i in range(len(t_data)):\n",
    "            if np.isnan(t_data[i]):\n",
    "                continue\n",
    "            wav = data[i]\n",
    "            true_t = t_data[i]\n",
    "\n",
    "            x.append(wav)\n",
    "            y.append(true_t)\n",
    "\n",
    "    x, y = np.array(x), np.array(y)\n",
    "\n",
    "    # UNet\n",
    "    y_network = np.array([gaussian_kernel(t) for t in y])\n",
    "\n",
    "    return x, y, y_network\n",
    "\n",
    "\n",
    "def build_and_train_network(iteration: int, x_train: np.ndarray, x_val: np.ndarray, y_train: np.ndarray,\n",
    "                            y_val: np.ndarray, train: bool = True,\n",
    "                            verbose: int = 2) -> tuple[keras.Model, pd.DataFrame]:\n",
    "    model = optimal_model_builder_all_ch()\n",
    "    name = f\"optimal_it_{iteration}\"\n",
    "    history = _base_train_model(model, name, \"iti_experiments\", x_train, y_train, x_val, y_val, LR, train, N_EPOCHS,\n",
    "                                verbose, BATCH_SIZE, LR_PATIENCE, ES_PATIENCE, ES_MIN_DELTA, LOSS_WEIGHT,\n",
    "                                root=PWD + '/data')\n",
    "    return model, history\n",
    "\n",
    "\n",
    "def pred_model(model: keras.Model, x: np.ndarray) -> np.ndarray:\n",
    "    y_pred = model.predict(x, batch_size=BATCH_SIZE)\n",
    "\n",
    "    # UNet\n",
    "    y_pred_t = np.empty(y_pred.shape[0])\n",
    "    for i, y in enumerate(y_pred):\n",
    "        _, y_pred_t[i], _, _ = get_gauss_stats(X_TIME, y, a_0=1, std_0=1. * TIME_STEP)\n",
    "\n",
    "    return y_pred_t\n",
    "\n",
    "\n",
    "def evaluate_model_wrt_cfd_average(model: keras.Model, x: np.ndarray, y_true_t: np.ndarray, show: bool = True) -> float:\n",
    "    y_pred = pred_model(model, x)\n",
    "    std, _, _ = plot_difference_hist(y_true_t, y_pred, show=show)\n",
    "    return std"
   ],
   "metadata": {
    "collapsed": false,
    "ExecuteTime": {
     "end_time": "2023-06-11T21:32:24.956282600Z",
     "start_time": "2023-06-11T21:32:24.949652400Z"
    }
   }
  },
  {
   "cell_type": "code",
   "execution_count": null,
   "outputs": [
    {
     "name": "stderr",
     "output_type": "stream",
     "text": [
      "C:\\Repository\\pps-timing-ml-sampic\\src\\cfd.py:63: RuntimeWarning: invalid value encountered in divide\n",
      "  samples /= np.max(samples)\n"
     ]
    },
    {
     "data": {
      "text/plain": "((80157, 24), (20040, 24), (80157, 24), (20040, 24))"
     },
     "execution_count": 45,
     "metadata": {},
     "output_type": "execute_result"
    }
   ],
   "source": [
    "true_cfd_train = compute_true_dataset(base_cfd, *train_dataset)\n",
    "true_cfd_val = compute_true_dataset(base_cfd, *val_dataset)\n",
    "x_train, y_train_t, y_train = build_nn_dataset(train_dataset[1], true_cfd_train)\n",
    "x_val, y_val_t, y_val = build_nn_dataset(val_dataset[1], true_cfd_val)\n",
    "x_train.shape, x_val.shape, y_train.shape, y_val.shape"
   ],
   "metadata": {
    "collapsed": false,
    "is_executing": true,
    "ExecuteTime": {
     "start_time": "2023-06-11T21:23:38.039613200Z"
    }
   }
  },
  {
   "cell_type": "markdown",
   "source": [
    "# Test"
   ],
   "metadata": {
    "collapsed": false
   }
  },
  {
   "cell_type": "markdown",
   "source": [
    "## Iteration 1"
   ],
   "metadata": {
    "collapsed": false
   }
  },
  {
   "cell_type": "code",
   "execution_count": 40,
   "outputs": [],
   "source": [
    "# 1.1 train model\n",
    "model, _ = build_and_train_network(iteration=0, x_train=x_train, x_val=x_val, y_train=y_train, y_val=y_val, train=False)"
   ],
   "metadata": {
    "collapsed": false,
    "ExecuteTime": {
     "end_time": "2023-06-11T21:23:34.012249200Z",
     "start_time": "2023-06-11T21:23:33.342808400Z"
    }
   }
  },
  {
   "cell_type": "code",
   "execution_count": 42,
   "outputs": [
    {
     "name": "stdout",
     "output_type": "stream",
     "text": [
      "10/10 [==============================] - 1s 55ms/step\n"
     ]
    },
    {
     "name": "stderr",
     "output_type": "stream",
     "text": [
      "C:\\Users\\MatiX\\miniconda3\\envs\\cern-ml\\lib\\site-packages\\statsmodels\\stats\\weightstats.py:196: RuntimeWarning: invalid value encountered in sqrt\n",
      "  return np.sqrt(self.var)\n"
     ]
    },
    {
     "data": {
      "text/plain": "<Figure size 640x480 with 1 Axes>",
      "image/png": "[encoded data removed]"
     },
     "metadata": {},
     "output_type": "display_data"
    },
    {
     "name": "stdout",
     "output_type": "stream",
     "text": [
      "Iteration 1. std wrt. CFD average: 119.90 ps\n"
     ]
    }
   ],
   "source": [
    "# 1.2 Evaluate wrt CFD averages\n",
    "std = evaluate_model_wrt_cfd_average(model, x_val, y_val_t)\n",
    "print(f\"Iteration 1. std wrt. CFD average: {std * 1000:0.2f} ps\")"
   ],
   "metadata": {
    "collapsed": false,
    "ExecuteTime": {
     "end_time": "2023-06-11T21:23:37.969971400Z",
     "start_time": "2023-06-11T21:23:34.026370500Z"
    }
   }
  },
  {
   "cell_type": "code",
   "execution_count": 44,
   "outputs": [],
   "source": [
    "# 1.3 Evaluate pairwise precision"
   ],
   "metadata": {
    "collapsed": false,
    "ExecuteTime": {
     "end_time": "2023-06-11T21:23:38.031612800Z",
     "start_time": "2023-06-11T21:23:37.987038Z"
    }
   }
  },
  {
   "cell_type": "code",
   "execution_count": 52,
   "outputs": [
    {
     "name": "stdout",
     "output_type": "stream",
     "text": [
      "Processing channel (1, 2)\n",
      "14/14 [==============================] - 1s 38ms/step\n",
      "Processing channel (1, 11)\n",
      "14/14 [==============================] - 1s 48ms/step\n",
      "Processing channel (2, 2)\n",
      "14/14 [==============================] - 1s 38ms/step\n",
      "Processing channel (2, 11)\n",
      "14/14 [==============================] - 0s 22ms/step\n",
      "Processing channel (3, 2)\n",
      "14/14 [==============================] - 1s 39ms/step\n",
      "Processing channel (3, 11)\n",
      "14/14 [==============================] - 0s 34ms/step\n",
      "Processing channel (1, 2)\n",
      "4/4 [==============================] - 0s 110ms/step\n",
      "Processing channel (1, 11)\n",
      "4/4 [==============================] - 0s 20ms/step\n",
      "Processing channel (2, 2)\n",
      "4/4 [==============================] - 0s 40ms/step\n",
      "Processing channel (2, 11)\n",
      "4/4 [==============================] - 0s 99ms/step\n",
      "Processing channel (3, 2)\n",
      "4/4 [==============================] - 0s 20ms/step\n",
      "Processing channel (3, 11)\n",
      "4/4 [==============================] - 0s 68ms/step\n"
     ]
    }
   ],
   "source": [
    "# 1.4 Update dataset\n",
    "def build_updated_dataset(model: keras.Model, dataset: tuple[np.ndarray, dict, dict]) -> tuple[np.ndarray, dict, dict]:\n",
    "    _, dataset_wav, dataset_t0 = dataset\n",
    "    dataset_t0_updated = {}\n",
    "    dataset_len = list(dataset_wav.values())[0].shape[0]\n",
    "    dataset_avg = np.zeros(dataset_len)\n",
    "    dataset_avg_count = np.zeros(dataset_len)\n",
    "\n",
    "    for key in dataset_wav.keys():\n",
    "        print(f'Processing channel {key}...')\n",
    "        # compute updated t0\n",
    "        wav_array = dataset_wav[key]\n",
    "        t0_array = dataset_t0[key].copy()\n",
    "\n",
    "        t_pred_array = pred_model(model, wav_array)\n",
    "\n",
    "        mask = ~np.isnan(t0_array)\n",
    "        t0_temp = t0_array[mask]\n",
    "        t_pred_array_temp = t_pred_array[mask]\n",
    "\n",
    "        t_fixed = t0_temp + t_pred_array_temp\n",
    "        t_mean = np.mean(t_fixed)\n",
    "\n",
    "        t0_array[mask] -= t_mean\n",
    "        dataset_t0_updated[key] = t0_array\n",
    "\n",
    "        # add to avg\n",
    "        dataset_avg[mask] += t0_array[mask]\n",
    "        dataset_avg_count[mask] += 1\n",
    "\n",
    "    dataset_avg /= dataset_avg_count\n",
    "\n",
    "    return dataset_avg, dataset_wav, dataset_t0_updated\n",
    "\n",
    "\n",
    "# TODO: Analyse together\n",
    "train_dataset_it1 = build_updated_dataset(model, train_dataset)\n",
    "val_dataset_it1 = build_updated_dataset(model, val_dataset)"
   ],
   "metadata": {
    "collapsed": false,
    "ExecuteTime": {
     "end_time": "2023-06-11T21:26:41.559594800Z",
     "start_time": "2023-06-11T21:25:49.091602500Z"
    }
   }
  },
  {
   "cell_type": "code",
   "execution_count": 55,
   "outputs": [
    {
     "name": "stdout",
     "output_type": "stream",
     "text": [
      "14/14 [==============================] - 1s 37ms/step\n",
      "14/14 [==============================] - 0s 35ms/step\n",
      "14/14 [==============================] - 1s 43ms/step\n",
      "14/14 [==============================] - 1s 42ms/step\n",
      "14/14 [==============================] - 0s 37ms/step\n",
      "14/14 [==============================] - 1s 39ms/step\n",
      "4/4 [==============================] - 0s 93ms/step\n",
      "4/4 [==============================] - 0s 21ms/step\n",
      "4/4 [==============================] - 0s 38ms/step\n",
      "4/4 [==============================] - 0s 31ms/step\n",
      "4/4 [==============================] - 0s 24ms/step\n",
      "4/4 [==============================] - 0s 100ms/step\n"
     ]
    },
    {
     "data": {
      "text/plain": "((80157, 24), (80157, 24), (20040, 24), (20040, 24))"
     },
     "execution_count": 55,
     "metadata": {},
     "output_type": "execute_result"
    }
   ],
   "source": [
    "true_t_train_it1 = compute_true_dataset(model, *train_dataset_it1)\n",
    "true_t_val_it1 = compute_true_dataset(model, *val_dataset_it1)\n",
    "x_train_it1, y_train_t_it1, y_train_it1 = build_nn_dataset(train_dataset_it1[1], true_t_train_it1)\n",
    "x_val, y_val_t, y_val = build_nn_dataset(val_dataset_it1[1], true_t_val_it1)\n",
    "x_train_it1.shape, y_train_it1.shape, x_val.shape, y_val.shape"
   ],
   "metadata": {
    "collapsed": false,
    "ExecuteTime": {
     "end_time": "2023-06-11T21:33:18.461584800Z",
     "start_time": "2023-06-11T21:32:26.999757500Z"
    }
   }
  },
  {
   "cell_type": "code",
   "execution_count": null,
   "outputs": [],
   "source": [],
   "metadata": {
    "collapsed": false
   }
  }
 ],
 "metadata": {
  "kernelspec": {
   "display_name": "Python 3",
   "language": "python",
   "name": "python3"
  },
  "language_info": {
   "codemirror_mode": {
    "name": "ipython",
    "version": 2
   },
   "file_extension": ".py",
   "mimetype": "text/x-python",
   "name": "python",
   "nbconvert_exporter": "python",
   "pygments_lexer": "ipython2",
   "version": "2.7.6"
  }
 },
 "nbformat": 4,
 "nbformat_minor": 0
}
