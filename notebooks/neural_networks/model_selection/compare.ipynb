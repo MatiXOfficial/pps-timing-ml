{
 "cells": [
  {
   "cell_type": "code",
   "execution_count": 1,
   "metadata": {
    "collapsed": true
   },
   "outputs": [],
   "source": [
    "import sys\n",
    "\n",
    "from src.gauss_hist import get_gauss_stats\n",
    "\n",
    "PWD = '../../..'\n",
    "sys.path.append(PWD)\n",
    "\n",
    "import numpy as np\n",
    "import pandas as pd\n",
    "\n",
    "import tensorflow as tf\n",
    "\n",
    "tf.get_logger().setLevel('ERROR')\n",
    "from tensorflow.keras import optimizers\n",
    "\n",
    "from src.network_utils import count_params, plot_difference_hist\n",
    "from src.cross_validator import CrossValidator\n",
    "from src.dataset import load_dataset_train_test\n",
    "from src.models import optimal_model_builders_ch_2_11 as optimal_model_builders"
   ]
  },
  {
   "cell_type": "code",
   "execution_count": 2,
   "outputs": [],
   "source": [
    "PROJECT_NAME = 'compare'\n",
    "\n",
    "PLANE = 2\n",
    "CHANNEL = 11\n",
    "\n",
    "DATASET_PATH = PWD + '/data/dataset/dataset.pkl'\n",
    "CROSSVAL_DIR = PWD + f'/data/model_selection/channel_{PLANE}_{CHANNEL}/cross_val'\n",
    "\n",
    "LR = 0.01\n",
    "\n",
    "N_EPOCHS = 3000\n",
    "BATCH_SIZE = 2048\n",
    "MAX_TRIALS = 40\n",
    "EXECUTIONS_PER_TRIAL = 2\n",
    "\n",
    "TOP_N = 5\n",
    "CROSSVAL_N_CV = 5\n",
    "CROSSVAL_N_EXEC = 2\n",
    "LOSS_WEIGHT = 1000"
   ],
   "metadata": {
    "collapsed": false
   }
  },
  {
   "cell_type": "code",
   "execution_count": 3,
   "outputs": [
    {
     "data": {
      "text/plain": "(22412, 24)"
     },
     "execution_count": 3,
     "metadata": {},
     "output_type": "execute_result"
    }
   ],
   "source": [
    "X_base_train, _, y_base_train, _ = load_dataset_train_test(PWD, PLANE, CHANNEL)\n",
    "\n",
    "X_base_train.shape"
   ],
   "metadata": {
    "collapsed": false
   }
  },
  {
   "cell_type": "code",
   "execution_count": 4,
   "outputs": [
    {
     "data": {
      "text/plain": "(22412, 24)"
     },
     "execution_count": 4,
     "metadata": {},
     "output_type": "execute_result"
    }
   ],
   "source": [
    "def gaussian_kernel(mu, sigma=1., n=24):\n",
    "    x = np.arange(0, n)\n",
    "    return np.exp(-(x - mu) ** 2 / (2 * sigma ** 2))\n",
    "\n",
    "\n",
    "y_base_train_heatmap = np.array([gaussian_kernel(y) for y in y_base_train])\n",
    "\n",
    "y_base_train_heatmap.shape"
   ],
   "metadata": {
    "collapsed": false
   }
  },
  {
   "cell_type": "code",
   "execution_count": 5,
   "outputs": [],
   "source": [
    "def compile_wrapper(builder):\n",
    "    def compiled_builder():\n",
    "        model = builder()\n",
    "        model.compile(loss='mse', optimizer=optimizers.Adam(LR), loss_weights=LOSS_WEIGHT)\n",
    "        return model\n",
    "\n",
    "    return compiled_builder"
   ],
   "metadata": {
    "collapsed": false
   }
  },
  {
   "cell_type": "markdown",
   "source": [
    "# Regular models"
   ],
   "metadata": {
    "collapsed": false
   }
  },
  {
   "cell_type": "code",
   "execution_count": 6,
   "outputs": [
    {
     "data": {
      "text/plain": "<IPython.core.display.HTML object>",
      "text/html": "<h3>Model: mlp</h3>"
     },
     "metadata": {},
     "output_type": "display_data"
    },
    {
     "name": "stdout",
     "output_type": "stream",
     "text": [
      "Number of parameters: 29953\n",
      "Got score: 84.4156 (84.3274, 84.5038)\n",
      "Got score: 83.9809 (83.8945, 84.0674)\n",
      "Got score: 81.9383 (82.1743, 81.7024)\n",
      "Got score: 83.6440 (83.8956, 83.3924)\n",
      "Got score: 85.4505 (85.4315, 85.4695)\n"
     ]
    },
    {
     "data": {
      "text/plain": "<IPython.core.display.HTML object>",
      "text/html": "<h3>Model: convnet</h3>"
     },
     "metadata": {},
     "output_type": "display_data"
    },
    {
     "name": "stdout",
     "output_type": "stream",
     "text": [
      "Number of parameters: 13201\n",
      "Got score: 84.7006 (84.5157, 84.8855)\n",
      "Got score: 83.6207 (83.3821, 83.8594)\n",
      "Got score: 82.0924 (82.0743, 82.1104)\n",
      "Got score: 83.3453 (83.3236, 83.3670)\n",
      "Got score: 85.4526 (85.3558, 85.5495)\n"
     ]
    },
    {
     "data": {
      "text/plain": "<IPython.core.display.HTML object>",
      "text/html": "<h3>Model: rnn</h3>"
     },
     "metadata": {},
     "output_type": "display_data"
    },
    {
     "name": "stdout",
     "output_type": "stream",
     "text": [
      "Number of parameters: 12931\n",
      "Got score: 85.0154 (85.0331, 84.9976)\n",
      "Got score: 84.2145 (84.1698, 84.2592)\n",
      "Got score: 81.6254 (81.7595, 81.4912)\n",
      "Got score: 83.7619 (83.7422, 83.7816)\n",
      "Got score: 85.4924 (85.5319, 85.4530)\n"
     ]
    },
    {
     "data": {
      "text/plain": "<Figure size 640x480 with 1 Axes>",
      "image/png": "[encoded data removed]"
     },
     "metadata": {},
     "output_type": "display_data"
    }
   ],
   "source": [
    "def regular_metric(y_true, y_pred):\n",
    "    std, _, _ = plot_difference_hist(y_true, y_pred[:, 0], show=False, close=False)\n",
    "    return std * 1000  # ps\n",
    "\n",
    "\n",
    "regular_model_builders = [\n",
    "    compile_wrapper(optimal_model_builders.mlp),\n",
    "    compile_wrapper(optimal_model_builders.convnet),\n",
    "    compile_wrapper(optimal_model_builders.rnn),\n",
    "]\n",
    "regular_model_names = ['mlp', 'convnet', 'rnn']\n",
    "\n",
    "cross_validator = CrossValidator(regular_model_builders, X_base_train, y_base_train, CROSSVAL_DIR, PROJECT_NAME,\n",
    "                                 n_epochs=N_EPOCHS, batch_size=BATCH_SIZE, n_cv=CROSSVAL_N_CV,\n",
    "                                 n_executions=CROSSVAL_N_EXEC, model_names=regular_model_names,\n",
    "                                 eval_metric=regular_metric, overwrite=False)\n",
    "\n",
    "regular_model_scores = cross_validator()"
   ],
   "metadata": {
    "collapsed": false
   }
  },
  {
   "cell_type": "markdown",
   "source": [
    "# Heatmap-based models"
   ],
   "metadata": {
    "collapsed": false
   }
  },
  {
   "cell_type": "code",
   "execution_count": 7,
   "outputs": [
    {
     "data": {
      "text/plain": "<IPython.core.display.HTML object>",
      "text/html": "<h3>Model: unet</h3>"
     },
     "metadata": {},
     "output_type": "display_data"
    },
    {
     "name": "stdout",
     "output_type": "stream",
     "text": [
      "Number of parameters: 30051\n"
     ]
    },
    {
     "name": "stderr",
     "output_type": "stream",
     "text": [
      "C:\\Users\\MatiX\\miniconda3\\envs\\cern-ml\\lib\\site-packages\\statsmodels\\stats\\weightstats.py:196: RuntimeWarning: invalid value encountered in sqrt\n",
      "  return np.sqrt(self.var)\n"
     ]
    },
    {
     "name": "stdout",
     "output_type": "stream",
     "text": [
      "Got score: 85.2360 (84.7598, 85.7122)\n",
      "Got score: 84.2651 (84.3729, 84.1573)\n",
      "Got score: 81.7566 (81.8919, 81.6214)\n",
      "Got score: 84.3836 (84.0622, 84.7050)\n",
      "Got score: 85.7948 (85.8137, 85.7760)\n"
     ]
    },
    {
     "data": {
      "text/plain": "<Figure size 640x480 with 1 Axes>",
      "image/png": "[encoded data removed]"
     },
     "metadata": {},
     "output_type": "display_data"
    }
   ],
   "source": [
    "def heatmap_metric(y_heatmap_true, y_heatmap_pred):\n",
    "    x = np.arange(24)\n",
    "\n",
    "    y_true = np.empty(y_heatmap_true.shape[0])\n",
    "    for i, y in enumerate(y_heatmap_true):\n",
    "        _, y_true[i], _, _ = get_gauss_stats(x, y, a_0=1, std_0=1.)\n",
    "\n",
    "    y_pred = np.empty(y_heatmap_pred.shape[0])\n",
    "    for i, y in enumerate(y_heatmap_pred):\n",
    "        _, y_pred[i], _, _ = get_gauss_stats(x, y, a_0=1, std_0=1.)\n",
    "\n",
    "    std, _, _ = plot_difference_hist(y_true, y_pred, show=False, close=False)\n",
    "    return std * 1000  # ps\n",
    "\n",
    "\n",
    "heatmap_model_builders = [compile_wrapper(optimal_model_builders.unet)]\n",
    "heatmap_model_names = ['unet']\n",
    "\n",
    "cross_validator = CrossValidator(heatmap_model_builders, X_base_train, y_base_train_heatmap, CROSSVAL_DIR, PROJECT_NAME,\n",
    "                                 n_epochs=N_EPOCHS, batch_size=BATCH_SIZE, n_cv=CROSSVAL_N_CV,\n",
    "                                 n_executions=CROSSVAL_N_EXEC, model_names=heatmap_model_names,\n",
    "                                 eval_metric=heatmap_metric, overwrite=False)\n",
    "\n",
    "heatmap_model_scores = cross_validator()"
   ],
   "metadata": {
    "collapsed": false
   }
  },
  {
   "cell_type": "markdown",
   "source": [
    "# Comparison"
   ],
   "metadata": {
    "collapsed": false
   }
  },
  {
   "cell_type": "code",
   "execution_count": 8,
   "outputs": [],
   "source": [
    "all_model_builders = regular_model_builders + heatmap_model_builders\n",
    "all_model_names = regular_model_names + heatmap_model_names\n",
    "all_model_scores = regular_model_scores | heatmap_model_scores"
   ],
   "metadata": {
    "collapsed": false
   }
  },
  {
   "cell_type": "code",
   "execution_count": 9,
   "outputs": [
    {
     "data": {
      "text/plain": "          mean   std  n_params\nModel                         \nmlp      83.89  1.15     29953\nconvnet  83.84  1.16     13201\nrnn      84.02  1.34     12931\nunet     84.29  1.38     30051",
      "text/html": "<div>\n<style scoped>\n    .dataframe tbody tr th:only-of-type {\n        vertical-align: middle;\n    }\n\n    .dataframe tbody tr th {\n        vertical-align: top;\n    }\n\n    .dataframe thead th {\n        text-align: right;\n    }\n</style>\n<table border=\"1\" class=\"dataframe\">\n  <thead>\n    <tr style=\"text-align: right;\">\n      <th></th>\n      <th>mean</th>\n      <th>std</th>\n      <th>n_params</th>\n    </tr>\n    <tr>\n      <th>Model</th>\n      <th></th>\n      <th></th>\n      <th></th>\n    </tr>\n  </thead>\n  <tbody>\n    <tr>\n      <th>mlp</th>\n      <td>83.89</td>\n      <td>1.15</td>\n      <td>29953</td>\n    </tr>\n    <tr>\n      <th>convnet</th>\n      <td>83.84</td>\n      <td>1.16</td>\n      <td>13201</td>\n    </tr>\n    <tr>\n      <th>rnn</th>\n      <td>84.02</td>\n      <td>1.34</td>\n      <td>12931</td>\n    </tr>\n    <tr>\n      <th>unet</th>\n      <td>84.29</td>\n      <td>1.38</td>\n      <td>30051</td>\n    </tr>\n  </tbody>\n</table>\n</div>"
     },
     "execution_count": 9,
     "metadata": {},
     "output_type": "execute_result"
    }
   ],
   "source": [
    "mean_scores = [f\"{np.mean(scores):0.2f}\" for scores in all_model_scores.values()]\n",
    "std_scores = [f\"{np.std(scores):0.2f}\" for scores in all_model_scores.values()]\n",
    "n_params = [count_params(builder()) for builder in all_model_builders]\n",
    "\n",
    "df = pd.DataFrame({'mean': mean_scores, 'std': std_scores, 'n_params': n_params}, index=all_model_scores.keys())\n",
    "df.index.name = 'Model'\n",
    "df"
   ],
   "metadata": {
    "collapsed": false
   }
  },
  {
   "cell_type": "code",
   "execution_count": 9,
   "outputs": [],
   "source": [],
   "metadata": {
    "collapsed": false
   }
  }
 ],
 "metadata": {
  "kernelspec": {
   "display_name": "Python 3",
   "language": "python",
   "name": "python3"
  },
  "language_info": {
   "codemirror_mode": {
    "name": "ipython",
    "version": 2
   },
   "file_extension": ".py",
   "mimetype": "text/x-python",
   "name": "python",
   "nbconvert_exporter": "python",
   "pygments_lexer": "ipython2",
   "version": "2.7.6"
  }
 },
 "nbformat": 4,
 "nbformat_minor": 0
}
