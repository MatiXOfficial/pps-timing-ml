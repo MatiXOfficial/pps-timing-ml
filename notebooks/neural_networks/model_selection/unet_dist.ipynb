{
 "cells": [
  {
   "cell_type": "code",
   "execution_count": 1,
   "metadata": {
    "collapsed": true,
    "ExecuteTime": {
     "start_time": "2023-04-22T18:09:18.149872Z",
     "end_time": "2023-04-22T18:09:20.164725Z"
    }
   },
   "outputs": [],
   "source": [
    "import sys\n",
    "\n",
    "PWD = '../../..'\n",
    "sys.path.append(PWD)\n",
    "\n",
    "import numpy as np\n",
    "import pandas as pd\n",
    "\n",
    "import tensorflow as tf\n",
    "\n",
    "tf.get_logger().setLevel('ERROR')\n",
    "from tensorflow import keras\n",
    "from tensorflow.keras import optimizers\n",
    "from tensorflow.keras import callbacks\n",
    "import keras_tuner as kt\n",
    "\n",
    "from src.network_utils import count_params, dist_kernel\n",
    "from src.cross_validator import KerasTunerCrossValidator\n",
    "from src.dataset import load_dataset_train_test, load_dataset_train_val\n",
    "from src.models import unet_builder as bare_model_builder"
   ]
  },
  {
   "cell_type": "code",
   "execution_count": 2,
   "outputs": [],
   "source": [
    "PROJECT_NAME = 'unet_dist'\n",
    "\n",
    "PLANE = 2\n",
    "CHANNEL = 11\n",
    "\n",
    "OVERWRITE = False\n",
    "\n",
    "DATASET_PATH = PWD + '/data/dataset/dataset.pkl'\n",
    "TRIALS_DIR = PWD + f'/data/model_selection/channel_{PLANE}_{CHANNEL}/tuner'\n",
    "CROSSVAL_DIR = PWD + f'/data/model_selection/channel_{PLANE}_{CHANNEL}/cross_val'\n",
    "\n",
    "LR = 0.01\n",
    "ES_MIN_DELTA = 0.01\n",
    "\n",
    "N_EPOCHS = 3000\n",
    "BATCH_SIZE = 2048\n",
    "MAX_TRIALS = 30\n",
    "EXECUTIONS_PER_TRIAL = 2\n",
    "\n",
    "TOP_N = 5\n",
    "CROSSVAL_N_CV = 5\n",
    "CROSSVAL_N_EXEC = 2\n",
    "LOSS_WEIGHT = 1000"
   ],
   "metadata": {
    "collapsed": false,
    "ExecuteTime": {
     "start_time": "2023-04-22T18:09:20.166724Z",
     "end_time": "2023-04-22T18:09:20.179818Z"
    }
   }
  },
  {
   "cell_type": "code",
   "execution_count": 3,
   "outputs": [
    {
     "data": {
      "text/plain": "((22412, 24), (17929, 24), (4483, 24))"
     },
     "execution_count": 3,
     "metadata": {},
     "output_type": "execute_result"
    }
   ],
   "source": [
    "X_base_train, _, y_base_train_original, _ = load_dataset_train_test(PWD, PLANE, CHANNEL)\n",
    "X_train, X_val, y_train_original, y_val_original = load_dataset_train_val(PWD, PLANE, CHANNEL)\n",
    "\n",
    "X_base_train.shape, X_train.shape, X_val.shape"
   ],
   "metadata": {
    "collapsed": false,
    "ExecuteTime": {
     "start_time": "2023-04-22T18:09:20.181818Z",
     "end_time": "2023-04-22T18:09:20.211828Z"
    }
   }
  },
  {
   "cell_type": "code",
   "execution_count": 4,
   "outputs": [
    {
     "data": {
      "text/plain": "((22412, 24), (17929, 24), (4483, 24))"
     },
     "execution_count": 4,
     "metadata": {},
     "output_type": "execute_result"
    }
   ],
   "source": [
    "y_base_train = np.array([dist_kernel(y) for y in y_base_train_original])\n",
    "y_train = np.array([dist_kernel(y) for y in y_train_original])\n",
    "y_val = np.array([dist_kernel(y) for y in y_val_original])\n",
    "\n",
    "y_base_train.shape, y_train.shape, y_val.shape"
   ],
   "metadata": {
    "collapsed": false,
    "ExecuteTime": {
     "start_time": "2023-04-22T18:09:20.212828Z",
     "end_time": "2023-04-22T18:09:20.305879Z"
    }
   }
  },
  {
   "cell_type": "markdown",
   "source": [
    "# Model"
   ],
   "metadata": {
    "collapsed": false
   }
  },
  {
   "cell_type": "code",
   "execution_count": 5,
   "outputs": [],
   "source": [
    "def model_builder(hp: kt.HyperParameters) -> keras.Model:\n",
    "    hp_unet_depth = hp.Int(\"unet_depth\", min_value=0, max_value=3, step=1, default=2)\n",
    "    hp_n_conv_layers = hp.Int(\"n_conv_layers\", min_value=1, max_value=3, step=1)\n",
    "    hp_filters_mult = hp.Choice(\"conv_filters_mult\", values=[1, 2, 4, 8, 16], default=4)\n",
    "    hp_spatial_dropout = hp.Choice(\"conv_spatial_dropout\", values=[0.0, 0.1, 0.2])\n",
    "    hp_batch_normalization = hp.Boolean(\"batch_normalization\", default=False)\n",
    "    hp_input_batch_normalization = hp.Boolean(\"input_batch_normalization\", default=False)\n",
    "    hp_normalize_signal = hp.Boolean(\"normalize_signal\", default=False)\n",
    "\n",
    "    model = bare_model_builder(hp_unet_depth, hp_n_conv_layers, hp_filters_mult, hp_spatial_dropout,\n",
    "                               hp_batch_normalization, hp_input_batch_normalization, hp_normalize_signal)\n",
    "    model.compile(loss='mse', optimizer=optimizers.Adam(LR), loss_weights=LOSS_WEIGHT)\n",
    "    return model"
   ],
   "metadata": {
    "collapsed": false,
    "ExecuteTime": {
     "start_time": "2023-04-22T18:09:20.305879Z",
     "end_time": "2023-04-22T18:09:20.335027Z"
    }
   }
  },
  {
   "cell_type": "code",
   "execution_count": 6,
   "outputs": [
    {
     "name": "stdout",
     "output_type": "stream",
     "text": [
      "Model: \"model\"\n",
      "__________________________________________________________________________________________________\n",
      " Layer (type)                   Output Shape         Param #     Connected to                     \n",
      "==================================================================================================\n",
      " input_1 (InputLayer)           [(None, 24)]         0           []                               \n",
      "                                                                                                  \n",
      " reshape (Reshape)              (None, 24, 1)        0           ['input_1[0][0]']                \n",
      "                                                                                                  \n",
      " conv1d (Conv1D)                (None, 24, 32)       96          ['reshape[0][0]']                \n",
      "                                                                                                  \n",
      " max_pooling1d (MaxPooling1D)   (None, 12, 32)       0           ['conv1d[0][0]']                 \n",
      "                                                                                                  \n",
      " conv1d_1 (Conv1D)              (None, 12, 64)       4160        ['max_pooling1d[0][0]']          \n",
      "                                                                                                  \n",
      " max_pooling1d_1 (MaxPooling1D)  (None, 6, 64)       0           ['conv1d_1[0][0]']               \n",
      "                                                                                                  \n",
      " conv1d_2 (Conv1D)              (None, 6, 128)       16512       ['max_pooling1d_1[0][0]']        \n",
      "                                                                                                  \n",
      " up_sampling1d (UpSampling1D)   (None, 12, 128)      0           ['conv1d_2[0][0]']               \n",
      "                                                                                                  \n",
      " conv1d_3 (Conv1D)              (None, 12, 64)       8256        ['up_sampling1d[0][0]']          \n",
      "                                                                                                  \n",
      " concatenate (Concatenate)      (None, 12, 128)      0           ['conv1d_1[0][0]',               \n",
      "                                                                  'conv1d_3[0][0]']               \n",
      "                                                                                                  \n",
      " conv1d_4 (Conv1D)              (None, 12, 64)       24640       ['concatenate[0][0]']            \n",
      "                                                                                                  \n",
      " up_sampling1d_1 (UpSampling1D)  (None, 24, 64)      0           ['conv1d_4[0][0]']               \n",
      "                                                                                                  \n",
      " conv1d_5 (Conv1D)              (None, 24, 32)       2080        ['up_sampling1d_1[0][0]']        \n",
      "                                                                                                  \n",
      " concatenate_1 (Concatenate)    (None, 24, 64)       0           ['conv1d[0][0]',                 \n",
      "                                                                  'conv1d_5[0][0]']               \n",
      "                                                                                                  \n",
      " conv1d_6 (Conv1D)              (None, 24, 32)       6176        ['concatenate_1[0][0]']          \n",
      "                                                                                                  \n",
      " conv1d_7 (Conv1D)              (None, 24, 1)        33          ['conv1d_6[0][0]']               \n",
      "                                                                                                  \n",
      " flatten (Flatten)              (None, 24)           0           ['conv1d_7[0][0]']               \n",
      "                                                                                                  \n",
      "==================================================================================================\n",
      "Total params: 61,953\n",
      "Trainable params: 61,953\n",
      "Non-trainable params: 0\n",
      "__________________________________________________________________________________________________\n"
     ]
    }
   ],
   "source": [
    "model_builder(kt.HyperParameters()).summary()"
   ],
   "metadata": {
    "collapsed": false,
    "ExecuteTime": {
     "start_time": "2023-04-22T18:09:20.321028Z",
     "end_time": "2023-04-22T18:09:21.895641Z"
    }
   }
  },
  {
   "cell_type": "code",
   "execution_count": 7,
   "outputs": [],
   "source": [
    "model_callbacks = [\n",
    "    callbacks.EarlyStopping(patience=60, min_delta=ES_MIN_DELTA),\n",
    "    callbacks.ReduceLROnPlateau(monitor='loss', factor=0.9, patience=10)\n",
    "]"
   ],
   "metadata": {
    "collapsed": false,
    "ExecuteTime": {
     "start_time": "2023-04-22T18:09:21.880641Z",
     "end_time": "2023-04-22T18:09:21.901641Z"
    }
   }
  },
  {
   "cell_type": "markdown",
   "source": [
    "# Bayesian tuner"
   ],
   "metadata": {
    "collapsed": false
   }
  },
  {
   "cell_type": "code",
   "execution_count": 8,
   "outputs": [],
   "source": [
    "bayesian_tuner = kt.BayesianOptimization(model_builder, objective='val_loss', executions_per_trial=EXECUTIONS_PER_TRIAL,\n",
    "                                         max_trials=MAX_TRIALS, directory=TRIALS_DIR, project_name=PROJECT_NAME,\n",
    "                                         overwrite=OVERWRITE)\n",
    "\n",
    "bayesian_tuner.search(X_train, y_train, validation_data=[X_val, y_val], epochs=N_EPOCHS, callbacks=model_callbacks,\n",
    "                      batch_size=BATCH_SIZE, verbose=3)"
   ],
   "metadata": {
    "collapsed": false,
    "ExecuteTime": {
     "start_time": "2023-04-22T18:09:21.898642Z",
     "end_time": "2023-04-22T18:09:21.960642Z"
    }
   }
  },
  {
   "cell_type": "markdown",
   "source": [
    "# Results"
   ],
   "metadata": {
    "collapsed": false
   }
  },
  {
   "cell_type": "code",
   "execution_count": 9,
   "outputs": [
    {
     "name": "stdout",
     "output_type": "stream",
     "text": [
      "========== Model 0 ==========\n",
      "{'unet_depth': 3, 'n_conv_layers': 2, 'conv_filters_mult': 4, 'conv_spatial_dropout': 0.0, 'batch_normalization': False, 'input_batch_normalization': False, 'normalize_signal': False}\n",
      "Number of parameters: 367041\n",
      "========== Model 1 ==========\n",
      "{'unet_depth': 3, 'n_conv_layers': 2, 'conv_filters_mult': 8, 'conv_spatial_dropout': 0.1, 'batch_normalization': True, 'input_batch_normalization': True, 'normalize_signal': False}\n",
      "Number of parameters: 1472481\n",
      "========== Model 2 ==========\n",
      "{'unet_depth': 3, 'n_conv_layers': 3, 'conv_filters_mult': 16, 'conv_spatial_dropout': 0.0, 'batch_normalization': True, 'input_batch_normalization': False, 'normalize_signal': False}\n",
      "Number of parameters: 7598593\n",
      "========== Model 3 ==========\n",
      "{'unet_depth': 3, 'n_conv_layers': 2, 'conv_filters_mult': 8, 'conv_spatial_dropout': 0.1, 'batch_normalization': True, 'input_batch_normalization': True, 'normalize_signal': True}\n",
      "Number of parameters: 1472481\n",
      "========== Model 4 ==========\n",
      "{'unet_depth': 2, 'n_conv_layers': 3, 'conv_filters_mult': 16, 'conv_spatial_dropout': 0.0, 'batch_normalization': True, 'input_batch_normalization': False, 'normalize_signal': True}\n",
      "Number of parameters: 1815041\n"
     ]
    }
   ],
   "source": [
    "for i, hyperparameters in enumerate(bayesian_tuner.get_best_hyperparameters(TOP_N)):\n",
    "    print(f'========== Model {i} ==========')\n",
    "    print(hyperparameters.get_config()['values'])\n",
    "    model_tmp = model_builder(hyperparameters)\n",
    "    print('Number of parameters:', count_params(model_tmp))"
   ],
   "metadata": {
    "collapsed": false,
    "ExecuteTime": {
     "start_time": "2023-04-22T18:09:21.962641Z",
     "end_time": "2023-04-22T18:09:23.085762Z"
    }
   }
  },
  {
   "cell_type": "markdown",
   "source": [
    "# Cross-validation for top 5 models"
   ],
   "metadata": {
    "collapsed": false
   }
  },
  {
   "cell_type": "code",
   "execution_count": 10,
   "outputs": [
    {
     "data": {
      "text/plain": "<IPython.core.display.HTML object>",
      "text/html": "<h3>Model 0</h3>"
     },
     "metadata": {},
     "output_type": "display_data"
    },
    {
     "name": "stdout",
     "output_type": "stream",
     "text": [
      "{'unet_depth': 3, 'n_conv_layers': 2, 'conv_filters_mult': 4, 'conv_spatial_dropout': 0.0, 'batch_normalization': False, 'input_batch_normalization': False, 'normalize_signal': False}\n",
      "Number of parameters: 367041\n",
      "Got score: 9.0285 (8.8978, 9.1591)\n",
      "Got score: 8.8895 (8.7549, 9.0241)\n",
      "Got score: 8.5044 (8.5242, 8.4845)\n",
      "Got score: 8.9919 (8.9611, 9.0226)\n",
      "Got score: 9.0527 (9.0561, 9.0493)\n"
     ]
    },
    {
     "data": {
      "text/plain": "<IPython.core.display.HTML object>",
      "text/html": "<h3>Model 1</h3>"
     },
     "metadata": {},
     "output_type": "display_data"
    },
    {
     "name": "stdout",
     "output_type": "stream",
     "text": [
      "{'unet_depth': 3, 'n_conv_layers': 2, 'conv_filters_mult': 8, 'conv_spatial_dropout': 0.1, 'batch_normalization': True, 'input_batch_normalization': True, 'normalize_signal': False}\n",
      "Number of parameters: 1472481\n",
      "Got score: 9.8285 (10.1374, 9.5196)\n",
      "Got score: 9.7909 (9.1827, 10.3991)\n",
      "Got score: 8.9730 (8.9352, 9.0109)\n",
      "Got score: 8.8966 (8.7998, 8.9934)\n",
      "Got score: 10.7110 (9.8018, 11.6202)\n"
     ]
    },
    {
     "data": {
      "text/plain": "<IPython.core.display.HTML object>",
      "text/html": "<h3>Model 2</h3>"
     },
     "metadata": {},
     "output_type": "display_data"
    },
    {
     "name": "stdout",
     "output_type": "stream",
     "text": [
      "{'unet_depth': 3, 'n_conv_layers': 3, 'conv_filters_mult': 16, 'conv_spatial_dropout': 0.0, 'batch_normalization': True, 'input_batch_normalization': False, 'normalize_signal': False}\n",
      "Number of parameters: 7598593\n",
      "Got score: 9.2927 (9.1774, 9.4080)\n",
      "Got score: 10.1577 (8.7090, 11.6064)\n",
      "Got score: 170.3029 (332.0369, 8.5689)\n",
      "Got score: 90.7711 (172.8392, 8.7030)\n",
      "Got score: 9.9830 (10.2698, 9.6962)\n"
     ]
    },
    {
     "data": {
      "text/plain": "<IPython.core.display.HTML object>",
      "text/html": "<h3>Model 3</h3>"
     },
     "metadata": {},
     "output_type": "display_data"
    },
    {
     "name": "stdout",
     "output_type": "stream",
     "text": [
      "{'unet_depth': 3, 'n_conv_layers': 2, 'conv_filters_mult': 8, 'conv_spatial_dropout': 0.1, 'batch_normalization': True, 'input_batch_normalization': True, 'normalize_signal': True}\n",
      "Number of parameters: 1472481\n",
      "Got score: 9.8134 (10.0428, 9.5841)\n",
      "Got score: 10.4775 (11.2808, 9.6741)\n",
      "Got score: 9.2376 (9.3017, 9.1736)\n",
      "Got score: 10.0263 (10.3171, 9.7355)\n",
      "Got score: 10.1082 (10.5799, 9.6365)\n"
     ]
    },
    {
     "data": {
      "text/plain": "<IPython.core.display.HTML object>",
      "text/html": "<h3>Model 4</h3>"
     },
     "metadata": {},
     "output_type": "display_data"
    },
    {
     "name": "stdout",
     "output_type": "stream",
     "text": [
      "{'unet_depth': 2, 'n_conv_layers': 3, 'conv_filters_mult': 16, 'conv_spatial_dropout': 0.0, 'batch_normalization': True, 'input_batch_normalization': False, 'normalize_signal': True}\n",
      "Number of parameters: 1815041\n",
      "Got score: 16.1759 (9.6624, 22.6893)\n",
      "Got score: 23.1996 (11.2756, 35.1236)\n",
      "Got score: 12.6634 (10.4133, 14.9136)\n",
      "Got score: 31.2533 (53.1301, 9.3766)\n",
      "Got score: 10.7976 (10.9326, 10.6625)\n"
     ]
    }
   ],
   "source": [
    "cross_validator = KerasTunerCrossValidator(bayesian_tuner, X_base_train, y_base_train, model_builder,\n",
    "                                           directory=CROSSVAL_DIR, project_name=PROJECT_NAME,\n",
    "                                           n_epochs=N_EPOCHS, batch_size=BATCH_SIZE, n_top=TOP_N,\n",
    "                                           es_min_delta=ES_MIN_DELTA, n_cv=CROSSVAL_N_CV, n_executions=CROSSVAL_N_EXEC,\n",
    "                                           overwrite=OVERWRITE)\n",
    "model_scores = cross_validator()"
   ],
   "metadata": {
    "collapsed": false,
    "ExecuteTime": {
     "start_time": "2023-04-22T18:09:23.087407Z",
     "end_time": "2023-04-22T18:09:24.131959Z"
    }
   }
  },
  {
   "cell_type": "code",
   "execution_count": 11,
   "outputs": [
    {
     "data": {
      "text/plain": "        mean    std  n_params\nModel                        \n0       8.89   0.20    367041\n1       9.64   0.66   1472481\n2      58.10  64.27   7598593\n3       9.93   0.41   1472481\n4      18.82   7.52   1815041",
      "text/html": "<div>\n<style scoped>\n    .dataframe tbody tr th:only-of-type {\n        vertical-align: middle;\n    }\n\n    .dataframe tbody tr th {\n        vertical-align: top;\n    }\n\n    .dataframe thead th {\n        text-align: right;\n    }\n</style>\n<table border=\"1\" class=\"dataframe\">\n  <thead>\n    <tr style=\"text-align: right;\">\n      <th></th>\n      <th>mean</th>\n      <th>std</th>\n      <th>n_params</th>\n    </tr>\n    <tr>\n      <th>Model</th>\n      <th></th>\n      <th></th>\n      <th></th>\n    </tr>\n  </thead>\n  <tbody>\n    <tr>\n      <th>0</th>\n      <td>8.89</td>\n      <td>0.20</td>\n      <td>367041</td>\n    </tr>\n    <tr>\n      <th>1</th>\n      <td>9.64</td>\n      <td>0.66</td>\n      <td>1472481</td>\n    </tr>\n    <tr>\n      <th>2</th>\n      <td>58.10</td>\n      <td>64.27</td>\n      <td>7598593</td>\n    </tr>\n    <tr>\n      <th>3</th>\n      <td>9.93</td>\n      <td>0.41</td>\n      <td>1472481</td>\n    </tr>\n    <tr>\n      <th>4</th>\n      <td>18.82</td>\n      <td>7.52</td>\n      <td>1815041</td>\n    </tr>\n  </tbody>\n</table>\n</div>"
     },
     "execution_count": 11,
     "metadata": {},
     "output_type": "execute_result"
    }
   ],
   "source": [
    "mean_scores = [f\"{np.mean(scores):0.2f}\" for scores in model_scores.values()]\n",
    "std_scores = [f\"{np.std(scores):0.2f}\" for scores in model_scores.values()]\n",
    "n_params = [count_params(model_builder(hyperparameters)) for hyperparameters in\n",
    "            bayesian_tuner.get_best_hyperparameters(TOP_N)]\n",
    "\n",
    "df = pd.DataFrame({'mean': mean_scores, 'std': std_scores, 'n_params': n_params}, index=model_scores.keys())\n",
    "df.index.name = 'Model'\n",
    "df"
   ],
   "metadata": {
    "collapsed": false,
    "ExecuteTime": {
     "start_time": "2023-04-22T18:09:24.133959Z",
     "end_time": "2023-04-22T18:09:25.145544Z"
    }
   }
  },
  {
   "cell_type": "code",
   "execution_count": 11,
   "outputs": [],
   "source": [],
   "metadata": {
    "collapsed": false,
    "ExecuteTime": {
     "start_time": "2023-04-22T18:09:25.146545Z",
     "end_time": "2023-04-22T18:09:25.160544Z"
    }
   }
  }
 ],
 "metadata": {
  "kernelspec": {
   "display_name": "Python 3",
   "language": "python",
   "name": "python3"
  },
  "language_info": {
   "codemirror_mode": {
    "name": "ipython",
    "version": 2
   },
   "file_extension": ".py",
   "mimetype": "text/x-python",
   "name": "python",
   "nbconvert_exporter": "python",
   "pygments_lexer": "ipython2",
   "version": "2.7.6"
  }
 },
 "nbformat": 4,
 "nbformat_minor": 0
}
