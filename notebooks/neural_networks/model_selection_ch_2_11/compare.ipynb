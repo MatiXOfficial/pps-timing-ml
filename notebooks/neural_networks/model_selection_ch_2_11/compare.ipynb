{
 "cells": [
  {
   "cell_type": "code",
   "execution_count": 1,
   "metadata": {
    "collapsed": true,
    "ExecuteTime": {
     "end_time": "2023-08-24T12:08:16.294756300Z",
     "start_time": "2023-08-24T12:08:11.624258Z"
    }
   },
   "outputs": [],
   "source": [
    "import sys\n",
    "\n",
    "from src.gauss_hist import get_gauss_stats\n",
    "\n",
    "PWD = '../../..'\n",
    "sys.path.append(PWD)\n",
    "\n",
    "import numpy as np\n",
    "import pandas as pd\n",
    "\n",
    "import tensorflow as tf\n",
    "\n",
    "tf.get_logger().setLevel('ERROR')\n",
    "from tensorflow.keras import optimizers\n",
    "\n",
    "from src.network_utils import count_params, plot_difference_hist, gaussian_kernel, dist_kernel, get_dist_root\n",
    "from src.cross_validator import CrossValidator\n",
    "from src.dataset import load_dataset_train_test, X_TIME, TIME_STEP\n",
    "from src.models import optimal_model_builders_ch_2_11 as optimal_model_builders"
   ]
  },
  {
   "cell_type": "code",
   "execution_count": 2,
   "outputs": [],
   "source": [
    "PROJECT_NAME = 'compare'\n",
    "\n",
    "PLANE = 2\n",
    "CHANNEL = 11\n",
    "\n",
    "OVERWRITE = False\n",
    "\n",
    "DATASET_PATH = PWD + '/data/dataset/dataset.pkl'\n",
    "CROSSVAL_DIR = PWD + f'/data/model_selection/channel_{PLANE}_{CHANNEL}/cross_val'\n",
    "\n",
    "LR = 0.01\n",
    "ES_MIN_DELTA = 0.01\n",
    "\n",
    "N_EPOCHS = 3000\n",
    "BATCH_SIZE = 4096\n",
    "\n",
    "CROSSVAL_N_CV = 5\n",
    "CROSSVAL_N_EXEC = 3\n",
    "LOSS_WEIGHT_REGULAR = 1000\n",
    "LOSS_WEIGHT_HEATMAP = 1000\n",
    "LOSS_WEIGHT_DIST = 1000"
   ],
   "metadata": {
    "collapsed": false,
    "ExecuteTime": {
     "end_time": "2023-08-24T12:08:16.309756500Z",
     "start_time": "2023-08-24T12:08:16.294756300Z"
    }
   }
  },
  {
   "cell_type": "code",
   "execution_count": 3,
   "outputs": [
    {
     "data": {
      "text/plain": "(22134, 24)"
     },
     "execution_count": 3,
     "metadata": {},
     "output_type": "execute_result"
    }
   ],
   "source": [
    "X_base_train, _, y_base_train, _ = load_dataset_train_test(PWD, PLANE, CHANNEL)\n",
    "\n",
    "X_base_train.shape"
   ],
   "metadata": {
    "collapsed": false,
    "ExecuteTime": {
     "end_time": "2023-08-24T12:08:16.341756300Z",
     "start_time": "2023-08-24T12:08:16.309756500Z"
    }
   }
  },
  {
   "cell_type": "code",
   "execution_count": 4,
   "outputs": [
    {
     "data": {
      "text/plain": "((22134, 24), (22134, 24))"
     },
     "execution_count": 4,
     "metadata": {},
     "output_type": "execute_result"
    }
   ],
   "source": [
    "y_base_train_heatmap = np.array([gaussian_kernel(y) for y in y_base_train])\n",
    "y_base_train_dist = np.array([dist_kernel(y) for y in y_base_train])\n",
    "\n",
    "y_base_train_heatmap.shape, y_base_train_dist.shape"
   ],
   "metadata": {
    "collapsed": false,
    "ExecuteTime": {
     "end_time": "2023-08-24T12:08:16.483787Z",
     "start_time": "2023-08-24T12:08:16.342755800Z"
    }
   }
  },
  {
   "cell_type": "code",
   "execution_count": 5,
   "outputs": [],
   "source": [
    "def compile_wrapper(builder, loss_weight):\n",
    "    def compiled_builder():\n",
    "        model = builder()\n",
    "        model.compile(loss='mse', optimizer=optimizers.Adam(LR), loss_weights=loss_weight)\n",
    "        return model\n",
    "\n",
    "    return compiled_builder"
   ],
   "metadata": {
    "collapsed": false,
    "ExecuteTime": {
     "end_time": "2023-08-24T12:08:16.529795100Z",
     "start_time": "2023-08-24T12:08:16.485789800Z"
    }
   }
  },
  {
   "cell_type": "markdown",
   "source": [
    "# Regular models"
   ],
   "metadata": {
    "collapsed": false
   }
  },
  {
   "cell_type": "code",
   "execution_count": 6,
   "outputs": [
    {
     "data": {
      "text/plain": "<IPython.core.display.HTML object>",
      "text/html": "<h3>Model: mlp</h3>"
     },
     "metadata": {},
     "output_type": "display_data"
    },
    {
     "name": "stdout",
     "output_type": "stream",
     "text": [
      "Number of parameters: 2593\n",
      "Got score: 86.6675 (86.5908, 86.5031, 86.9087)\n",
      "Got score: 84.6776 (84.3797, 84.6122, 85.0410)\n",
      "Got score: 83.7883 (83.4715, 84.3113, 83.5822)\n",
      "Got score: 83.0137 (82.7162, 83.1602, 83.1647)\n",
      "Got score: 82.8046 (82.8334, 82.7196, 82.8606)\n"
     ]
    },
    {
     "data": {
      "text/plain": "<IPython.core.display.HTML object>",
      "text/html": "<h3>Model: convnet</h3>"
     },
     "metadata": {},
     "output_type": "display_data"
    },
    {
     "name": "stdout",
     "output_type": "stream",
     "text": [
      "Number of parameters: 64369\n",
      "Got score: 86.2738 (86.1193, 86.5540, 86.1480)\n",
      "Got score: 84.1773 (84.6140, 83.6644, 84.2534)\n",
      "Got score: 83.3529 (83.7981, 83.6012, 82.6594)\n",
      "Got score: 83.2689 (83.3365, 82.9162, 83.5540)\n",
      "Got score: 83.3253 (83.8754, 83.2662, 82.8344)\n"
     ]
    },
    {
     "data": {
      "text/plain": "<IPython.core.display.HTML object>",
      "text/html": "<h3>Model: rnn</h3>"
     },
     "metadata": {},
     "output_type": "display_data"
    },
    {
     "name": "stdout",
     "output_type": "stream",
     "text": [
      "Number of parameters: 149601\n",
      "Got score: 85.9491 (86.0664, 85.8471, 85.9338)\n",
      "Got score: 84.6359 (84.8095, 84.3849, 84.7134)\n",
      "Got score: 83.9128 (83.9502, 83.7036, 84.0845)\n",
      "Got score: 82.7595 (82.6841, 82.6653, 82.9291)\n",
      "Got score: 82.5381 (82.5944, 82.4332, 82.5867)\n"
     ]
    },
    {
     "data": {
      "text/plain": "<Figure size 640x480 with 1 Axes>",
      "image/png": "[encoded data removed]"
     },
     "metadata": {},
     "output_type": "display_data"
    }
   ],
   "source": [
    "def regular_metric(y_true, y_pred):\n",
    "    std, _, _ = plot_difference_hist(y_true, y_pred[:, 0], show=False, close=False)\n",
    "    return std * 1000  # ps\n",
    "\n",
    "\n",
    "regular_model_builders = [\n",
    "    compile_wrapper(optimal_model_builders.mlp, loss_weight=LOSS_WEIGHT_REGULAR),\n",
    "    compile_wrapper(optimal_model_builders.convnet, loss_weight=LOSS_WEIGHT_REGULAR),\n",
    "    compile_wrapper(optimal_model_builders.rnn, loss_weight=LOSS_WEIGHT_REGULAR),\n",
    "]\n",
    "regular_model_names = ['mlp', 'convnet', 'rnn']\n",
    "\n",
    "cross_validator = CrossValidator(regular_model_builders, X_base_train, y_base_train, CROSSVAL_DIR, PROJECT_NAME,\n",
    "                                 n_epochs=N_EPOCHS, batch_size=BATCH_SIZE, es_min_delta=ES_MIN_DELTA,\n",
    "                                 n_cv=CROSSVAL_N_CV, n_executions=CROSSVAL_N_EXEC, model_names=regular_model_names,\n",
    "                                 eval_metric=regular_metric, overwrite=OVERWRITE)\n",
    "\n",
    "regular_model_scores = cross_validator()"
   ],
   "metadata": {
    "collapsed": false,
    "ExecuteTime": {
     "end_time": "2023-08-24T12:11:02.940779300Z",
     "start_time": "2023-08-24T12:08:16.500791300Z"
    }
   }
  },
  {
   "cell_type": "markdown",
   "source": [
    "# Heatmap-based models"
   ],
   "metadata": {
    "collapsed": false
   }
  },
  {
   "cell_type": "code",
   "execution_count": 7,
   "outputs": [
    {
     "data": {
      "text/plain": "<IPython.core.display.HTML object>",
      "text/html": "<h3>Model: unet</h3>"
     },
     "metadata": {},
     "output_type": "display_data"
    },
    {
     "name": "stdout",
     "output_type": "stream",
     "text": [
      "Number of parameters: 1212065\n",
      "Got score: 85.5103 (85.5910, 85.2978, 85.6421)\n",
      "Got score: 84.1440 (84.3207, 83.6235, 84.4878)\n",
      "Got score: 82.2769 (81.9731, 82.3207, 82.5370)\n",
      "Got score: 81.9475 (81.5803, 81.9772, 82.2850)\n",
      "Got score: 82.4335 (82.3956, 82.6509, 82.2541)\n"
     ]
    }
   ],
   "source": [
    "def heatmap_metric(y_heatmap_true, y_heatmap_pred):\n",
    "    y_true = np.empty(y_heatmap_true.shape[0])\n",
    "    for i, y in enumerate(y_heatmap_true):\n",
    "        _, y_true[i], _, _ = get_gauss_stats(X_TIME, y, a_0=1, std_0=1. * TIME_STEP)\n",
    "\n",
    "    y_pred = np.empty(y_heatmap_pred.shape[0])\n",
    "    for i, y in enumerate(y_heatmap_pred):\n",
    "        _, y_pred[i], _, _ = get_gauss_stats(X_TIME, y, a_0=1, std_0=1. * TIME_STEP)\n",
    "\n",
    "    std, _, _ = plot_difference_hist(y_true, y_pred, show=False, close=False)\n",
    "    return std * 1000  # ps\n",
    "\n",
    "\n",
    "heatmap_model_builders = [compile_wrapper(optimal_model_builders.unet, loss_weight=LOSS_WEIGHT_HEATMAP)]\n",
    "heatmap_model_names = ['unet']\n",
    "\n",
    "cross_validator = CrossValidator(heatmap_model_builders, X_base_train, y_base_train_heatmap, CROSSVAL_DIR, PROJECT_NAME,\n",
    "                                 n_epochs=N_EPOCHS, batch_size=BATCH_SIZE, es_min_delta=ES_MIN_DELTA,\n",
    "                                 n_cv=CROSSVAL_N_CV, n_executions=CROSSVAL_N_EXEC, model_names=heatmap_model_names,\n",
    "                                 eval_metric=heatmap_metric, overwrite=OVERWRITE)\n",
    "\n",
    "heatmap_model_scores = cross_validator()"
   ],
   "metadata": {
    "collapsed": false,
    "ExecuteTime": {
     "end_time": "2023-08-24T12:11:03.105869700Z",
     "start_time": "2023-08-24T12:11:02.939778900Z"
    }
   }
  },
  {
   "cell_type": "markdown",
   "source": [
    "# Dist-based models"
   ],
   "metadata": {
    "collapsed": false
   }
  },
  {
   "cell_type": "code",
   "execution_count": 8,
   "outputs": [],
   "source": [
    "# def dist_metric(y_dist_true, y_dist_pred):\n",
    "#     y_true = np.empty(y_dist_true.shape[0])\n",
    "#     for i, y in enumerate(y_dist_true):\n",
    "#         y_true[i] = get_dist_root(y)\n",
    "#\n",
    "#     y_pred = np.empty(y_dist_pred.shape[0])\n",
    "#     for i, y in enumerate(y_dist_pred):\n",
    "#         y_pred[i] = get_dist_root(y)\n",
    "#\n",
    "#     std, _, _ = plot_difference_hist(y_true, y_pred, show=False, close=False)\n",
    "#     return std * 1000  # ps\n",
    "#\n",
    "#\n",
    "# dist_model_builders = [compile_wrapper(optimal_model_builders.unet_dist, loss_weight=LOSS_WEIGHT_DIST)]\n",
    "# dist_model_names = ['unet_dist']\n",
    "#\n",
    "# cross_validator = CrossValidator(dist_model_builders, X_base_train, y_base_train_dist, CROSSVAL_DIR, PROJECT_NAME,\n",
    "#                                  n_epochs=N_EPOCHS, batch_size=BATCH_SIZE, es_min_delta=ES_MIN_DELTA,\n",
    "#                                  n_cv=CROSSVAL_N_CV, n_executions=CROSSVAL_N_EXEC, model_names=dist_model_names,\n",
    "#                                  eval_metric=dist_metric, overwrite=OVERWRITE)\n",
    "#\n",
    "# dist_model_scores = cross_validator()"
   ],
   "metadata": {
    "collapsed": false,
    "ExecuteTime": {
     "end_time": "2023-08-24T12:11:03.123879200Z",
     "start_time": "2023-08-24T12:11:03.105869700Z"
    }
   }
  },
  {
   "cell_type": "markdown",
   "source": [
    "# Comparison"
   ],
   "metadata": {
    "collapsed": false
   }
  },
  {
   "cell_type": "code",
   "execution_count": 9,
   "outputs": [],
   "source": [
    "all_model_builders = regular_model_builders + heatmap_model_builders #+ dist_model_builders\n",
    "all_model_names = regular_model_names + heatmap_model_names #+ dist_model_names\n",
    "all_model_scores = regular_model_scores | heatmap_model_scores #| dist_model_scores"
   ],
   "metadata": {
    "collapsed": false,
    "ExecuteTime": {
     "end_time": "2023-08-24T12:11:03.137884700Z",
     "start_time": "2023-08-24T12:11:03.122878600Z"
    }
   }
  },
  {
   "cell_type": "code",
   "execution_count": 10,
   "outputs": [
    {
     "data": {
      "text/plain": "          mean   std  n_params\nModel                         \nmlp      84.19  1.40      2593\nconvnet  84.08  1.15     64369\nrnn      83.96  1.26    149601\nunet     83.26  1.36   1212065",
      "text/html": "<div>\n<style scoped>\n    .dataframe tbody tr th:only-of-type {\n        vertical-align: middle;\n    }\n\n    .dataframe tbody tr th {\n        vertical-align: top;\n    }\n\n    .dataframe thead th {\n        text-align: right;\n    }\n</style>\n<table border=\"1\" class=\"dataframe\">\n  <thead>\n    <tr style=\"text-align: right;\">\n      <th></th>\n      <th>mean</th>\n      <th>std</th>\n      <th>n_params</th>\n    </tr>\n    <tr>\n      <th>Model</th>\n      <th></th>\n      <th></th>\n      <th></th>\n    </tr>\n  </thead>\n  <tbody>\n    <tr>\n      <th>mlp</th>\n      <td>84.19</td>\n      <td>1.40</td>\n      <td>2593</td>\n    </tr>\n    <tr>\n      <th>convnet</th>\n      <td>84.08</td>\n      <td>1.15</td>\n      <td>64369</td>\n    </tr>\n    <tr>\n      <th>rnn</th>\n      <td>83.96</td>\n      <td>1.26</td>\n      <td>149601</td>\n    </tr>\n    <tr>\n      <th>unet</th>\n      <td>83.26</td>\n      <td>1.36</td>\n      <td>1212065</td>\n    </tr>\n  </tbody>\n</table>\n</div>"
     },
     "execution_count": 10,
     "metadata": {},
     "output_type": "execute_result"
    }
   ],
   "source": [
    "mean_scores = [f\"{np.mean(scores):0.2f}\" for scores in all_model_scores.values()]\n",
    "std_scores = [f\"{np.std(scores):0.2f}\" for scores in all_model_scores.values()]\n",
    "n_params = [count_params(builder()) for builder in all_model_builders]\n",
    "\n",
    "df = pd.DataFrame({'mean': mean_scores, 'std': std_scores, 'n_params': n_params}, index=all_model_scores.keys())\n",
    "df.index.name = 'Model'\n",
    "df"
   ],
   "metadata": {
    "collapsed": false,
    "ExecuteTime": {
     "end_time": "2023-08-24T12:11:03.621098300Z",
     "start_time": "2023-08-24T12:11:03.140885200Z"
    }
   }
  },
  {
   "cell_type": "code",
   "execution_count": 10,
   "outputs": [],
   "source": [],
   "metadata": {
    "collapsed": false,
    "ExecuteTime": {
     "end_time": "2023-08-24T12:11:03.637789800Z",
     "start_time": "2023-08-24T12:11:03.577099200Z"
    }
   }
  }
 ],
 "metadata": {
  "kernelspec": {
   "display_name": "Python 3",
   "language": "python",
   "name": "python3"
  },
  "language_info": {
   "codemirror_mode": {
    "name": "ipython",
    "version": 2
   },
   "file_extension": ".py",
   "mimetype": "text/x-python",
   "name": "python",
   "nbconvert_exporter": "python",
   "pygments_lexer": "ipython2",
   "version": "2.7.6"
  }
 },
 "nbformat": 4,
 "nbformat_minor": 0
}
