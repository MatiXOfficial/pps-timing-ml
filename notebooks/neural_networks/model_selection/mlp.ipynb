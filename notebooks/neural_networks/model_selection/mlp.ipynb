{
 "cells": [
  {
   "cell_type": "code",
   "execution_count": 1,
   "metadata": {
    "collapsed": true
   },
   "outputs": [],
   "source": [
    "import sys\n",
    "\n",
    "PWD = '../../..'\n",
    "sys.path.append(PWD)\n",
    "\n",
    "import pickle\n",
    "import numpy as np\n",
    "import pandas as pd\n",
    "\n",
    "import tensorflow as tf\n",
    "\n",
    "tf.get_logger().setLevel('ERROR')\n",
    "from tensorflow import keras\n",
    "from tensorflow.keras import layers\n",
    "from tensorflow.keras import optimizers\n",
    "from tensorflow.keras import callbacks\n",
    "import keras_tuner as kt\n",
    "\n",
    "from sklearn.model_selection import train_test_split\n",
    "\n",
    "from IPython.display import display, HTML\n",
    "\n",
    "from src.network_utils import cross_validate_top_hyperparameters, count_params"
   ]
  },
  {
   "cell_type": "code",
   "execution_count": 2,
   "outputs": [],
   "source": [
    "DATASET_PATH = PWD + '/data/dataset/dataset.pkl'\n",
    "TRIALS_DIR = PWD + '/data/tuner'\n",
    "\n",
    "PLANE = 2\n",
    "CHANNEL = 11\n",
    "\n",
    "PROJECT_NAME = f'mlp_{PLANE}_{CHANNEL}'\n",
    "\n",
    "MAX_TRIALS = 50\n",
    "\n",
    "TOP_N = 5\n",
    "LOSS_WEIGHT = 1000"
   ],
   "metadata": {
    "collapsed": false
   }
  },
  {
   "cell_type": "code",
   "execution_count": 3,
   "outputs": [
    {
     "data": {
      "text/plain": "((28015, 24), (28015,))"
     },
     "execution_count": 3,
     "metadata": {},
     "output_type": "execute_result"
    }
   ],
   "source": [
    "with open(DATASET_PATH, 'rb') as file:\n",
    "    dataset = pickle.load(file)\n",
    "\n",
    "all_X, all_y = dataset[(PLANE, CHANNEL)][0], dataset[(PLANE, CHANNEL)][1]\n",
    "all_X.shape, all_y.shape"
   ],
   "metadata": {
    "collapsed": false
   }
  },
  {
   "cell_type": "code",
   "execution_count": 4,
   "outputs": [
    {
     "data": {
      "text/plain": "((22412, 24), (22412,))"
     },
     "execution_count": 4,
     "metadata": {},
     "output_type": "execute_result"
    }
   ],
   "source": [
    "X_base_train, _, y_base_train, _ = train_test_split(all_X, all_y, test_size=0.2,\n",
    "                                                    random_state=42)  # Don't use the validation set\n",
    "\n",
    "X_base_train.shape, y_base_train.shape"
   ],
   "metadata": {
    "collapsed": false
   }
  },
  {
   "cell_type": "markdown",
   "source": [
    "# Model"
   ],
   "metadata": {
    "collapsed": false
   }
  },
  {
   "cell_type": "code",
   "execution_count": 5,
   "outputs": [],
   "source": [
    "def model_builder(hp: kt.HyperParameters) -> keras.Model:\n",
    "    hp_n_hidden_layers = hp.Int(\"n_hidden_layers\", min_value=1, max_value=6, step=1, default=2)\n",
    "    hp_units_mult = hp.Choice(\"units_mult\", values=[1, 2, 4, 8, 16, 32], default=4)\n",
    "    hp_lr = hp.Choice('learning_rate', values=[0.1, 0.01], default=0.01)\n",
    "    hp_batch_normalization = hp.Boolean(\"batch_normalization\")\n",
    "    hp_dropout = hp.Choice(\"dropout\", values=[0.0, 0.1, 0.2])\n",
    "\n",
    "    model = keras.Sequential()\n",
    "    model.add(layers.Input(24))\n",
    "\n",
    "    n_units = 3 * (2 ** (hp_n_hidden_layers - 1)) * hp_units_mult\n",
    "    for _ in range(hp_n_hidden_layers):\n",
    "        if hp_batch_normalization:\n",
    "            model.add(layers.BatchNormalization())\n",
    "        model.add(layers.Dense(n_units, activation='relu'))\n",
    "        n_units //= 2\n",
    "        if hp_dropout > 0:\n",
    "            model.add(layers.Dropout(hp_dropout))\n",
    "\n",
    "    model.add(layers.Dense(1))\n",
    "\n",
    "    model.compile(loss='mse', optimizer=optimizers.Adam(hp_lr), loss_weights=LOSS_WEIGHT)\n",
    "\n",
    "    return model"
   ],
   "metadata": {
    "collapsed": false
   }
  },
  {
   "cell_type": "code",
   "execution_count": 6,
   "outputs": [
    {
     "name": "stdout",
     "output_type": "stream",
     "text": [
      "Model: \"sequential\"\n",
      "_________________________________________________________________\n",
      " Layer (type)                Output Shape              Param #   \n",
      "=================================================================\n",
      " dense (Dense)               (None, 24)                600       \n",
      "                                                                 \n",
      " dense_1 (Dense)             (None, 12)                300       \n",
      "                                                                 \n",
      " dense_2 (Dense)             (None, 1)                 13        \n",
      "                                                                 \n",
      "=================================================================\n",
      "Total params: 913\n",
      "Trainable params: 913\n",
      "Non-trainable params: 0\n",
      "_________________________________________________________________\n"
     ]
    }
   ],
   "source": [
    "model_builder(kt.HyperParameters()).summary()"
   ],
   "metadata": {
    "collapsed": false
   }
  },
  {
   "cell_type": "code",
   "execution_count": 7,
   "outputs": [],
   "source": [
    "N_EPOCHS = 3000\n",
    "BATCH_SIZE = 2048\n",
    "\n",
    "model_callbacks = [\n",
    "    callbacks.EarlyStopping(patience=50),\n",
    "    callbacks.ReduceLROnPlateau(monitor='loss', factor=0.9, patience=10),\n",
    "    callbacks.TensorBoard(\"/tmp/tb_logs/bayesian/\" + PROJECT_NAME)\n",
    "]"
   ],
   "metadata": {
    "collapsed": false
   }
  },
  {
   "cell_type": "markdown",
   "source": [
    "# Bayessian tuner"
   ],
   "metadata": {
    "collapsed": false
   }
  },
  {
   "cell_type": "code",
   "execution_count": 8,
   "outputs": [],
   "source": [
    "bayesian_tuner = kt.BayesianOptimization(model_builder, objective='val_loss', max_trials=MAX_TRIALS,\n",
    "                                         directory=TRIALS_DIR + \"/bayesian\", project_name=PROJECT_NAME, overwrite=False)\n",
    "\n",
    "bayesian_tuner.search(X_base_train, y_base_train, validation_split=0.2, epochs=N_EPOCHS, callbacks=model_callbacks,\n",
    "                      batch_size=BATCH_SIZE, verbose=3)"
   ],
   "metadata": {
    "collapsed": false
   }
  },
  {
   "cell_type": "markdown",
   "source": [
    "# Results"
   ],
   "metadata": {
    "collapsed": false
   }
  },
  {
   "cell_type": "code",
   "execution_count": 9,
   "outputs": [
    {
     "name": "stdout",
     "output_type": "stream",
     "text": [
      "Results summary\n",
      "Results in ../../../data/tuner/bayesian\\mlp_2_11\n",
      "Showing 1 best trials\n",
      "<keras_tuner.engine.objective.Objective object at 0x000001AFF993A620>\n",
      "Trial summary\n",
      "Hyperparameters:\n",
      "n_hidden_layers: 5\n",
      "units_mult: 8\n",
      "learning_rate: 0.01\n",
      "batch_normalization: False\n",
      "dropout: 0.0\n",
      "Score: 8.566548347473145\n"
     ]
    }
   ],
   "source": [
    "bayesian_tuner.results_summary(1)"
   ],
   "metadata": {
    "collapsed": false
   }
  },
  {
   "cell_type": "code",
   "execution_count": 10,
   "outputs": [
    {
     "name": "stdout",
     "output_type": "stream",
     "text": [
      "Model: \"sequential\"\n",
      "_________________________________________________________________\n",
      " Layer (type)                Output Shape              Param #   \n",
      "=================================================================\n",
      " dense (Dense)               (None, 384)               9600      \n",
      "                                                                 \n",
      " dense_1 (Dense)             (None, 192)               73920     \n",
      "                                                                 \n",
      " dense_2 (Dense)             (None, 96)                18528     \n",
      "                                                                 \n",
      " dense_3 (Dense)             (None, 48)                4656      \n",
      "                                                                 \n",
      " dense_4 (Dense)             (None, 24)                1176      \n",
      "                                                                 \n",
      " dense_5 (Dense)             (None, 1)                 25        \n",
      "                                                                 \n",
      "=================================================================\n",
      "Total params: 107,905\n",
      "Trainable params: 107,905\n",
      "Non-trainable params: 0\n",
      "_________________________________________________________________\n"
     ]
    }
   ],
   "source": [
    "best_model = bayesian_tuner.get_best_models(num_models=1)[0]\n",
    "best_model.summary()"
   ],
   "metadata": {
    "collapsed": false
   }
  },
  {
   "cell_type": "markdown",
   "source": [
    "---"
   ],
   "metadata": {
    "collapsed": false
   }
  },
  {
   "cell_type": "code",
   "execution_count": 11,
   "outputs": [
    {
     "data": {
      "text/plain": "<IPython.core.display.HTML object>",
      "text/html": "<h3>Model 0</h3>"
     },
     "metadata": {},
     "output_type": "display_data"
    },
    {
     "name": "stdout",
     "output_type": "stream",
     "text": [
      "Model: \"sequential\"\n",
      "_________________________________________________________________\n",
      " Layer (type)                Output Shape              Param #   \n",
      "=================================================================\n",
      " dense (Dense)               (None, 384)               9600      \n",
      "                                                                 \n",
      " dense_1 (Dense)             (None, 192)               73920     \n",
      "                                                                 \n",
      " dense_2 (Dense)             (None, 96)                18528     \n",
      "                                                                 \n",
      " dense_3 (Dense)             (None, 48)                4656      \n",
      "                                                                 \n",
      " dense_4 (Dense)             (None, 24)                1176      \n",
      "                                                                 \n",
      " dense_5 (Dense)             (None, 1)                 25        \n",
      "                                                                 \n",
      "=================================================================\n",
      "Total params: 107,905\n",
      "Trainable params: 107,905\n",
      "Non-trainable params: 0\n",
      "_________________________________________________________________\n",
      "None\n"
     ]
    },
    {
     "data": {
      "text/plain": "<IPython.core.display.HTML object>",
      "text/html": "<h3>Model 1</h3>"
     },
     "metadata": {},
     "output_type": "display_data"
    },
    {
     "name": "stdout",
     "output_type": "stream",
     "text": [
      "Model: \"sequential\"\n",
      "_________________________________________________________________\n",
      " Layer (type)                Output Shape              Param #   \n",
      "=================================================================\n",
      " batch_normalization (BatchN  (None, 24)               96        \n",
      " ormalization)                                                   \n",
      "                                                                 \n",
      " dense (Dense)               (None, 1536)              38400     \n",
      "                                                                 \n",
      " dropout (Dropout)           (None, 1536)              0         \n",
      "                                                                 \n",
      " batch_normalization_1 (Batc  (None, 1536)             6144      \n",
      " hNormalization)                                                 \n",
      "                                                                 \n",
      " dense_1 (Dense)             (None, 768)               1180416   \n",
      "                                                                 \n",
      " dropout_1 (Dropout)         (None, 768)               0         \n",
      "                                                                 \n",
      " batch_normalization_2 (Batc  (None, 768)              3072      \n",
      " hNormalization)                                                 \n",
      "                                                                 \n",
      " dense_2 (Dense)             (None, 384)               295296    \n",
      "                                                                 \n",
      " dropout_2 (Dropout)         (None, 384)               0         \n",
      "                                                                 \n",
      " batch_normalization_3 (Batc  (None, 384)              1536      \n",
      " hNormalization)                                                 \n",
      "                                                                 \n",
      " dense_3 (Dense)             (None, 192)               73920     \n",
      "                                                                 \n",
      " dropout_3 (Dropout)         (None, 192)               0         \n",
      "                                                                 \n",
      " batch_normalization_4 (Batc  (None, 192)              768       \n",
      " hNormalization)                                                 \n",
      "                                                                 \n",
      " dense_4 (Dense)             (None, 96)                18528     \n",
      "                                                                 \n",
      " dropout_4 (Dropout)         (None, 96)                0         \n",
      "                                                                 \n",
      " dense_5 (Dense)             (None, 1)                 97        \n",
      "                                                                 \n",
      "=================================================================\n",
      "Total params: 1,618,273\n",
      "Trainable params: 1,612,465\n",
      "Non-trainable params: 5,808\n",
      "_________________________________________________________________\n",
      "None\n"
     ]
    },
    {
     "data": {
      "text/plain": "<IPython.core.display.HTML object>",
      "text/html": "<h3>Model 2</h3>"
     },
     "metadata": {},
     "output_type": "display_data"
    },
    {
     "name": "stdout",
     "output_type": "stream",
     "text": [
      "Model: \"sequential\"\n",
      "_________________________________________________________________\n",
      " Layer (type)                Output Shape              Param #   \n",
      "=================================================================\n",
      " batch_normalization (BatchN  (None, 24)               96        \n",
      " ormalization)                                                   \n",
      "                                                                 \n",
      " dense (Dense)               (None, 3072)              76800     \n",
      "                                                                 \n",
      " dropout (Dropout)           (None, 3072)              0         \n",
      "                                                                 \n",
      " batch_normalization_1 (Batc  (None, 3072)             12288     \n",
      " hNormalization)                                                 \n",
      "                                                                 \n",
      " dense_1 (Dense)             (None, 1536)              4720128   \n",
      "                                                                 \n",
      " dropout_1 (Dropout)         (None, 1536)              0         \n",
      "                                                                 \n",
      " batch_normalization_2 (Batc  (None, 1536)             6144      \n",
      " hNormalization)                                                 \n",
      "                                                                 \n",
      " dense_2 (Dense)             (None, 768)               1180416   \n",
      "                                                                 \n",
      " dropout_2 (Dropout)         (None, 768)               0         \n",
      "                                                                 \n",
      " batch_normalization_3 (Batc  (None, 768)              3072      \n",
      " hNormalization)                                                 \n",
      "                                                                 \n",
      " dense_3 (Dense)             (None, 384)               295296    \n",
      "                                                                 \n",
      " dropout_3 (Dropout)         (None, 384)               0         \n",
      "                                                                 \n",
      " batch_normalization_4 (Batc  (None, 384)              1536      \n",
      " hNormalization)                                                 \n",
      "                                                                 \n",
      " dense_4 (Dense)             (None, 192)               73920     \n",
      "                                                                 \n",
      " dropout_4 (Dropout)         (None, 192)               0         \n",
      "                                                                 \n",
      " batch_normalization_5 (Batc  (None, 192)              768       \n",
      " hNormalization)                                                 \n",
      "                                                                 \n",
      " dense_5 (Dense)             (None, 96)                18528     \n",
      "                                                                 \n",
      " dropout_5 (Dropout)         (None, 96)                0         \n",
      "                                                                 \n",
      " dense_6 (Dense)             (None, 1)                 97        \n",
      "                                                                 \n",
      "=================================================================\n",
      "Total params: 6,389,089\n",
      "Trainable params: 6,377,137\n",
      "Non-trainable params: 11,952\n",
      "_________________________________________________________________\n",
      "None\n"
     ]
    },
    {
     "data": {
      "text/plain": "<IPython.core.display.HTML object>",
      "text/html": "<h3>Model 3</h3>"
     },
     "metadata": {},
     "output_type": "display_data"
    },
    {
     "name": "stdout",
     "output_type": "stream",
     "text": [
      "Model: \"sequential\"\n",
      "_________________________________________________________________\n",
      " Layer (type)                Output Shape              Param #   \n",
      "=================================================================\n",
      " dense (Dense)               (None, 384)               9600      \n",
      "                                                                 \n",
      " dense_1 (Dense)             (None, 192)               73920     \n",
      "                                                                 \n",
      " dense_2 (Dense)             (None, 96)                18528     \n",
      "                                                                 \n",
      " dense_3 (Dense)             (None, 48)                4656      \n",
      "                                                                 \n",
      " dense_4 (Dense)             (None, 24)                1176      \n",
      "                                                                 \n",
      " dense_5 (Dense)             (None, 1)                 25        \n",
      "                                                                 \n",
      "=================================================================\n",
      "Total params: 107,905\n",
      "Trainable params: 107,905\n",
      "Non-trainable params: 0\n",
      "_________________________________________________________________\n",
      "None\n"
     ]
    },
    {
     "data": {
      "text/plain": "<IPython.core.display.HTML object>",
      "text/html": "<h3>Model 4</h3>"
     },
     "metadata": {},
     "output_type": "display_data"
    },
    {
     "name": "stdout",
     "output_type": "stream",
     "text": [
      "Model: \"sequential\"\n",
      "_________________________________________________________________\n",
      " Layer (type)                Output Shape              Param #   \n",
      "=================================================================\n",
      " dense (Dense)               (None, 384)               9600      \n",
      "                                                                 \n",
      " dense_1 (Dense)             (None, 192)               73920     \n",
      "                                                                 \n",
      " dense_2 (Dense)             (None, 96)                18528     \n",
      "                                                                 \n",
      " dense_3 (Dense)             (None, 48)                4656      \n",
      "                                                                 \n",
      " dense_4 (Dense)             (None, 24)                1176      \n",
      "                                                                 \n",
      " dense_5 (Dense)             (None, 1)                 25        \n",
      "                                                                 \n",
      "=================================================================\n",
      "Total params: 107,905\n",
      "Trainable params: 107,905\n",
      "Non-trainable params: 0\n",
      "_________________________________________________________________\n",
      "None\n"
     ]
    }
   ],
   "source": [
    "top_models = bayesian_tuner.get_best_models(num_models=TOP_N)\n",
    "for i, model in enumerate(top_models):\n",
    "    display(HTML(f\"<h3>Model {i}</h3>\"))\n",
    "    print(model.summary())"
   ],
   "metadata": {
    "collapsed": false
   }
  },
  {
   "cell_type": "code",
   "execution_count": 12,
   "outputs": [
    {
     "name": "stdout",
     "output_type": "stream",
     "text": [
      "Results summary\n",
      "Results in ../../../data/tuner/bayesian\\mlp_2_11\n",
      "Showing 5 best trials\n",
      "<keras_tuner.engine.objective.Objective object at 0x000001AFF993A620>\n",
      "Trial summary\n",
      "Hyperparameters:\n",
      "n_hidden_layers: 5\n",
      "units_mult: 8\n",
      "learning_rate: 0.01\n",
      "batch_normalization: False\n",
      "dropout: 0.0\n",
      "Score: 8.566548347473145\n",
      "Trial summary\n",
      "Hyperparameters:\n",
      "n_hidden_layers: 5\n",
      "units_mult: 32\n",
      "learning_rate: 0.01\n",
      "batch_normalization: True\n",
      "dropout: 0.1\n",
      "Score: 8.569682121276855\n",
      "Trial summary\n",
      "Hyperparameters:\n",
      "n_hidden_layers: 6\n",
      "units_mult: 32\n",
      "learning_rate: 0.01\n",
      "batch_normalization: True\n",
      "dropout: 0.2\n",
      "Score: 8.57243824005127\n",
      "Trial summary\n",
      "Hyperparameters:\n",
      "n_hidden_layers: 5\n",
      "units_mult: 8\n",
      "learning_rate: 0.01\n",
      "batch_normalization: False\n",
      "dropout: 0.0\n",
      "Score: 8.578202247619629\n",
      "Trial summary\n",
      "Hyperparameters:\n",
      "n_hidden_layers: 5\n",
      "units_mult: 8\n",
      "learning_rate: 0.01\n",
      "batch_normalization: False\n",
      "dropout: 0.0\n",
      "Score: 8.578230857849121\n"
     ]
    }
   ],
   "source": [
    "bayesian_tuner.results_summary(TOP_N)"
   ],
   "metadata": {
    "collapsed": false
   }
  },
  {
   "cell_type": "markdown",
   "source": [
    "# Cross-validation for top 5 models"
   ],
   "metadata": {
    "collapsed": false
   }
  },
  {
   "cell_type": "code",
   "execution_count": 13,
   "outputs": [
    {
     "data": {
      "text/plain": "<IPython.core.display.HTML object>",
      "text/html": "<h3>Model 0</h3>"
     },
     "metadata": {},
     "output_type": "display_data"
    },
    {
     "name": "stdout",
     "output_type": "stream",
     "text": [
      "{'n_hidden_layers': 5, 'units_mult': 8, 'learning_rate': 0.01, 'batch_normalization': False, 'dropout': 0.0}\n",
      "Number of parameters: 107905\n",
      "Got score: 8.83535385131836\n",
      "Got score: 8.4826021194458\n",
      "Got score: 8.116403579711914\n",
      "Got score: 8.481605529785156\n",
      "Got score: 8.889591217041016\n"
     ]
    },
    {
     "data": {
      "text/plain": "<IPython.core.display.HTML object>",
      "text/html": "<h3>Model 1</h3>"
     },
     "metadata": {},
     "output_type": "display_data"
    },
    {
     "name": "stdout",
     "output_type": "stream",
     "text": [
      "{'n_hidden_layers': 5, 'units_mult': 32, 'learning_rate': 0.01, 'batch_normalization': True, 'dropout': 0.1}\n",
      "Number of parameters: 1612465\n",
      "Got score: 8.679004669189453\n",
      "Got score: 8.33881664276123\n",
      "Got score: 8.284358978271484\n",
      "Got score: 8.549331665039062\n",
      "Got score: 8.8145170211792\n"
     ]
    },
    {
     "data": {
      "text/plain": "<IPython.core.display.HTML object>",
      "text/html": "<h3>Model 2</h3>"
     },
     "metadata": {},
     "output_type": "display_data"
    },
    {
     "name": "stdout",
     "output_type": "stream",
     "text": [
      "{'n_hidden_layers': 6, 'units_mult': 32, 'learning_rate': 0.01, 'batch_normalization': True, 'dropout': 0.2}\n",
      "Number of parameters: 6377137\n",
      "Got score: 8.807421684265137\n",
      "Got score: 8.34884262084961\n",
      "Got score: 8.27306842803955\n",
      "Got score: 8.456929206848145\n",
      "Got score: 8.83283805847168\n"
     ]
    },
    {
     "data": {
      "text/plain": "<IPython.core.display.HTML object>",
      "text/html": "<h3>Model 3</h3>"
     },
     "metadata": {},
     "output_type": "display_data"
    },
    {
     "name": "stdout",
     "output_type": "stream",
     "text": [
      "{'n_hidden_layers': 5, 'units_mult': 8, 'learning_rate': 0.01, 'batch_normalization': False, 'dropout': 0.0}\n",
      "Number of parameters: 107905\n",
      "Got score: 8.781303405761719\n",
      "Got score: 8.448953628540039\n",
      "Got score: 8.125412940979004\n",
      "Got score: 8.482863426208496\n",
      "Got score: 8.819429397583008\n"
     ]
    },
    {
     "data": {
      "text/plain": "<IPython.core.display.HTML object>",
      "text/html": "<h3>Model 4</h3>"
     },
     "metadata": {},
     "output_type": "display_data"
    },
    {
     "name": "stdout",
     "output_type": "stream",
     "text": [
      "{'n_hidden_layers': 5, 'units_mult': 8, 'learning_rate': 0.01, 'batch_normalization': False, 'dropout': 0.0}\n",
      "Number of parameters: 107905\n",
      "Got score: 8.785039901733398\n",
      "Got score: 9.145454406738281\n",
      "Got score: 8.107912063598633\n",
      "Got score: 8.8272066116333\n",
      "Got score: 8.867376327514648\n"
     ]
    }
   ],
   "source": [
    "model_scores = cross_validate_top_hyperparameters(bayesian_tuner, X_base_train, y_base_train, model_builder,\n",
    "                                                  n_epochs=N_EPOCHS, batch_size=BATCH_SIZE, n_top=TOP_N)"
   ],
   "metadata": {
    "collapsed": false
   }
  },
  {
   "cell_type": "code",
   "execution_count": 14,
   "outputs": [
    {
     "data": {
      "text/plain": "       mean   std  n_params\nModel                      \n0      8.56  0.28    107905\n1      8.53  0.20   1612465\n2      8.54  0.23   6377137\n3      8.53  0.25    107905\n4      8.75  0.34    107905",
      "text/html": "<div>\n<style scoped>\n    .dataframe tbody tr th:only-of-type {\n        vertical-align: middle;\n    }\n\n    .dataframe tbody tr th {\n        vertical-align: top;\n    }\n\n    .dataframe thead th {\n        text-align: right;\n    }\n</style>\n<table border=\"1\" class=\"dataframe\">\n  <thead>\n    <tr style=\"text-align: right;\">\n      <th></th>\n      <th>mean</th>\n      <th>std</th>\n      <th>n_params</th>\n    </tr>\n    <tr>\n      <th>Model</th>\n      <th></th>\n      <th></th>\n      <th></th>\n    </tr>\n  </thead>\n  <tbody>\n    <tr>\n      <th>0</th>\n      <td>8.56</td>\n      <td>0.28</td>\n      <td>107905</td>\n    </tr>\n    <tr>\n      <th>1</th>\n      <td>8.53</td>\n      <td>0.20</td>\n      <td>1612465</td>\n    </tr>\n    <tr>\n      <th>2</th>\n      <td>8.54</td>\n      <td>0.23</td>\n      <td>6377137</td>\n    </tr>\n    <tr>\n      <th>3</th>\n      <td>8.53</td>\n      <td>0.25</td>\n      <td>107905</td>\n    </tr>\n    <tr>\n      <th>4</th>\n      <td>8.75</td>\n      <td>0.34</td>\n      <td>107905</td>\n    </tr>\n  </tbody>\n</table>\n</div>"
     },
     "execution_count": 14,
     "metadata": {},
     "output_type": "execute_result"
    }
   ],
   "source": [
    "mean_scores = [f\"{np.mean(scores):0.2f}\" for scores in model_scores.values()]\n",
    "std_scores = [f\"{np.std(scores):0.2f}\" for scores in model_scores.values()]\n",
    "n_params = [count_params(model_builder(hyperparameters)) for hyperparameters in\n",
    "            bayesian_tuner.get_best_hyperparameters(TOP_N)]\n",
    "\n",
    "df = pd.DataFrame({'mean': mean_scores, 'std': std_scores, 'n_params': n_params}, index=model_scores.keys())\n",
    "df.index.name = 'Model'\n",
    "df"
   ],
   "metadata": {
    "collapsed": false
   }
  },
  {
   "cell_type": "code",
   "execution_count": 14,
   "outputs": [],
   "source": [],
   "metadata": {
    "collapsed": false
   }
  }
 ],
 "metadata": {
  "kernelspec": {
   "display_name": "Python 3",
   "language": "python",
   "name": "python3"
  },
  "language_info": {
   "codemirror_mode": {
    "name": "ipython",
    "version": 2
   },
   "file_extension": ".py",
   "mimetype": "text/x-python",
   "name": "python",
   "nbconvert_exporter": "python",
   "pygments_lexer": "ipython2",
   "version": "2.7.6"
  }
 },
 "nbformat": 4,
 "nbformat_minor": 0
}
