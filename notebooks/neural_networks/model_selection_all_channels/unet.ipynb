{
 "cells": [
  {
   "cell_type": "code",
   "execution_count": 1,
   "metadata": {
    "collapsed": true,
    "ExecuteTime": {
     "end_time": "2023-06-07T06:29:33.012590600Z",
     "start_time": "2023-06-07T06:29:28.998735800Z"
    }
   },
   "outputs": [],
   "source": [
    "import sys\n",
    "\n",
    "PWD = '../../..'\n",
    "sys.path.append(PWD)\n",
    "\n",
    "import numpy as np\n",
    "import pandas as pd\n",
    "\n",
    "import tensorflow as tf\n",
    "\n",
    "tf.get_logger().setLevel('ERROR')\n",
    "from tensorflow import keras\n",
    "from tensorflow.keras import optimizers\n",
    "from tensorflow.keras import callbacks\n",
    "import keras_tuner as kt\n",
    "\n",
    "from src.network_utils import count_params, gaussian_kernel\n",
    "from src.cross_validator import KerasTunerAllChannelsCrossValidator\n",
    "from src.models import unet_builder as bare_model_builder\n",
    "from src.dataset import load_dataset_train_val_all_channels, \\\n",
    "    load_dataset_train_test_all_channels"
   ]
  },
  {
   "cell_type": "code",
   "execution_count": 2,
   "outputs": [],
   "source": [
    "PROJECT_NAME = 'unet'\n",
    "\n",
    "OVERWRITE = False\n",
    "\n",
    "DATASET_PATH = PWD + '/data/dataset/dataset.pkl'\n",
    "TRIALS_DIR = PWD + f'/data/model_selection/channel_all/tuner'\n",
    "CROSSVAL_DIR = PWD + f'/data/model_selection/channel_all/cross_val'\n",
    "\n",
    "LR = 0.01\n",
    "ES_MIN_DELTA = 0.01\n",
    "\n",
    "N_EPOCHS = 500\n",
    "BATCH_SIZE = 8096\n",
    "MAX_TRIALS = 40\n",
    "EXECUTIONS_PER_TRIAL = 2\n",
    "\n",
    "TOP_N = 5\n",
    "CROSSVAL_N_CV = 5\n",
    "CROSSVAL_N_EXEC = 2\n",
    "LOSS_WEIGHT = 1000"
   ],
   "metadata": {
    "collapsed": false,
    "ExecuteTime": {
     "end_time": "2023-06-07T06:29:33.026598400Z",
     "start_time": "2023-06-07T06:29:33.012590600Z"
    }
   }
  },
  {
   "cell_type": "code",
   "execution_count": 3,
   "outputs": [
    {
     "data": {
      "text/plain": "((22412, 24), (22412,))"
     },
     "execution_count": 3,
     "metadata": {},
     "output_type": "execute_result"
    }
   ],
   "source": [
    "X_all, _, y_all_original, _ = load_dataset_train_test_all_channels(PWD)\n",
    "\n",
    "X_all[(2, 11)].shape, y_all_original[(2, 11)].shape"
   ],
   "metadata": {
    "collapsed": false,
    "ExecuteTime": {
     "end_time": "2023-06-07T06:29:33.060104600Z",
     "start_time": "2023-06-07T06:29:33.027598900Z"
    }
   }
  },
  {
   "cell_type": "code",
   "execution_count": 4,
   "outputs": [
    {
     "data": {
      "text/plain": "((85651, 24), (85651,), (21416, 24), (21416,))"
     },
     "execution_count": 4,
     "metadata": {},
     "output_type": "execute_result"
    }
   ],
   "source": [
    "X_train, X_val, y_train_original, y_val_original = load_dataset_train_val_all_channels(PWD)\n",
    "\n",
    "X_train = np.concatenate(list(X_train.values()))\n",
    "y_train_original = np.concatenate(list(y_train_original.values()))\n",
    "X_val = np.concatenate(list(X_val.values()))\n",
    "y_val_original = np.concatenate(list(y_val_original.values()))\n",
    "\n",
    "rng = np.random.default_rng(seed=42)\n",
    "\n",
    "train_idx, val_idx = np.arange(len(X_train)), np.arange(len(X_val))\n",
    "rng.shuffle(train_idx)\n",
    "rng.shuffle(val_idx)\n",
    "\n",
    "X_train, y_train_original = X_train[train_idx], y_train_original[train_idx]\n",
    "X_val, y_val_original = X_val[val_idx], y_val_original[val_idx]\n",
    "\n",
    "X_train.shape, y_train_original.shape, X_val.shape, y_val_original.shape"
   ],
   "metadata": {
    "collapsed": false,
    "ExecuteTime": {
     "end_time": "2023-06-07T06:29:33.123610400Z",
     "start_time": "2023-06-07T06:29:33.060104600Z"
    }
   }
  },
  {
   "cell_type": "code",
   "execution_count": 5,
   "outputs": [
    {
     "data": {
      "text/plain": "((22412,), (85651, 24), (21416, 24))"
     },
     "execution_count": 5,
     "metadata": {},
     "output_type": "execute_result"
    }
   ],
   "source": [
    "y_all = {key: np.array([gaussian_kernel(y) for y in val]) for key, val in y_all_original.items()}\n",
    "y_train = np.array([gaussian_kernel(y) for y in y_train_original])\n",
    "y_val = np.array([gaussian_kernel(y) for y in y_val_original])\n",
    "\n",
    "y_all_original[(2, 11)].shape, y_train.shape, y_val.shape"
   ],
   "metadata": {
    "collapsed": false,
    "ExecuteTime": {
     "end_time": "2023-06-07T06:29:33.721639Z",
     "start_time": "2023-06-07T06:29:33.107611800Z"
    }
   }
  },
  {
   "cell_type": "markdown",
   "source": [
    "# Model"
   ],
   "metadata": {
    "collapsed": false
   }
  },
  {
   "cell_type": "code",
   "execution_count": 6,
   "outputs": [],
   "source": [
    "def model_builder(hp: kt.HyperParameters) -> keras.Model:\n",
    "    hp_unet_depth = hp.Int(\"unet_depth\", min_value=0, max_value=3, step=1, default=2)\n",
    "    hp_n_conv_layers = hp.Int(\"n_conv_layers\", min_value=1, max_value=3, step=1)\n",
    "    hp_filters_mult = hp.Choice(\"conv_filters_mult\", values=[1, 2, 4, 8, 16], default=4)\n",
    "    hp_spatial_dropout = hp.Choice(\"conv_spatial_dropout\", values=[0.0, 0.1, 0.2])\n",
    "    hp_batch_normalization = hp.Boolean(\"batch_normalization\", default=False)\n",
    "    hp_input_batch_normalization = hp.Boolean(\"input_batch_normalization\", default=False)\n",
    "    hp_normalize_signal = hp.Boolean(\"normalize_signal\", default=False)\n",
    "\n",
    "    model = bare_model_builder(hp_unet_depth, hp_n_conv_layers, hp_filters_mult, hp_spatial_dropout,\n",
    "                               hp_batch_normalization, hp_input_batch_normalization, hp_normalize_signal)\n",
    "    model.compile(loss='mse', optimizer=optimizers.Adam(LR), loss_weights=LOSS_WEIGHT)\n",
    "    return model"
   ],
   "metadata": {
    "collapsed": false,
    "ExecuteTime": {
     "end_time": "2023-06-07T06:29:33.737220800Z",
     "start_time": "2023-06-07T06:29:33.724639100Z"
    }
   }
  },
  {
   "cell_type": "code",
   "execution_count": 7,
   "outputs": [
    {
     "name": "stdout",
     "output_type": "stream",
     "text": [
      "Model: \"model\"\n",
      "__________________________________________________________________________________________________\n",
      " Layer (type)                   Output Shape         Param #     Connected to                     \n",
      "==================================================================================================\n",
      " input_1 (InputLayer)           [(None, 24)]         0           []                               \n",
      "                                                                                                  \n",
      " reshape (Reshape)              (None, 24, 1)        0           ['input_1[0][0]']                \n",
      "                                                                                                  \n",
      " conv1d (Conv1D)                (None, 24, 32)       96          ['reshape[0][0]']                \n",
      "                                                                                                  \n",
      " max_pooling1d (MaxPooling1D)   (None, 12, 32)       0           ['conv1d[0][0]']                 \n",
      "                                                                                                  \n",
      " conv1d_1 (Conv1D)              (None, 12, 64)       4160        ['max_pooling1d[0][0]']          \n",
      "                                                                                                  \n",
      " max_pooling1d_1 (MaxPooling1D)  (None, 6, 64)       0           ['conv1d_1[0][0]']               \n",
      "                                                                                                  \n",
      " conv1d_2 (Conv1D)              (None, 6, 128)       16512       ['max_pooling1d_1[0][0]']        \n",
      "                                                                                                  \n",
      " up_sampling1d (UpSampling1D)   (None, 12, 128)      0           ['conv1d_2[0][0]']               \n",
      "                                                                                                  \n",
      " conv1d_3 (Conv1D)              (None, 12, 64)       8256        ['up_sampling1d[0][0]']          \n",
      "                                                                                                  \n",
      " concatenate (Concatenate)      (None, 12, 128)      0           ['conv1d_1[0][0]',               \n",
      "                                                                  'conv1d_3[0][0]']               \n",
      "                                                                                                  \n",
      " conv1d_4 (Conv1D)              (None, 12, 64)       24640       ['concatenate[0][0]']            \n",
      "                                                                                                  \n",
      " up_sampling1d_1 (UpSampling1D)  (None, 24, 64)      0           ['conv1d_4[0][0]']               \n",
      "                                                                                                  \n",
      " conv1d_5 (Conv1D)              (None, 24, 32)       2080        ['up_sampling1d_1[0][0]']        \n",
      "                                                                                                  \n",
      " concatenate_1 (Concatenate)    (None, 24, 64)       0           ['conv1d[0][0]',                 \n",
      "                                                                  'conv1d_5[0][0]']               \n",
      "                                                                                                  \n",
      " conv1d_6 (Conv1D)              (None, 24, 32)       6176        ['concatenate_1[0][0]']          \n",
      "                                                                                                  \n",
      " conv1d_7 (Conv1D)              (None, 24, 1)        33          ['conv1d_6[0][0]']               \n",
      "                                                                                                  \n",
      " flatten (Flatten)              (None, 24)           0           ['conv1d_7[0][0]']               \n",
      "                                                                                                  \n",
      "==================================================================================================\n",
      "Total params: 61,953\n",
      "Trainable params: 61,953\n",
      "Non-trainable params: 0\n",
      "__________________________________________________________________________________________________\n"
     ]
    }
   ],
   "source": [
    "model_builder(kt.HyperParameters()).summary()"
   ],
   "metadata": {
    "collapsed": false,
    "ExecuteTime": {
     "end_time": "2023-06-07T06:29:34.798722100Z",
     "start_time": "2023-06-07T06:29:33.738220400Z"
    }
   }
  },
  {
   "cell_type": "code",
   "execution_count": 8,
   "outputs": [],
   "source": [
    "model_callbacks = [\n",
    "    callbacks.EarlyStopping(patience=30, min_delta=ES_MIN_DELTA),\n",
    "    callbacks.ReduceLROnPlateau(monitor='loss', factor=0.9, patience=5)\n",
    "]"
   ],
   "metadata": {
    "collapsed": false,
    "ExecuteTime": {
     "end_time": "2023-06-07T06:29:34.799721600Z",
     "start_time": "2023-06-07T06:29:34.769214800Z"
    }
   }
  },
  {
   "cell_type": "markdown",
   "source": [
    "# Bayesian tuner"
   ],
   "metadata": {
    "collapsed": false
   }
  },
  {
   "cell_type": "code",
   "execution_count": 9,
   "outputs": [
    {
     "name": "stdout",
     "output_type": "stream",
     "text": [
      "Trial 40 Complete [00h 01m 08s]\n",
      "val_loss: 15.744112014770508\n",
      "\n",
      "Best val_loss So Far: 12.82594633102417\n",
      "Total elapsed time: 01h 46m 17s\n"
     ]
    }
   ],
   "source": [
    "bayesian_tuner = kt.BayesianOptimization(model_builder, objective='val_loss', executions_per_trial=EXECUTIONS_PER_TRIAL,\n",
    "                                         max_trials=MAX_TRIALS, directory=TRIALS_DIR, project_name=PROJECT_NAME,\n",
    "                                         overwrite=OVERWRITE)\n",
    "\n",
    "bayesian_tuner.search(X_train, y_train, validation_data=[X_val, y_val], epochs=N_EPOCHS, callbacks=model_callbacks,\n",
    "                      batch_size=BATCH_SIZE, verbose=3)"
   ],
   "metadata": {
    "collapsed": false
   }
  },
  {
   "cell_type": "markdown",
   "source": [
    "# Results"
   ],
   "metadata": {
    "collapsed": false
   }
  },
  {
   "cell_type": "code",
   "execution_count": 10,
   "outputs": [
    {
     "name": "stdout",
     "output_type": "stream",
     "text": [
      "========== Model 0 ==========\n",
      "{'unet_depth': 2, 'n_conv_layers': 3, 'conv_filters_mult': 1, 'conv_spatial_dropout': 0.0, 'batch_normalization': False, 'input_batch_normalization': True, 'normalize_signal': False}\n",
      "Number of parameters: 11521\n",
      "========== Model 1 ==========\n",
      "{'unet_depth': 2, 'n_conv_layers': 2, 'conv_filters_mult': 1, 'conv_spatial_dropout': 0.0, 'batch_normalization': False, 'input_batch_normalization': True, 'normalize_signal': False}\n",
      "Number of parameters: 7793\n",
      "========== Model 2 ==========\n",
      "{'unet_depth': 3, 'n_conv_layers': 3, 'conv_filters_mult': 8, 'conv_spatial_dropout': 0.2, 'batch_normalization': True, 'input_batch_normalization': True, 'normalize_signal': False}\n",
      "Number of parameters: 2962785\n",
      "========== Model 3 ==========\n",
      "{'unet_depth': 3, 'n_conv_layers': 1, 'conv_filters_mult': 2, 'conv_spatial_dropout': 0.0, 'batch_normalization': False, 'input_batch_normalization': False, 'normalize_signal': False}\n",
      "Number of parameters: 65025\n",
      "========== Model 4 ==========\n",
      "{'unet_depth': 2, 'n_conv_layers': 3, 'conv_filters_mult': 2, 'conv_spatial_dropout': 0.1, 'batch_normalization': True, 'input_batch_normalization': True, 'normalize_signal': False}\n",
      "Number of parameters: 47137\n"
     ]
    }
   ],
   "source": [
    "for i, hyperparameters in enumerate(bayesian_tuner.get_best_hyperparameters(TOP_N)):\n",
    "    print(f'========== Model {i} ==========')\n",
    "    print(hyperparameters.get_config()['values'])\n",
    "    model_tmp = model_builder(hyperparameters)\n",
    "    print('Number of parameters:', count_params(model_tmp))"
   ],
   "metadata": {
    "collapsed": false,
    "ExecuteTime": {
     "end_time": "2023-06-07T08:15:52.566928500Z",
     "start_time": "2023-06-07T08:15:51.598766Z"
    }
   }
  },
  {
   "cell_type": "markdown",
   "source": [
    "# Cross-validation for top 5 models"
   ],
   "metadata": {
    "collapsed": false
   }
  },
  {
   "cell_type": "code",
   "execution_count": 11,
   "outputs": [
    {
     "data": {
      "text/plain": "<IPython.core.display.HTML object>",
      "text/html": "<h3>Model 0</h3>"
     },
     "metadata": {},
     "output_type": "display_data"
    },
    {
     "name": "stdout",
     "output_type": "stream",
     "text": [
      "{'unet_depth': 2, 'n_conv_layers': 3, 'conv_filters_mult': 1, 'conv_spatial_dropout': 0.0, 'batch_normalization': False, 'input_batch_normalization': True, 'normalize_signal': False}\n",
      "Number of parameters: 11521\n",
      "Got score: 12.6264 (12.6362, 12.6166)\n",
      "Got score: 12.7063 (12.7129, 12.6997)\n",
      "Got score: 12.7228 (12.6793, 12.7664)\n",
      "Got score: 12.7094 (12.6711, 12.7477)\n",
      "Got score: 12.5517 (12.5656, 12.5377)\n"
     ]
    },
    {
     "data": {
      "text/plain": "<IPython.core.display.HTML object>",
      "text/html": "<h3>Model 1</h3>"
     },
     "metadata": {},
     "output_type": "display_data"
    },
    {
     "name": "stdout",
     "output_type": "stream",
     "text": [
      "{'unet_depth': 2, 'n_conv_layers': 2, 'conv_filters_mult': 1, 'conv_spatial_dropout': 0.0, 'batch_normalization': False, 'input_batch_normalization': True, 'normalize_signal': False}\n",
      "Number of parameters: 7793\n",
      "Got score: 12.6006 (12.5799, 12.6213)\n",
      "Got score: 12.7058 (12.7082, 12.7035)\n",
      "Got score: 12.6569 (12.6534, 12.6605)\n",
      "Got score: 12.6841 (12.7440, 12.6241)\n",
      "Got score: 12.5578 (12.5769, 12.5387)\n"
     ]
    },
    {
     "data": {
      "text/plain": "<IPython.core.display.HTML object>",
      "text/html": "<h3>Model 2</h3>"
     },
     "metadata": {},
     "output_type": "display_data"
    },
    {
     "name": "stdout",
     "output_type": "stream",
     "text": [
      "{'unet_depth': 3, 'n_conv_layers': 3, 'conv_filters_mult': 8, 'conv_spatial_dropout': 0.2, 'batch_normalization': True, 'input_batch_normalization': True, 'normalize_signal': False}\n",
      "Number of parameters: 2962785\n",
      "Got score: 12.5271 (12.4548, 12.5994)\n",
      "Got score: 12.6249 (12.4910, 12.7587)\n",
      "Got score: 12.6702 (12.7953, 12.5450)\n",
      "Got score: 12.7159 (12.7439, 12.6878)\n",
      "Got score: 12.5224 (12.4779, 12.5670)\n"
     ]
    },
    {
     "data": {
      "text/plain": "<IPython.core.display.HTML object>",
      "text/html": "<h3>Model 3</h3>"
     },
     "metadata": {},
     "output_type": "display_data"
    },
    {
     "name": "stdout",
     "output_type": "stream",
     "text": [
      "{'unet_depth': 3, 'n_conv_layers': 1, 'conv_filters_mult': 2, 'conv_spatial_dropout': 0.0, 'batch_normalization': False, 'input_batch_normalization': False, 'normalize_signal': False}\n",
      "Number of parameters: 65025\n",
      "Got score: 12.6097 (12.6320, 12.5873)\n",
      "Got score: 12.7702 (12.7580, 12.7824)\n",
      "Got score: 12.6723 (12.6826, 12.6621)\n",
      "Got score: 12.7337 (12.7739, 12.6935)\n",
      "Got score: 12.5776 (12.5395, 12.6157)\n"
     ]
    },
    {
     "data": {
      "text/plain": "<IPython.core.display.HTML object>",
      "text/html": "<h3>Model 4</h3>"
     },
     "metadata": {},
     "output_type": "display_data"
    },
    {
     "name": "stdout",
     "output_type": "stream",
     "text": [
      "{'unet_depth': 2, 'n_conv_layers': 3, 'conv_filters_mult': 2, 'conv_spatial_dropout': 0.1, 'batch_normalization': True, 'input_batch_normalization': True, 'normalize_signal': False}\n",
      "Number of parameters: 47137\n",
      "Got score: 13.0541 (12.7773, 13.3310)\n",
      "Got score: 13.4585 (13.9714, 12.9455)\n",
      "Got score: 12.8450 (12.6129, 13.0772)\n",
      "Got score: 12.8196 (12.9409, 12.6983)\n",
      "Got score: 12.8649 (12.9811, 12.7486)\n"
     ]
    }
   ],
   "source": [
    "cross_validator = KerasTunerAllChannelsCrossValidator(bayesian_tuner, list(X_all.values()), list(y_all.values()),\n",
    "                                                      model_builder, directory=CROSSVAL_DIR, project_name=PROJECT_NAME,\n",
    "                                                      n_epochs=N_EPOCHS, batch_size=BATCH_SIZE, n_top=TOP_N,\n",
    "                                                      es_min_delta=ES_MIN_DELTA, n_cv=CROSSVAL_N_CV,\n",
    "                                                      n_executions=CROSSVAL_N_EXEC, overwrite=OVERWRITE)\n",
    "model_scores = cross_validator()"
   ],
   "metadata": {
    "collapsed": false,
    "ExecuteTime": {
     "end_time": "2023-06-07T12:14:22.099958900Z",
     "start_time": "2023-06-07T08:15:52.569927500Z"
    }
   }
  },
  {
   "cell_type": "code",
   "execution_count": 12,
   "outputs": [
    {
     "data": {
      "text/plain": "        mean   std  n_params\nModel                       \n0      12.66  0.07     11521\n1      12.64  0.05      7793\n2      12.61  0.08   2962785\n3      12.67  0.07     65025\n4      13.01  0.24     47137",
      "text/html": "<div>\n<style scoped>\n    .dataframe tbody tr th:only-of-type {\n        vertical-align: middle;\n    }\n\n    .dataframe tbody tr th {\n        vertical-align: top;\n    }\n\n    .dataframe thead th {\n        text-align: right;\n    }\n</style>\n<table border=\"1\" class=\"dataframe\">\n  <thead>\n    <tr style=\"text-align: right;\">\n      <th></th>\n      <th>mean</th>\n      <th>std</th>\n      <th>n_params</th>\n    </tr>\n    <tr>\n      <th>Model</th>\n      <th></th>\n      <th></th>\n      <th></th>\n    </tr>\n  </thead>\n  <tbody>\n    <tr>\n      <th>0</th>\n      <td>12.66</td>\n      <td>0.07</td>\n      <td>11521</td>\n    </tr>\n    <tr>\n      <th>1</th>\n      <td>12.64</td>\n      <td>0.05</td>\n      <td>7793</td>\n    </tr>\n    <tr>\n      <th>2</th>\n      <td>12.61</td>\n      <td>0.08</td>\n      <td>2962785</td>\n    </tr>\n    <tr>\n      <th>3</th>\n      <td>12.67</td>\n      <td>0.07</td>\n      <td>65025</td>\n    </tr>\n    <tr>\n      <th>4</th>\n      <td>13.01</td>\n      <td>0.24</td>\n      <td>47137</td>\n    </tr>\n  </tbody>\n</table>\n</div>"
     },
     "execution_count": 12,
     "metadata": {},
     "output_type": "execute_result"
    }
   ],
   "source": [
    "mean_scores = [f\"{np.mean(scores):0.2f}\" for scores in model_scores.values()]\n",
    "std_scores = [f\"{np.std(scores):0.2f}\" for scores in model_scores.values()]\n",
    "n_params = [count_params(model_builder(hyperparameters)) for hyperparameters in\n",
    "            bayesian_tuner.get_best_hyperparameters(TOP_N)]\n",
    "\n",
    "df = pd.DataFrame({'mean': mean_scores, 'std': std_scores, 'n_params': n_params}, index=model_scores.keys())\n",
    "df.index.name = 'Model'\n",
    "df"
   ],
   "metadata": {
    "collapsed": false,
    "ExecuteTime": {
     "end_time": "2023-06-07T12:14:22.958060800Z",
     "start_time": "2023-06-07T12:14:22.103958200Z"
    }
   }
  },
  {
   "cell_type": "code",
   "execution_count": 12,
   "outputs": [],
   "source": [],
   "metadata": {
    "collapsed": false,
    "ExecuteTime": {
     "end_time": "2023-06-07T12:14:22.976085900Z",
     "start_time": "2023-06-07T12:14:22.958060800Z"
    }
   }
  }
 ],
 "metadata": {
  "kernelspec": {
   "display_name": "Python 3",
   "language": "python",
   "name": "python3"
  },
  "language_info": {
   "codemirror_mode": {
    "name": "ipython",
    "version": 2
   },
   "file_extension": ".py",
   "mimetype": "text/x-python",
   "name": "python",
   "nbconvert_exporter": "python",
   "pygments_lexer": "ipython2",
   "version": "2.7.6"
  }
 },
 "nbformat": 4,
 "nbformat_minor": 0
}
