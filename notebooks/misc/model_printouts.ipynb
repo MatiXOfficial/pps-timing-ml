{
 "cells": [
  {
   "cell_type": "code",
   "execution_count": 1,
   "id": "initial_id",
   "metadata": {
    "collapsed": true,
    "ExecuteTime": {
     "end_time": "2023-08-24T12:31:04.232171100Z",
     "start_time": "2023-08-24T12:31:02.566887200Z"
    }
   },
   "outputs": [],
   "source": [
    "from src.models import optimal_model_builders_ch_2_11, optimal_model_builders_all_ch"
   ]
  },
  {
   "cell_type": "code",
   "execution_count": 3,
   "outputs": [
    {
     "name": "stdout",
     "output_type": "stream",
     "text": [
      "Model: \"sequential_1\"\n",
      "_________________________________________________________________\n",
      " Layer (type)                Output Shape              Param #   \n",
      "=================================================================\n",
      " batch_normalization_1 (Batc  (None, 24)               96        \n",
      " hNormalization)                                                 \n",
      "                                                                 \n",
      " dense_2 (Dense)             (None, 1536)              38400     \n",
      "                                                                 \n",
      " batch_normalization_2 (Batc  (None, 1536)             6144      \n",
      " hNormalization)                                                 \n",
      "                                                                 \n",
      " dropout_1 (Dropout)         (None, 1536)              0         \n",
      "                                                                 \n",
      " dense_3 (Dense)             (None, 768)               1180416   \n",
      "                                                                 \n",
      " batch_normalization_3 (Batc  (None, 768)              3072      \n",
      " hNormalization)                                                 \n",
      "                                                                 \n",
      " dropout_2 (Dropout)         (None, 768)               0         \n",
      "                                                                 \n",
      " dense_4 (Dense)             (None, 384)               295296    \n",
      "                                                                 \n",
      " batch_normalization_4 (Batc  (None, 384)              1536      \n",
      " hNormalization)                                                 \n",
      "                                                                 \n",
      " dropout_3 (Dropout)         (None, 384)               0         \n",
      "                                                                 \n",
      " dense_5 (Dense)             (None, 192)               73920     \n",
      "                                                                 \n",
      " batch_normalization_5 (Batc  (None, 192)              768       \n",
      " hNormalization)                                                 \n",
      "                                                                 \n",
      " dropout_4 (Dropout)         (None, 192)               0         \n",
      "                                                                 \n",
      " dense_6 (Dense)             (None, 96)                18528     \n",
      "                                                                 \n",
      " batch_normalization_6 (Batc  (None, 96)               384       \n",
      " hNormalization)                                                 \n",
      "                                                                 \n",
      " dropout_5 (Dropout)         (None, 96)                0         \n",
      "                                                                 \n",
      " dense_7 (Dense)             (None, 48)                4656      \n",
      "                                                                 \n",
      " batch_normalization_7 (Batc  (None, 48)               192       \n",
      " hNormalization)                                                 \n",
      "                                                                 \n",
      " dropout_6 (Dropout)         (None, 48)                0         \n",
      "                                                                 \n",
      " dense_8 (Dense)             (None, 24)                1176      \n",
      "                                                                 \n",
      " batch_normalization_8 (Batc  (None, 24)               96        \n",
      " hNormalization)                                                 \n",
      "                                                                 \n",
      " dropout_7 (Dropout)         (None, 24)                0         \n",
      "                                                                 \n",
      " dense_9 (Dense)             (None, 1)                 25        \n",
      "                                                                 \n",
      "=================================================================\n",
      "Total params: 1,624,705\n",
      "Trainable params: 1,618,561\n",
      "Non-trainable params: 6,144\n",
      "_________________________________________________________________\n"
     ]
    }
   ],
   "source": [
    "optimal_model_builders_all_ch.mlp().summary()"
   ],
   "metadata": {
    "collapsed": false,
    "ExecuteTime": {
     "end_time": "2023-08-24T12:33:53.116424600Z",
     "start_time": "2023-08-24T12:33:52.469234600Z"
    }
   },
   "id": "29e5101165312624"
  },
  {
   "cell_type": "code",
   "execution_count": 6,
   "outputs": [],
   "source": [],
   "metadata": {
    "collapsed": false,
    "ExecuteTime": {
     "end_time": "2023-08-20T16:46:16.997079700Z",
     "start_time": "2023-08-20T16:46:16.982032800Z"
    }
   },
   "id": "e18c6f67783ad62c"
  },
  {
   "cell_type": "code",
   "execution_count": null,
   "outputs": [],
   "source": [],
   "metadata": {
    "collapsed": false
   },
   "id": "c2af776bcef77d8f"
  }
 ],
 "metadata": {
  "kernelspec": {
   "display_name": "Python 3",
   "language": "python",
   "name": "python3"
  },
  "language_info": {
   "codemirror_mode": {
    "name": "ipython",
    "version": 2
   },
   "file_extension": ".py",
   "mimetype": "text/x-python",
   "name": "python",
   "nbconvert_exporter": "python",
   "pygments_lexer": "ipython2",
   "version": "2.7.6"
  }
 },
 "nbformat": 4,
 "nbformat_minor": 5
}
