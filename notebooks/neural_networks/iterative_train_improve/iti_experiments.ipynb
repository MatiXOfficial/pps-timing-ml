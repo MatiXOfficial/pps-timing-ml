{
 "cells": [
  {
   "cell_type": "code",
   "execution_count": 1,
   "metadata": {
    "collapsed": true,
    "ExecuteTime": {
     "end_time": "2023-06-10T21:58:57.114518800Z",
     "start_time": "2023-06-10T21:58:55.146034Z"
    }
   },
   "outputs": [],
   "source": [
    "import pickle\n",
    "import sys\n",
    "from collections import defaultdict\n",
    "\n",
    "import numpy as np\n",
    "import pandas as pd\n",
    "from tensorflow import keras\n",
    "\n",
    "from src.cfd import CFD\n",
    "from src.dataset import X_TIME, load_expanded_dataset_train_val\n",
    "from src.models import optimal_model_builder_all_ch\n",
    "from src.network_utils import train_model as _base_train_model, gaussian_kernel\n",
    "\n",
    "PWD = '../../..'\n",
    "sys.path.append(PWD)\n",
    "\n",
    "OPTIMAL_CFD_THRESHOLDS_TRAIN_DATA_PATH = PWD + '/data/tmp/many_channels_tests/optimal_cfd_thresholds_train_data.pkl'"
   ]
  },
  {
   "cell_type": "code",
   "execution_count": 2,
   "outputs": [],
   "source": [
    "BASE_CFD_THRESHOLD = 0.2\n",
    "CFD_N_BASELINE = 6\n",
    "\n",
    "base_cfd = CFD(n_baseline=CFD_N_BASELINE, threshold=BASE_CFD_THRESHOLD)"
   ],
   "metadata": {
    "collapsed": false,
    "ExecuteTime": {
     "end_time": "2023-06-10T21:58:57.129885200Z",
     "start_time": "2023-06-10T21:58:57.116388700Z"
    }
   }
  },
  {
   "cell_type": "code",
   "execution_count": 3,
   "outputs": [],
   "source": [
    "N_BASELINE = 6\n",
    "\n",
    "LR = 0.01\n",
    "ES_MIN_DELTA = 0.01\n",
    "\n",
    "N_EPOCHS = 10\n",
    "BATCH_SIZE = 2048\n",
    "LOSS_WEIGHT = 1000\n",
    "\n",
    "ES_PATIENCE = 5\n",
    "LR_PATIENCE = 50"
   ],
   "metadata": {
    "collapsed": false,
    "ExecuteTime": {
     "end_time": "2023-06-10T21:58:57.146557700Z",
     "start_time": "2023-06-10T21:58:57.130885100Z"
    }
   }
  },
  {
   "cell_type": "code",
   "execution_count": 4,
   "outputs": [
    {
     "data": {
      "text/plain": "((26719,), (6680,))"
     },
     "execution_count": 4,
     "metadata": {},
     "output_type": "execute_result"
    }
   ],
   "source": [
    "train_dataset, val_dataset = load_expanded_dataset_train_val(PWD)\n",
    "train_dataset[0].shape, val_dataset[0].shape"
   ],
   "metadata": {
    "collapsed": false,
    "ExecuteTime": {
     "end_time": "2023-06-10T21:58:57.239520100Z",
     "start_time": "2023-06-10T21:58:57.146557700Z"
    }
   }
  },
  {
   "cell_type": "code",
   "execution_count": 5,
   "outputs": [
    {
     "name": "stdout",
     "output_type": "stream",
     "text": [
      "Optimal thresholds:\n",
      "(1,  2): 0.180\n",
      "(1, 11): 0.185\n",
      "(2,  2): 0.220\n",
      "(2, 11): 0.145\n",
      "(3,  2): 0.130\n",
      "(3, 11): 0.175\n"
     ]
    }
   ],
   "source": [
    "with open(OPTIMAL_CFD_THRESHOLDS_TRAIN_DATA_PATH, 'rb') as file:\n",
    "    optimal_cfd_thresholds = pickle.load(file)\n",
    "\n",
    "print('Optimal thresholds:')\n",
    "for (plane, channel), threshold in optimal_cfd_thresholds.items():\n",
    "    print(f'({plane:>1}, {channel:>2}): {threshold:0.3f}')\n",
    "\n",
    "cfd_by_channel = {(p, ch): CFD(n_baseline=N_BASELINE, threshold=thresh) for (p, ch), thresh in\n",
    "                  optimal_cfd_thresholds.items()}"
   ],
   "metadata": {
    "collapsed": false,
    "ExecuteTime": {
     "end_time": "2023-06-10T21:58:57.261525800Z",
     "start_time": "2023-06-10T21:58:57.241519400Z"
    }
   }
  },
  {
   "cell_type": "markdown",
   "source": [
    "# Utils"
   ],
   "metadata": {
    "collapsed": false
   }
  },
  {
   "cell_type": "code",
   "execution_count": 6,
   "outputs": [],
   "source": [
    "def compute_true_t_cfd(t_cfd_avg: float, t_cfd: float, t_0: float) -> float:\n",
    "    # use only timestamps from other channels\n",
    "    return ((3 * t_cfd_avg) - (t_cfd + t_0)) / 2 - t_0\n",
    "\n",
    "\n",
    "def compute_true_cfd_dataset(dataset_t_cfd_avg: np.ndarray, dataset_wav: dict, dataset_t0: dict) -> dict:\n",
    "    true_cfd_dataset = defaultdict(list)\n",
    "    for key in dataset_wav.keys():\n",
    "        for i, t_cfd_avg in enumerate(dataset_t_cfd_avg):\n",
    "            if dataset_t0[key][i] is None:\n",
    "                true_cfd_dataset[key].append(None)\n",
    "            else:\n",
    "                wav = dataset_wav[key][i]\n",
    "                t_0 = dataset_t0[key][i]\n",
    "                t_cfd = base_cfd.predict_single(X_TIME, wav)\n",
    "                true_cfd_dataset[key].append(compute_true_t_cfd(t_cfd_avg, t_cfd, t_0))\n",
    "\n",
    "    return true_cfd_dataset\n",
    "\n",
    "\n",
    "def build_nn_dataset(dataset_wav: dict, dataset_true_cfd: dict) -> tuple[np.ndarray, np.ndarray]:\n",
    "    x, y = [], []\n",
    "    for key, data in dataset_wav.items():\n",
    "        cfd_data = dataset_true_cfd[key]\n",
    "        for i in range(len(cfd_data)):\n",
    "            if cfd_data[i] is None:\n",
    "                continue\n",
    "            wav = data[i]\n",
    "            true_t_cfd = cfd_data[i]\n",
    "\n",
    "            x.append(wav)\n",
    "            y.append(true_t_cfd)\n",
    "\n",
    "    x, y = np.array(x), np.array(y)\n",
    "\n",
    "    # UNet\n",
    "    y = np.array([gaussian_kernel(t) for t in y])\n",
    "\n",
    "    return x, y\n",
    "\n",
    "\n",
    "def build_and_train_network(iteration: int, x_train: np.ndarray, x_val: np.ndarray, y_train: np.ndarray,\n",
    "                            y_val: np.ndarray, train: bool = True,\n",
    "                            verbose: int = 2) -> tuple[keras.Model, pd.DataFrame]:\n",
    "    model = optimal_model_builder_all_ch()\n",
    "    name = f\"optimal_it_{iteration}\"\n",
    "    history = _base_train_model(model, name, \"iti_experiments\", x_train, y_train, x_val, y_val, LR, train, N_EPOCHS,\n",
    "                                verbose, BATCH_SIZE, LR_PATIENCE, ES_PATIENCE, ES_MIN_DELTA, LOSS_WEIGHT,\n",
    "                                root=PWD + '/data')\n",
    "    return model, history"
   ],
   "metadata": {
    "collapsed": false,
    "ExecuteTime": {
     "end_time": "2023-06-10T21:58:57.271536Z",
     "start_time": "2023-06-10T21:58:57.255526600Z"
    }
   }
  },
  {
   "cell_type": "code",
   "execution_count": 7,
   "outputs": [
    {
     "data": {
      "text/plain": "((80157, 24), (20040, 24), (80157, 24), (20040, 24))"
     },
     "execution_count": 7,
     "metadata": {},
     "output_type": "execute_result"
    }
   ],
   "source": [
    "true_cfd_train = compute_true_cfd_dataset(*train_dataset)\n",
    "true_cfd_val = compute_true_cfd_dataset(*val_dataset)\n",
    "x_train, y_train = build_nn_dataset(train_dataset[1], true_cfd_train)\n",
    "x_val, y_val = build_nn_dataset(val_dataset[1], true_cfd_val)\n",
    "x_train.shape, x_val.shape, y_train.shape, y_val.shape"
   ],
   "metadata": {
    "collapsed": false,
    "ExecuteTime": {
     "end_time": "2023-06-10T21:59:00.062722700Z",
     "start_time": "2023-06-10T21:58:57.272532800Z"
    }
   }
  },
  {
   "cell_type": "markdown",
   "source": [
    "# Test"
   ],
   "metadata": {
    "collapsed": false
   }
  },
  {
   "cell_type": "code",
   "execution_count": 8,
   "outputs": [
    {
     "name": "stdout",
     "output_type": "stream",
     "text": [
      "Epoch 1/10\n",
      "40/40 - 9s - loss: 688.6419 - val_loss: 271608.9062 - lr: 0.0100 - 9s/epoch - 215ms/step\n",
      "Epoch 2/10\n",
      "40/40 - 3s - loss: 102.5286 - val_loss: 38.2720 - lr: 0.0100 - 3s/epoch - 82ms/step\n",
      "Epoch 3/10\n",
      "40/40 - 3s - loss: 52.6943 - val_loss: 42.8193 - lr: 0.0100 - 3s/epoch - 78ms/step\n",
      "Epoch 4/10\n",
      "40/40 - 3s - loss: 31.2414 - val_loss: 34.8021 - lr: 0.0100 - 3s/epoch - 83ms/step\n",
      "Epoch 5/10\n",
      "40/40 - 3s - loss: 24.3111 - val_loss: 31.1145 - lr: 0.0100 - 3s/epoch - 83ms/step\n",
      "Epoch 6/10\n",
      "40/40 - 3s - loss: 21.2316 - val_loss: 28.5692 - lr: 0.0100 - 3s/epoch - 83ms/step\n",
      "Epoch 7/10\n",
      "40/40 - 3s - loss: 19.6412 - val_loss: 27.6635 - lr: 0.0100 - 3s/epoch - 83ms/step\n",
      "Epoch 8/10\n",
      "40/40 - 3s - loss: 18.7672 - val_loss: 26.3875 - lr: 0.0100 - 3s/epoch - 84ms/step\n",
      "Epoch 9/10\n",
      "40/40 - 3s - loss: 18.1920 - val_loss: 25.1725 - lr: 0.0100 - 3s/epoch - 84ms/step\n",
      "Epoch 10/10\n",
      "40/40 - 3s - loss: 17.6821 - val_loss: 23.4594 - lr: 0.0100 - 3s/epoch - 81ms/step\n"
     ]
    }
   ],
   "source": [
    "# 1. train model\n",
    "model, _ = build_and_train_network(iteration=0, x_train=x_train, x_val=x_val, y_train=y_train, y_val=y_val, train=True)"
   ],
   "metadata": {
    "collapsed": false,
    "ExecuteTime": {
     "end_time": "2023-06-10T21:59:39.263558400Z",
     "start_time": "2023-06-10T21:59:00.063724200Z"
    }
   }
  },
  {
   "cell_type": "code",
   "execution_count": 8,
   "outputs": [],
   "source": [],
   "metadata": {
    "collapsed": false,
    "ExecuteTime": {
     "end_time": "2023-06-10T21:59:39.279178400Z",
     "start_time": "2023-06-10T21:59:39.263558400Z"
    }
   }
  }
 ],
 "metadata": {
  "kernelspec": {
   "display_name": "Python 3",
   "language": "python",
   "name": "python3"
  },
  "language_info": {
   "codemirror_mode": {
    "name": "ipython",
    "version": 2
   },
   "file_extension": ".py",
   "mimetype": "text/x-python",
   "name": "python",
   "nbconvert_exporter": "python",
   "pygments_lexer": "ipython2",
   "version": "2.7.6"
  }
 },
 "nbformat": 4,
 "nbformat_minor": 0
}
