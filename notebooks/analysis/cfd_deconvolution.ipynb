{
 "cells": [
  {
   "cell_type": "code",
   "execution_count": 1,
   "metadata": {
    "collapsed": true,
    "ExecuteTime": {
     "end_time": "2023-06-08T19:21:59.530274400Z",
     "start_time": "2023-06-08T19:21:57.352426700Z"
    }
   },
   "outputs": [],
   "source": [
    "import sys\n",
    "from collections import defaultdict\n",
    "from itertools import combinations\n",
    "\n",
    "import numpy as np\n",
    "\n",
    "from src.dataset import X_TIME\n",
    "from src.utils import deconvolve_precision, PLANES\n",
    "\n",
    "PWD = '../..'\n",
    "sys.path.append(PWD)\n",
    "\n",
    "DATASET_PATH = '../../data/dataset/dataset_exp.pkl'\n",
    "IMAGES_DIR = PWD + '/data/images/cfd_deconvolution/'\n",
    "\n",
    "import pickle\n",
    "\n",
    "from src.cfd import CFD"
   ]
  },
  {
   "cell_type": "code",
   "execution_count": 2,
   "outputs": [],
   "source": [
    "CFD_THRESHOLD = 0.2\n",
    "CFD_N_BASELINE = 6\n",
    "\n",
    "cfd = CFD(n_baseline=CFD_N_BASELINE, threshold=CFD_THRESHOLD)\n",
    "\n",
    "with open(DATASET_PATH, 'rb') as file:\n",
    "    dataset = pickle.load(file)"
   ],
   "metadata": {
    "collapsed": false,
    "ExecuteTime": {
     "end_time": "2023-06-08T19:21:59.747986800Z",
     "start_time": "2023-06-08T19:21:59.532011200Z"
    }
   }
  },
  {
   "cell_type": "markdown",
   "source": [
    "# Compute CFD timestamps"
   ],
   "metadata": {
    "collapsed": false
   }
  },
  {
   "cell_type": "code",
   "execution_count": 3,
   "outputs": [],
   "source": [
    "cfd_timestamps = defaultdict(list)\n",
    "\n",
    "for plane_channel, data in dataset.items():\n",
    "    if plane_channel == 't_cfd_avg':\n",
    "        continue\n",
    "\n",
    "    plane, channel = plane_channel\n",
    "    X = data[0]\n",
    "\n",
    "    t_cfd = cfd.predict(X_TIME, X)\n",
    "    cfd_timestamps[(plane, channel)] = t_cfd"
   ],
   "metadata": {
    "collapsed": false,
    "ExecuteTime": {
     "end_time": "2023-06-08T19:22:02.881437400Z",
     "start_time": "2023-06-08T19:21:59.761342700Z"
    }
   }
  },
  {
   "cell_type": "markdown",
   "source": [
    "# Find mutual precisions"
   ],
   "metadata": {
    "collapsed": false
   }
  },
  {
   "cell_type": "code",
   "execution_count": 4,
   "outputs": [],
   "source": [
    "mutual_precisions = {}\n",
    "\n",
    "for ch1, ch2 in combinations(cfd_timestamps.keys(), 2):\n",
    "    if ch1[1] == ch2[1]:  # Only for corresponding channels\n",
    "        ch1_timestamps, ch2_timestamps = cfd_timestamps[ch1], cfd_timestamps[ch2]\n",
    "        differences = [abs(ch1_t - ch2_t) for ch1_t, ch2_t in zip(ch1_timestamps, ch2_timestamps) if\n",
    "                       ch1_t is not None and ch2_t is not None]\n",
    "\n",
    "        mutual_precisions[(ch1, ch2)] = np.std(differences)"
   ],
   "metadata": {
    "collapsed": false,
    "ExecuteTime": {
     "end_time": "2023-06-08T19:22:02.915962100Z",
     "start_time": "2023-06-08T19:22:02.886304500Z"
    }
   }
  },
  {
   "cell_type": "code",
   "execution_count": 5,
   "outputs": [],
   "source": [
    "channel_mutual_precisions = defaultdict(dict)\n",
    "for ((x_p, x_ch), (y_p, y_ch)), precision in mutual_precisions.items():\n",
    "    assert x_ch == y_ch\n",
    "    channel_mutual_precisions[x_ch][(x_p, y_p)] = precision"
   ],
   "metadata": {
    "collapsed": false,
    "ExecuteTime": {
     "end_time": "2023-06-08T19:22:02.928215200Z",
     "start_time": "2023-06-08T19:22:02.913459Z"
    }
   }
  },
  {
   "cell_type": "code",
   "execution_count": 6,
   "outputs": [
    {
     "data": {
      "text/plain": "defaultdict(dict,\n            {2: {(1, 2): 0.07040789491689162,\n              (1, 3): 0.07459640560597511,\n              (2, 3): 0.0856409201840996},\n             11: {(1, 2): 0.07755414161223897,\n              (1, 3): 0.10584888615222335,\n              (2, 3): 0.1168213568520453}})"
     },
     "execution_count": 6,
     "metadata": {},
     "output_type": "execute_result"
    }
   ],
   "source": [
    "channel_mutual_precisions"
   ],
   "metadata": {
    "collapsed": false,
    "ExecuteTime": {
     "end_time": "2023-06-08T19:22:02.948535500Z",
     "start_time": "2023-06-08T19:22:02.929214900Z"
    }
   }
  },
  {
   "cell_type": "code",
   "execution_count": 7,
   "outputs": [
    {
     "name": "stdout",
     "output_type": "stream",
     "text": [
      "ch  2: (p1 vs p2): 0.070\n",
      "ch  2: (p1 vs p3): 0.075\n",
      "ch  2: (p2 vs p3): 0.086\n",
      "ch 11: (p1 vs p2): 0.078\n",
      "ch 11: (p1 vs p3): 0.106\n",
      "ch 11: (p2 vs p3): 0.117\n"
     ]
    }
   ],
   "source": [
    "for ch, data in channel_mutual_precisions.items():\n",
    "    for (p_1, p_2), prec in data.items():\n",
    "        print(f'ch {ch:2}: (p{p_1} vs p{p_2}): {prec:0.3f}')"
   ],
   "metadata": {
    "collapsed": false,
    "ExecuteTime": {
     "end_time": "2023-06-08T19:22:02.960045900Z",
     "start_time": "2023-06-08T19:22:02.945026900Z"
    }
   }
  },
  {
   "cell_type": "markdown",
   "source": [
    "# Deconvolve"
   ],
   "metadata": {
    "collapsed": false
   }
  },
  {
   "cell_type": "code",
   "execution_count": 8,
   "outputs": [],
   "source": [
    "deconvolved_precisions = {}\n",
    "for ch, prec_dict in channel_mutual_precisions.items():\n",
    "    for p in PLANES:\n",
    "        deconvolved_precisions[(p, ch)] = deconvolve_precision(p, prec_dict)"
   ],
   "metadata": {
    "collapsed": false,
    "ExecuteTime": {
     "end_time": "2023-06-08T19:22:02.979599Z",
     "start_time": "2023-06-08T19:22:02.962045200Z"
    }
   }
  },
  {
   "cell_type": "code",
   "execution_count": 9,
   "outputs": [
    {
     "name": "stdout",
     "output_type": "stream",
     "text": [
      "(p 1, ch  2): 0.056\n",
      "(p 2, ch  2): 0.082\n",
      "(p 3, ch  2): 0.089\n",
      "(p 1, ch 11): 0.060\n",
      "(p 2, ch 11): 0.092\n",
      "(p 3, ch 11): 0.137\n"
     ]
    }
   ],
   "source": [
    "for (p, ch), prec in deconvolved_precisions.items():\n",
    "    print(f'(p {p}, ch {ch:2}): {prec:0.3f}')"
   ],
   "metadata": {
    "collapsed": false,
    "ExecuteTime": {
     "end_time": "2023-06-08T19:22:02.992108400Z",
     "start_time": "2023-06-08T19:22:02.977598700Z"
    }
   }
  },
  {
   "cell_type": "code",
   "execution_count": 9,
   "outputs": [],
   "source": [],
   "metadata": {
    "collapsed": false,
    "ExecuteTime": {
     "end_time": "2023-06-08T19:22:03.010663800Z",
     "start_time": "2023-06-08T19:22:02.993104700Z"
    }
   }
  }
 ],
 "metadata": {
  "kernelspec": {
   "display_name": "Python 3",
   "language": "python",
   "name": "python3"
  },
  "language_info": {
   "codemirror_mode": {
    "name": "ipython",
    "version": 2
   },
   "file_extension": ".py",
   "mimetype": "text/x-python",
   "name": "python",
   "nbconvert_exporter": "python",
   "pygments_lexer": "ipython2",
   "version": "2.7.6"
  }
 },
 "nbformat": 4,
 "nbformat_minor": 0
}
