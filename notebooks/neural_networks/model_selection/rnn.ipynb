{
 "cells": [
  {
   "cell_type": "code",
   "execution_count": 1,
   "outputs": [],
   "source": [
    "import sys\n",
    "\n",
    "PWD = '../../..'\n",
    "sys.path.append(PWD)\n",
    "\n",
    "import numpy as np\n",
    "import pandas as pd\n",
    "\n",
    "import tensorflow as tf\n",
    "\n",
    "tf.get_logger().setLevel('ERROR')\n",
    "from tensorflow import keras\n",
    "from tensorflow.keras import optimizers\n",
    "from tensorflow.keras import callbacks\n",
    "import keras_tuner as kt\n",
    "\n",
    "from src.network_utils import count_params\n",
    "from src.cross_validator import KerasTunerCrossValidator\n",
    "from src.dataset import load_dataset_train_test, load_dataset_train_val\n",
    "from src.models import rnn_builder as bare_model_builder"
   ],
   "metadata": {
    "collapsed": false,
    "ExecuteTime": {
     "start_time": "2023-04-23T09:49:09.401192Z",
     "end_time": "2023-04-23T09:49:13.355246Z"
    }
   }
  },
  {
   "cell_type": "code",
   "execution_count": 2,
   "outputs": [],
   "source": [
    "PROJECT_NAME = 'rnn'\n",
    "\n",
    "PLANE = 2\n",
    "CHANNEL = 11\n",
    "\n",
    "OVERWRITE = False\n",
    "\n",
    "DATASET_PATH = PWD + '/data/dataset/dataset.pkl'\n",
    "TRIALS_DIR = PWD + f'/data/model_selection/channel_{PLANE}_{CHANNEL}/tuner'\n",
    "CROSSVAL_DIR = PWD + f'/data/model_selection/channel_{PLANE}_{CHANNEL}/cross_val'\n",
    "\n",
    "LR = 0.01\n",
    "ES_MIN_DELTA = 0.01\n",
    "\n",
    "N_EPOCHS = 3000\n",
    "BATCH_SIZE = 2048\n",
    "MAX_TRIALS = 15\n",
    "EXECUTIONS_PER_TRIAL = 2\n",
    "\n",
    "TOP_N = 4\n",
    "CROSSVAL_N_CV = 5\n",
    "CROSSVAL_N_EXEC = 2\n",
    "LOSS_WEIGHT = 1000"
   ],
   "metadata": {
    "collapsed": false,
    "ExecuteTime": {
     "start_time": "2023-04-23T09:49:13.357246Z",
     "end_time": "2023-04-23T09:49:13.371246Z"
    }
   }
  },
  {
   "cell_type": "code",
   "execution_count": 3,
   "outputs": [
    {
     "data": {
      "text/plain": "((22412, 24), (17929, 24), (4483, 24))"
     },
     "execution_count": 3,
     "metadata": {},
     "output_type": "execute_result"
    }
   ],
   "source": [
    "X_base_train, _, y_base_train, _ = load_dataset_train_test(PWD, PLANE, CHANNEL)\n",
    "X_train, X_val, y_train, y_val = load_dataset_train_val(PWD, PLANE, CHANNEL)\n",
    "\n",
    "X_base_train.shape, X_train.shape, X_val.shape"
   ],
   "metadata": {
    "collapsed": false,
    "ExecuteTime": {
     "start_time": "2023-04-23T09:49:13.372246Z",
     "end_time": "2023-04-23T09:49:13.417250Z"
    }
   }
  },
  {
   "cell_type": "markdown",
   "source": [
    "# Model"
   ],
   "metadata": {
    "collapsed": false
   }
  },
  {
   "cell_type": "code",
   "execution_count": 4,
   "outputs": [],
   "source": [
    "def model_builder(hp: kt.HyperParameters) -> keras.Model:\n",
    "    hp_rnn_type = hp.Choice(\"rnn_type\", values=[\"lstm\", \"gru\"])\n",
    "    hp_n_neurons = hp.Choice(\"n_neurons\", values=[16, 32, 64, 128, 256, 512])\n",
    "    hp_n_hidden_layers = hp.Int(\"n_hidden_layers\", min_value=0, max_value=1, default=0)\n",
    "    hp_input_batch_normalization = hp.Boolean(\"input_batch_normalization\")\n",
    "    hp_normalize_signal = hp.Boolean(\"normalize_signal\", default=False)\n",
    "\n",
    "    model = bare_model_builder(hp_rnn_type, hp_n_neurons, hp_n_hidden_layers, hp_input_batch_normalization, hp_normalize_signal)\n",
    "    model.compile(loss='mse', optimizer=optimizers.Adam(LR), loss_weights=LOSS_WEIGHT)\n",
    "    return model"
   ],
   "metadata": {
    "collapsed": false,
    "ExecuteTime": {
     "start_time": "2023-04-23T09:49:13.419250Z",
     "end_time": "2023-04-23T09:49:13.463293Z"
    }
   }
  },
  {
   "cell_type": "code",
   "execution_count": 5,
   "outputs": [
    {
     "name": "stdout",
     "output_type": "stream",
     "text": [
      "Model: \"sequential\"\n",
      "_________________________________________________________________\n",
      " Layer (type)                Output Shape              Param #   \n",
      "=================================================================\n",
      " reshape (Reshape)           (None, 24, 1)             0         \n",
      "                                                                 \n",
      " lstm (LSTM)                 (None, 16)                1152      \n",
      "                                                                 \n",
      " dense (Dense)               (None, 1)                 17        \n",
      "                                                                 \n",
      "=================================================================\n",
      "Total params: 1,169\n",
      "Trainable params: 1,169\n",
      "Non-trainable params: 0\n",
      "_________________________________________________________________\n"
     ]
    }
   ],
   "source": [
    "model_builder(kt.HyperParameters()).summary()"
   ],
   "metadata": {
    "collapsed": false,
    "ExecuteTime": {
     "start_time": "2023-04-23T09:49:13.435294Z",
     "end_time": "2023-04-23T09:49:14.547354Z"
    }
   }
  },
  {
   "cell_type": "code",
   "execution_count": 6,
   "outputs": [],
   "source": [
    "model_callbacks = [\n",
    "    callbacks.EarlyStopping(patience=60, min_delta=ES_MIN_DELTA),\n",
    "    callbacks.ReduceLROnPlateau(monitor='loss', factor=0.9, patience=10)\n",
    "]"
   ],
   "metadata": {
    "collapsed": false,
    "ExecuteTime": {
     "start_time": "2023-04-23T09:49:14.549352Z",
     "end_time": "2023-04-23T09:49:14.592352Z"
    }
   }
  },
  {
   "cell_type": "markdown",
   "source": [
    "# Bayesian tuner"
   ],
   "metadata": {
    "collapsed": false
   }
  },
  {
   "cell_type": "code",
   "execution_count": 7,
   "outputs": [
    {
     "name": "stdout",
     "output_type": "stream",
     "text": [
      "Trial 15 Complete [00h 01m 12s]\n",
      "val_loss: 9.249314785003662\n",
      "\n",
      "Best val_loss So Far: 8.705897331237793\n",
      "Total elapsed time: 00h 32m 00s\n"
     ]
    }
   ],
   "source": [
    "bayesian_tuner = kt.BayesianOptimization(model_builder, objective='val_loss', executions_per_trial=EXECUTIONS_PER_TRIAL,\n",
    "                                         max_trials=MAX_TRIALS, directory=TRIALS_DIR, project_name=PROJECT_NAME,\n",
    "                                         overwrite=OVERWRITE)\n",
    "\n",
    "bayesian_tuner.search(X_train, y_train, validation_data=[X_val, y_val], epochs=N_EPOCHS, callbacks=model_callbacks,\n",
    "                      batch_size=BATCH_SIZE, verbose=3)"
   ],
   "metadata": {
    "collapsed": false,
    "ExecuteTime": {
     "start_time": "2023-04-23T09:49:14.563357Z",
     "end_time": "2023-04-23T10:21:14.919842Z"
    }
   }
  },
  {
   "cell_type": "markdown",
   "source": [
    "# Results"
   ],
   "metadata": {
    "collapsed": false
   }
  },
  {
   "cell_type": "code",
   "execution_count": 8,
   "outputs": [
    {
     "name": "stdout",
     "output_type": "stream",
     "text": [
      "========== Model 0 ==========\n",
      "{'rnn_type': 'lstm', 'n_neurons': 256, 'n_hidden_layers': 0, 'input_batch_normalization': True, 'normalize_signal': False}\n",
      "Number of parameters: 264545\n",
      "========== Model 1 ==========\n",
      "{'rnn_type': 'gru', 'n_neurons': 32, 'n_hidden_layers': 0, 'input_batch_normalization': True, 'normalize_signal': False}\n",
      "Number of parameters: 3489\n",
      "========== Model 2 ==========\n",
      "{'rnn_type': 'gru', 'n_neurons': 256, 'n_hidden_layers': 0, 'input_batch_normalization': True, 'normalize_signal': False}\n",
      "Number of parameters: 199265\n",
      "========== Model 3 ==========\n",
      "{'rnn_type': 'gru', 'n_neurons': 64, 'n_hidden_layers': 1, 'input_batch_normalization': True, 'normalize_signal': True}\n",
      "Number of parameters: 37985\n"
     ]
    }
   ],
   "source": [
    "for i, hyperparameters in enumerate(bayesian_tuner.get_best_hyperparameters(TOP_N)):\n",
    "    print(f'========== Model {i} ==========')\n",
    "    print(hyperparameters.get_config()['values'])\n",
    "    model_tmp = model_builder(hyperparameters)\n",
    "    print('Number of parameters:', count_params(model_tmp))"
   ],
   "metadata": {
    "collapsed": false,
    "ExecuteTime": {
     "start_time": "2023-04-23T10:21:14.922841Z",
     "end_time": "2023-04-23T10:21:15.455924Z"
    }
   }
  },
  {
   "cell_type": "markdown",
   "source": [
    "# Cross-validation for top 5 models"
   ],
   "metadata": {
    "collapsed": false
   }
  },
  {
   "cell_type": "code",
   "execution_count": 9,
   "outputs": [
    {
     "data": {
      "text/plain": "<IPython.core.display.HTML object>",
      "text/html": "<h3>Model 0</h3>"
     },
     "metadata": {},
     "output_type": "display_data"
    },
    {
     "name": "stdout",
     "output_type": "stream",
     "text": [
      "{'rnn_type': 'lstm', 'n_neurons': 256, 'n_hidden_layers': 0, 'input_batch_normalization': True, 'normalize_signal': False}\n",
      "Number of parameters: 264545\n",
      "Got score: 8.7755 (8.7828, 8.7682)\n",
      "Got score: 8.4416 (8.4581, 8.4251)\n",
      "Got score: 8.1763 (8.1420, 8.2106)\n",
      "Got score: 8.5108 (8.5235, 8.4981)\n",
      "Got score: 8.9612 (8.8247, 9.0977)\n"
     ]
    },
    {
     "data": {
      "text/plain": "<IPython.core.display.HTML object>",
      "text/html": "<h3>Model 1</h3>"
     },
     "metadata": {},
     "output_type": "display_data"
    },
    {
     "name": "stdout",
     "output_type": "stream",
     "text": [
      "{'rnn_type': 'gru', 'n_neurons': 32, 'n_hidden_layers': 0, 'input_batch_normalization': True, 'normalize_signal': False}\n",
      "Number of parameters: 3489\n",
      "Got score: 8.7285 (8.7304, 8.7266)\n",
      "Got score: 8.4371 (8.4776, 8.3966)\n",
      "Got score: 8.1967 (8.2189, 8.1744)\n",
      "Got score: 8.5573 (8.5829, 8.5317)\n",
      "Got score: 8.9841 (8.9882, 8.9800)\n"
     ]
    },
    {
     "data": {
      "text/plain": "<IPython.core.display.HTML object>",
      "text/html": "<h3>Model 2</h3>"
     },
     "metadata": {},
     "output_type": "display_data"
    },
    {
     "name": "stdout",
     "output_type": "stream",
     "text": [
      "{'rnn_type': 'gru', 'n_neurons': 256, 'n_hidden_layers': 0, 'input_batch_normalization': True, 'normalize_signal': False}\n",
      "Number of parameters: 199265\n",
      "Got score: 8.8708 (8.7415, 9.0001)\n",
      "Got score: 8.3383 (8.3650, 8.3117)\n",
      "Got score: 8.2817 (8.2811, 8.2824)\n",
      "Got score: 8.8028 (8.5579, 9.0477)\n",
      "Got score: 8.8928 (8.7998, 8.9858)\n"
     ]
    },
    {
     "data": {
      "text/plain": "<IPython.core.display.HTML object>",
      "text/html": "<h3>Model 3</h3>"
     },
     "metadata": {},
     "output_type": "display_data"
    },
    {
     "name": "stdout",
     "output_type": "stream",
     "text": [
      "{'rnn_type': 'gru', 'n_neurons': 64, 'n_hidden_layers': 1, 'input_batch_normalization': True, 'normalize_signal': True}\n",
      "Number of parameters: 37985\n",
      "Got score: 9.1078 (9.0839, 9.1316)\n",
      "Got score: 8.9098 (8.9529, 8.8667)\n",
      "Got score: 8.4833 (8.4909, 8.4757)\n",
      "Got score: 8.7834 (8.7882, 8.7785)\n",
      "Got score: 9.2915 (9.2869, 9.2961)\n"
     ]
    }
   ],
   "source": [
    "cross_validator = KerasTunerCrossValidator(bayesian_tuner, X_base_train, y_base_train, model_builder,\n",
    "                                           directory=CROSSVAL_DIR, project_name=PROJECT_NAME,\n",
    "                                           n_epochs=N_EPOCHS, batch_size=BATCH_SIZE, n_top=TOP_N,\n",
    "                                           es_min_delta=ES_MIN_DELTA, n_cv=CROSSVAL_N_CV, n_executions=CROSSVAL_N_EXEC,\n",
    "                                           overwrite=OVERWRITE)\n",
    "model_scores = cross_validator()"
   ],
   "metadata": {
    "collapsed": false,
    "ExecuteTime": {
     "start_time": "2023-04-23T10:21:15.458105Z",
     "end_time": "2023-04-23T10:39:38.862316Z"
    }
   }
  },
  {
   "cell_type": "code",
   "execution_count": 10,
   "outputs": [
    {
     "data": {
      "text/plain": "       mean   std  n_params\nModel                      \n0      8.57  0.27    264545\n1      8.58  0.27      3489\n2      8.64  0.27    199265\n3      8.92  0.28     37985",
      "text/html": "<div>\n<style scoped>\n    .dataframe tbody tr th:only-of-type {\n        vertical-align: middle;\n    }\n\n    .dataframe tbody tr th {\n        vertical-align: top;\n    }\n\n    .dataframe thead th {\n        text-align: right;\n    }\n</style>\n<table border=\"1\" class=\"dataframe\">\n  <thead>\n    <tr style=\"text-align: right;\">\n      <th></th>\n      <th>mean</th>\n      <th>std</th>\n      <th>n_params</th>\n    </tr>\n    <tr>\n      <th>Model</th>\n      <th></th>\n      <th></th>\n      <th></th>\n    </tr>\n  </thead>\n  <tbody>\n    <tr>\n      <th>0</th>\n      <td>8.57</td>\n      <td>0.27</td>\n      <td>264545</td>\n    </tr>\n    <tr>\n      <th>1</th>\n      <td>8.58</td>\n      <td>0.27</td>\n      <td>3489</td>\n    </tr>\n    <tr>\n      <th>2</th>\n      <td>8.64</td>\n      <td>0.27</td>\n      <td>199265</td>\n    </tr>\n    <tr>\n      <th>3</th>\n      <td>8.92</td>\n      <td>0.28</td>\n      <td>37985</td>\n    </tr>\n  </tbody>\n</table>\n</div>"
     },
     "execution_count": 10,
     "metadata": {},
     "output_type": "execute_result"
    }
   ],
   "source": [
    "mean_scores = [f\"{np.mean(scores):0.2f}\" for scores in model_scores.values()]\n",
    "std_scores = [f\"{np.std(scores):0.2f}\" for scores in model_scores.values()]\n",
    "n_params = [count_params(model_builder(hyperparameters)) for hyperparameters in\n",
    "            bayesian_tuner.get_best_hyperparameters(TOP_N)]\n",
    "\n",
    "df = pd.DataFrame({'mean': mean_scores, 'std': std_scores, 'n_params': n_params}, index=model_scores.keys())\n",
    "df.index.name = 'Model'\n",
    "df"
   ],
   "metadata": {
    "collapsed": false,
    "ExecuteTime": {
     "start_time": "2023-04-23T10:39:38.865327Z",
     "end_time": "2023-04-23T10:39:39.367327Z"
    }
   }
  },
  {
   "cell_type": "code",
   "execution_count": 10,
   "outputs": [],
   "source": [],
   "metadata": {
    "collapsed": false,
    "ExecuteTime": {
     "start_time": "2023-04-23T10:39:39.367327Z",
     "end_time": "2023-04-23T10:39:39.386396Z"
    }
   }
  }
 ],
 "metadata": {
  "kernelspec": {
   "display_name": "Python 3",
   "language": "python",
   "name": "python3"
  },
  "language_info": {
   "codemirror_mode": {
    "name": "ipython",
    "version": 2
   },
   "file_extension": ".py",
   "mimetype": "text/x-python",
   "name": "python",
   "nbconvert_exporter": "python",
   "pygments_lexer": "ipython2",
   "version": "2.7.6"
  }
 },
 "nbformat": 4,
 "nbformat_minor": 0
}
