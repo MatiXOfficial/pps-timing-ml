{
 "cells": [
  {
   "cell_type": "code",
   "execution_count": 1,
   "outputs": [],
   "source": [
    "import sys\n",
    "\n",
    "import numpy as np\n",
    "import pandas as pd\n",
    "import tensorflow as tf\n",
    "\n",
    "tf.get_logger().setLevel('ERROR')\n",
    "from tensorflow import keras\n",
    "from tensorflow.keras import optimizers\n",
    "from tensorflow.keras import callbacks\n",
    "import keras_tuner as kt\n",
    "\n",
    "from src.network_utils import count_params\n",
    "from src.cross_validator import KerasTunerCrossValidator\n",
    "from src.dataset import load_dataset_train_test, load_dataset_train_val\n",
    "from src.models import mlp_builder as bare_model_builder\n",
    "\n",
    "PWD = '../../..'\n",
    "sys.path.append(PWD)"
   ],
   "metadata": {
    "collapsed": false,
    "ExecuteTime": {
     "end_time": "2023-06-18T13:38:43.906974100Z",
     "start_time": "2023-06-18T13:38:41.597684100Z"
    }
   }
  },
  {
   "cell_type": "code",
   "execution_count": 2,
   "outputs": [],
   "source": [
    "PROJECT_NAME = 'mlp'\n",
    "\n",
    "PLANE = 2\n",
    "CHANNEL = 11\n",
    "\n",
    "OVERWRITE = False\n",
    "\n",
    "DATASET_PATH = PWD + '/data/dataset/dataset.pkl'\n",
    "TRIALS_DIR = PWD + f'/data/model_selection/channel_{PLANE}_{CHANNEL}/tuner'\n",
    "CROSSVAL_DIR = PWD + f'/data/model_selection/channel_{PLANE}_{CHANNEL}/cross_val'\n",
    "\n",
    "LR = 0.01\n",
    "ES_MIN_DELTA = 0.01\n",
    "\n",
    "N_EPOCHS = 3000\n",
    "BATCH_SIZE = 4096\n",
    "MAX_TRIALS = 40\n",
    "EXECUTIONS_PER_TRIAL = 2\n",
    "\n",
    "TOP_N = 5\n",
    "CROSSVAL_N_CV = 5\n",
    "CROSSVAL_N_EXEC = 2\n",
    "LOSS_WEIGHT = 1000"
   ],
   "metadata": {
    "collapsed": false,
    "ExecuteTime": {
     "end_time": "2023-06-18T13:38:43.921694300Z",
     "start_time": "2023-06-18T13:38:43.908446600Z"
    }
   }
  },
  {
   "cell_type": "code",
   "execution_count": 3,
   "outputs": [
    {
     "data": {
      "text/plain": "((22134, 24), (17707, 24), (4427, 24))"
     },
     "execution_count": 3,
     "metadata": {},
     "output_type": "execute_result"
    }
   ],
   "source": [
    "X_base_train, _, y_base_train, _ = load_dataset_train_test(PWD, PLANE, CHANNEL)\n",
    "X_train, X_val, y_train, y_val = load_dataset_train_val(PWD, PLANE, CHANNEL)\n",
    "\n",
    "X_base_train.shape, X_train.shape, X_val.shape"
   ],
   "metadata": {
    "collapsed": false,
    "ExecuteTime": {
     "end_time": "2023-06-18T13:38:43.951911900Z",
     "start_time": "2023-06-18T13:38:43.921694300Z"
    }
   }
  },
  {
   "cell_type": "markdown",
   "source": [
    "# Model"
   ],
   "metadata": {
    "collapsed": false
   }
  },
  {
   "cell_type": "code",
   "execution_count": 4,
   "outputs": [],
   "source": [
    "def model_builder(hp: kt.HyperParameters) -> keras.Model:\n",
    "    hp_n_hidden_layers = hp.Int(\"n_hidden_layers\", min_value=1, max_value=8, step=1, default=2)\n",
    "    hp_units_mult = hp.Choice(\"units_mult\", values=[1, 2, 4, 8, 16, 32], default=4)\n",
    "    hp_unit_decrease_factor = hp.Choice(\"unit_decrease_factor\", values=[1.0, 1.5, 2.0], default=1.5)\n",
    "    hp_batch_normalization = hp.Boolean(\"batch_normalization\", default=False)\n",
    "    hp_input_batch_normalization = hp.Boolean(\"input_batch_normalization\", default=False)\n",
    "    hp_dropout = hp.Choice(\"dropout\", values=[0.0, 0.2, 0.5])\n",
    "    hp_normalize_signal = hp.Boolean(\"normalize_signal\", default=False)\n",
    "\n",
    "    model = bare_model_builder(hp_n_hidden_layers, hp_units_mult, hp_unit_decrease_factor, hp_batch_normalization,\n",
    "                               hp_input_batch_normalization, hp_dropout, hp_normalize_signal)\n",
    "    model.compile(loss='mse', optimizer=optimizers.Adam(LR), loss_weights=LOSS_WEIGHT)\n",
    "    return model"
   ],
   "metadata": {
    "collapsed": false,
    "ExecuteTime": {
     "end_time": "2023-06-18T13:38:43.968321700Z",
     "start_time": "2023-06-18T13:38:43.954911800Z"
    }
   }
  },
  {
   "cell_type": "code",
   "execution_count": 5,
   "outputs": [
    {
     "name": "stdout",
     "output_type": "stream",
     "text": [
      "Model: \"sequential\"\n",
      "_________________________________________________________________\n",
      " Layer (type)                Output Shape              Param #   \n",
      "=================================================================\n",
      " dense (Dense)               (None, 12)                300       \n",
      "                                                                 \n",
      " dense_1 (Dense)             (None, 18)                234       \n",
      "                                                                 \n",
      " dense_2 (Dense)             (None, 1)                 19        \n",
      "                                                                 \n",
      "=================================================================\n",
      "Total params: 553\n",
      "Trainable params: 553\n",
      "Non-trainable params: 0\n",
      "_________________________________________________________________\n"
     ]
    }
   ],
   "source": [
    "model_builder(kt.HyperParameters()).summary()"
   ],
   "metadata": {
    "collapsed": false,
    "ExecuteTime": {
     "end_time": "2023-06-18T13:38:44.498511400Z",
     "start_time": "2023-06-18T13:38:43.970319200Z"
    }
   }
  },
  {
   "cell_type": "code",
   "execution_count": 6,
   "outputs": [],
   "source": [
    "model_callbacks = [callbacks.EarlyStopping(patience=60, min_delta=ES_MIN_DELTA),\n",
    "                   callbacks.ReduceLROnPlateau(monitor='loss', factor=0.9, patience=10)]"
   ],
   "metadata": {
    "collapsed": false,
    "ExecuteTime": {
     "end_time": "2023-06-18T13:38:44.529273600Z",
     "start_time": "2023-06-18T13:38:44.500478400Z"
    }
   }
  },
  {
   "cell_type": "markdown",
   "source": [
    "# Bayesian tuner"
   ],
   "metadata": {
    "collapsed": false
   }
  },
  {
   "cell_type": "code",
   "execution_count": 7,
   "outputs": [],
   "source": [
    "bayesian_tuner = kt.BayesianOptimization(model_builder, objective='val_loss', executions_per_trial=EXECUTIONS_PER_TRIAL,\n",
    "                                         max_trials=MAX_TRIALS, directory=TRIALS_DIR, project_name=PROJECT_NAME,\n",
    "                                         overwrite=OVERWRITE)\n",
    "\n",
    "bayesian_tuner.search(X_train, y_train, validation_data=[X_val, y_val], epochs=N_EPOCHS, callbacks=model_callbacks,\n",
    "                      batch_size=BATCH_SIZE, verbose=3)"
   ],
   "metadata": {
    "collapsed": false,
    "ExecuteTime": {
     "end_time": "2023-06-18T13:38:44.576802300Z",
     "start_time": "2023-06-18T13:38:44.516755600Z"
    }
   }
  },
  {
   "cell_type": "markdown",
   "source": [
    "# Results"
   ],
   "metadata": {
    "collapsed": false
   }
  },
  {
   "cell_type": "code",
   "execution_count": 8,
   "outputs": [
    {
     "name": "stdout",
     "output_type": "stream",
     "text": [
      "========== Model 0 ==========\n",
      "{'n_hidden_layers': 7, 'units_mult': 32, 'unit_decrease_factor': 1.0, 'batch_normalization': True, 'input_batch_normalization': True, 'dropout': 0.2, 'normalize_signal': False}\n",
      "Number of parameters: 61153\n",
      "========== Model 1 ==========\n",
      "{'n_hidden_layers': 1, 'units_mult': 16, 'unit_decrease_factor': 1.5, 'batch_normalization': False, 'input_batch_normalization': True, 'dropout': 0.0, 'normalize_signal': False}\n",
      "Number of parameters: 1345\n",
      "========== Model 2 ==========\n",
      "{'n_hidden_layers': 6, 'units_mult': 2, 'unit_decrease_factor': 2.0, 'batch_normalization': False, 'input_batch_normalization': True, 'dropout': 0.0, 'normalize_signal': False}\n",
      "Number of parameters: 25363\n",
      "========== Model 3 ==========\n",
      "{'n_hidden_layers': 1, 'units_mult': 16, 'unit_decrease_factor': 1.0, 'batch_normalization': True, 'input_batch_normalization': True, 'dropout': 0.5, 'normalize_signal': False}\n",
      "Number of parameters: 1537\n",
      "========== Model 4 ==========\n",
      "{'n_hidden_layers': 8, 'units_mult': 8, 'unit_decrease_factor': 1.5, 'batch_normalization': True, 'input_batch_normalization': True, 'dropout': 0.2, 'normalize_signal': False}\n",
      "Number of parameters: 204910\n"
     ]
    }
   ],
   "source": [
    "for i, hyperparameters in enumerate(bayesian_tuner.get_best_hyperparameters(TOP_N)):\n",
    "    print(f'========== Model {i} ==========')\n",
    "    print(hyperparameters.get_config()['values'])\n",
    "    model_tmp = model_builder(hyperparameters)\n",
    "    print('Number of parameters:', count_params(model_tmp))"
   ],
   "metadata": {
    "collapsed": false,
    "ExecuteTime": {
     "end_time": "2023-06-18T13:38:44.935792600Z",
     "start_time": "2023-06-18T13:38:44.579805800Z"
    }
   }
  },
  {
   "cell_type": "markdown",
   "source": [
    "# Cross-validation for top 5 models"
   ],
   "metadata": {
    "collapsed": false
   }
  },
  {
   "cell_type": "code",
   "execution_count": 9,
   "outputs": [
    {
     "data": {
      "text/plain": "<IPython.core.display.HTML object>",
      "text/html": "<h3>Model 0</h3>"
     },
     "metadata": {},
     "output_type": "display_data"
    },
    {
     "name": "stdout",
     "output_type": "stream",
     "text": [
      "{'n_hidden_layers': 7, 'units_mult': 32, 'unit_decrease_factor': 1.0, 'batch_normalization': True, 'input_batch_normalization': True, 'dropout': 0.2, 'normalize_signal': False}\n",
      "Number of parameters: 61153\n",
      "Got score: 8.7921 (8.8556, 8.7287)\n",
      "Got score: 8.1171 (8.1111, 8.1232)\n",
      "Got score: 8.2539 (8.2556, 8.2522)\n",
      "Got score: 8.5283 (8.5699, 8.4866)\n",
      "Got score: 8.1198 (8.1268, 8.1128)\n"
     ]
    },
    {
     "data": {
      "text/plain": "<IPython.core.display.HTML object>",
      "text/html": "<h3>Model 1</h3>"
     },
     "metadata": {},
     "output_type": "display_data"
    },
    {
     "name": "stdout",
     "output_type": "stream",
     "text": [
      "{'n_hidden_layers': 1, 'units_mult': 16, 'unit_decrease_factor': 1.5, 'batch_normalization': False, 'input_batch_normalization': True, 'dropout': 0.0, 'normalize_signal': False}\n",
      "Number of parameters: 1345\n",
      "Got score: 8.8190 (8.8497, 8.7882)\n",
      "Got score: 8.2208 (8.1707, 8.2709)\n",
      "Got score: 8.4386 (8.4703, 8.4070)\n",
      "Got score: 8.5064 (8.5048, 8.5080)\n",
      "Got score: 8.2481 (8.2227, 8.2735)\n"
     ]
    },
    {
     "data": {
      "text/plain": "<IPython.core.display.HTML object>",
      "text/html": "<h3>Model 2</h3>"
     },
     "metadata": {},
     "output_type": "display_data"
    },
    {
     "name": "stdout",
     "output_type": "stream",
     "text": [
      "{'n_hidden_layers': 6, 'units_mult': 2, 'unit_decrease_factor': 2.0, 'batch_normalization': False, 'input_batch_normalization': True, 'dropout': 0.0, 'normalize_signal': False}\n",
      "Number of parameters: 25363\n",
      "Got score: 9.0553 (8.8430, 9.2677)\n",
      "Got score: 8.1560 (8.1147, 8.1973)\n",
      "Got score: 8.3955 (8.4404, 8.3506)\n",
      "Got score: 8.4882 (8.5453, 8.4311)\n",
      "Got score: 8.1181 (8.0986, 8.1375)\n"
     ]
    },
    {
     "data": {
      "text/plain": "<IPython.core.display.HTML object>",
      "text/html": "<h3>Model 3</h3>"
     },
     "metadata": {},
     "output_type": "display_data"
    },
    {
     "name": "stdout",
     "output_type": "stream",
     "text": [
      "{'n_hidden_layers': 1, 'units_mult': 16, 'unit_decrease_factor': 1.0, 'batch_normalization': True, 'input_batch_normalization': True, 'dropout': 0.5, 'normalize_signal': False}\n",
      "Number of parameters: 1537\n",
      "Got score: 8.9581 (8.9262, 8.9899)\n",
      "Got score: 8.1779 (8.2476, 8.1081)\n",
      "Got score: 8.3520 (8.3737, 8.3303)\n",
      "Got score: 8.4673 (8.4135, 8.5210)\n",
      "Got score: 8.2350 (8.2246, 8.2453)\n"
     ]
    },
    {
     "data": {
      "text/plain": "<IPython.core.display.HTML object>",
      "text/html": "<h3>Model 4</h3>"
     },
     "metadata": {},
     "output_type": "display_data"
    },
    {
     "name": "stdout",
     "output_type": "stream",
     "text": [
      "{'n_hidden_layers': 8, 'units_mult': 8, 'unit_decrease_factor': 1.5, 'batch_normalization': True, 'input_batch_normalization': True, 'dropout': 0.2, 'normalize_signal': False}\n",
      "Number of parameters: 204910\n",
      "Got score: 9.0635 (9.0257, 9.1013)\n",
      "Got score: 8.3266 (8.2990, 8.3542)\n",
      "Got score: 14.1523 (19.7381, 8.5665)\n",
      "Got score: 8.6452 (8.6186, 8.6717)\n",
      "Got score: 8.4831 (8.3986, 8.5676)\n"
     ]
    }
   ],
   "source": [
    "cross_validator = KerasTunerCrossValidator(bayesian_tuner, X_base_train, y_base_train, model_builder,\n",
    "                                           directory=CROSSVAL_DIR, project_name=PROJECT_NAME, n_epochs=N_EPOCHS,\n",
    "                                           batch_size=BATCH_SIZE, n_top=TOP_N, es_min_delta=ES_MIN_DELTA,\n",
    "                                           n_cv=CROSSVAL_N_CV, n_executions=CROSSVAL_N_EXEC, overwrite=OVERWRITE)\n",
    "model_scores = cross_validator()"
   ],
   "metadata": {
    "collapsed": false,
    "ExecuteTime": {
     "end_time": "2023-06-18T13:39:23.893400700Z",
     "start_time": "2023-06-18T13:38:44.936795100Z"
    }
   }
  },
  {
   "cell_type": "code",
   "execution_count": 10,
   "outputs": [
    {
     "data": {
      "text/plain": "       mean   std  n_params\nModel                      \n0      8.36  0.26     61153\n1      8.45  0.22      1345\n2      8.44  0.34     25363\n3      8.44  0.28      1537\n4      9.73  2.22    204910",
      "text/html": "<div>\n<style scoped>\n    .dataframe tbody tr th:only-of-type {\n        vertical-align: middle;\n    }\n\n    .dataframe tbody tr th {\n        vertical-align: top;\n    }\n\n    .dataframe thead th {\n        text-align: right;\n    }\n</style>\n<table border=\"1\" class=\"dataframe\">\n  <thead>\n    <tr style=\"text-align: right;\">\n      <th></th>\n      <th>mean</th>\n      <th>std</th>\n      <th>n_params</th>\n    </tr>\n    <tr>\n      <th>Model</th>\n      <th></th>\n      <th></th>\n      <th></th>\n    </tr>\n  </thead>\n  <tbody>\n    <tr>\n      <th>0</th>\n      <td>8.36</td>\n      <td>0.26</td>\n      <td>61153</td>\n    </tr>\n    <tr>\n      <th>1</th>\n      <td>8.45</td>\n      <td>0.22</td>\n      <td>1345</td>\n    </tr>\n    <tr>\n      <th>2</th>\n      <td>8.44</td>\n      <td>0.34</td>\n      <td>25363</td>\n    </tr>\n    <tr>\n      <th>3</th>\n      <td>8.44</td>\n      <td>0.28</td>\n      <td>1537</td>\n    </tr>\n    <tr>\n      <th>4</th>\n      <td>9.73</td>\n      <td>2.22</td>\n      <td>204910</td>\n    </tr>\n  </tbody>\n</table>\n</div>"
     },
     "execution_count": 10,
     "metadata": {},
     "output_type": "execute_result"
    }
   ],
   "source": [
    "mean_scores = [f\"{np.mean(scores):0.2f}\" for scores in model_scores.values()]\n",
    "std_scores = [f\"{np.std(scores):0.2f}\" for scores in model_scores.values()]\n",
    "n_params = [count_params(model_builder(hyperparameters)) for hyperparameters in\n",
    "            bayesian_tuner.get_best_hyperparameters(TOP_N)]\n",
    "\n",
    "df = pd.DataFrame({'mean': mean_scores, 'std': std_scores, 'n_params': n_params}, index=model_scores.keys())\n",
    "df.index.name = 'Model'\n",
    "df"
   ],
   "metadata": {
    "collapsed": false,
    "ExecuteTime": {
     "end_time": "2023-06-18T13:39:24.205085900Z",
     "start_time": "2023-06-18T13:39:23.893400700Z"
    }
   }
  },
  {
   "cell_type": "code",
   "execution_count": 10,
   "outputs": [],
   "source": [],
   "metadata": {
    "collapsed": false,
    "ExecuteTime": {
     "end_time": "2023-06-18T13:39:24.221846900Z",
     "start_time": "2023-06-18T13:39:24.205085900Z"
    }
   }
  }
 ],
 "metadata": {
  "kernelspec": {
   "display_name": "Python 3",
   "language": "python",
   "name": "python3"
  },
  "language_info": {
   "codemirror_mode": {
    "name": "ipython",
    "version": 2
   },
   "file_extension": ".py",
   "mimetype": "text/x-python",
   "name": "python",
   "nbconvert_exporter": "python",
   "pygments_lexer": "ipython2",
   "version": "2.7.6"
  }
 },
 "nbformat": 4,
 "nbformat_minor": 0
}
