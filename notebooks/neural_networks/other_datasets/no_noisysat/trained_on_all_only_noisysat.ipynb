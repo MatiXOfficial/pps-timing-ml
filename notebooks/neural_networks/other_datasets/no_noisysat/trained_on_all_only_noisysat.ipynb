{
 "cells": [
  {
   "cell_type": "code",
   "execution_count": 1,
   "metadata": {
    "collapsed": true,
    "ExecuteTime": {
     "end_time": "2023-07-07T12:39:21.693833300Z",
     "start_time": "2023-07-07T12:39:17.337444500Z"
    }
   },
   "outputs": [],
   "source": [
    "import pickle\n",
    "import sys\n",
    "\n",
    "import numpy as np\n",
    "import tensorflow as tf\n",
    "from sklearn.model_selection import train_test_split\n",
    "\n",
    "from src.cfd import CFD\n",
    "from src.dataset import X_TIME, TIME_STEP\n",
    "from src.gauss_hist import get_gauss_stats\n",
    "from src.models import optimal_model_builder_all_ch\n",
    "from src.network_utils import train_model as _base_train_model, plot_difference_hist, plot_history, compare_results, \\\n",
    "    gaussian_kernel\n",
    "\n",
    "PWD = '../../../..'\n",
    "sys.path.append(PWD)\n",
    "\n",
    "tf.get_logger().setLevel('ERROR')"
   ]
  },
  {
   "cell_type": "code",
   "execution_count": 2,
   "outputs": [],
   "source": [
    "N_JOBS = 16\n",
    "\n",
    "DATASET_NOISYSAT_PATH = PWD + '/data/dataset/dataset_noisysat.pkl'\n",
    "\n",
    "PRINT_PCOV = False\n",
    "\n",
    "N_BASELINE = 6\n",
    "\n",
    "LR = 0.01\n",
    "ES_MIN_DELTA = 0.01\n",
    "\n",
    "N_EPOCHS = 3000\n",
    "BATCH_SIZE = 1024\n",
    "LOSS_WEIGHT = 1000\n",
    "\n",
    "CFD_THRESHOLD_SPACE = np.arange(0.10, 0.20, 0.005)\n",
    "OPTIMAL_CFD_THRESHOLDS_TRAIN_DATA_PATH = PWD + '/data/tmp/many_channels_tests/optimal_cfd_thresholds_train_data.pkl'\n",
    "\n",
    "TRAIN_TEST_SPLIT_RANDOM_STATE = 42\n",
    "TEST_SIZE = 0.2"
   ],
   "metadata": {
    "collapsed": false,
    "ExecuteTime": {
     "end_time": "2023-07-07T12:39:21.709384400Z",
     "start_time": "2023-07-07T12:39:21.693833300Z"
    }
   }
  },
  {
   "cell_type": "code",
   "execution_count": 3,
   "outputs": [],
   "source": [
    "with open(DATASET_NOISYSAT_PATH, 'rb') as file:\n",
    "    dataset_noisysat = pickle.load(file)"
   ],
   "metadata": {
    "collapsed": false,
    "ExecuteTime": {
     "end_time": "2023-07-07T12:39:21.725009900Z",
     "start_time": "2023-07-07T12:39:21.709384400Z"
    }
   }
  },
  {
   "cell_type": "markdown",
   "source": [
    "# Utils"
   ],
   "metadata": {
    "collapsed": false
   }
  },
  {
   "cell_type": "code",
   "execution_count": 4,
   "outputs": [],
   "source": [
    "def model_predict(model: tf.keras.Model, X: np.ndarray):\n",
    "    Y_heatmap_pred = model.predict(X, batch_size=4096)\n",
    "\n",
    "    y_pred = np.empty(Y_heatmap_pred.shape[0])\n",
    "    for i, y in enumerate(Y_heatmap_pred):\n",
    "        _, y_pred[i], _, _ = get_gauss_stats(X_TIME, y, a_0=1, std_0=1. * TIME_STEP)\n",
    "\n",
    "    return y_pred"
   ],
   "metadata": {
    "collapsed": false,
    "ExecuteTime": {
     "end_time": "2023-07-07T12:39:21.740637800Z",
     "start_time": "2023-07-07T12:39:21.725009900Z"
    }
   }
  },
  {
   "cell_type": "code",
   "execution_count": 5,
   "outputs": [],
   "source": [
    "def train_model(model, name, X_train, y_train, X_val, y_val, lr=LR, train=False, n_epochs=N_EPOCHS, verbose=1,\n",
    "                batch_size=BATCH_SIZE, lr_patience=5, es_patience=60, es_min_delta=ES_MIN_DELTA,\n",
    "                loss_weights=LOSS_WEIGHT):\n",
    "    return _base_train_model(model, name, 'many_channels_tests/noisysat/only_noisysat_all', X_train, y_train,\n",
    "                             X_val, y_val, lr, train, n_epochs, verbose, batch_size, lr_patience, es_patience,\n",
    "                             es_min_delta, loss_weights, root=PWD + '/data')"
   ],
   "metadata": {
    "collapsed": false,
    "ExecuteTime": {
     "end_time": "2023-07-07T12:39:21.756264500Z",
     "start_time": "2023-07-07T12:39:21.740637800Z"
    }
   }
  },
  {
   "cell_type": "markdown",
   "source": [
    "# Optimal CFD thresholds"
   ],
   "metadata": {
    "collapsed": false
   }
  },
  {
   "cell_type": "code",
   "execution_count": 6,
   "outputs": [],
   "source": [
    "# from src.cfd import find_optimal_cfd_threshold\n",
    "#\n",
    "# optimal_cfd_thresholds = {}\n",
    "# for plane, channel in sorted(dataset.keys()):\n",
    "#     print(f'Processing p={plane}, ch={channel}...')\n",
    "#     all_X, all_y = dataset[(plane, channel)][0], dataset[(plane, channel)][1]\n",
    "#     X_train, _, y_train, _ = train_test_split(all_X, all_y, test_size=0.25, random_state=TRAIN_TEST_SPLIT_RANDOM_STATE)\n",
    "#\n",
    "#     optimal_cfd_threshold = find_optimal_cfd_threshold(CFD_THRESHOLD_SPACE, N_BASELINE, X_train, y_train, X_TIME, n_jobs=N_JOBS, plot=False)\n",
    "#     optimal_cfd_thresholds[(plane, channel)] = optimal_cfd_threshold\n",
    "#\n",
    "# with open(OPTIMAL_CFD_THRESHOLDS_TRAIN_DATA_PATH, 'wb') as file:\n",
    "#     pickle.dump(optimal_cfd_thresholds, file)"
   ],
   "metadata": {
    "collapsed": false,
    "ExecuteTime": {
     "end_time": "2023-07-07T12:39:21.773041100Z",
     "start_time": "2023-07-07T12:39:21.756264500Z"
    }
   }
  },
  {
   "cell_type": "code",
   "execution_count": 7,
   "outputs": [
    {
     "name": "stdout",
     "output_type": "stream",
     "text": [
      "Optimal thresholds:\n",
      "(1,  2): 0.185\n",
      "(1, 11): 0.200\n",
      "(2,  2): 0.235\n",
      "(2, 11): 0.170\n",
      "(3,  2): 0.145\n",
      "(3, 11): 0.195\n"
     ]
    }
   ],
   "source": [
    "with open(OPTIMAL_CFD_THRESHOLDS_TRAIN_DATA_PATH, 'rb') as file:\n",
    "    optimal_cfd_thresholds = pickle.load(file)\n",
    "\n",
    "print('Optimal thresholds:')\n",
    "for (plane, channel), threshold in optimal_cfd_thresholds.items():\n",
    "    print(f'({plane:>1}, {channel:>2}): {threshold:0.3f}')"
   ],
   "metadata": {
    "collapsed": false,
    "ExecuteTime": {
     "end_time": "2023-07-07T12:39:21.819579200Z",
     "start_time": "2023-07-07T12:39:21.773041100Z"
    }
   }
  },
  {
   "cell_type": "markdown",
   "source": [
    "# Train the network"
   ],
   "metadata": {
    "collapsed": false
   }
  },
  {
   "cell_type": "code",
   "execution_count": 8,
   "outputs": [
    {
     "data": {
      "text/plain": "((3374, 24), (3374, 24), (847, 24), (847, 24))"
     },
     "execution_count": 8,
     "metadata": {},
     "output_type": "execute_result"
    }
   ],
   "source": [
    "train_X_list, train_y_list, test_X_list, test_y_list = [], [], [], []\n",
    "for (plane, channel) in dataset_noisysat.keys():\n",
    "    X_noisysat, y_noisysat = dataset_noisysat[(plane, channel)]\n",
    "    X = X_noisysat\n",
    "    y = y_noisysat\n",
    "\n",
    "    X_train, X_test, y_train, y_test = train_test_split(X, y, test_size=TEST_SIZE,\n",
    "                                                        random_state=TRAIN_TEST_SPLIT_RANDOM_STATE)\n",
    "\n",
    "    Y_heatmap_train = np.array([gaussian_kernel(y) for y in y_train])\n",
    "    Y_heatmap_test = np.array([gaussian_kernel(y) for y in y_test])\n",
    "\n",
    "    train_X_list.append(X_train)\n",
    "    train_y_list.append(Y_heatmap_train)\n",
    "    test_X_list.append(X_test)\n",
    "    test_y_list.append(Y_heatmap_test)\n",
    "\n",
    "X_train_all = np.concatenate(train_X_list)\n",
    "y_train_all = np.concatenate(train_y_list)\n",
    "X_test_all = np.concatenate(test_X_list)\n",
    "y_test_all = np.concatenate(test_y_list)\n",
    "\n",
    "X_train_all.shape, y_train_all.shape, X_test_all.shape, y_test_all.shape"
   ],
   "metadata": {
    "collapsed": false,
    "ExecuteTime": {
     "end_time": "2023-07-07T12:39:21.835914400Z",
     "start_time": "2023-07-07T12:39:21.788188600Z"
    }
   }
  },
  {
   "cell_type": "code",
   "execution_count": 9,
   "outputs": [],
   "source": [
    "model = optimal_model_builder_all_ch()\n",
    "history = train_model(model, \"optimal\", X_train=X_train_all, y_train=y_train_all, X_val=X_test_all, y_val=y_test_all,\n",
    "                      train=False)"
   ],
   "metadata": {
    "collapsed": false,
    "ExecuteTime": {
     "end_time": "2023-07-07T12:39:23.750969Z",
     "start_time": "2023-07-07T12:39:21.850974600Z"
    }
   }
  },
  {
   "cell_type": "code",
   "execution_count": 10,
   "outputs": [
    {
     "data": {
      "text/plain": "<Figure size 800x600 with 1 Axes>",
      "image/png": "[encoded data removed]"
     },
     "metadata": {},
     "output_type": "display_data"
    }
   ],
   "source": [
    "plot_history(history, f'model: optimal', ymax=40)"
   ],
   "metadata": {
    "collapsed": false,
    "ExecuteTime": {
     "end_time": "2023-07-07T12:39:23.973334Z",
     "start_time": "2023-07-07T12:39:23.750969Z"
    }
   }
  },
  {
   "cell_type": "markdown",
   "source": [
    "# Test"
   ],
   "metadata": {
    "collapsed": false
   }
  },
  {
   "cell_type": "code",
   "execution_count": 11,
   "outputs": [
    {
     "name": "stdout",
     "output_type": "stream",
     "text": [
      "Processing p=1, ch=2...\n",
      "1/1 [==============================] - 1s 731ms/step\n",
      "       CFD: 189.67 ps\n",
      "   optimal: 114.49 ps (improvement: 39.64 %)\n",
      "Processing p=1, ch=11...\n",
      "1/1 [==============================] - 0s 63ms/step\n",
      "       CFD: 180.31 ps\n",
      "   optimal: 118.75 ps (improvement: 34.14 %)\n",
      "Processing p=2, ch=2...\n",
      "1/1 [==============================] - 0s 80ms/step\n",
      "       CFD: 190.03 ps\n",
      "   optimal: 125.99 ps (improvement: 33.70 %)\n",
      "Processing p=2, ch=11...\n",
      "1/1 [==============================] - 0s 95ms/step\n",
      "       CFD: 185.86 ps\n",
      "   optimal: 142.38 ps (improvement: 23.39 %)\n",
      "Processing p=3, ch=2...\n",
      "1/1 [==============================] - 0s 92ms/step\n",
      "       CFD: 269.30 ps\n",
      "   optimal: 216.16 ps (improvement: 19.74 %)\n",
      "Processing p=3, ch=11...\n",
      "1/1 [==============================] - 0s 48ms/step\n",
      "       CFD: 351.90 ps\n",
      "   optimal: 161.32 ps (improvement: 54.16 %)\n"
     ]
    }
   ],
   "source": [
    "improvements = {}\n",
    "for (plane, channel), (all_X, all_y) in dataset_noisysat.items():\n",
    "    print(f'Processing p={plane}, ch={channel}...')\n",
    "\n",
    "    _, X_test, _, y_test = train_test_split(all_X, all_y, test_size=TEST_SIZE,\n",
    "                                            random_state=TRAIN_TEST_SPLIT_RANDOM_STATE)\n",
    "\n",
    "    cfd = CFD(n_baseline=N_BASELINE, threshold=optimal_cfd_thresholds[(plane, channel)])\n",
    "    y_pred_cfd = cfd.predict(X_TIME, X_test)\n",
    "    std_cfd = np.std(y_pred_cfd - y_test)\n",
    "    # std_cfd, _, _ = plot_difference_hist(y_test, y_pred_cfd, show=False, close=False)\n",
    "\n",
    "    y_pred_model = model_predict(model, X_test)\n",
    "    std_model = np.std(y_pred_model - y_test)\n",
    "    # std_model, _, _ = plot_difference_hist(y_test, y_pred_model, show=False, close=False)\n",
    "\n",
    "    compare_results([std_model], [\"optimal\"], std_cfd)\n",
    "    improvements[(plane, channel)] = (std_cfd, std_model, 1 - std_model / std_cfd)"
   ],
   "metadata": {
    "collapsed": false,
    "ExecuteTime": {
     "end_time": "2023-07-07T12:39:25.688648400Z",
     "start_time": "2023-07-07T12:39:23.987383700Z"
    }
   }
  },
  {
   "cell_type": "code",
   "execution_count": 12,
   "outputs": [
    {
     "name": "stdout",
     "output_type": "stream",
     "text": [
      "Improvements:\n",
      "(1,  2) CFD: 189.67 ps, NN: 114.49 (39.64 %)\n",
      "(1, 11) CFD: 180.31 ps, NN: 118.75 (34.14 %)\n",
      "(2,  2) CFD: 190.03 ps, NN: 125.99 (33.70 %)\n",
      "(2, 11) CFD: 185.86 ps, NN: 142.38 (23.39 %)\n",
      "(3,  2) CFD: 269.30 ps, NN: 216.16 (19.74 %)\n",
      "(3, 11) CFD: 351.90 ps, NN: 161.32 (54.16 %)\n"
     ]
    }
   ],
   "source": [
    "print('Improvements:')\n",
    "for (plane, channel), improv in improvements.items():\n",
    "    print(\n",
    "        f'({plane:>1}, {channel:>2}) CFD: {improv[0] * 1000:6.2f} ps, NN: {improv[1] * 1000:6.2f} ({improv[2] * 100:5.2f} %)')"
   ],
   "metadata": {
    "collapsed": false,
    "ExecuteTime": {
     "end_time": "2023-07-07T12:39:25.735593Z",
     "start_time": "2023-07-07T12:39:25.688648400Z"
    }
   }
  },
  {
   "cell_type": "code",
   "execution_count": 12,
   "outputs": [],
   "source": [],
   "metadata": {
    "collapsed": false,
    "ExecuteTime": {
     "end_time": "2023-07-07T12:39:25.735593Z",
     "start_time": "2023-07-07T12:39:25.704338600Z"
    }
   }
  }
 ],
 "metadata": {
  "kernelspec": {
   "display_name": "Python 3",
   "language": "python",
   "name": "python3"
  },
  "language_info": {
   "codemirror_mode": {
    "name": "ipython",
    "version": 2
   },
   "file_extension": ".py",
   "mimetype": "text/x-python",
   "name": "python",
   "nbconvert_exporter": "python",
   "pygments_lexer": "ipython2",
   "version": "2.7.6"
  }
 },
 "nbformat": 4,
 "nbformat_minor": 0
}
