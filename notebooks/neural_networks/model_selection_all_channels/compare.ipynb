{
 "cells": [
  {
   "cell_type": "code",
   "execution_count": 1,
   "metadata": {
    "collapsed": true,
    "ExecuteTime": {
     "end_time": "2023-06-08T18:24:16.480741500Z",
     "start_time": "2023-06-08T18:24:12.339432500Z"
    }
   },
   "outputs": [],
   "source": [
    "import sys\n",
    "\n",
    "from src.gauss_hist import get_gauss_stats\n",
    "\n",
    "PWD = '../../..'\n",
    "sys.path.append(PWD)\n",
    "\n",
    "import numpy as np\n",
    "import pandas as pd\n",
    "\n",
    "import tensorflow as tf\n",
    "\n",
    "tf.get_logger().setLevel('ERROR')\n",
    "from tensorflow.keras import optimizers\n",
    "\n",
    "from src.network_utils import plot_difference_hist, gaussian_kernel, count_params\n",
    "from src.cross_validator import AllChannelsCrossValidator\n",
    "from src.dataset import X_TIME, TIME_STEP, load_dataset_train_test_all_channels\n",
    "from src.models import optimal_model_builders_all_ch as optimal_model_builders"
   ]
  },
  {
   "cell_type": "code",
   "execution_count": 2,
   "outputs": [],
   "source": [
    "PROJECT_NAME = 'compare'\n",
    "\n",
    "OVERWRITE = False\n",
    "\n",
    "DATASET_PATH = PWD + '/data/dataset/dataset.pkl'\n",
    "CROSSVAL_DIR = PWD + f'/data/model_selection/channel_all/cross_val'\n",
    "\n",
    "LR = 0.01\n",
    "ES_MIN_DELTA = 0.01\n",
    "\n",
    "N_EPOCHS = 500\n",
    "BATCH_SIZE = 8096\n",
    "\n",
    "CROSSVAL_N_CV = 5\n",
    "CROSSVAL_N_EXEC = 3\n",
    "LOSS_WEIGHT_REGULAR = 1000\n",
    "LOSS_WEIGHT_HEATMAP = 1000\n",
    "LOSS_WEIGHT_DIST = 1000"
   ],
   "metadata": {
    "collapsed": false,
    "ExecuteTime": {
     "end_time": "2023-06-08T18:24:16.494182800Z",
     "start_time": "2023-06-08T18:24:16.481741700Z"
    }
   }
  },
  {
   "cell_type": "code",
   "execution_count": 3,
   "outputs": [
    {
     "data": {
      "text/plain": "((20912, 24), (20912,))"
     },
     "execution_count": 3,
     "metadata": {},
     "output_type": "execute_result"
    }
   ],
   "source": [
    "X_base_train, _, y_base_train, _ = load_dataset_train_test_all_channels(PWD)\n",
    "\n",
    "X_base_train[(2, 11)].shape, y_base_train[(2, 11)].shape"
   ],
   "metadata": {
    "collapsed": false,
    "ExecuteTime": {
     "end_time": "2023-06-08T18:24:16.542183Z",
     "start_time": "2023-06-08T18:24:16.495183500Z"
    }
   }
  },
  {
   "cell_type": "code",
   "execution_count": 4,
   "outputs": [
    {
     "data": {
      "text/plain": "(20912, 24)"
     },
     "execution_count": 4,
     "metadata": {},
     "output_type": "execute_result"
    }
   ],
   "source": [
    "y_base_train_heatmap = {key: np.array([gaussian_kernel(y) for y in val]) for key, val in y_base_train.items()}\n",
    "\n",
    "y_base_train_heatmap[(2, 11)].shape"
   ],
   "metadata": {
    "collapsed": false,
    "ExecuteTime": {
     "end_time": "2023-06-08T18:24:16.846183700Z",
     "start_time": "2023-06-08T18:24:16.543183500Z"
    }
   }
  },
  {
   "cell_type": "code",
   "execution_count": 5,
   "outputs": [],
   "source": [
    "def compile_wrapper(builder, loss_weight):\n",
    "    def compiled_builder():\n",
    "        model = builder()\n",
    "        model.compile(loss='mse', optimizer=optimizers.Adam(LR), loss_weights=loss_weight)\n",
    "        return model\n",
    "\n",
    "    return compiled_builder"
   ],
   "metadata": {
    "collapsed": false,
    "ExecuteTime": {
     "end_time": "2023-06-08T18:24:16.883183500Z",
     "start_time": "2023-06-08T18:24:16.848184400Z"
    }
   }
  },
  {
   "cell_type": "markdown",
   "source": [
    "# Regular models"
   ],
   "metadata": {
    "collapsed": false
   }
  },
  {
   "cell_type": "code",
   "execution_count": 6,
   "outputs": [
    {
     "data": {
      "text/plain": "<IPython.core.display.HTML object>",
      "text/html": "<h3>Model: mlp</h3>"
     },
     "metadata": {},
     "output_type": "display_data"
    },
    {
     "name": "stdout",
     "output_type": "stream",
     "text": [
      "Number of parameters: 3121\n",
      "Got score: 79.3952 (79.2473, 79.4442, 79.4941)\n",
      "Got score: 80.9845 (81.1947, 80.9982, 80.7606)\n",
      "Got score: 79.5803 (79.6090, 79.5711, 79.5609)\n",
      "Got score: 80.0212 (80.3050, 79.6886, 80.0701)\n",
      "Got score: 79.3716 (79.4117, 79.2137, 79.4894)\n"
     ]
    },
    {
     "data": {
      "text/plain": "<IPython.core.display.HTML object>",
      "text/html": "<h3>Model: convnet</h3>"
     },
     "metadata": {},
     "output_type": "display_data"
    },
    {
     "name": "stdout",
     "output_type": "stream",
     "text": [
      "Number of parameters: 44993\n",
      "Got score: 79.7239 (79.7252, 79.0806, 80.3660)\n",
      "Got score: 81.1030 (80.8066, 81.2452, 81.2570)\n",
      "Got score: 79.8670 (79.6811, 79.6896, 80.2305)\n",
      "Got score: 80.5157 (80.8042, 80.1965, 80.5464)\n",
      "Got score: 79.6224 (79.5440, 79.6041, 79.7190)\n"
     ]
    },
    {
     "data": {
      "text/plain": "<IPython.core.display.HTML object>",
      "text/html": "<h3>Model: rnn</h3>"
     },
     "metadata": {},
     "output_type": "display_data"
    },
    {
     "name": "stdout",
     "output_type": "stream",
     "text": [
      "Number of parameters: 50081\n",
      "Got score: 79.8689 (79.7247, 79.8609, 80.0212)\n",
      "Got score: 80.9425 (80.8563, 80.8913, 81.0799)\n",
      "Got score: 79.7699 (79.9426, 79.7163, 79.6508)\n",
      "Got score: 79.9710 (79.9605, 79.9113, 80.0411)\n",
      "Got score: 79.4390 (79.8798, 79.4172, 79.0200)\n"
     ]
    }
   ],
   "source": [
    "def regular_metric(y_true, y_pred):\n",
    "    std, _, _ = plot_difference_hist(y_true, y_pred[:, 0], show=False, close=False)\n",
    "    return std * 1000  # ps\n",
    "\n",
    "\n",
    "regular_model_builders = [\n",
    "    compile_wrapper(optimal_model_builders.mlp, loss_weight=LOSS_WEIGHT_REGULAR),\n",
    "    compile_wrapper(optimal_model_builders.convnet, loss_weight=LOSS_WEIGHT_REGULAR),\n",
    "    compile_wrapper(optimal_model_builders.rnn, loss_weight=LOSS_WEIGHT_REGULAR),\n",
    "]\n",
    "regular_model_names = ['mlp', 'convnet', 'rnn']\n",
    "\n",
    "cross_validator = AllChannelsCrossValidator(regular_model_builders, list(X_base_train.values()),\n",
    "                                            list(y_base_train.values()), CROSSVAL_DIR, PROJECT_NAME, n_epochs=N_EPOCHS,\n",
    "                                            batch_size=BATCH_SIZE, es_min_delta=ES_MIN_DELTA, n_cv=CROSSVAL_N_CV,\n",
    "                                            n_executions=CROSSVAL_N_EXEC, model_names=regular_model_names,\n",
    "                                            eval_metric=regular_metric, overwrite=OVERWRITE)\n",
    "\n",
    "regular_model_scores = cross_validator()"
   ],
   "metadata": {
    "collapsed": false,
    "ExecuteTime": {
     "end_time": "2023-06-08T18:24:18.100174300Z",
     "start_time": "2023-06-08T18:24:16.865183100Z"
    }
   }
  },
  {
   "cell_type": "markdown",
   "source": [
    "# Heatmap-based models"
   ],
   "metadata": {
    "collapsed": false
   }
  },
  {
   "cell_type": "code",
   "execution_count": 7,
   "outputs": [
    {
     "data": {
      "text/plain": "<IPython.core.display.HTML object>",
      "text/html": "<h3>Model: unet</h3>"
     },
     "metadata": {},
     "output_type": "display_data"
    },
    {
     "name": "stdout",
     "output_type": "stream",
     "text": [
      "Number of parameters: 2962785\n",
      "Got score: 78.9276 (79.2129, 78.9389, 78.6310)\n",
      "Got score: 78.1322 (78.2427, 78.0941, 78.0598)\n",
      "Got score: 78.4924 (78.4993, 78.3551, 78.6227)\n"
     ]
    },
    {
     "name": "stderr",
     "output_type": "stream",
     "text": [
      "C:\\Users\\MatiX\\miniconda3\\envs\\cern-ml\\lib\\site-packages\\scipy\\optimize\\_minpack_py.py:881: OptimizeWarning: Covariance of the parameters could not be estimated\n",
      "  warnings.warn('Covariance of the parameters could not be estimated',\n",
      "C:\\Users\\MatiX\\miniconda3\\envs\\cern-ml\\lib\\site-packages\\statsmodels\\stats\\weightstats.py:196: RuntimeWarning: invalid value encountered in sqrt\n",
      "  return np.sqrt(self.var)\n"
     ]
    },
    {
     "name": "stdout",
     "output_type": "stream",
     "text": [
      "Got score: 78.2918 (78.3901, 78.1725, 78.3129)\n",
      "Got score: 79.0103 (78.8711, 78.7078, 79.4519)\n"
     ]
    },
    {
     "data": {
      "text/plain": "<Figure size 640x480 with 1 Axes>",
      "image/png": "[encoded data removed]"
     },
     "metadata": {},
     "output_type": "display_data"
    }
   ],
   "source": [
    "def heatmap_metric(y_heatmap_true, y_heatmap_pred):\n",
    "    y_true = np.empty(y_heatmap_true.shape[0])\n",
    "    for i, y in enumerate(y_heatmap_true):\n",
    "        _, y_true[i], _, _ = get_gauss_stats(X_TIME, y, a_0=1, std_0=1. * TIME_STEP)\n",
    "\n",
    "    y_pred = np.empty(y_heatmap_pred.shape[0])\n",
    "    for i, y in enumerate(y_heatmap_pred):\n",
    "        _, y_pred[i], _, _ = get_gauss_stats(X_TIME, y, a_0=1, std_0=1. * TIME_STEP)\n",
    "\n",
    "    std, _, _ = plot_difference_hist(y_true, y_pred, show=False, close=False)\n",
    "    return std * 1000  # ps\n",
    "\n",
    "\n",
    "heatmap_model_builders = [compile_wrapper(optimal_model_builders.unet, loss_weight=LOSS_WEIGHT_HEATMAP)]\n",
    "heatmap_model_names = ['unet']\n",
    "\n",
    "cross_validator = AllChannelsCrossValidator(heatmap_model_builders, list(X_base_train.values()),\n",
    "                                            list(y_base_train_heatmap.values()), CROSSVAL_DIR, PROJECT_NAME,\n",
    "                                            n_epochs=N_EPOCHS, batch_size=BATCH_SIZE, es_min_delta=ES_MIN_DELTA,\n",
    "                                            n_cv=CROSSVAL_N_CV, n_executions=CROSSVAL_N_EXEC,\n",
    "                                            model_names=heatmap_model_names, eval_metric=heatmap_metric,\n",
    "                                            overwrite=OVERWRITE)\n",
    "\n",
    "heatmap_model_scores = cross_validator()"
   ],
   "metadata": {
    "collapsed": false,
    "ExecuteTime": {
     "end_time": "2023-06-08T19:36:00.635520400Z",
     "start_time": "2023-06-08T18:24:18.101174500Z"
    }
   }
  },
  {
   "cell_type": "markdown",
   "source": [
    "# Comparison"
   ],
   "metadata": {
    "collapsed": false
   }
  },
  {
   "cell_type": "code",
   "execution_count": 8,
   "outputs": [],
   "source": [
    "all_model_builders = regular_model_builders + heatmap_model_builders\n",
    "all_model_names = regular_model_names + heatmap_model_names\n",
    "all_model_scores = regular_model_scores | heatmap_model_scores"
   ],
   "metadata": {
    "collapsed": false,
    "ExecuteTime": {
     "end_time": "2023-06-08T19:36:00.650834Z",
     "start_time": "2023-06-08T19:36:00.637520400Z"
    }
   }
  },
  {
   "cell_type": "code",
   "execution_count": 9,
   "outputs": [
    {
     "data": {
      "text/plain": "          mean   std  n_params\nModel                         \nmlp      79.87  0.60      3121\nconvnet  80.17  0.56     44993\nrnn      80.00  0.50     50081\nunet     78.57  0.35   2962785",
      "text/html": "<div>\n<style scoped>\n    .dataframe tbody tr th:only-of-type {\n        vertical-align: middle;\n    }\n\n    .dataframe tbody tr th {\n        vertical-align: top;\n    }\n\n    .dataframe thead th {\n        text-align: right;\n    }\n</style>\n<table border=\"1\" class=\"dataframe\">\n  <thead>\n    <tr style=\"text-align: right;\">\n      <th></th>\n      <th>mean</th>\n      <th>std</th>\n      <th>n_params</th>\n    </tr>\n    <tr>\n      <th>Model</th>\n      <th></th>\n      <th></th>\n      <th></th>\n    </tr>\n  </thead>\n  <tbody>\n    <tr>\n      <th>mlp</th>\n      <td>79.87</td>\n      <td>0.60</td>\n      <td>3121</td>\n    </tr>\n    <tr>\n      <th>convnet</th>\n      <td>80.17</td>\n      <td>0.56</td>\n      <td>44993</td>\n    </tr>\n    <tr>\n      <th>rnn</th>\n      <td>80.00</td>\n      <td>0.50</td>\n      <td>50081</td>\n    </tr>\n    <tr>\n      <th>unet</th>\n      <td>78.57</td>\n      <td>0.35</td>\n      <td>2962785</td>\n    </tr>\n  </tbody>\n</table>\n</div>"
     },
     "execution_count": 9,
     "metadata": {},
     "output_type": "execute_result"
    }
   ],
   "source": [
    "mean_scores = [f\"{np.mean(scores):0.2f}\" for scores in all_model_scores.values()]\n",
    "std_scores = [f\"{np.std(scores):0.2f}\" for scores in all_model_scores.values()]\n",
    "n_params = [count_params(builder()) for builder in all_model_builders]\n",
    "\n",
    "df = pd.DataFrame({'mean': mean_scores, 'std': std_scores, 'n_params': n_params}, index=all_model_scores.keys())\n",
    "df.index.name = 'Model'\n",
    "df"
   ],
   "metadata": {
    "collapsed": false,
    "ExecuteTime": {
     "end_time": "2023-06-08T19:36:01.253790400Z",
     "start_time": "2023-06-08T19:36:00.653833400Z"
    }
   }
  },
  {
   "cell_type": "code",
   "execution_count": 9,
   "outputs": [],
   "source": [],
   "metadata": {
    "collapsed": false,
    "ExecuteTime": {
     "end_time": "2023-06-08T19:36:01.275940300Z",
     "start_time": "2023-06-08T19:36:01.254789200Z"
    }
   }
  }
 ],
 "metadata": {
  "kernelspec": {
   "display_name": "Python 3",
   "language": "python",
   "name": "python3"
  },
  "language_info": {
   "codemirror_mode": {
    "name": "ipython",
    "version": 2
   },
   "file_extension": ".py",
   "mimetype": "text/x-python",
   "name": "python",
   "nbconvert_exporter": "python",
   "pygments_lexer": "ipython2",
   "version": "2.7.6"
  }
 },
 "nbformat": 4,
 "nbformat_minor": 0
}
