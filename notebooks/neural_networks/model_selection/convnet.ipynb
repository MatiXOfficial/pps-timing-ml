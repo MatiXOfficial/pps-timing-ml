{
 "cells": [
  {
   "cell_type": "code",
   "execution_count": 1,
   "metadata": {
    "collapsed": true,
    "ExecuteTime": {
     "start_time": "2023-04-22T12:50:48.163850Z",
     "end_time": "2023-04-22T12:50:50.253833Z"
    }
   },
   "outputs": [],
   "source": [
    "import sys\n",
    "\n",
    "PWD = '../../..'\n",
    "sys.path.append(PWD)\n",
    "\n",
    "import numpy as np\n",
    "import pandas as pd\n",
    "\n",
    "import tensorflow as tf\n",
    "\n",
    "tf.get_logger().setLevel('ERROR')\n",
    "from tensorflow import keras\n",
    "from tensorflow.keras import optimizers\n",
    "from tensorflow.keras import callbacks\n",
    "import keras_tuner as kt\n",
    "\n",
    "from src.network_utils import count_params\n",
    "from src.cross_validator import KerasTunerCrossValidator\n",
    "from src.dataset import load_dataset_train_test, load_dataset_train_val\n",
    "from src.models import convnet_builder as bare_model_builder"
   ]
  },
  {
   "cell_type": "code",
   "execution_count": 2,
   "outputs": [],
   "source": [
    "PROJECT_NAME = 'convnet'\n",
    "\n",
    "PLANE = 2\n",
    "CHANNEL = 11\n",
    "\n",
    "OVERWRITE = False\n",
    "\n",
    "DATASET_PATH = PWD + '/data/dataset/dataset.pkl'\n",
    "TRIALS_DIR = PWD + f'/data/model_selection/channel_{PLANE}_{CHANNEL}/tuner'\n",
    "CROSSVAL_DIR = PWD + f'/data/model_selection/channel_{PLANE}_{CHANNEL}/cross_val'\n",
    "\n",
    "LR = 0.01\n",
    "ES_MIN_DELTA = 0.01\n",
    "\n",
    "N_EPOCHS = 3000\n",
    "BATCH_SIZE = 2048\n",
    "MAX_TRIALS = 40\n",
    "EXECUTIONS_PER_TRIAL = 2\n",
    "\n",
    "TOP_N = 5\n",
    "CROSSVAL_N_CV = 5\n",
    "CROSSVAL_N_EXEC = 2\n",
    "LOSS_WEIGHT = 1000"
   ],
   "metadata": {
    "collapsed": false,
    "ExecuteTime": {
     "start_time": "2023-04-22T12:50:50.256246Z",
     "end_time": "2023-04-22T12:50:50.269915Z"
    }
   }
  },
  {
   "cell_type": "code",
   "execution_count": 3,
   "outputs": [
    {
     "data": {
      "text/plain": "((22412, 24), (17929, 24), (4483, 24))"
     },
     "execution_count": 3,
     "metadata": {},
     "output_type": "execute_result"
    }
   ],
   "source": [
    "X_base_train, _, y_base_train, _ = load_dataset_train_test(PWD, PLANE, CHANNEL)\n",
    "X_train, X_val, y_train, y_val = load_dataset_train_val(PWD, PLANE, CHANNEL)\n",
    "\n",
    "X_base_train.shape, X_train.shape, X_val.shape"
   ],
   "metadata": {
    "collapsed": false,
    "ExecuteTime": {
     "start_time": "2023-04-22T12:50:50.271915Z",
     "end_time": "2023-04-22T12:50:50.300921Z"
    }
   }
  },
  {
   "cell_type": "markdown",
   "source": [
    "# Model"
   ],
   "metadata": {
    "collapsed": false
   }
  },
  {
   "cell_type": "code",
   "execution_count": 4,
   "outputs": [],
   "source": [
    "def model_builder(hp: kt.HyperParameters) -> keras.Model:\n",
    "    # Convolutional network params\n",
    "    hp_n_conv_blocks = hp.Int(\"n_conv_blocks\", min_value=1, max_value=3, step=1)\n",
    "    hp_n_conv_layers = hp.Int(\"n_conv_layers\", min_value=1, max_value=3, step=1)\n",
    "    hp_filters_mult = hp.Choice(\"conv_filters_mult\", values=[1, 2, 4, 8])\n",
    "    hp_conv_spatial_dropout = hp.Choice(\"conv_spatial_dropout\", values=[0.0, 0.1, 0.2])\n",
    "\n",
    "    # MLP at the end params\n",
    "    hp_mlp_n_hidden_layers = hp.Int(\"n_mlp_hidden_layers\", min_value=0, max_value=3, step=1, default=0)\n",
    "    hp_mlp_units_mult, hp_mlp_dropout = None, None\n",
    "    if hp_mlp_n_hidden_layers > 0:\n",
    "        hp_mlp_units_mult = hp.Choice(\"mlp_units_mult\", values=[1, 2, 4, 8, 16], default=4)\n",
    "        hp_mlp_dropout = hp.Choice(\"mlp_dropout\", values=[0.0, 0.2, 0.5])\n",
    "\n",
    "    # Other params\n",
    "    hp_batch_normalization = hp.Boolean(\"batch_normalization\", default=False)\n",
    "    hp_input_batch_normalization = hp.Boolean(\"input_batch_normalization\", default=False)\n",
    "    hp_normalize_signal = hp.Boolean(\"normalize_signal\", default=False)\n",
    "\n",
    "    model = bare_model_builder(hp_n_conv_blocks, hp_n_conv_layers, hp_filters_mult, hp_conv_spatial_dropout,\n",
    "                               hp_mlp_n_hidden_layers, hp_mlp_units_mult, hp_mlp_dropout, hp_batch_normalization,\n",
    "                               hp_input_batch_normalization, hp_normalize_signal)\n",
    "    model.compile(loss='mse', optimizer=optimizers.Adam(LR), loss_weights=LOSS_WEIGHT)\n",
    "    return model"
   ],
   "metadata": {
    "collapsed": false,
    "ExecuteTime": {
     "start_time": "2023-04-22T12:50:50.303920Z",
     "end_time": "2023-04-22T12:50:50.315923Z"
    }
   }
  },
  {
   "cell_type": "code",
   "execution_count": 5,
   "outputs": [
    {
     "name": "stdout",
     "output_type": "stream",
     "text": [
      "Model: \"sequential\"\n",
      "_________________________________________________________________\n",
      " Layer (type)                Output Shape              Param #   \n",
      "=================================================================\n",
      " reshape (Reshape)           (None, 24, 1)             0         \n",
      "                                                                 \n",
      " conv1d (Conv1D)             (None, 24, 8)             32        \n",
      "                                                                 \n",
      " max_pooling1d (MaxPooling1D  (None, 12, 8)            0         \n",
      " )                                                               \n",
      "                                                                 \n",
      " flatten (Flatten)           (None, 96)                0         \n",
      "                                                                 \n",
      " dense (Dense)               (None, 1)                 97        \n",
      "                                                                 \n",
      "=================================================================\n",
      "Total params: 129\n",
      "Trainable params: 129\n",
      "Non-trainable params: 0\n",
      "_________________________________________________________________\n"
     ]
    }
   ],
   "source": [
    "model_builder(kt.HyperParameters()).summary()"
   ],
   "metadata": {
    "collapsed": false,
    "ExecuteTime": {
     "start_time": "2023-04-22T12:50:50.316924Z",
     "end_time": "2023-04-22T12:50:50.834101Z"
    }
   }
  },
  {
   "cell_type": "code",
   "execution_count": 6,
   "outputs": [],
   "source": [
    "model_callbacks = [\n",
    "    callbacks.EarlyStopping(patience=60, min_delta=ES_MIN_DELTA),\n",
    "    callbacks.ReduceLROnPlateau(monitor='loss', factor=0.9, patience=10)\n",
    "]"
   ],
   "metadata": {
    "collapsed": false,
    "ExecuteTime": {
     "start_time": "2023-04-22T12:50:50.836101Z",
     "end_time": "2023-04-22T12:50:50.864297Z"
    }
   }
  },
  {
   "cell_type": "markdown",
   "source": [
    "# Bayesian tuner"
   ],
   "metadata": {
    "collapsed": false
   }
  },
  {
   "cell_type": "code",
   "execution_count": 7,
   "outputs": [],
   "source": [
    "bayesian_tuner = kt.BayesianOptimization(model_builder, objective='val_loss', executions_per_trial=EXECUTIONS_PER_TRIAL,\n",
    "                                         max_trials=MAX_TRIALS, directory=TRIALS_DIR, project_name=PROJECT_NAME,\n",
    "                                         overwrite=OVERWRITE)\n",
    "\n",
    "bayesian_tuner.search(X_train, y_train, validation_data=[X_val, y_val], epochs=N_EPOCHS, callbacks=model_callbacks,\n",
    "                      batch_size=BATCH_SIZE, verbose=3)"
   ],
   "metadata": {
    "collapsed": false,
    "ExecuteTime": {
     "start_time": "2023-04-22T12:50:50.849298Z",
     "end_time": "2023-04-22T12:50:50.915046Z"
    }
   }
  },
  {
   "cell_type": "markdown",
   "source": [
    "# Results"
   ],
   "metadata": {
    "collapsed": false
   }
  },
  {
   "cell_type": "code",
   "execution_count": 8,
   "outputs": [
    {
     "name": "stdout",
     "output_type": "stream",
     "text": [
      "========== Model 0 ==========\n",
      "{'n_conv_blocks': 1, 'n_conv_layers': 1, 'conv_filters_mult': 1, 'conv_spatial_dropout': 0.0, 'n_mlp_hidden_layers': 3, 'batch_normalization': True, 'input_batch_normalization': True, 'normalize_signal': False, 'mlp_units_mult': 16, 'mlp_dropout': 0.5}\n",
      "Number of parameters: 68001\n",
      "========== Model 1 ==========\n",
      "{'n_conv_blocks': 1, 'n_conv_layers': 3, 'conv_filters_mult': 2, 'conv_spatial_dropout': 0.0, 'n_mlp_hidden_layers': 0, 'batch_normalization': False, 'input_batch_normalization': True, 'normalize_signal': False, 'mlp_units_mult': 8, 'mlp_dropout': 0.5}\n",
      "Number of parameters: 1921\n",
      "========== Model 2 ==========\n",
      "{'n_conv_blocks': 1, 'n_conv_layers': 2, 'conv_filters_mult': 8, 'conv_spatial_dropout': 0.2, 'n_mlp_hidden_layers': 3, 'batch_normalization': False, 'input_batch_normalization': False, 'normalize_signal': False, 'mlp_units_mult': 2, 'mlp_dropout': 0.0}\n",
      "Number of parameters: 37889\n",
      "========== Model 3 ==========\n",
      "{'n_conv_blocks': 2, 'n_conv_layers': 1, 'conv_filters_mult': 8, 'conv_spatial_dropout': 0.1, 'n_mlp_hidden_layers': 0, 'batch_normalization': False, 'input_batch_normalization': False, 'normalize_signal': False, 'mlp_units_mult': 4, 'mlp_dropout': 0.5}\n",
      "Number of parameters: 25729\n",
      "========== Model 4 ==========\n",
      "{'n_conv_blocks': 3, 'n_conv_layers': 3, 'conv_filters_mult': 4, 'conv_spatial_dropout': 0.1, 'n_mlp_hidden_layers': 2, 'batch_normalization': True, 'input_batch_normalization': True, 'normalize_signal': False, 'mlp_units_mult': 2, 'mlp_dropout': 0.2}\n",
      "Number of parameters: 169697\n"
     ]
    }
   ],
   "source": [
    "for i, hyperparameters in enumerate(bayesian_tuner.get_best_hyperparameters(TOP_N)):\n",
    "    print(f'========== Model {i} ==========')\n",
    "    print(hyperparameters.get_config()['values'])\n",
    "    model_tmp = model_builder(hyperparameters)\n",
    "    print('Number of parameters:', count_params(model_tmp))"
   ],
   "metadata": {
    "collapsed": false,
    "ExecuteTime": {
     "start_time": "2023-04-22T12:50:50.916050Z",
     "end_time": "2023-04-22T12:50:51.271016Z"
    }
   }
  },
  {
   "cell_type": "markdown",
   "source": [
    "# Cross-validation for top 5 models"
   ],
   "metadata": {
    "collapsed": false
   }
  },
  {
   "cell_type": "code",
   "execution_count": 9,
   "outputs": [
    {
     "data": {
      "text/plain": "<IPython.core.display.HTML object>",
      "text/html": "<h3>Model 0</h3>"
     },
     "metadata": {},
     "output_type": "display_data"
    },
    {
     "name": "stdout",
     "output_type": "stream",
     "text": [
      "{'n_conv_blocks': 1, 'n_conv_layers': 1, 'conv_filters_mult': 1, 'conv_spatial_dropout': 0.0, 'n_mlp_hidden_layers': 3, 'batch_normalization': True, 'input_batch_normalization': True, 'normalize_signal': False, 'mlp_units_mult': 16, 'mlp_dropout': 0.5}\n",
      "Number of parameters: 68001\n",
      "Got score: 8.7402 (8.7650, 8.7155)\n",
      "Got score: 8.4756 (8.5962, 8.3551)\n",
      "Got score: 8.3256 (8.3760, 8.2752)\n",
      "Got score: 8.6123 (8.6478, 8.5768)\n",
      "Got score: 8.9057 (8.8743, 8.9371)\n"
     ]
    },
    {
     "data": {
      "text/plain": "<IPython.core.display.HTML object>",
      "text/html": "<h3>Model 1</h3>"
     },
     "metadata": {},
     "output_type": "display_data"
    },
    {
     "name": "stdout",
     "output_type": "stream",
     "text": [
      "{'n_conv_blocks': 1, 'n_conv_layers': 3, 'conv_filters_mult': 2, 'conv_spatial_dropout': 0.0, 'n_mlp_hidden_layers': 0, 'batch_normalization': False, 'input_batch_normalization': True, 'normalize_signal': False, 'mlp_units_mult': 8, 'mlp_dropout': 0.5}\n",
      "Number of parameters: 1921\n",
      "Got score: 9.0949 (8.7066, 9.4832)\n",
      "Got score: 8.5006 (8.4546, 8.5465)\n",
      "Got score: 8.2513 (8.2543, 8.2482)\n",
      "Got score: 8.6285 (8.7160, 8.5410)\n",
      "Got score: 8.9366 (8.9617, 8.9114)\n"
     ]
    },
    {
     "data": {
      "text/plain": "<IPython.core.display.HTML object>",
      "text/html": "<h3>Model 2</h3>"
     },
     "metadata": {},
     "output_type": "display_data"
    },
    {
     "name": "stdout",
     "output_type": "stream",
     "text": [
      "{'n_conv_blocks': 1, 'n_conv_layers': 2, 'conv_filters_mult': 8, 'conv_spatial_dropout': 0.2, 'n_mlp_hidden_layers': 3, 'batch_normalization': False, 'input_batch_normalization': False, 'normalize_signal': False, 'mlp_units_mult': 2, 'mlp_dropout': 0.0}\n",
      "Number of parameters: 37889\n",
      "Got score: 9.0500 (9.2962, 8.8038)\n",
      "Got score: 16.0243 (17.9504, 14.0982)\n",
      "Got score: 8.8217 (8.8983, 8.7452)\n",
      "Got score: 11.7055 (8.8412, 14.5699)\n",
      "Got score: 9.7360 (9.1258, 10.3463)\n"
     ]
    },
    {
     "data": {
      "text/plain": "<IPython.core.display.HTML object>",
      "text/html": "<h3>Model 3</h3>"
     },
     "metadata": {},
     "output_type": "display_data"
    },
    {
     "name": "stdout",
     "output_type": "stream",
     "text": [
      "{'n_conv_blocks': 2, 'n_conv_layers': 1, 'conv_filters_mult': 8, 'conv_spatial_dropout': 0.1, 'n_mlp_hidden_layers': 0, 'batch_normalization': False, 'input_batch_normalization': False, 'normalize_signal': False, 'mlp_units_mult': 4, 'mlp_dropout': 0.5}\n",
      "Number of parameters: 25729\n",
      "Got score: 8.8281 (8.9187, 8.7375)\n",
      "Got score: 8.4746 (8.4815, 8.4677)\n",
      "Got score: 8.2900 (8.2953, 8.2847)\n",
      "Got score: 8.6383 (8.7222, 8.5543)\n",
      "Got score: 9.1201 (9.1879, 9.0523)\n"
     ]
    },
    {
     "data": {
      "text/plain": "<IPython.core.display.HTML object>",
      "text/html": "<h3>Model 4</h3>"
     },
     "metadata": {},
     "output_type": "display_data"
    },
    {
     "name": "stdout",
     "output_type": "stream",
     "text": [
      "{'n_conv_blocks': 3, 'n_conv_layers': 3, 'conv_filters_mult': 4, 'conv_spatial_dropout': 0.1, 'n_mlp_hidden_layers': 2, 'batch_normalization': True, 'input_batch_normalization': True, 'normalize_signal': False, 'mlp_units_mult': 2, 'mlp_dropout': 0.2}\n",
      "Number of parameters: 169697\n",
      "Got score: 8.9489 (8.9664, 8.9315)\n",
      "Got score: 8.5657 (8.5100, 8.6214)\n",
      "Got score: 8.4334 (8.3788, 8.4879)\n",
      "Got score: 8.5062 (8.5077, 8.5046)\n",
      "Got score: 9.1907 (9.2662, 9.1152)\n"
     ]
    }
   ],
   "source": [
    "cross_validator = KerasTunerCrossValidator(bayesian_tuner, X_base_train, y_base_train, model_builder,\n",
    "                                           directory=CROSSVAL_DIR, project_name=PROJECT_NAME,\n",
    "                                           n_epochs=N_EPOCHS, batch_size=BATCH_SIZE, n_top=TOP_N,\n",
    "                                           es_min_delta=ES_MIN_DELTA, n_cv=CROSSVAL_N_CV, n_executions=CROSSVAL_N_EXEC,\n",
    "                                           overwrite=OVERWRITE)\n",
    "model_scores = cross_validator()"
   ],
   "metadata": {
    "collapsed": false,
    "ExecuteTime": {
     "start_time": "2023-04-22T12:50:51.272017Z",
     "end_time": "2023-04-22T12:50:51.677088Z"
    }
   }
  },
  {
   "cell_type": "code",
   "execution_count": 10,
   "outputs": [
    {
     "data": {
      "text/plain": "        mean   std  n_params\nModel                       \n0       8.61  0.20     68001\n1       8.68  0.30      1921\n2      11.07  2.68     37889\n3       8.67  0.29     25729\n4       8.73  0.29    169697",
      "text/html": "<div>\n<style scoped>\n    .dataframe tbody tr th:only-of-type {\n        vertical-align: middle;\n    }\n\n    .dataframe tbody tr th {\n        vertical-align: top;\n    }\n\n    .dataframe thead th {\n        text-align: right;\n    }\n</style>\n<table border=\"1\" class=\"dataframe\">\n  <thead>\n    <tr style=\"text-align: right;\">\n      <th></th>\n      <th>mean</th>\n      <th>std</th>\n      <th>n_params</th>\n    </tr>\n    <tr>\n      <th>Model</th>\n      <th></th>\n      <th></th>\n      <th></th>\n    </tr>\n  </thead>\n  <tbody>\n    <tr>\n      <th>0</th>\n      <td>8.61</td>\n      <td>0.20</td>\n      <td>68001</td>\n    </tr>\n    <tr>\n      <th>1</th>\n      <td>8.68</td>\n      <td>0.30</td>\n      <td>1921</td>\n    </tr>\n    <tr>\n      <th>2</th>\n      <td>11.07</td>\n      <td>2.68</td>\n      <td>37889</td>\n    </tr>\n    <tr>\n      <th>3</th>\n      <td>8.67</td>\n      <td>0.29</td>\n      <td>25729</td>\n    </tr>\n    <tr>\n      <th>4</th>\n      <td>8.73</td>\n      <td>0.29</td>\n      <td>169697</td>\n    </tr>\n  </tbody>\n</table>\n</div>"
     },
     "execution_count": 10,
     "metadata": {},
     "output_type": "execute_result"
    }
   ],
   "source": [
    "mean_scores = [f\"{np.mean(scores):0.2f}\" for scores in model_scores.values()]\n",
    "std_scores = [f\"{np.std(scores):0.2f}\" for scores in model_scores.values()]\n",
    "n_params = [count_params(model_builder(hyperparameters)) for hyperparameters in\n",
    "            bayesian_tuner.get_best_hyperparameters(TOP_N)]\n",
    "\n",
    "df = pd.DataFrame({'mean': mean_scores, 'std': std_scores, 'n_params': n_params}, index=model_scores.keys())\n",
    "df.index.name = 'Model'\n",
    "df"
   ],
   "metadata": {
    "collapsed": false,
    "ExecuteTime": {
     "start_time": "2023-04-22T12:50:51.679088Z",
     "end_time": "2023-04-22T12:50:52.005860Z"
    }
   }
  },
  {
   "cell_type": "code",
   "execution_count": 10,
   "outputs": [],
   "source": [],
   "metadata": {
    "collapsed": false,
    "ExecuteTime": {
     "start_time": "2023-04-22T12:50:52.006859Z",
     "end_time": "2023-04-22T12:50:52.025080Z"
    }
   }
  }
 ],
 "metadata": {
  "kernelspec": {
   "display_name": "Python 3",
   "language": "python",
   "name": "python3"
  },
  "language_info": {
   "codemirror_mode": {
    "name": "ipython",
    "version": 2
   },
   "file_extension": ".py",
   "mimetype": "text/x-python",
   "name": "python",
   "nbconvert_exporter": "python",
   "pygments_lexer": "ipython2",
   "version": "2.7.6"
  }
 },
 "nbformat": 4,
 "nbformat_minor": 0
}
