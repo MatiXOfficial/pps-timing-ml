{
 "cells": [
  {
   "cell_type": "code",
   "execution_count": 1,
   "metadata": {
    "collapsed": true,
    "ExecuteTime": {
     "end_time": "2023-08-19T21:49:36.724885800Z",
     "start_time": "2023-08-19T21:49:34.731765700Z"
    }
   },
   "outputs": [],
   "source": [
    "import sys\n",
    "\n",
    "import keras_tuner as kt\n",
    "import numpy as np\n",
    "import pandas as pd\n",
    "import tensorflow as tf\n",
    "from tensorflow import keras\n",
    "from tensorflow.keras import callbacks\n",
    "from tensorflow.keras import optimizers\n",
    "\n",
    "from src.cross_validator import KerasTunerAllChannelsCrossValidator\n",
    "from src.dataset import load_dataset_train_val_all_channels, \\\n",
    "    load_dataset_train_test_all_channels\n",
    "from src.models import unet_builder as bare_model_builder\n",
    "from src.network_utils import count_params, gaussian_kernel\n",
    "\n",
    "PWD = '../../..'\n",
    "sys.path.append(PWD)\n",
    "\n",
    "tf.get_logger().setLevel('ERROR')"
   ]
  },
  {
   "cell_type": "code",
   "execution_count": 2,
   "outputs": [],
   "source": [
    "PROJECT_NAME = 'unet'\n",
    "\n",
    "OVERWRITE = False\n",
    "\n",
    "DATASET_PATH = PWD + '/data/dataset/dataset.pkl'\n",
    "TRIALS_DIR = PWD + f'/data/model_selection/channel_all/tuner'\n",
    "CROSSVAL_DIR = PWD + f'/data/model_selection/channel_all/cross_val'\n",
    "\n",
    "LR = 0.01\n",
    "ES_MIN_DELTA = 0.01\n",
    "\n",
    "N_EPOCHS = 500\n",
    "BATCH_SIZE = 8096\n",
    "MAX_TRIALS = 40\n",
    "EXECUTIONS_PER_TRIAL = 2\n",
    "\n",
    "TOP_N = 5\n",
    "CROSSVAL_N_CV = 5\n",
    "CROSSVAL_N_EXEC = 2\n",
    "LOSS_WEIGHT = 1000"
   ],
   "metadata": {
    "collapsed": false,
    "ExecuteTime": {
     "end_time": "2023-08-19T21:49:36.738997600Z",
     "start_time": "2023-08-19T21:49:36.725886Z"
    }
   }
  },
  {
   "cell_type": "code",
   "execution_count": 3,
   "outputs": [
    {
     "data": {
      "text/plain": "((22134, 24), (22134,))"
     },
     "execution_count": 3,
     "metadata": {},
     "output_type": "execute_result"
    }
   ],
   "source": [
    "X_all, _, y_all_original, _ = load_dataset_train_test_all_channels(PWD)\n",
    "\n",
    "X_all[(2, 11)].shape, y_all_original[(2, 11)].shape"
   ],
   "metadata": {
    "collapsed": false,
    "ExecuteTime": {
     "end_time": "2023-08-19T21:49:36.770452100Z",
     "start_time": "2023-08-19T21:49:36.739997900Z"
    }
   }
  },
  {
   "cell_type": "code",
   "execution_count": 4,
   "outputs": [
    {
     "data": {
      "text/plain": "((84824, 24), (84824,), (21208, 24), (21208,))"
     },
     "execution_count": 4,
     "metadata": {},
     "output_type": "execute_result"
    }
   ],
   "source": [
    "X_train, X_val, y_train_original, y_val_original = load_dataset_train_val_all_channels(PWD)\n",
    "\n",
    "X_train = np.concatenate(list(X_train.values()))\n",
    "y_train_original = np.concatenate(list(y_train_original.values()))\n",
    "X_val = np.concatenate(list(X_val.values()))\n",
    "y_val_original = np.concatenate(list(y_val_original.values()))\n",
    "\n",
    "rng = np.random.default_rng(seed=42)\n",
    "\n",
    "train_idx, val_idx = np.arange(len(X_train)), np.arange(len(X_val))\n",
    "rng.shuffle(train_idx)\n",
    "rng.shuffle(val_idx)\n",
    "\n",
    "X_train, y_train_original = X_train[train_idx], y_train_original[train_idx]\n",
    "X_val, y_val_original = X_val[val_idx], y_val_original[val_idx]\n",
    "\n",
    "X_train.shape, y_train_original.shape, X_val.shape, y_val_original.shape"
   ],
   "metadata": {
    "collapsed": false,
    "ExecuteTime": {
     "end_time": "2023-08-19T21:49:36.832712600Z",
     "start_time": "2023-08-19T21:49:36.772960200Z"
    }
   }
  },
  {
   "cell_type": "code",
   "execution_count": 5,
   "outputs": [
    {
     "data": {
      "text/plain": "((22134,), (84824, 24), (21208, 24))"
     },
     "execution_count": 5,
     "metadata": {},
     "output_type": "execute_result"
    }
   ],
   "source": [
    "y_all = {key: np.array([gaussian_kernel(y) for y in val]) for key, val in y_all_original.items()}\n",
    "y_train = np.array([gaussian_kernel(y) for y in y_train_original])\n",
    "y_val = np.array([gaussian_kernel(y) for y in y_val_original])\n",
    "\n",
    "y_all_original[(2, 11)].shape, y_train.shape, y_val.shape"
   ],
   "metadata": {
    "collapsed": false,
    "ExecuteTime": {
     "end_time": "2023-08-19T21:49:37.429096800Z",
     "start_time": "2023-08-19T21:49:36.833711800Z"
    }
   }
  },
  {
   "cell_type": "markdown",
   "source": [
    "# Model"
   ],
   "metadata": {
    "collapsed": false
   }
  },
  {
   "cell_type": "code",
   "execution_count": 6,
   "outputs": [],
   "source": [
    "def model_builder(hp: kt.HyperParameters) -> keras.Model:\n",
    "    hp_unet_depth = hp.Int(\"unet_depth\", min_value=0, max_value=3, step=1, default=2)\n",
    "    hp_n_conv_layers = hp.Int(\"n_conv_layers\", min_value=1, max_value=3, step=1)\n",
    "    hp_filters_mult = hp.Choice(\"conv_filters_mult\", values=[1, 2, 4, 8, 16], default=4)\n",
    "    hp_spatial_dropout = hp.Choice(\"conv_spatial_dropout\", values=[0.0, 0.1, 0.2])\n",
    "    hp_batch_normalization = hp.Boolean(\"batch_normalization\", default=False)\n",
    "    hp_input_batch_normalization = hp.Boolean(\"input_batch_normalization\", default=False)\n",
    "    hp_normalize_signal = hp.Boolean(\"normalize_signal\", default=False)\n",
    "\n",
    "    model = bare_model_builder(hp_unet_depth, hp_n_conv_layers, hp_filters_mult, hp_spatial_dropout,\n",
    "                               hp_batch_normalization, hp_input_batch_normalization, hp_normalize_signal)\n",
    "    model.compile(loss='mse', optimizer=optimizers.Adam(LR), loss_weights=LOSS_WEIGHT)\n",
    "    return model"
   ],
   "metadata": {
    "collapsed": false,
    "ExecuteTime": {
     "end_time": "2023-08-19T21:49:37.459731900Z",
     "start_time": "2023-08-19T21:49:37.432129400Z"
    }
   }
  },
  {
   "cell_type": "code",
   "execution_count": 7,
   "outputs": [
    {
     "name": "stdout",
     "output_type": "stream",
     "text": [
      "Model: \"model\"\n",
      "__________________________________________________________________________________________________\n",
      " Layer (type)                   Output Shape         Param #     Connected to                     \n",
      "==================================================================================================\n",
      " input_1 (InputLayer)           [(None, 24)]         0           []                               \n",
      "                                                                                                  \n",
      " reshape (Reshape)              (None, 24, 1)        0           ['input_1[0][0]']                \n",
      "                                                                                                  \n",
      " conv1d (Conv1D)                (None, 24, 32)       96          ['reshape[0][0]']                \n",
      "                                                                                                  \n",
      " max_pooling1d (MaxPooling1D)   (None, 12, 32)       0           ['conv1d[0][0]']                 \n",
      "                                                                                                  \n",
      " conv1d_1 (Conv1D)              (None, 12, 64)       4160        ['max_pooling1d[0][0]']          \n",
      "                                                                                                  \n",
      " max_pooling1d_1 (MaxPooling1D)  (None, 6, 64)       0           ['conv1d_1[0][0]']               \n",
      "                                                                                                  \n",
      " conv1d_2 (Conv1D)              (None, 6, 128)       16512       ['max_pooling1d_1[0][0]']        \n",
      "                                                                                                  \n",
      " up_sampling1d (UpSampling1D)   (None, 12, 128)      0           ['conv1d_2[0][0]']               \n",
      "                                                                                                  \n",
      " conv1d_3 (Conv1D)              (None, 12, 64)       8256        ['up_sampling1d[0][0]']          \n",
      "                                                                                                  \n",
      " concatenate (Concatenate)      (None, 12, 128)      0           ['conv1d_1[0][0]',               \n",
      "                                                                  'conv1d_3[0][0]']               \n",
      "                                                                                                  \n",
      " conv1d_4 (Conv1D)              (None, 12, 64)       24640       ['concatenate[0][0]']            \n",
      "                                                                                                  \n",
      " up_sampling1d_1 (UpSampling1D)  (None, 24, 64)      0           ['conv1d_4[0][0]']               \n",
      "                                                                                                  \n",
      " conv1d_5 (Conv1D)              (None, 24, 32)       2080        ['up_sampling1d_1[0][0]']        \n",
      "                                                                                                  \n",
      " concatenate_1 (Concatenate)    (None, 24, 64)       0           ['conv1d[0][0]',                 \n",
      "                                                                  'conv1d_5[0][0]']               \n",
      "                                                                                                  \n",
      " conv1d_6 (Conv1D)              (None, 24, 32)       6176        ['concatenate_1[0][0]']          \n",
      "                                                                                                  \n",
      " conv1d_7 (Conv1D)              (None, 24, 1)        33          ['conv1d_6[0][0]']               \n",
      "                                                                                                  \n",
      " flatten (Flatten)              (None, 24)           0           ['conv1d_7[0][0]']               \n",
      "                                                                                                  \n",
      "==================================================================================================\n",
      "Total params: 61,953\n",
      "Trainable params: 61,953\n",
      "Non-trainable params: 0\n",
      "__________________________________________________________________________________________________\n"
     ]
    }
   ],
   "source": [
    "model_builder(kt.HyperParameters()).summary()"
   ],
   "metadata": {
    "collapsed": false,
    "ExecuteTime": {
     "end_time": "2023-08-19T21:49:38.054424700Z",
     "start_time": "2023-08-19T21:49:37.450680600Z"
    }
   }
  },
  {
   "cell_type": "code",
   "execution_count": 8,
   "outputs": [],
   "source": [
    "model_callbacks = [\n",
    "    callbacks.EarlyStopping(patience=30, min_delta=ES_MIN_DELTA),\n",
    "    callbacks.ReduceLROnPlateau(monitor='loss', factor=0.9, patience=5)\n",
    "]"
   ],
   "metadata": {
    "collapsed": false,
    "ExecuteTime": {
     "end_time": "2023-08-19T21:49:38.059425700Z",
     "start_time": "2023-08-19T21:49:38.025865200Z"
    }
   }
  },
  {
   "cell_type": "markdown",
   "source": [
    "# Bayesian tuner"
   ],
   "metadata": {
    "collapsed": false
   }
  },
  {
   "cell_type": "code",
   "execution_count": 9,
   "outputs": [],
   "source": [
    "bayesian_tuner = kt.BayesianOptimization(model_builder, objective='val_loss', executions_per_trial=EXECUTIONS_PER_TRIAL,\n",
    "                                         max_trials=MAX_TRIALS, directory=TRIALS_DIR, project_name=PROJECT_NAME,\n",
    "                                         overwrite=OVERWRITE)\n",
    "\n",
    "bayesian_tuner.search(X_train, y_train, validation_data=[X_val, y_val], epochs=N_EPOCHS, callbacks=model_callbacks,\n",
    "                      batch_size=BATCH_SIZE, verbose=3)"
   ],
   "metadata": {
    "collapsed": false,
    "ExecuteTime": {
     "end_time": "2023-08-19T21:49:38.102516400Z",
     "start_time": "2023-08-19T21:49:38.041646900Z"
    }
   }
  },
  {
   "cell_type": "markdown",
   "source": [
    "# Results"
   ],
   "metadata": {
    "collapsed": false
   }
  },
  {
   "cell_type": "code",
   "execution_count": 10,
   "outputs": [
    {
     "name": "stdout",
     "output_type": "stream",
     "text": [
      "========== Model 0 ==========\n",
      "{'unet_depth': 3, 'n_conv_layers': 3, 'conv_filters_mult': 1, 'conv_spatial_dropout': 0.0, 'batch_normalization': False, 'input_batch_normalization': False, 'normalize_signal': False}\n",
      "Number of parameters: 46561\n",
      "========== Model 1 ==========\n",
      "{'unet_depth': 3, 'n_conv_layers': 3, 'conv_filters_mult': 8, 'conv_spatial_dropout': 0.2, 'batch_normalization': True, 'input_batch_normalization': True, 'normalize_signal': False}\n",
      "Number of parameters: 2962785\n",
      "========== Model 2 ==========\n",
      "{'unet_depth': 2, 'n_conv_layers': 2, 'conv_filters_mult': 1, 'conv_spatial_dropout': 0.0, 'batch_normalization': True, 'input_batch_normalization': True, 'normalize_signal': False}\n",
      "Number of parameters: 8433\n",
      "========== Model 3 ==========\n",
      "{'unet_depth': 3, 'n_conv_layers': 3, 'conv_filters_mult': 8, 'conv_spatial_dropout': 0.1, 'batch_normalization': True, 'input_batch_normalization': False, 'normalize_signal': False}\n",
      "Number of parameters: 2962689\n",
      "========== Model 4 ==========\n",
      "{'unet_depth': 2, 'n_conv_layers': 2, 'conv_filters_mult': 1, 'conv_spatial_dropout': 0.0, 'batch_normalization': True, 'input_batch_normalization': True, 'normalize_signal': False}\n",
      "Number of parameters: 8433\n"
     ]
    }
   ],
   "source": [
    "for i, hyperparameters in enumerate(bayesian_tuner.get_best_hyperparameters(TOP_N)):\n",
    "    print(f'========== Model {i} ==========')\n",
    "    print(hyperparameters.get_config()['values'])\n",
    "    model_tmp = model_builder(hyperparameters)\n",
    "    print('Number of parameters:', count_params(model_tmp))"
   ],
   "metadata": {
    "collapsed": false,
    "ExecuteTime": {
     "end_time": "2023-08-19T21:49:39.210102900Z",
     "start_time": "2023-08-19T21:49:38.104513Z"
    }
   }
  },
  {
   "cell_type": "markdown",
   "source": [
    "# Cross-validation for top 5 models"
   ],
   "metadata": {
    "collapsed": false
   }
  },
  {
   "cell_type": "code",
   "execution_count": 11,
   "outputs": [
    {
     "data": {
      "text/plain": "<IPython.core.display.HTML object>",
      "text/html": "<h3>Model 0</h3>"
     },
     "metadata": {},
     "output_type": "display_data"
    },
    {
     "name": "stdout",
     "output_type": "stream",
     "text": [
      "{'unet_depth': 3, 'n_conv_layers': 3, 'conv_filters_mult': 1, 'conv_spatial_dropout': 0.0, 'batch_normalization': False, 'input_batch_normalization': False, 'normalize_signal': False}\n",
      "Number of parameters: 46561\n",
      "Got score: 12.8156 (12.8066, 12.8246)\n",
      "Got score: 12.7737 (12.7530, 12.7945)\n",
      "Got score: 12.7066 (12.7813, 12.6320)\n",
      "Got score: 12.7870 (12.8723, 12.7016)\n",
      "Got score: 12.8557 (12.8583, 12.8531)\n"
     ]
    },
    {
     "data": {
      "text/plain": "<IPython.core.display.HTML object>",
      "text/html": "<h3>Model 1</h3>"
     },
     "metadata": {},
     "output_type": "display_data"
    },
    {
     "name": "stdout",
     "output_type": "stream",
     "text": [
      "{'unet_depth': 3, 'n_conv_layers': 3, 'conv_filters_mult': 8, 'conv_spatial_dropout': 0.2, 'batch_normalization': True, 'input_batch_normalization': True, 'normalize_signal': False}\n",
      "Number of parameters: 2962785\n",
      "Got score: 12.8352 (12.8367, 12.8337)\n",
      "Got score: 12.6181 (12.6173, 12.6189)\n",
      "Got score: 12.7433 (12.7509, 12.7357)\n",
      "Got score: 12.7027 (12.7072, 12.6983)\n",
      "Got score: 12.7850 (12.8638, 12.7062)\n"
     ]
    },
    {
     "data": {
      "text/plain": "<IPython.core.display.HTML object>",
      "text/html": "<h3>Model 2</h3>"
     },
     "metadata": {},
     "output_type": "display_data"
    },
    {
     "name": "stdout",
     "output_type": "stream",
     "text": [
      "{'unet_depth': 2, 'n_conv_layers': 2, 'conv_filters_mult': 1, 'conv_spatial_dropout': 0.0, 'batch_normalization': True, 'input_batch_normalization': True, 'normalize_signal': False}\n",
      "Number of parameters: 8433\n",
      "Got score: 12.9644 (12.9316, 12.9972)\n",
      "Got score: 12.8333 (12.8731, 12.7934)\n",
      "Got score: 12.8238 (12.8091, 12.8386)\n",
      "Got score: 12.7235 (12.7046, 12.7424)\n",
      "Got score: 13.0468 (13.0317, 13.0619)\n"
     ]
    },
    {
     "data": {
      "text/plain": "<IPython.core.display.HTML object>",
      "text/html": "<h3>Model 3</h3>"
     },
     "metadata": {},
     "output_type": "display_data"
    },
    {
     "name": "stdout",
     "output_type": "stream",
     "text": [
      "{'unet_depth': 3, 'n_conv_layers': 3, 'conv_filters_mult': 8, 'conv_spatial_dropout': 0.1, 'batch_normalization': True, 'input_batch_normalization': False, 'normalize_signal': False}\n",
      "Number of parameters: 2962689\n",
      "Got score: 52.5601 (92.0649, 13.0554)\n",
      "Got score: 52.6401 (13.6434, 91.6369)\n",
      "Got score: 77.8079 (94.5294, 61.0865)\n",
      "Got score: 88.5235 (92.3135, 84.7334)\n",
      "Got score: 82.3447 (92.2253, 72.4640)\n"
     ]
    },
    {
     "data": {
      "text/plain": "<IPython.core.display.HTML object>",
      "text/html": "<h3>Model 4</h3>"
     },
     "metadata": {},
     "output_type": "display_data"
    },
    {
     "name": "stdout",
     "output_type": "stream",
     "text": [
      "{'unet_depth': 2, 'n_conv_layers': 2, 'conv_filters_mult': 1, 'conv_spatial_dropout': 0.0, 'batch_normalization': True, 'input_batch_normalization': True, 'normalize_signal': False}\n",
      "Number of parameters: 8433\n",
      "Got score: 12.8817 (12.9013, 12.8620)\n",
      "Got score: 12.8066 (12.8026, 12.8106)\n",
      "Got score: 12.8603 (12.9213, 12.7993)\n",
      "Got score: 12.7447 (12.6538, 12.8356)\n",
      "Got score: 12.9752 (12.9658, 12.9845)\n"
     ]
    }
   ],
   "source": [
    "cross_validator = KerasTunerAllChannelsCrossValidator(bayesian_tuner, list(X_all.values()), list(y_all.values()),\n",
    "                                                      model_builder, directory=CROSSVAL_DIR, project_name=PROJECT_NAME,\n",
    "                                                      n_epochs=N_EPOCHS, batch_size=BATCH_SIZE, n_top=TOP_N,\n",
    "                                                      es_min_delta=ES_MIN_DELTA, n_cv=CROSSVAL_N_CV,\n",
    "                                                      n_executions=CROSSVAL_N_EXEC, overwrite=OVERWRITE)\n",
    "model_scores = cross_validator()"
   ],
   "metadata": {
    "collapsed": false,
    "ExecuteTime": {
     "end_time": "2023-08-19T21:50:37.973206100Z",
     "start_time": "2023-08-19T21:49:39.210102900Z"
    }
   }
  },
  {
   "cell_type": "code",
   "execution_count": 12,
   "outputs": [
    {
     "data": {
      "text/plain": "        mean    std  n_params\nModel                        \n0      12.79   0.05     46561\n1      12.74   0.07   2962785\n2      12.88   0.11      8433\n3      70.78  15.22   2962689\n4      12.85   0.08      8433",
      "text/html": "<div>\n<style scoped>\n    .dataframe tbody tr th:only-of-type {\n        vertical-align: middle;\n    }\n\n    .dataframe tbody tr th {\n        vertical-align: top;\n    }\n\n    .dataframe thead th {\n        text-align: right;\n    }\n</style>\n<table border=\"1\" class=\"dataframe\">\n  <thead>\n    <tr style=\"text-align: right;\">\n      <th></th>\n      <th>mean</th>\n      <th>std</th>\n      <th>n_params</th>\n    </tr>\n    <tr>\n      <th>Model</th>\n      <th></th>\n      <th></th>\n      <th></th>\n    </tr>\n  </thead>\n  <tbody>\n    <tr>\n      <th>0</th>\n      <td>12.79</td>\n      <td>0.05</td>\n      <td>46561</td>\n    </tr>\n    <tr>\n      <th>1</th>\n      <td>12.74</td>\n      <td>0.07</td>\n      <td>2962785</td>\n    </tr>\n    <tr>\n      <th>2</th>\n      <td>12.88</td>\n      <td>0.11</td>\n      <td>8433</td>\n    </tr>\n    <tr>\n      <th>3</th>\n      <td>70.78</td>\n      <td>15.22</td>\n      <td>2962689</td>\n    </tr>\n    <tr>\n      <th>4</th>\n      <td>12.85</td>\n      <td>0.08</td>\n      <td>8433</td>\n    </tr>\n  </tbody>\n</table>\n</div>"
     },
     "execution_count": 12,
     "metadata": {},
     "output_type": "execute_result"
    }
   ],
   "source": [
    "mean_scores = [f\"{np.mean(scores):0.2f}\" for scores in model_scores.values()]\n",
    "std_scores = [f\"{np.std(scores):0.2f}\" for scores in model_scores.values()]\n",
    "n_params = [count_params(model_builder(hyperparameters)) for hyperparameters in\n",
    "            bayesian_tuner.get_best_hyperparameters(TOP_N)]\n",
    "\n",
    "df = pd.DataFrame({'mean': mean_scores, 'std': std_scores, 'n_params': n_params}, index=model_scores.keys())\n",
    "df.index.name = 'Model'\n",
    "df"
   ],
   "metadata": {
    "collapsed": false,
    "ExecuteTime": {
     "end_time": "2023-08-19T21:50:38.983402Z",
     "start_time": "2023-08-19T21:50:37.973206100Z"
    }
   }
  },
  {
   "cell_type": "code",
   "execution_count": 12,
   "outputs": [],
   "source": [],
   "metadata": {
    "collapsed": false,
    "ExecuteTime": {
     "end_time": "2023-08-19T21:50:39.002148200Z",
     "start_time": "2023-08-19T21:50:38.984401900Z"
    }
   }
  }
 ],
 "metadata": {
  "kernelspec": {
   "display_name": "Python 3",
   "language": "python",
   "name": "python3"
  },
  "language_info": {
   "codemirror_mode": {
    "name": "ipython",
    "version": 2
   },
   "file_extension": ".py",
   "mimetype": "text/x-python",
   "name": "python",
   "nbconvert_exporter": "python",
   "pygments_lexer": "ipython2",
   "version": "2.7.6"
  }
 },
 "nbformat": 4,
 "nbformat_minor": 0
}
