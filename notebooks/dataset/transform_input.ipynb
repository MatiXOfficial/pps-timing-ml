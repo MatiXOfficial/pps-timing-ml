{
 "cells": [
  {
   "cell_type": "code",
   "execution_count": 1,
   "id": "cb74bbdf-d2a6-4630-b8e1-784369c4197b",
   "metadata": {},
   "outputs": [],
   "source": [
    "import sys\n",
    "\n",
    "PWD = '../..'\n",
    "sys.path.append(PWD)\n",
    "\n",
    "from joblib import Parallel, delayed\n",
    "import time\n",
    "\n",
    "WAV_FILE_PATH = '../../data/input/waveforms.root'\n",
    "DATASET_PATH = '../../data/transformed_input/dataset.pkl'\n",
    "\n",
    "import uproot\n",
    "import pickle\n",
    "\n",
    "import numpy as np\n",
    "from matplotlib import pyplot as plt\n",
    "\n",
    "from src.cfd import CFD\n",
    "from src.waveform_data import EventData, WaveformData"
   ]
  },
  {
   "cell_type": "markdown",
   "id": "2b568720-9bc9-4b39-95f2-efce0303c69e",
   "metadata": {},
   "source": [
    "# Load file"
   ]
  },
  {
   "cell_type": "code",
   "execution_count": 2,
   "id": "806d744b-4c6a-49a0-acf9-a8efd5f6b8a0",
   "metadata": {},
   "outputs": [],
   "source": [
    "N_JOBS = 8"
   ]
  },
  {
   "cell_type": "code",
   "execution_count": 3,
   "id": "1f15af4a-bfd3-4aec-8098-e19fa678a5a9",
   "metadata": {},
   "outputs": [],
   "source": [
    "SECTOR = 'sector 56'\n",
    "STATION = 'station 220cyl'\n",
    "RP = 'cyl_hr'\n",
    "\n",
    "data_dir = f'wav/CTPPS/TimingDiamond/{SECTOR}/{STATION}/{RP}'"
   ]
  },
  {
   "cell_type": "code",
   "execution_count": 4,
   "id": "07be050a-47c5-4047-a75a-8355d6e7efed",
   "metadata": {},
   "outputs": [
    {
     "data": {
      "text/plain": [
       "120017"
      ]
     },
     "execution_count": 4,
     "metadata": {},
     "output_type": "execute_result"
    }
   ],
   "source": [
    "file_raw = uproot.open(WAV_FILE_PATH)\n",
    "\n",
    "len(file_raw[data_dir].keys(recursive=False))"
   ]
  },
  {
   "cell_type": "code",
   "execution_count": 5,
   "id": "602ee163-21c9-4be0-9c2f-55e34fbc338a",
   "metadata": {},
   "outputs": [
    {
     "data": {
      "text/plain": [
       "['event 3375;1',\n",
       " 'event 6341;1',\n",
       " 'event 7535;1',\n",
       " 'event 8570;1',\n",
       " 'event 9831;1',\n",
       " 'event 9900;1',\n",
       " 'event 10650;1',\n",
       " 'event 11542;1',\n",
       " 'event 13050;1',\n",
       " 'event 14400;1']"
      ]
     },
     "execution_count": 5,
     "metadata": {},
     "output_type": "execute_result"
    }
   ],
   "source": [
    "sorted_events = sorted(file_raw[data_dir].keys(recursive=False), key=lambda x: int(x[6:-2]))\n",
    "sorted_events[:10]"
   ]
  },
  {
   "cell_type": "markdown",
   "id": "0b0f4bfd-ca99-4831-9e3d-9736cf167ffe",
   "metadata": {},
   "source": [
    "# Transform the dataset"
   ]
  },
  {
   "cell_type": "code",
   "execution_count": 6,
   "id": "292500ad-797d-4b4b-aefe-e771321e0524",
   "metadata": {},
   "outputs": [
    {
     "name": "stdout",
     "output_type": "stream",
     "text": [
      "Elapsed time: 86.49 s\n"
     ]
    }
   ],
   "source": [
    "def find_slices(length, n):\n",
    "    interval = length // n\n",
    "    slices = [i * interval for i in range(n)] + [length]\n",
    "    return slices\n",
    "\n",
    "def transform_event_collection(file_raw, data_dir, events):\n",
    "    dataset = []\n",
    "    for event in events:\n",
    "        event_int = int(event[6:-2])\n",
    "        event_data = file_raw[data_dir][event]\n",
    "        dataset.append((event_int, EventData.from_event_data(event_data)))\n",
    "    return dataset\n",
    "\n",
    "start = time.time()\n",
    "slices = find_slices(len(sorted_events), N_JOBS)\n",
    "dataset = Parallel(n_jobs=N_JOBS)(delayed(transform_event_collection)(file_raw, data_dir, sorted_events[slices[i]:slices[i+1]]) for i in range(len(slices) - 1))\n",
    "dataset = dict(sum(dataset, []))\n",
    "end = time.time()\n",
    "print(f'Elapsed time: {end - start:0.2f} s')\n",
    "\n",
    "# store the dataset\n",
    "with open(DATASET_PATH, 'wb') as file:\n",
    "    pickle.dump(dataset, file)"
   ]
  },
  {
   "cell_type": "code",
   "execution_count": 7,
   "id": "2a94a97b-b5ef-4da1-aadf-438675d2c524",
   "metadata": {},
   "outputs": [],
   "source": [
    "# load the dataset\n",
    "with open(DATASET_PATH, 'rb') as file:\n",
    "    original_dataset = pickle.load(file)"
   ]
  },
  {
   "cell_type": "code",
   "execution_count": 8,
   "id": "a401851c-61f7-4249-9ae0-4f8b6626bde7",
   "metadata": {},
   "outputs": [
    {
     "name": "stdout",
     "output_type": "stream",
     "text": [
      "{'plane 1': {'channel 11': 't0: -8.286604881286621'}, 'plane 2': {'channel 11': 't0: 0.12372398376464844'}, 'plane 3': {'channel 11': 't0: -5.702384948730469'}}\n"
     ]
    }
   ],
   "source": [
    "print(original_dataset[3375])"
   ]
  },
  {
   "cell_type": "code",
   "execution_count": 9,
   "id": "7f03b81a-c68e-4daa-bffd-dd25a1db2141",
   "metadata": {},
   "outputs": [
    {
     "data": {
      "image/png": "[encoded data removed]",
      "text/plain": [
       "<Figure size 640x480 with 1 Axes>"
      ]
     },
     "metadata": {},
     "output_type": "display_data"
    }
   ],
   "source": [
    "def plot_hit_count_histogram(dataset, title='Hit count histogram'):\n",
    "    hit_count_histogram = [event_data.get_hit_count() for event_data in dataset.values()]\n",
    "\n",
    "    plt.hist(hit_count_histogram, bins=range(1, 8 + 2), align='left')\n",
    "    plt.title(title)\n",
    "    plt.xlabel('Number of hits')\n",
    "    \n",
    "plot_hit_count_histogram(original_dataset)\n",
    "plt.show()"
   ]
  },
  {
   "cell_type": "code",
   "execution_count": 10,
   "id": "297cc783-c675-4e9b-aaff-9e092ba6cf66",
   "metadata": {},
   "outputs": [],
   "source": [
    "file_raw.close()"
   ]
  }
 ],
 "metadata": {
  "kernelspec": {
   "display_name": "Python 3 (ipykernel)",
   "language": "python",
   "name": "python3"
  },
  "language_info": {
   "codemirror_mode": {
    "name": "ipython",
    "version": 3
   },
   "file_extension": ".py",
   "mimetype": "text/x-python",
   "name": "python",
   "nbconvert_exporter": "python",
   "pygments_lexer": "ipython3",
   "version": "3.11.0"
  }
 },
 "nbformat": 4,
 "nbformat_minor": 5
}
