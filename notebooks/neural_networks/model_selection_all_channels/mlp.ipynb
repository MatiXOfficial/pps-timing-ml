{
 "cells": [
  {
   "cell_type": "code",
   "execution_count": 1,
   "outputs": [],
   "source": [
    "import sys\n",
    "\n",
    "import keras_tuner as kt\n",
    "import numpy as np\n",
    "import pandas as pd\n",
    "import tensorflow as tf\n",
    "from tensorflow import keras\n",
    "from tensorflow.keras import callbacks\n",
    "from tensorflow.keras import optimizers\n",
    "\n",
    "from src.cross_validator import KerasTunerAllChannelsCrossValidator\n",
    "from src.dataset import load_dataset_train_val_all_channels, \\\n",
    "    load_dataset_train_test_all_channels\n",
    "from src.models import mlp_builder as bare_model_builder\n",
    "from src.network_utils import count_params\n",
    "\n",
    "PWD = '../../..'\n",
    "sys.path.append(PWD)\n",
    "\n",
    "tf.get_logger().setLevel('ERROR')"
   ],
   "metadata": {
    "collapsed": false,
    "ExecuteTime": {
     "end_time": "2023-06-22T14:38:14.387021100Z",
     "start_time": "2023-06-22T14:38:12.159582900Z"
    }
   }
  },
  {
   "cell_type": "code",
   "execution_count": 2,
   "outputs": [],
   "source": [
    "PROJECT_NAME = 'mlp'\n",
    "\n",
    "OVERWRITE = False\n",
    "\n",
    "DATASET_PATH = PWD + '/data/dataset/dataset.pkl'\n",
    "TRIALS_DIR = PWD + f'/data/model_selection/channel_all/tuner'\n",
    "CROSSVAL_DIR = PWD + f'/data/model_selection/channel_all/cross_val'\n",
    "\n",
    "LR = 0.01\n",
    "ES_MIN_DELTA = 0.01\n",
    "\n",
    "N_EPOCHS = 500\n",
    "BATCH_SIZE = 8096\n",
    "MAX_TRIALS = 40\n",
    "EXECUTIONS_PER_TRIAL = 2\n",
    "\n",
    "TOP_N = 5\n",
    "CROSSVAL_N_CV = 5\n",
    "CROSSVAL_N_EXEC = 2\n",
    "LOSS_WEIGHT = 1000"
   ],
   "metadata": {
    "collapsed": false,
    "ExecuteTime": {
     "end_time": "2023-06-22T14:38:14.404915500Z",
     "start_time": "2023-06-22T14:38:14.388119500Z"
    }
   }
  },
  {
   "cell_type": "code",
   "execution_count": 3,
   "outputs": [
    {
     "data": {
      "text/plain": "((22134, 24), (22134,))"
     },
     "execution_count": 3,
     "metadata": {},
     "output_type": "execute_result"
    }
   ],
   "source": [
    "X_all, _, y_all, _ = load_dataset_train_test_all_channels(PWD)\n",
    "\n",
    "X_all[(2, 11)].shape, y_all[(2, 11)].shape"
   ],
   "metadata": {
    "collapsed": false,
    "ExecuteTime": {
     "end_time": "2023-06-22T14:38:14.432915400Z",
     "start_time": "2023-06-22T14:38:14.403915700Z"
    }
   }
  },
  {
   "cell_type": "code",
   "execution_count": 4,
   "outputs": [
    {
     "data": {
      "text/plain": "((84824, 24), (84824,), (21208, 24), (21208,))"
     },
     "execution_count": 4,
     "metadata": {},
     "output_type": "execute_result"
    }
   ],
   "source": [
    "X_train, X_val, y_train, y_val = load_dataset_train_val_all_channels(PWD)\n",
    "\n",
    "X_train = np.concatenate(list(X_train.values()))\n",
    "y_train = np.concatenate(list(y_train.values()))\n",
    "X_val = np.concatenate(list(X_val.values()))\n",
    "y_val = np.concatenate(list(y_val.values()))\n",
    "\n",
    "rng = np.random.default_rng(seed=42)\n",
    "\n",
    "train_idx, val_idx = np.arange(len(X_train)), np.arange(len(X_val))\n",
    "rng.shuffle(train_idx)\n",
    "rng.shuffle(val_idx)\n",
    "\n",
    "X_train, y_train = X_train[train_idx], y_train[train_idx]\n",
    "X_val, y_val = X_val[val_idx], y_val[val_idx]\n",
    "\n",
    "X_train.shape, y_train.shape, X_val.shape, y_val.shape"
   ],
   "metadata": {
    "collapsed": false,
    "ExecuteTime": {
     "end_time": "2023-06-22T14:38:14.480915400Z",
     "start_time": "2023-06-22T14:38:14.434915700Z"
    }
   }
  },
  {
   "cell_type": "markdown",
   "source": [
    "# Model"
   ],
   "metadata": {
    "collapsed": false
   }
  },
  {
   "cell_type": "code",
   "execution_count": 5,
   "outputs": [],
   "source": [
    "def model_builder(hp: kt.HyperParameters) -> keras.Model:\n",
    "    hp_n_hidden_layers = hp.Int(\"n_hidden_layers\", min_value=1, max_value=8, step=1, default=2)\n",
    "    hp_units_mult = hp.Choice(\"units_mult\", values=[1, 2, 4, 8, 16, 32], default=4)\n",
    "    hp_unit_decrease_factor = hp.Choice(\"unit_decrease_factor\", values=[1.0, 1.5, 2.0], default=1.5)\n",
    "    hp_batch_normalization = hp.Boolean(\"batch_normalization\", default=False)\n",
    "    hp_input_batch_normalization = hp.Boolean(\"input_batch_normalization\", default=False)\n",
    "    hp_dropout = hp.Choice(\"dropout\", values=[0.0, 0.2, 0.5])\n",
    "    hp_normalize_signal = hp.Boolean(\"normalize_signal\", default=False)\n",
    "\n",
    "    model = bare_model_builder(hp_n_hidden_layers, hp_units_mult, hp_unit_decrease_factor, hp_batch_normalization,\n",
    "                               hp_input_batch_normalization, hp_dropout, hp_normalize_signal)\n",
    "    model.compile(loss='mse', optimizer=optimizers.Adam(LR), loss_weights=LOSS_WEIGHT)\n",
    "    return model"
   ],
   "metadata": {
    "collapsed": false,
    "ExecuteTime": {
     "end_time": "2023-06-22T14:38:14.497916100Z",
     "start_time": "2023-06-22T14:38:14.482916500Z"
    }
   }
  },
  {
   "cell_type": "code",
   "execution_count": 6,
   "outputs": [
    {
     "name": "stdout",
     "output_type": "stream",
     "text": [
      "Model: \"sequential\"\n",
      "_________________________________________________________________\n",
      " Layer (type)                Output Shape              Param #   \n",
      "=================================================================\n",
      " dense (Dense)               (None, 12)                300       \n",
      "                                                                 \n",
      " dense_1 (Dense)             (None, 18)                234       \n",
      "                                                                 \n",
      " dense_2 (Dense)             (None, 1)                 19        \n",
      "                                                                 \n",
      "=================================================================\n",
      "Total params: 553\n",
      "Trainable params: 553\n",
      "Non-trainable params: 0\n",
      "_________________________________________________________________\n"
     ]
    }
   ],
   "source": [
    "model_builder(kt.HyperParameters()).summary()"
   ],
   "metadata": {
    "collapsed": false,
    "ExecuteTime": {
     "end_time": "2023-06-22T14:38:14.997915600Z",
     "start_time": "2023-06-22T14:38:14.495915600Z"
    }
   }
  },
  {
   "cell_type": "code",
   "execution_count": 7,
   "outputs": [],
   "source": [
    "model_callbacks = [callbacks.EarlyStopping(patience=30, min_delta=ES_MIN_DELTA),\n",
    "                   callbacks.ReduceLROnPlateau(monitor='loss', factor=0.9, patience=5)]"
   ],
   "metadata": {
    "collapsed": false,
    "ExecuteTime": {
     "end_time": "2023-06-22T14:38:15.015795500Z",
     "start_time": "2023-06-22T14:38:14.999269200Z"
    }
   }
  },
  {
   "cell_type": "markdown",
   "source": [
    "# Bayesian tuner"
   ],
   "metadata": {
    "collapsed": false
   }
  },
  {
   "cell_type": "code",
   "execution_count": 8,
   "outputs": [
    {
     "name": "stdout",
     "output_type": "stream",
     "text": [
      "Trial 40 Complete [00h 00m 33s]\n",
      "val_loss: 9.798957824707031\n",
      "\n",
      "Best val_loss So Far: 8.853846549987793\n",
      "Total elapsed time: 01h 10m 09s\n"
     ]
    }
   ],
   "source": [
    "bayesian_tuner = kt.BayesianOptimization(model_builder, objective='val_loss', executions_per_trial=EXECUTIONS_PER_TRIAL,\n",
    "                                         max_trials=MAX_TRIALS, directory=TRIALS_DIR, project_name=PROJECT_NAME,\n",
    "                                         overwrite=OVERWRITE)\n",
    "\n",
    "bayesian_tuner.search(X_train, y_train, validation_data=[X_val, y_val], epochs=N_EPOCHS, callbacks=model_callbacks,\n",
    "                      batch_size=BATCH_SIZE, verbose=3)"
   ],
   "metadata": {
    "collapsed": false
   }
  },
  {
   "cell_type": "markdown",
   "source": [
    "# Results"
   ],
   "metadata": {
    "collapsed": false
   }
  },
  {
   "cell_type": "code",
   "execution_count": 9,
   "outputs": [
    {
     "name": "stdout",
     "output_type": "stream",
     "text": [
      "========== Model 0 ==========\n",
      "{'n_hidden_layers': 1, 'units_mult': 32, 'unit_decrease_factor': 2.0, 'batch_normalization': False, 'input_batch_normalization': True, 'dropout': 0.0, 'normalize_signal': False}\n",
      "Number of parameters: 2593\n",
      "========== Model 1 ==========\n",
      "{'n_hidden_layers': 1, 'units_mult': 32, 'unit_decrease_factor': 1.0, 'batch_normalization': False, 'input_batch_normalization': True, 'dropout': 0.0, 'normalize_signal': False}\n",
      "Number of parameters: 2593\n",
      "========== Model 2 ==========\n",
      "{'n_hidden_layers': 5, 'units_mult': 16, 'unit_decrease_factor': 1.0, 'batch_normalization': True, 'input_batch_normalization': True, 'dropout': 0.0, 'normalize_signal': False}\n",
      "Number of parameters: 11713\n",
      "========== Model 3 ==========\n",
      "{'n_hidden_layers': 1, 'units_mult': 32, 'unit_decrease_factor': 2.0, 'batch_normalization': True, 'input_batch_normalization': True, 'dropout': 0.0, 'normalize_signal': False}\n",
      "Number of parameters: 2977\n",
      "========== Model 4 ==========\n",
      "{'n_hidden_layers': 3, 'units_mult': 4, 'unit_decrease_factor': 1.0, 'batch_normalization': True, 'input_batch_normalization': True, 'dropout': 0.0, 'normalize_signal': False}\n",
      "Number of parameters: 865\n"
     ]
    }
   ],
   "source": [
    "for i, hyperparameters in enumerate(bayesian_tuner.get_best_hyperparameters(TOP_N)):\n",
    "    print(f'========== Model {i} ==========')\n",
    "    print(hyperparameters.get_config()['values'])\n",
    "    model_tmp = model_builder(hyperparameters)\n",
    "    print('Number of parameters:', count_params(model_tmp))"
   ],
   "metadata": {
    "collapsed": false,
    "ExecuteTime": {
     "end_time": "2023-06-22T15:48:24.519894100Z",
     "start_time": "2023-06-22T15:48:24.333075700Z"
    }
   }
  },
  {
   "cell_type": "markdown",
   "source": [
    "# Cross-validation for top 5 models"
   ],
   "metadata": {
    "collapsed": false
   }
  },
  {
   "cell_type": "code",
   "execution_count": 10,
   "outputs": [
    {
     "data": {
      "text/plain": "<IPython.core.display.HTML object>",
      "text/html": "<h3>Model 0</h3>"
     },
     "metadata": {},
     "output_type": "display_data"
    },
    {
     "name": "stdout",
     "output_type": "stream",
     "text": [
      "{'n_hidden_layers': 1, 'units_mult': 32, 'unit_decrease_factor': 2.0, 'batch_normalization': False, 'input_batch_normalization': True, 'dropout': 0.0, 'normalize_signal': False}\n",
      "Number of parameters: 2593\n",
      "Got score: 8.7168 (8.6985, 8.7351)\n",
      "Got score: 8.4743 (8.5239, 8.4247)\n",
      "Got score: 8.6689 (8.6504, 8.6875)\n",
      "Got score: 8.4777 (8.5084, 8.4470)\n",
      "Got score: 8.6314 (8.6087, 8.6540)\n"
     ]
    },
    {
     "data": {
      "text/plain": "<IPython.core.display.HTML object>",
      "text/html": "<h3>Model 1</h3>"
     },
     "metadata": {},
     "output_type": "display_data"
    },
    {
     "name": "stdout",
     "output_type": "stream",
     "text": [
      "{'n_hidden_layers': 1, 'units_mult': 32, 'unit_decrease_factor': 1.0, 'batch_normalization': False, 'input_batch_normalization': True, 'dropout': 0.0, 'normalize_signal': False}\n",
      "Number of parameters: 2593\n",
      "Got score: 8.6557 (8.6444, 8.6669)\n",
      "Got score: 8.4461 (8.4253, 8.4668)\n",
      "Got score: 8.5886 (8.5691, 8.6081)\n",
      "Got score: 8.4649 (8.5318, 8.3981)\n",
      "Got score: 8.7064 (8.6858, 8.7270)\n"
     ]
    },
    {
     "data": {
      "text/plain": "<IPython.core.display.HTML object>",
      "text/html": "<h3>Model 2</h3>"
     },
     "metadata": {},
     "output_type": "display_data"
    },
    {
     "name": "stdout",
     "output_type": "stream",
     "text": [
      "{'n_hidden_layers': 5, 'units_mult': 16, 'unit_decrease_factor': 1.0, 'batch_normalization': True, 'input_batch_normalization': True, 'dropout': 0.0, 'normalize_signal': False}\n",
      "Number of parameters: 11713\n",
      "Got score: 8.8629 (8.8301, 8.8958)\n",
      "Got score: 8.5972 (8.6041, 8.5904)\n",
      "Got score: 8.8676 (9.0042, 8.7310)\n",
      "Got score: 8.5373 (8.5035, 8.5711)\n",
      "Got score: 8.8265 (8.8361, 8.8169)\n"
     ]
    },
    {
     "data": {
      "text/plain": "<IPython.core.display.HTML object>",
      "text/html": "<h3>Model 3</h3>"
     },
     "metadata": {},
     "output_type": "display_data"
    },
    {
     "name": "stdout",
     "output_type": "stream",
     "text": [
      "{'n_hidden_layers': 1, 'units_mult': 32, 'unit_decrease_factor': 2.0, 'batch_normalization': True, 'input_batch_normalization': True, 'dropout': 0.0, 'normalize_signal': False}\n",
      "Number of parameters: 2977\n",
      "Got score: 9.0011 (9.1937, 8.8085)\n",
      "Got score: 9.1505 (8.5372, 9.7637)\n",
      "Got score: 8.7951 (8.9040, 8.6863)\n",
      "Got score: 8.5549 (8.5594, 8.5504)\n",
      "Got score: 8.9325 (8.9647, 8.9004)\n"
     ]
    },
    {
     "data": {
      "text/plain": "<IPython.core.display.HTML object>",
      "text/html": "<h3>Model 4</h3>"
     },
     "metadata": {},
     "output_type": "display_data"
    },
    {
     "name": "stdout",
     "output_type": "stream",
     "text": [
      "{'n_hidden_layers': 3, 'units_mult': 4, 'unit_decrease_factor': 1.0, 'batch_normalization': True, 'input_batch_normalization': True, 'dropout': 0.0, 'normalize_signal': False}\n",
      "Number of parameters: 865\n",
      "Got score: 8.8128 (8.7863, 8.8392)\n",
      "Got score: 8.6290 (8.6611, 8.5970)\n",
      "Got score: 8.7439 (8.7928, 8.6950)\n",
      "Got score: 8.5250 (8.5024, 8.5477)\n",
      "Got score: 8.8358 (8.8344, 8.8373)\n"
     ]
    }
   ],
   "source": [
    "cross_validator = KerasTunerAllChannelsCrossValidator(bayesian_tuner, list(X_all.values()), list(y_all.values()),\n",
    "                                                      model_builder, directory=CROSSVAL_DIR, project_name=PROJECT_NAME,\n",
    "                                                      n_epochs=N_EPOCHS, batch_size=BATCH_SIZE, n_top=TOP_N,\n",
    "                                                      es_min_delta=ES_MIN_DELTA, n_cv=CROSSVAL_N_CV,\n",
    "                                                      n_executions=CROSSVAL_N_EXEC, overwrite=OVERWRITE)\n",
    "model_scores = cross_validator()"
   ],
   "metadata": {
    "collapsed": false,
    "ExecuteTime": {
     "end_time": "2023-06-22T15:57:25.164548300Z",
     "start_time": "2023-06-22T15:48:24.521894500Z"
    }
   }
  },
  {
   "cell_type": "code",
   "execution_count": 11,
   "outputs": [
    {
     "data": {
      "text/plain": "       mean   std  n_params\nModel                      \n0      8.59  0.10      2593\n1      8.57  0.10      2593\n2      8.74  0.14     11713\n3      8.89  0.20      2977\n4      8.71  0.12       865",
      "text/html": "<div>\n<style scoped>\n    .dataframe tbody tr th:only-of-type {\n        vertical-align: middle;\n    }\n\n    .dataframe tbody tr th {\n        vertical-align: top;\n    }\n\n    .dataframe thead th {\n        text-align: right;\n    }\n</style>\n<table border=\"1\" class=\"dataframe\">\n  <thead>\n    <tr style=\"text-align: right;\">\n      <th></th>\n      <th>mean</th>\n      <th>std</th>\n      <th>n_params</th>\n    </tr>\n    <tr>\n      <th>Model</th>\n      <th></th>\n      <th></th>\n      <th></th>\n    </tr>\n  </thead>\n  <tbody>\n    <tr>\n      <th>0</th>\n      <td>8.59</td>\n      <td>0.10</td>\n      <td>2593</td>\n    </tr>\n    <tr>\n      <th>1</th>\n      <td>8.57</td>\n      <td>0.10</td>\n      <td>2593</td>\n    </tr>\n    <tr>\n      <th>2</th>\n      <td>8.74</td>\n      <td>0.14</td>\n      <td>11713</td>\n    </tr>\n    <tr>\n      <th>3</th>\n      <td>8.89</td>\n      <td>0.20</td>\n      <td>2977</td>\n    </tr>\n    <tr>\n      <th>4</th>\n      <td>8.71</td>\n      <td>0.12</td>\n      <td>865</td>\n    </tr>\n  </tbody>\n</table>\n</div>"
     },
     "execution_count": 11,
     "metadata": {},
     "output_type": "execute_result"
    }
   ],
   "source": [
    "mean_scores = [f\"{np.mean(scores):0.2f}\" for scores in model_scores.values()]\n",
    "std_scores = [f\"{np.std(scores):0.2f}\" for scores in model_scores.values()]\n",
    "n_params = [count_params(model_builder(hyperparameters)) for hyperparameters in\n",
    "            bayesian_tuner.get_best_hyperparameters(TOP_N)]\n",
    "\n",
    "df = pd.DataFrame({'mean': mean_scores, 'std': std_scores, 'n_params': n_params}, index=model_scores.keys())\n",
    "df.index.name = 'Model'\n",
    "df"
   ],
   "metadata": {
    "collapsed": false,
    "ExecuteTime": {
     "end_time": "2023-06-22T15:57:25.337899900Z",
     "start_time": "2023-06-22T15:57:25.165548700Z"
    }
   }
  },
  {
   "cell_type": "code",
   "execution_count": 11,
   "outputs": [],
   "source": [],
   "metadata": {
    "collapsed": false,
    "ExecuteTime": {
     "end_time": "2023-06-22T15:57:25.357901800Z",
     "start_time": "2023-06-22T15:57:25.338901300Z"
    }
   }
  }
 ],
 "metadata": {
  "kernelspec": {
   "display_name": "Python 3",
   "language": "python",
   "name": "python3"
  },
  "language_info": {
   "codemirror_mode": {
    "name": "ipython",
    "version": 2
   },
   "file_extension": ".py",
   "mimetype": "text/x-python",
   "name": "python",
   "nbconvert_exporter": "python",
   "pygments_lexer": "ipython2",
   "version": "2.7.6"
  }
 },
 "nbformat": 4,
 "nbformat_minor": 0
}
