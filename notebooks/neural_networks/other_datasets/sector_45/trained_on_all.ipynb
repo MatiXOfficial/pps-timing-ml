{
 "cells": [
  {
   "cell_type": "code",
   "execution_count": 1,
   "metadata": {
    "collapsed": true,
    "ExecuteTime": {
     "end_time": "2023-07-12T10:47:06.824196600Z",
     "start_time": "2023-07-12T10:47:03.764589500Z"
    }
   },
   "outputs": [],
   "source": [
    "import pickle\n",
    "import sys\n",
    "\n",
    "import numpy as np\n",
    "import tensorflow as tf\n",
    "from sklearn.model_selection import train_test_split\n",
    "\n",
    "from src.cfd import CFD\n",
    "from src.dataset import X_TIME, TIME_STEP\n",
    "from src.gauss_hist import get_gauss_stats\n",
    "from src.models import optimal_model_builder_all_ch\n",
    "from src.network_utils import train_model as _base_train_model, plot_difference_hist, plot_history, compare_results, \\\n",
    "    gaussian_kernel\n",
    "\n",
    "PWD = '../../../..'\n",
    "sys.path.append(PWD)\n",
    "\n",
    "tf.get_logger().setLevel('ERROR')"
   ]
  },
  {
   "cell_type": "code",
   "execution_count": 2,
   "outputs": [],
   "source": [
    "N_JOBS = 16\n",
    "\n",
    "DATASET_PATH = PWD + '/data/dataset/dataset_s45.pkl'\n",
    "\n",
    "PRINT_PCOV = False\n",
    "\n",
    "N_BASELINE = 6\n",
    "\n",
    "LR = 0.01\n",
    "ES_MIN_DELTA = 0.01\n",
    "\n",
    "N_EPOCHS = 3000\n",
    "BATCH_SIZE = 8192\n",
    "LOSS_WEIGHT = 1000\n",
    "\n",
    "CFD_THRESHOLD_SPACE = np.arange(0.10, 0.20, 0.005)\n",
    "OPTIMAL_CFD_THRESHOLDS_TRAIN_DATA_PATH = PWD + '/data/tmp/many_channels_tests/optimal_cfd_thresholds_train_data_s45.pkl'\n",
    "\n",
    "TRAIN_TEST_SPLIT_RANDOM_STATE = 42\n",
    "TEST_SIZE = 0.2"
   ],
   "metadata": {
    "collapsed": false,
    "ExecuteTime": {
     "end_time": "2023-07-12T10:47:06.839822800Z",
     "start_time": "2023-07-12T10:47:06.824196600Z"
    }
   }
  },
  {
   "cell_type": "code",
   "execution_count": 3,
   "outputs": [],
   "source": [
    "with open(DATASET_PATH, 'rb') as file:\n",
    "    dataset = pickle.load(file)"
   ],
   "metadata": {
    "collapsed": false,
    "ExecuteTime": {
     "end_time": "2023-07-12T10:47:06.859629400Z",
     "start_time": "2023-07-12T10:47:06.839822800Z"
    }
   }
  },
  {
   "cell_type": "markdown",
   "source": [
    "# Utils"
   ],
   "metadata": {
    "collapsed": false
   }
  },
  {
   "cell_type": "code",
   "execution_count": 4,
   "outputs": [],
   "source": [
    "def model_predict(model: tf.keras.Model, X: np.ndarray):\n",
    "    Y_heatmap_pred = model.predict(X, batch_size=4096)\n",
    "\n",
    "    y_pred = np.empty(Y_heatmap_pred.shape[0])\n",
    "    for i, y in enumerate(Y_heatmap_pred):\n",
    "        _, y_pred[i], _, _ = get_gauss_stats(X_TIME, y, a_0=1, std_0=1. * TIME_STEP)\n",
    "\n",
    "    return y_pred"
   ],
   "metadata": {
    "collapsed": false,
    "ExecuteTime": {
     "end_time": "2023-07-12T10:47:06.875369100Z",
     "start_time": "2023-07-12T10:47:06.859629400Z"
    }
   }
  },
  {
   "cell_type": "code",
   "execution_count": 5,
   "outputs": [],
   "source": [
    "def train_model(model, name, X_train, y_train, X_val, y_val, lr=LR, train=False, n_epochs=N_EPOCHS, verbose=1,\n",
    "                batch_size=BATCH_SIZE, lr_patience=6, es_patience=30, es_min_delta=ES_MIN_DELTA,\n",
    "                loss_weights=LOSS_WEIGHT):\n",
    "    return _base_train_model(model, name, 'many_channels_tests/trained_on_all_s45', X_train, y_train, X_val, y_val, lr,\n",
    "                             train, n_epochs, verbose, batch_size, lr_patience, es_patience, es_min_delta, loss_weights,\n",
    "                             root=PWD + '/data')"
   ],
   "metadata": {
    "collapsed": false,
    "ExecuteTime": {
     "end_time": "2023-07-12T10:47:06.891536700Z",
     "start_time": "2023-07-12T10:47:06.875369100Z"
    }
   }
  },
  {
   "cell_type": "markdown",
   "source": [
    "# Optimal CFD thresholds"
   ],
   "metadata": {
    "collapsed": false
   }
  },
  {
   "cell_type": "code",
   "execution_count": 6,
   "outputs": [
    {
     "name": "stdout",
     "output_type": "stream",
     "text": [
      "Processing p=0, ch=2...\n",
      "Optimal CFD threshold: 0.160\n",
      "Processing p=1, ch=2...\n",
      "Optimal CFD threshold: 0.180\n",
      "Processing p=3, ch=2...\n",
      "Optimal CFD threshold: 0.155\n"
     ]
    }
   ],
   "source": [
    "from src.cfd import find_optimal_cfd_threshold\n",
    "\n",
    "optimal_cfd_thresholds = {}\n",
    "for plane, channel in sorted(dataset.keys()):\n",
    "    print(f'Processing p={plane}, ch={channel}...')\n",
    "    all_X, all_y = dataset[(plane, channel)][0], dataset[(plane, channel)][1]\n",
    "    X_train, _, y_train, _ = train_test_split(all_X, all_y, test_size=TEST_SIZE, random_state=TRAIN_TEST_SPLIT_RANDOM_STATE)\n",
    "\n",
    "    optimal_cfd_threshold = find_optimal_cfd_threshold(CFD_THRESHOLD_SPACE, N_BASELINE, X_train, y_train, X_TIME, n_jobs=N_JOBS, plot=False)\n",
    "    optimal_cfd_thresholds[(plane, channel)] = optimal_cfd_threshold\n",
    "\n",
    "with open(OPTIMAL_CFD_THRESHOLDS_TRAIN_DATA_PATH, 'wb') as file:\n",
    "    pickle.dump(optimal_cfd_thresholds, file)"
   ],
   "metadata": {
    "collapsed": false,
    "ExecuteTime": {
     "end_time": "2023-07-12T10:47:18.956213600Z",
     "start_time": "2023-07-12T10:47:06.891536700Z"
    }
   }
  },
  {
   "cell_type": "code",
   "execution_count": 7,
   "outputs": [
    {
     "name": "stdout",
     "output_type": "stream",
     "text": [
      "Optimal thresholds:\n",
      "(0,  2): 0.160\n",
      "(1,  2): 0.180\n",
      "(3,  2): 0.155\n"
     ]
    }
   ],
   "source": [
    "with open(OPTIMAL_CFD_THRESHOLDS_TRAIN_DATA_PATH, 'rb') as file:\n",
    "    optimal_cfd_thresholds = pickle.load(file)\n",
    "\n",
    "print('Optimal thresholds:')\n",
    "for (plane, channel), threshold in optimal_cfd_thresholds.items():\n",
    "    print(f'({plane:>1}, {channel:>2}): {threshold:0.3f}')"
   ],
   "metadata": {
    "collapsed": false,
    "ExecuteTime": {
     "end_time": "2023-07-12T10:47:19.003810600Z",
     "start_time": "2023-07-12T10:47:18.956213600Z"
    }
   }
  },
  {
   "cell_type": "markdown",
   "source": [
    "# Train the network"
   ],
   "metadata": {
    "collapsed": false
   }
  },
  {
   "cell_type": "code",
   "execution_count": 9,
   "outputs": [
    {
     "data": {
      "text/plain": "((11328, 24), (11328, 24), (2835, 24), (2835, 24))"
     },
     "execution_count": 9,
     "metadata": {},
     "output_type": "execute_result"
    }
   ],
   "source": [
    "train_X_list, train_y_list, test_X_list, test_y_list = [], [], [], []\n",
    "for (plane, channel), (X, y) in dataset.items():\n",
    "    X_train, X_test, y_train, y_test = train_test_split(X, y, test_size=TEST_SIZE,\n",
    "                                                        random_state=TRAIN_TEST_SPLIT_RANDOM_STATE)\n",
    "\n",
    "    Y_heatmap_train = np.array([gaussian_kernel(y) for y in y_train])\n",
    "    Y_heatmap_test = np.array([gaussian_kernel(y) for y in y_test])\n",
    "\n",
    "    train_X_list.append(X_train)\n",
    "    train_y_list.append(Y_heatmap_train)\n",
    "    test_X_list.append(X_test)\n",
    "    test_y_list.append(Y_heatmap_test)\n",
    "\n",
    "X_train_all = np.concatenate(train_X_list)\n",
    "y_train_all = np.concatenate(train_y_list)\n",
    "X_test_all = np.concatenate(test_X_list)\n",
    "y_test_all = np.concatenate(test_y_list)\n",
    "\n",
    "X_train_all.shape, y_train_all.shape, X_test_all.shape, y_test_all.shape"
   ],
   "metadata": {
    "collapsed": false,
    "ExecuteTime": {
     "end_time": "2023-07-12T10:48:11.646817600Z",
     "start_time": "2023-07-12T10:48:11.476086900Z"
    }
   }
  },
  {
   "cell_type": "code",
   "execution_count": null,
   "outputs": [
    {
     "name": "stdout",
     "output_type": "stream",
     "text": [
      "Epoch 1/3000\n",
      "2/2 [==============================] - 17s 4s/step - loss: 3258.4417 - val_loss: 77.0014 - lr: 0.0100\n",
      "Epoch 2/3000\n",
      "2/2 [==============================] - 11s 3s/step - loss: 2246.5154 - val_loss: 21119.5879 - lr: 0.0100\n",
      "Epoch 3/3000\n",
      "2/2 [==============================] - 10s 3s/step - loss: 800.7071 - val_loss: 5239621.5000 - lr: 0.0100\n",
      "Epoch 4/3000\n",
      "2/2 [==============================] - 11s 3s/step - loss: 518.4235 - val_loss: 650529920.0000 - lr: 0.0100\n",
      "Epoch 5/3000\n"
     ]
    }
   ],
   "source": [
    "model = optimal_model_builder_all_ch()\n",
    "history = train_model(model, \"optimal\", X_train=X_train_all, y_train=y_train_all, X_val=X_test_all, y_val=y_test_all,\n",
    "                      train=True)"
   ],
   "metadata": {
    "collapsed": false,
    "is_executing": true,
    "ExecuteTime": {
     "start_time": "2023-07-12T10:48:11.646817600Z"
    }
   }
  },
  {
   "cell_type": "code",
   "execution_count": null,
   "outputs": [],
   "source": [
    "plot_history(history, f'model: optimal', ymax=20)"
   ],
   "metadata": {
    "collapsed": false
   }
  },
  {
   "cell_type": "markdown",
   "source": [
    "# Test"
   ],
   "metadata": {
    "collapsed": false
   }
  },
  {
   "cell_type": "code",
   "execution_count": null,
   "outputs": [],
   "source": [
    "improvements = {}\n",
    "for (plane, channel), (all_X, all_y) in dataset.items():\n",
    "    print(f'Processing p={plane}, ch={channel}...')\n",
    "\n",
    "    _, X_test, _, y_test = train_test_split(all_X, all_y, test_size=TEST_SIZE, random_state=TRAIN_TEST_SPLIT_RANDOM_STATE)\n",
    "\n",
    "    cfd = CFD(n_baseline=N_BASELINE, threshold=optimal_cfd_thresholds[(plane, channel)])\n",
    "    y_pred_cfd = cfd.predict(X_TIME, X_test)\n",
    "    std_cfd, _, _ = plot_difference_hist(y_test, y_pred_cfd, show=False, close=False)\n",
    "\n",
    "    y_pred_model = model_predict(model, X_test)\n",
    "    std_model, _, _ = plot_difference_hist(y_test, y_pred_model, show=False, close=False)\n",
    "\n",
    "    compare_results([std_model], [\"optimal\"], std_cfd)\n",
    "    improvements[(plane, channel)] = (std_cfd, std_model, 1 - std_model / std_cfd)"
   ],
   "metadata": {
    "collapsed": false
   }
  },
  {
   "cell_type": "code",
   "execution_count": null,
   "outputs": [],
   "source": [
    "print('Improvements:')\n",
    "for (plane, channel), improv in improvements.items():\n",
    "    print(\n",
    "        f'({plane:>1}, {channel:>2}) CFD: {improv[0] * 1000:6.2f} ps, NN: {improv[1] * 1000:6.2f} ({improv[2] * 100:5.2f} %)')"
   ],
   "metadata": {
    "collapsed": false
   }
  },
  {
   "cell_type": "code",
   "execution_count": null,
   "outputs": [],
   "source": [],
   "metadata": {
    "collapsed": false
   }
  }
 ],
 "metadata": {
  "kernelspec": {
   "display_name": "Python 3",
   "language": "python",
   "name": "python3"
  },
  "language_info": {
   "codemirror_mode": {
    "name": "ipython",
    "version": 2
   },
   "file_extension": ".py",
   "mimetype": "text/x-python",
   "name": "python",
   "nbconvert_exporter": "python",
   "pygments_lexer": "ipython2",
   "version": "2.7.6"
  }
 },
 "nbformat": 4,
 "nbformat_minor": 0
}
