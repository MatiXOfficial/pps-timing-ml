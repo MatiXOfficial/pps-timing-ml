{
 "cells": [
  {
   "cell_type": "code",
   "execution_count": 1,
   "outputs": [],
   "source": [
    "import sys\n",
    "\n",
    "PWD = '../../..'\n",
    "sys.path.append(PWD)\n",
    "\n",
    "import numpy as np\n",
    "import pandas as pd\n",
    "\n",
    "import tensorflow as tf\n",
    "\n",
    "tf.get_logger().setLevel('ERROR')\n",
    "from tensorflow import keras\n",
    "from tensorflow.keras import optimizers\n",
    "from tensorflow.keras import callbacks\n",
    "import keras_tuner as kt\n",
    "\n",
    "from src.network_utils import count_params\n",
    "from src.cross_validator import KerasTunerCrossValidator\n",
    "from src.dataset import load_dataset_train_test, load_dataset_train_val\n",
    "from src.models import rnn_builder as bare_model_builder"
   ],
   "metadata": {
    "collapsed": false
   }
  },
  {
   "cell_type": "code",
   "execution_count": 2,
   "outputs": [],
   "source": [
    "PROJECT_NAME = 'rnn'\n",
    "\n",
    "PLANE = 2\n",
    "CHANNEL = 11\n",
    "\n",
    "DATASET_PATH = PWD + '/data/dataset/dataset.pkl'\n",
    "TRIALS_DIR = PWD + f'/data/model_selection/channel_{PLANE}_{CHANNEL}/tuner'\n",
    "CROSSVAL_DIR = PWD + f'/data/model_selection/channel_{PLANE}_{CHANNEL}/cross_val'\n",
    "\n",
    "LR = 0.01\n",
    "\n",
    "N_EPOCHS = 3000\n",
    "BATCH_SIZE = 2048\n",
    "MAX_TRIALS = 15\n",
    "EXECUTIONS_PER_TRIAL = 2\n",
    "\n",
    "TOP_N = 4\n",
    "CROSSVAL_N_CV = 5\n",
    "CROSSVAL_N_EXEC = 2\n",
    "LOSS_WEIGHT = 1000"
   ],
   "metadata": {
    "collapsed": false
   }
  },
  {
   "cell_type": "code",
   "execution_count": 3,
   "outputs": [
    {
     "data": {
      "text/plain": "((22412, 24), (17929, 24), (4483, 24))"
     },
     "execution_count": 3,
     "metadata": {},
     "output_type": "execute_result"
    }
   ],
   "source": [
    "X_base_train, _, y_base_train, _ = load_dataset_train_test(PWD, PLANE, CHANNEL)\n",
    "X_train, X_val, y_train, y_val = load_dataset_train_val(PWD, PLANE, CHANNEL)\n",
    "\n",
    "X_base_train.shape, X_train.shape, X_val.shape"
   ],
   "metadata": {
    "collapsed": false
   }
  },
  {
   "cell_type": "markdown",
   "source": [
    "# Model"
   ],
   "metadata": {
    "collapsed": false
   }
  },
  {
   "cell_type": "code",
   "execution_count": 4,
   "outputs": [],
   "source": [
    "def model_builder(hp: kt.HyperParameters) -> keras.Model:\n",
    "    hp_rnn_type = hp.Choice(\"rnn_type\", values=[\"lstm\", \"gru\"])\n",
    "    hp_n_neurons = hp.Choice(\"n_neurons\", values=[16, 32, 64, 128, 256])\n",
    "    hp_n_hidden_layers = hp.Int(\"n_hidden_layers\", min_value=0, max_value=1, default=0)\n",
    "    hp_input_batch_normalization = hp.Boolean(\"input_batch_normalization\")\n",
    "\n",
    "    model = bare_model_builder(hp_rnn_type, hp_n_neurons, hp_n_hidden_layers, hp_input_batch_normalization)\n",
    "    model.compile(loss='mse', optimizer=optimizers.Adam(LR), loss_weights=LOSS_WEIGHT)\n",
    "    return model"
   ],
   "metadata": {
    "collapsed": false
   }
  },
  {
   "cell_type": "code",
   "execution_count": 5,
   "outputs": [
    {
     "name": "stdout",
     "output_type": "stream",
     "text": [
      "Model: \"sequential\"\n",
      "_________________________________________________________________\n",
      " Layer (type)                Output Shape              Param #   \n",
      "=================================================================\n",
      " reshape (Reshape)           (None, 24, 1)             0         \n",
      "                                                                 \n",
      " lstm (LSTM)                 (None, 16)                1152      \n",
      "                                                                 \n",
      " dense (Dense)               (None, 1)                 17        \n",
      "                                                                 \n",
      "=================================================================\n",
      "Total params: 1,169\n",
      "Trainable params: 1,169\n",
      "Non-trainable params: 0\n",
      "_________________________________________________________________\n"
     ]
    }
   ],
   "source": [
    "model_builder(kt.HyperParameters()).summary()"
   ],
   "metadata": {
    "collapsed": false
   }
  },
  {
   "cell_type": "code",
   "execution_count": 6,
   "outputs": [],
   "source": [
    "model_callbacks = [\n",
    "    callbacks.EarlyStopping(patience=50),\n",
    "    callbacks.ReduceLROnPlateau(monitor='loss', factor=0.9, patience=10)\n",
    "]"
   ],
   "metadata": {
    "collapsed": false
   }
  },
  {
   "cell_type": "markdown",
   "source": [
    "# Bayesian tuner"
   ],
   "metadata": {
    "collapsed": false
   }
  },
  {
   "cell_type": "code",
   "execution_count": 7,
   "outputs": [],
   "source": [
    "bayesian_tuner = kt.BayesianOptimization(model_builder, objective='val_loss', executions_per_trial=EXECUTIONS_PER_TRIAL,\n",
    "                                         max_trials=MAX_TRIALS, directory=TRIALS_DIR,\n",
    "                                         project_name=PROJECT_NAME, overwrite=False)\n",
    "\n",
    "bayesian_tuner.search(X_train, y_train, validation_data=[X_val, y_val], epochs=N_EPOCHS, callbacks=model_callbacks,\n",
    "                      batch_size=BATCH_SIZE, verbose=3)"
   ],
   "metadata": {
    "collapsed": false
   }
  },
  {
   "cell_type": "markdown",
   "source": [
    "# Results"
   ],
   "metadata": {
    "collapsed": false
   }
  },
  {
   "cell_type": "code",
   "execution_count": 8,
   "outputs": [
    {
     "name": "stdout",
     "output_type": "stream",
     "text": [
      "Results summary\n",
      "Results in ../../../data/model_selection/channel_2_11/tuner\\rnn\n",
      "Showing 1 best trials\n",
      "<keras_tuner.engine.objective.Objective object at 0x0000013035B0F430>\n",
      "Trial summary\n",
      "Hyperparameters:\n",
      "rnn_type: gru\n",
      "n_neurons: 64\n",
      "n_hidden_layers: 0\n",
      "input_batch_normalization: True\n",
      "Score: 8.629909992218018\n"
     ]
    }
   ],
   "source": [
    "bayesian_tuner.results_summary(1)"
   ],
   "metadata": {
    "collapsed": false
   }
  },
  {
   "cell_type": "code",
   "execution_count": 9,
   "outputs": [
    {
     "name": "stdout",
     "output_type": "stream",
     "text": [
      "Model: \"sequential\"\n",
      "_________________________________________________________________\n",
      " Layer (type)                Output Shape              Param #   \n",
      "=================================================================\n",
      " reshape (Reshape)           (None, 24, 1)             0         \n",
      "                                                                 \n",
      " batch_normalization (BatchN  (None, 24, 1)            4         \n",
      " ormalization)                                                   \n",
      "                                                                 \n",
      " gru (GRU)                   (None, 64)                12864     \n",
      "                                                                 \n",
      " dense (Dense)               (None, 1)                 65        \n",
      "                                                                 \n",
      "=================================================================\n",
      "Total params: 12,933\n",
      "Trainable params: 12,931\n",
      "Non-trainable params: 2\n",
      "_________________________________________________________________\n"
     ]
    }
   ],
   "source": [
    "best_model = bayesian_tuner.get_best_models(num_models=1)[0]\n",
    "best_model.summary()"
   ],
   "metadata": {
    "collapsed": false
   }
  },
  {
   "cell_type": "markdown",
   "source": [
    "---"
   ],
   "metadata": {
    "collapsed": false
   }
  },
  {
   "cell_type": "code",
   "execution_count": 10,
   "outputs": [
    {
     "name": "stdout",
     "output_type": "stream",
     "text": [
      "========== Model 0 ==========\n",
      "{'rnn_type': 'gru', 'n_neurons': 64, 'n_hidden_layers': 0, 'input_batch_normalization': True}\n",
      "Number of parameters: 12931\n",
      "========== Model 1 ==========\n",
      "{'rnn_type': 'gru', 'n_neurons': 64, 'n_hidden_layers': 0, 'input_batch_normalization': True}\n",
      "Number of parameters: 12931\n",
      "========== Model 2 ==========\n",
      "{'rnn_type': 'lstm', 'n_neurons': 32, 'n_hidden_layers': 1, 'input_batch_normalization': True}\n",
      "Number of parameters: 12707\n",
      "========== Model 3 ==========\n",
      "{'rnn_type': 'gru', 'n_neurons': 16, 'n_hidden_layers': 0, 'input_batch_normalization': True}\n",
      "Number of parameters: 931\n"
     ]
    }
   ],
   "source": [
    "for i, hyperparameters in enumerate(bayesian_tuner.get_best_hyperparameters(TOP_N)):\n",
    "    print(f'========== Model {i} ==========')\n",
    "    print(hyperparameters.get_config()['values'])\n",
    "    model_tmp = model_builder(hyperparameters)\n",
    "    print('Number of parameters:', count_params(model_tmp))"
   ],
   "metadata": {
    "collapsed": false
   }
  },
  {
   "cell_type": "code",
   "execution_count": 11,
   "outputs": [
    {
     "name": "stdout",
     "output_type": "stream",
     "text": [
      "Results summary\n",
      "Results in ../../../data/model_selection/channel_2_11/tuner\\rnn\n",
      "Showing 4 best trials\n",
      "<keras_tuner.engine.objective.Objective object at 0x0000013035B0F430>\n",
      "Trial summary\n",
      "Hyperparameters:\n",
      "rnn_type: gru\n",
      "n_neurons: 64\n",
      "n_hidden_layers: 0\n",
      "input_batch_normalization: True\n",
      "Score: 8.629909992218018\n",
      "Trial summary\n",
      "Hyperparameters:\n",
      "rnn_type: gru\n",
      "n_neurons: 64\n",
      "n_hidden_layers: 0\n",
      "input_batch_normalization: True\n",
      "Score: 8.644222259521484\n",
      "Trial summary\n",
      "Hyperparameters:\n",
      "rnn_type: lstm\n",
      "n_neurons: 32\n",
      "n_hidden_layers: 1\n",
      "input_batch_normalization: True\n",
      "Score: 8.66767692565918\n",
      "Trial summary\n",
      "Hyperparameters:\n",
      "rnn_type: gru\n",
      "n_neurons: 16\n",
      "n_hidden_layers: 0\n",
      "input_batch_normalization: True\n",
      "Score: 8.693009376525879\n"
     ]
    }
   ],
   "source": [
    "bayesian_tuner.results_summary(TOP_N)"
   ],
   "metadata": {
    "collapsed": false
   }
  },
  {
   "cell_type": "markdown",
   "source": [
    "# Cross-validation for top 5 models"
   ],
   "metadata": {
    "collapsed": false
   }
  },
  {
   "cell_type": "code",
   "execution_count": 12,
   "outputs": [
    {
     "data": {
      "text/plain": "<IPython.core.display.HTML object>",
      "text/html": "<h3>Model 0</h3>"
     },
     "metadata": {},
     "output_type": "display_data"
    },
    {
     "name": "stdout",
     "output_type": "stream",
     "text": [
      "{'rnn_type': 'gru', 'n_neurons': 64, 'n_hidden_layers': 0, 'input_batch_normalization': True}\n",
      "Number of parameters: 12931\n",
      "Got score: 8.6151 (8.6158, 8.6145)\n",
      "Got score: 8.3529 (8.3472, 8.3586)\n",
      "Got score: 8.1248 (8.1328, 8.1169)\n",
      "Got score: 8.4314 (8.4312, 8.4317)\n",
      "Got score: 8.7513 (8.7518, 8.7507)\n"
     ]
    },
    {
     "data": {
      "text/plain": "<IPython.core.display.HTML object>",
      "text/html": "<h3>Model 1</h3>"
     },
     "metadata": {},
     "output_type": "display_data"
    },
    {
     "name": "stdout",
     "output_type": "stream",
     "text": [
      "{'rnn_type': 'gru', 'n_neurons': 64, 'n_hidden_layers': 0, 'input_batch_normalization': True}\n",
      "Number of parameters: 12931\n",
      "Got score: 8.6574 (8.6628, 8.6521)\n",
      "Got score: 8.3729 (8.3836, 8.3622)\n",
      "Got score: 8.1357 (8.1409, 8.1305)\n",
      "Got score: 8.4714 (8.4740, 8.4688)\n",
      "Got score: 8.7338 (8.7370, 8.7305)\n"
     ]
    },
    {
     "data": {
      "text/plain": "<IPython.core.display.HTML object>",
      "text/html": "<h3>Model 2</h3>"
     },
     "metadata": {},
     "output_type": "display_data"
    },
    {
     "name": "stdout",
     "output_type": "stream",
     "text": [
      "{'rnn_type': 'lstm', 'n_neurons': 32, 'n_hidden_layers': 1, 'input_batch_normalization': True}\n",
      "Number of parameters: 12707\n",
      "Got score: 8.6809 (8.7148, 8.6471)\n",
      "Got score: 8.3942 (8.3902, 8.3982)\n",
      "Got score: 8.0924 (8.1019, 8.0828)\n",
      "Got score: 8.6057 (8.5415, 8.6699)\n",
      "Got score: 8.7913 (8.7644, 8.8183)\n"
     ]
    },
    {
     "data": {
      "text/plain": "<IPython.core.display.HTML object>",
      "text/html": "<h3>Model 3</h3>"
     },
     "metadata": {},
     "output_type": "display_data"
    },
    {
     "name": "stdout",
     "output_type": "stream",
     "text": [
      "{'rnn_type': 'gru', 'n_neurons': 16, 'n_hidden_layers': 0, 'input_batch_normalization': True}\n",
      "Number of parameters: 931\n",
      "Got score: 8.6376 (8.6318, 8.6434)\n",
      "Got score: 8.4695 (8.4715, 8.4675)\n",
      "Got score: 8.1563 (8.1846, 8.1280)\n",
      "Got score: 8.5701 (8.5746, 8.5657)\n",
      "Got score: 8.8209 (8.8523, 8.7895)\n"
     ]
    }
   ],
   "source": [
    "cross_validator = KerasTunerCrossValidator(bayesian_tuner, X_base_train, y_base_train, model_builder,\n",
    "                                           directory=CROSSVAL_DIR, project_name=PROJECT_NAME,\n",
    "                                           n_epochs=N_EPOCHS, batch_size=BATCH_SIZE, n_top=TOP_N,\n",
    "                                           n_cv=CROSSVAL_N_CV, n_executions=CROSSVAL_N_EXEC, overwrite=False)\n",
    "model_scores = cross_validator()"
   ],
   "metadata": {
    "collapsed": false
   }
  },
  {
   "cell_type": "code",
   "execution_count": 13,
   "outputs": [
    {
     "data": {
      "text/plain": "       mean   std  n_params\nModel                      \n0      8.46  0.22     12931\n1      8.47  0.21     12931\n2      8.51  0.25     12707\n3      8.53  0.22       931",
      "text/html": "<div>\n<style scoped>\n    .dataframe tbody tr th:only-of-type {\n        vertical-align: middle;\n    }\n\n    .dataframe tbody tr th {\n        vertical-align: top;\n    }\n\n    .dataframe thead th {\n        text-align: right;\n    }\n</style>\n<table border=\"1\" class=\"dataframe\">\n  <thead>\n    <tr style=\"text-align: right;\">\n      <th></th>\n      <th>mean</th>\n      <th>std</th>\n      <th>n_params</th>\n    </tr>\n    <tr>\n      <th>Model</th>\n      <th></th>\n      <th></th>\n      <th></th>\n    </tr>\n  </thead>\n  <tbody>\n    <tr>\n      <th>0</th>\n      <td>8.46</td>\n      <td>0.22</td>\n      <td>12931</td>\n    </tr>\n    <tr>\n      <th>1</th>\n      <td>8.47</td>\n      <td>0.21</td>\n      <td>12931</td>\n    </tr>\n    <tr>\n      <th>2</th>\n      <td>8.51</td>\n      <td>0.25</td>\n      <td>12707</td>\n    </tr>\n    <tr>\n      <th>3</th>\n      <td>8.53</td>\n      <td>0.22</td>\n      <td>931</td>\n    </tr>\n  </tbody>\n</table>\n</div>"
     },
     "execution_count": 13,
     "metadata": {},
     "output_type": "execute_result"
    }
   ],
   "source": [
    "mean_scores = [f\"{np.mean(scores):0.2f}\" for scores in model_scores.values()]\n",
    "std_scores = [f\"{np.std(scores):0.2f}\" for scores in model_scores.values()]\n",
    "n_params = [count_params(model_builder(hyperparameters)) for hyperparameters in\n",
    "            bayesian_tuner.get_best_hyperparameters(TOP_N)]\n",
    "\n",
    "df = pd.DataFrame({'mean': mean_scores, 'std': std_scores, 'n_params': n_params}, index=model_scores.keys())\n",
    "df.index.name = 'Model'\n",
    "df"
   ],
   "metadata": {
    "collapsed": false
   }
  },
  {
   "cell_type": "code",
   "execution_count": 13,
   "outputs": [],
   "source": [],
   "metadata": {
    "collapsed": false
   }
  }
 ],
 "metadata": {
  "kernelspec": {
   "display_name": "Python 3",
   "language": "python",
   "name": "python3"
  },
  "language_info": {
   "codemirror_mode": {
    "name": "ipython",
    "version": 2
   },
   "file_extension": ".py",
   "mimetype": "text/x-python",
   "name": "python",
   "nbconvert_exporter": "python",
   "pygments_lexer": "ipython2",
   "version": "2.7.6"
  }
 },
 "nbformat": 4,
 "nbformat_minor": 0
}
