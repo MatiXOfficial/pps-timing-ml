{
 "cells": [
  {
   "cell_type": "code",
   "execution_count": 1,
   "outputs": [],
   "source": [
    "import sys\n",
    "\n",
    "import keras_tuner as kt\n",
    "import numpy as np\n",
    "import pandas as pd\n",
    "import tensorflow as tf\n",
    "from tensorflow import keras\n",
    "from tensorflow.keras import callbacks\n",
    "from tensorflow.keras import optimizers\n",
    "\n",
    "from src.cross_validator import KerasTunerAllChannelsCrossValidator\n",
    "from src.dataset import load_dataset_train_val_all_channels, \\\n",
    "    load_dataset_train_test_all_channels\n",
    "from src.models import mlp_builder as bare_model_builder\n",
    "from src.network_utils import count_params\n",
    "\n",
    "PWD = '../../..'\n",
    "sys.path.append(PWD)\n",
    "\n",
    "tf.get_logger().setLevel('ERROR')"
   ],
   "metadata": {
    "collapsed": false,
    "ExecuteTime": {
     "end_time": "2023-06-30T14:16:15.419582500Z",
     "start_time": "2023-06-30T14:16:13.196352800Z"
    }
   }
  },
  {
   "cell_type": "code",
   "execution_count": 2,
   "outputs": [],
   "source": [
    "PROJECT_NAME = 'mlp'\n",
    "\n",
    "OVERWRITE = False\n",
    "\n",
    "DATASET_PATH = PWD + '/data/dataset/dataset.pkl'\n",
    "TRIALS_DIR = PWD + f'/data/model_selection/channel_all/tuner'\n",
    "CROSSVAL_DIR = PWD + f'/data/model_selection/channel_all/cross_val'\n",
    "\n",
    "LR = 0.01\n",
    "ES_MIN_DELTA = 0.01\n",
    "\n",
    "N_EPOCHS = 500\n",
    "BATCH_SIZE = 8096\n",
    "MAX_TRIALS = 40\n",
    "EXECUTIONS_PER_TRIAL = 2\n",
    "\n",
    "TOP_N = 5\n",
    "CROSSVAL_N_CV = 5\n",
    "CROSSVAL_N_EXEC = 2\n",
    "LOSS_WEIGHT = 1000"
   ],
   "metadata": {
    "collapsed": false,
    "ExecuteTime": {
     "end_time": "2023-06-30T14:16:15.433240500Z",
     "start_time": "2023-06-30T14:16:15.419582500Z"
    }
   }
  },
  {
   "cell_type": "code",
   "execution_count": 3,
   "outputs": [
    {
     "data": {
      "text/plain": "((22134, 24), (22134,))"
     },
     "execution_count": 3,
     "metadata": {},
     "output_type": "execute_result"
    }
   ],
   "source": [
    "X_all, _, y_all, _ = load_dataset_train_test_all_channels(PWD)\n",
    "\n",
    "X_all[(2, 11)].shape, y_all[(2, 11)].shape"
   ],
   "metadata": {
    "collapsed": false,
    "ExecuteTime": {
     "end_time": "2023-06-30T14:16:15.464228500Z",
     "start_time": "2023-06-30T14:16:15.434230Z"
    }
   }
  },
  {
   "cell_type": "code",
   "execution_count": 4,
   "outputs": [
    {
     "data": {
      "text/plain": "((84824, 24), (84824,), (21208, 24), (21208,))"
     },
     "execution_count": 4,
     "metadata": {},
     "output_type": "execute_result"
    }
   ],
   "source": [
    "X_train, X_val, y_train, y_val = load_dataset_train_val_all_channels(PWD)\n",
    "\n",
    "X_train = np.concatenate(list(X_train.values()))\n",
    "y_train = np.concatenate(list(y_train.values()))\n",
    "X_val = np.concatenate(list(X_val.values()))\n",
    "y_val = np.concatenate(list(y_val.values()))\n",
    "\n",
    "rng = np.random.default_rng(seed=42)\n",
    "\n",
    "train_idx, val_idx = np.arange(len(X_train)), np.arange(len(X_val))\n",
    "rng.shuffle(train_idx)\n",
    "rng.shuffle(val_idx)\n",
    "\n",
    "X_train, y_train = X_train[train_idx], y_train[train_idx]\n",
    "X_val, y_val = X_val[val_idx], y_val[val_idx]\n",
    "\n",
    "X_train.shape, y_train.shape, X_val.shape, y_val.shape"
   ],
   "metadata": {
    "collapsed": false,
    "ExecuteTime": {
     "end_time": "2023-06-30T14:16:15.547493900Z",
     "start_time": "2023-06-30T14:16:15.466229Z"
    }
   }
  },
  {
   "cell_type": "markdown",
   "source": [
    "# Model"
   ],
   "metadata": {
    "collapsed": false
   }
  },
  {
   "cell_type": "code",
   "execution_count": 5,
   "outputs": [],
   "source": [
    "def model_builder(hp: kt.HyperParameters) -> keras.Model:\n",
    "    hp_n_hidden_layers = hp.Int(\"n_hidden_layers\", min_value=1, max_value=8, step=1, default=2)\n",
    "    hp_units_mult = hp.Choice(\"units_mult\", values=[1, 2, 4, 8, 16, 32], default=4)\n",
    "    hp_unit_decrease_factor = hp.Choice(\"unit_decrease_factor\", values=[1.0, 1.5, 2.0], default=1.5)\n",
    "    hp_batch_normalization = hp.Boolean(\"batch_normalization\", default=False)\n",
    "    hp_input_batch_normalization = hp.Boolean(\"input_batch_normalization\", default=False)\n",
    "    hp_dropout = hp.Choice(\"dropout\", values=[0.0, 0.2, 0.5])\n",
    "    hp_normalize_signal = hp.Boolean(\"normalize_signal\", default=False)\n",
    "\n",
    "    model = bare_model_builder(hp_n_hidden_layers, hp_units_mult, hp_unit_decrease_factor, hp_batch_normalization,\n",
    "                               hp_input_batch_normalization, hp_dropout, hp_normalize_signal)\n",
    "    model.compile(loss='mse', optimizer=optimizers.Adam(LR), loss_weights=LOSS_WEIGHT)\n",
    "    return model"
   ],
   "metadata": {
    "collapsed": false,
    "ExecuteTime": {
     "end_time": "2023-06-30T14:16:15.548494800Z",
     "start_time": "2023-06-30T14:16:15.541493100Z"
    }
   }
  },
  {
   "cell_type": "code",
   "execution_count": 6,
   "outputs": [
    {
     "name": "stdout",
     "output_type": "stream",
     "text": [
      "Model: \"sequential\"\n",
      "_________________________________________________________________\n",
      " Layer (type)                Output Shape              Param #   \n",
      "=================================================================\n",
      " dense (Dense)               (None, 12)                300       \n",
      "                                                                 \n",
      " dense_1 (Dense)             (None, 18)                234       \n",
      "                                                                 \n",
      " dense_2 (Dense)             (None, 1)                 19        \n",
      "                                                                 \n",
      "=================================================================\n",
      "Total params: 553\n",
      "Trainable params: 553\n",
      "Non-trainable params: 0\n",
      "_________________________________________________________________\n"
     ]
    }
   ],
   "source": [
    "model_builder(kt.HyperParameters()).summary()"
   ],
   "metadata": {
    "collapsed": false,
    "ExecuteTime": {
     "end_time": "2023-06-30T14:16:16.081291100Z",
     "start_time": "2023-06-30T14:16:15.543494800Z"
    }
   }
  },
  {
   "cell_type": "code",
   "execution_count": 7,
   "outputs": [],
   "source": [
    "model_callbacks = [callbacks.EarlyStopping(patience=30, min_delta=ES_MIN_DELTA),\n",
    "                   callbacks.ReduceLROnPlateau(monitor='loss', factor=0.9, patience=5)]"
   ],
   "metadata": {
    "collapsed": false,
    "ExecuteTime": {
     "end_time": "2023-06-30T14:16:16.127330200Z",
     "start_time": "2023-06-30T14:16:16.082291200Z"
    }
   }
  },
  {
   "cell_type": "markdown",
   "source": [
    "# Bayesian tuner"
   ],
   "metadata": {
    "collapsed": false
   }
  },
  {
   "cell_type": "code",
   "execution_count": 8,
   "outputs": [
    {
     "name": "stdout",
     "output_type": "stream",
     "text": [
      "Trial 40 Complete [00h 00m 27s]\n",
      "val_loss: 9.168552875518799\n",
      "\n",
      "Best val_loss So Far: 8.720914363861084\n",
      "Total elapsed time: 00h 40m 46s\n"
     ]
    }
   ],
   "source": [
    "bayesian_tuner = kt.BayesianOptimization(model_builder, objective='val_loss', executions_per_trial=EXECUTIONS_PER_TRIAL,\n",
    "                                         max_trials=MAX_TRIALS, directory=TRIALS_DIR, project_name=PROJECT_NAME,\n",
    "                                         overwrite=OVERWRITE)\n",
    "\n",
    "bayesian_tuner.search(X_train, y_train, validation_data=[X_val, y_val], epochs=N_EPOCHS, callbacks=model_callbacks,\n",
    "                      batch_size=BATCH_SIZE, verbose=3)"
   ],
   "metadata": {
    "collapsed": false
   }
  },
  {
   "cell_type": "markdown",
   "source": [
    "# Results"
   ],
   "metadata": {
    "collapsed": false
   }
  },
  {
   "cell_type": "code",
   "execution_count": 9,
   "outputs": [
    {
     "name": "stdout",
     "output_type": "stream",
     "text": [
      "========== Model 0 ==========\n",
      "{'n_hidden_layers': 3, 'units_mult': 32, 'unit_decrease_factor': 2.0, 'batch_normalization': False, 'input_batch_normalization': True, 'dropout': 0.0, 'normalize_signal': False}\n",
      "Number of parameters: 95617\n",
      "========== Model 1 ==========\n",
      "{'n_hidden_layers': 2, 'units_mult': 32, 'unit_decrease_factor': 1.0, 'batch_normalization': False, 'input_batch_normalization': True, 'dropout': 0.2, 'normalize_signal': False}\n",
      "Number of parameters: 11905\n",
      "========== Model 2 ==========\n",
      "{'n_hidden_layers': 3, 'units_mult': 8, 'unit_decrease_factor': 1.5, 'batch_normalization': False, 'input_batch_normalization': True, 'dropout': 0.0, 'normalize_signal': False}\n",
      "Number of parameters: 3649\n",
      "========== Model 3 ==========\n",
      "{'n_hidden_layers': 1, 'units_mult': 32, 'unit_decrease_factor': 1.0, 'batch_normalization': False, 'input_batch_normalization': True, 'dropout': 0.0, 'normalize_signal': False}\n",
      "Number of parameters: 2593\n",
      "========== Model 4 ==========\n",
      "{'n_hidden_layers': 1, 'units_mult': 32, 'unit_decrease_factor': 1.5, 'batch_normalization': False, 'input_batch_normalization': True, 'dropout': 0.2, 'normalize_signal': False}\n",
      "Number of parameters: 2593\n"
     ]
    }
   ],
   "source": [
    "for i, hyperparameters in enumerate(bayesian_tuner.get_best_hyperparameters(TOP_N)):\n",
    "    print(f'========== Model {i} ==========')\n",
    "    print(hyperparameters.get_config()['values'])\n",
    "    model_tmp = model_builder(hyperparameters)\n",
    "    print('Number of parameters:', count_params(model_tmp))"
   ],
   "metadata": {
    "collapsed": false,
    "ExecuteTime": {
     "end_time": "2023-06-30T14:57:02.612225100Z",
     "start_time": "2023-06-30T14:57:02.472241600Z"
    }
   }
  },
  {
   "cell_type": "markdown",
   "source": [
    "# Cross-validation for top 5 models"
   ],
   "metadata": {
    "collapsed": false
   }
  },
  {
   "cell_type": "code",
   "execution_count": 10,
   "outputs": [
    {
     "data": {
      "text/plain": "<IPython.core.display.HTML object>",
      "text/html": "<h3>Model 0</h3>"
     },
     "metadata": {},
     "output_type": "display_data"
    },
    {
     "name": "stdout",
     "output_type": "stream",
     "text": [
      "{'n_hidden_layers': 3, 'units_mult': 32, 'unit_decrease_factor': 2.0, 'batch_normalization': False, 'input_batch_normalization': True, 'dropout': 0.0, 'normalize_signal': False}\n",
      "Number of parameters: 95617\n",
      "Got score: 8.6102 (8.6231, 8.5974)\n",
      "Got score: 8.2929 (8.3028, 8.2831)\n",
      "Got score: 8.4297 (8.4512, 8.4083)\n",
      "Got score: 8.1960 (8.2858, 8.1062)\n",
      "Got score: 8.5608 (8.5393, 8.5823)\n"
     ]
    },
    {
     "data": {
      "text/plain": "<IPython.core.display.HTML object>",
      "text/html": "<h3>Model 1</h3>"
     },
     "metadata": {},
     "output_type": "display_data"
    },
    {
     "name": "stdout",
     "output_type": "stream",
     "text": [
      "{'n_hidden_layers': 2, 'units_mult': 32, 'unit_decrease_factor': 1.0, 'batch_normalization': False, 'input_batch_normalization': True, 'dropout': 0.2, 'normalize_signal': False}\n",
      "Number of parameters: 11905\n",
      "Got score: 8.7886 (8.7341, 8.8431)\n",
      "Got score: 8.3565 (8.3198, 8.3931)\n",
      "Got score: 8.5679 (8.5562, 8.5796)\n",
      "Got score: 8.2913 (8.1915, 8.3910)\n",
      "Got score: 8.7580 (8.7304, 8.7857)\n"
     ]
    },
    {
     "data": {
      "text/plain": "<IPython.core.display.HTML object>",
      "text/html": "<h3>Model 2</h3>"
     },
     "metadata": {},
     "output_type": "display_data"
    },
    {
     "name": "stdout",
     "output_type": "stream",
     "text": [
      "{'n_hidden_layers': 3, 'units_mult': 8, 'unit_decrease_factor': 1.5, 'batch_normalization': False, 'input_batch_normalization': True, 'dropout': 0.0, 'normalize_signal': False}\n",
      "Number of parameters: 3649\n",
      "Got score: 8.6279 (8.6608, 8.5950)\n",
      "Got score: 8.3013 (8.3053, 8.2973)\n",
      "Got score: 8.5545 (8.5618, 8.5471)\n",
      "Got score: 8.2916 (8.2972, 8.2860)\n",
      "Got score: 8.6019 (8.6466, 8.5571)\n"
     ]
    },
    {
     "data": {
      "text/plain": "<IPython.core.display.HTML object>",
      "text/html": "<h3>Model 3</h3>"
     },
     "metadata": {},
     "output_type": "display_data"
    },
    {
     "name": "stdout",
     "output_type": "stream",
     "text": [
      "{'n_hidden_layers': 1, 'units_mult': 32, 'unit_decrease_factor': 1.0, 'batch_normalization': False, 'input_batch_normalization': True, 'dropout': 0.0, 'normalize_signal': False}\n",
      "Number of parameters: 2593\n",
      "Got score: 8.7036 (8.6921, 8.7150)\n",
      "Got score: 8.4984 (8.4168, 8.5800)\n",
      "Got score: 8.6169 (8.6416, 8.5922)\n",
      "Got score: 8.4159 (8.3927, 8.4391)\n",
      "Got score: 8.6745 (8.6738, 8.6751)\n"
     ]
    },
    {
     "data": {
      "text/plain": "<IPython.core.display.HTML object>",
      "text/html": "<h3>Model 4</h3>"
     },
     "metadata": {},
     "output_type": "display_data"
    },
    {
     "name": "stdout",
     "output_type": "stream",
     "text": [
      "{'n_hidden_layers': 1, 'units_mult': 32, 'unit_decrease_factor': 1.5, 'batch_normalization': False, 'input_batch_normalization': True, 'dropout': 0.2, 'normalize_signal': False}\n",
      "Number of parameters: 2593\n",
      "Got score: 8.7914 (8.8360, 8.7469)\n",
      "Got score: 8.4243 (8.4081, 8.4405)\n",
      "Got score: 8.6178 (8.5837, 8.6519)\n",
      "Got score: 8.4021 (8.4082, 8.3961)\n",
      "Got score: 8.6257 (8.6356, 8.6158)\n"
     ]
    }
   ],
   "source": [
    "cross_validator = KerasTunerAllChannelsCrossValidator(bayesian_tuner, list(X_all.values()), list(y_all.values()),\n",
    "                                                      model_builder, directory=CROSSVAL_DIR, project_name=PROJECT_NAME,\n",
    "                                                      n_epochs=N_EPOCHS, batch_size=BATCH_SIZE, n_top=TOP_N,\n",
    "                                                      es_min_delta=ES_MIN_DELTA, n_cv=CROSSVAL_N_CV,\n",
    "                                                      n_executions=CROSSVAL_N_EXEC, overwrite=OVERWRITE)\n",
    "model_scores = cross_validator()"
   ],
   "metadata": {
    "collapsed": false,
    "ExecuteTime": {
     "end_time": "2023-06-30T15:03:53.646544200Z",
     "start_time": "2023-06-30T14:57:02.613226100Z"
    }
   }
  },
  {
   "cell_type": "code",
   "execution_count": 11,
   "outputs": [
    {
     "data": {
      "text/plain": "       mean   std  n_params\nModel                      \n0      8.42  0.16     95617\n1      8.55  0.20     11905\n2      8.48  0.15      3649\n3      8.58  0.11      2593\n4      8.57  0.14      2593",
      "text/html": "<div>\n<style scoped>\n    .dataframe tbody tr th:only-of-type {\n        vertical-align: middle;\n    }\n\n    .dataframe tbody tr th {\n        vertical-align: top;\n    }\n\n    .dataframe thead th {\n        text-align: right;\n    }\n</style>\n<table border=\"1\" class=\"dataframe\">\n  <thead>\n    <tr style=\"text-align: right;\">\n      <th></th>\n      <th>mean</th>\n      <th>std</th>\n      <th>n_params</th>\n    </tr>\n    <tr>\n      <th>Model</th>\n      <th></th>\n      <th></th>\n      <th></th>\n    </tr>\n  </thead>\n  <tbody>\n    <tr>\n      <th>0</th>\n      <td>8.42</td>\n      <td>0.16</td>\n      <td>95617</td>\n    </tr>\n    <tr>\n      <th>1</th>\n      <td>8.55</td>\n      <td>0.20</td>\n      <td>11905</td>\n    </tr>\n    <tr>\n      <th>2</th>\n      <td>8.48</td>\n      <td>0.15</td>\n      <td>3649</td>\n    </tr>\n    <tr>\n      <th>3</th>\n      <td>8.58</td>\n      <td>0.11</td>\n      <td>2593</td>\n    </tr>\n    <tr>\n      <th>4</th>\n      <td>8.57</td>\n      <td>0.14</td>\n      <td>2593</td>\n    </tr>\n  </tbody>\n</table>\n</div>"
     },
     "execution_count": 11,
     "metadata": {},
     "output_type": "execute_result"
    }
   ],
   "source": [
    "mean_scores = [f\"{np.mean(scores):0.2f}\" for scores in model_scores.values()]\n",
    "std_scores = [f\"{np.std(scores):0.2f}\" for scores in model_scores.values()]\n",
    "n_params = [count_params(model_builder(hyperparameters)) for hyperparameters in\n",
    "            bayesian_tuner.get_best_hyperparameters(TOP_N)]\n",
    "\n",
    "df = pd.DataFrame({'mean': mean_scores, 'std': std_scores, 'n_params': n_params}, index=model_scores.keys())\n",
    "df.index.name = 'Model'\n",
    "df"
   ],
   "metadata": {
    "collapsed": false,
    "ExecuteTime": {
     "end_time": "2023-06-30T15:03:53.775632100Z",
     "start_time": "2023-06-30T15:03:53.647543600Z"
    }
   }
  },
  {
   "cell_type": "code",
   "execution_count": 11,
   "outputs": [],
   "source": [],
   "metadata": {
    "collapsed": false,
    "ExecuteTime": {
     "end_time": "2023-06-30T15:03:53.793766800Z",
     "start_time": "2023-06-30T15:03:53.775632100Z"
    }
   }
  }
 ],
 "metadata": {
  "kernelspec": {
   "display_name": "Python 3",
   "language": "python",
   "name": "python3"
  },
  "language_info": {
   "codemirror_mode": {
    "name": "ipython",
    "version": 2
   },
   "file_extension": ".py",
   "mimetype": "text/x-python",
   "name": "python",
   "nbconvert_exporter": "python",
   "pygments_lexer": "ipython2",
   "version": "2.7.6"
  }
 },
 "nbformat": 4,
 "nbformat_minor": 0
}
