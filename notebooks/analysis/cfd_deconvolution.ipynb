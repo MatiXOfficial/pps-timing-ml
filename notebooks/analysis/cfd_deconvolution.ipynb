{
 "cells": [
  {
   "cell_type": "code",
   "execution_count": 1,
   "metadata": {
    "collapsed": true,
    "ExecuteTime": {
     "end_time": "2023-06-10T22:04:04.056814900Z",
     "start_time": "2023-06-10T22:04:01.865330200Z"
    }
   },
   "outputs": [],
   "source": [
    "import sys\n",
    "from collections import defaultdict\n",
    "from itertools import combinations\n",
    "\n",
    "import numpy as np\n",
    "\n",
    "from src.cfd import CFD\n",
    "from src.dataset import X_TIME, load_expanded_dataset\n",
    "from src.utils import deconvolve_precision, PLANES\n",
    "\n",
    "PWD = '../..'\n",
    "sys.path.append(PWD)\n",
    "\n",
    "IMAGES_DIR = PWD + '/data/images/cfd_deconvolution/'"
   ]
  },
  {
   "cell_type": "code",
   "execution_count": 2,
   "outputs": [],
   "source": [
    "CFD_THRESHOLD = 0.2\n",
    "CFD_N_BASELINE = 6\n",
    "\n",
    "cfd = CFD(n_baseline=CFD_N_BASELINE, threshold=CFD_THRESHOLD)\n",
    "\n",
    "_, dataset_wav, dataset_t0 = load_expanded_dataset(PWD)"
   ],
   "metadata": {
    "collapsed": false,
    "ExecuteTime": {
     "end_time": "2023-06-10T22:04:04.102998600Z",
     "start_time": "2023-06-10T22:04:04.058318100Z"
    }
   }
  },
  {
   "cell_type": "markdown",
   "source": [
    "# Compute CFD timestamps"
   ],
   "metadata": {
    "collapsed": false
   }
  },
  {
   "cell_type": "code",
   "execution_count": 3,
   "outputs": [
    {
     "name": "stderr",
     "output_type": "stream",
     "text": [
      "C:\\Repository\\pps-timing-ml-sampic\\src\\cfd.py:63: RuntimeWarning: invalid value encountered in divide\n",
      "  samples /= np.max(samples)\n"
     ]
    }
   ],
   "source": [
    "cfd_timestamps = defaultdict(list)\n",
    "\n",
    "for (plane, channel), data in dataset_wav.items():\n",
    "    t_cfd = list(cfd.predict(X_TIME, data))\n",
    "    for i, t0 in enumerate(dataset_t0[(plane, channel)]):\n",
    "        if t0 is None:\n",
    "            t_cfd[i] = None\n",
    "        else:\n",
    "            t_cfd[i] += t0\n",
    "    cfd_timestamps[(plane, channel)] = np.array(t_cfd)"
   ],
   "metadata": {
    "collapsed": false,
    "ExecuteTime": {
     "end_time": "2023-06-10T22:04:10.150895200Z",
     "start_time": "2023-06-10T22:04:04.103999600Z"
    }
   }
  },
  {
   "cell_type": "markdown",
   "source": [
    "# Find mutual precisions"
   ],
   "metadata": {
    "collapsed": false
   }
  },
  {
   "cell_type": "code",
   "execution_count": 4,
   "outputs": [],
   "source": [
    "mutual_precisions = {}\n",
    "\n",
    "for p_ch1, p_ch2 in combinations(cfd_timestamps.keys(), 2):\n",
    "    if p_ch1[1] == p_ch2[1]:  # Only for corresponding channels\n",
    "        ch1_timestamps, ch2_timestamps = cfd_timestamps[p_ch1], cfd_timestamps[p_ch2]\n",
    "        differences = [abs(ch1_t - ch2_t) for ch1_t, ch2_t in zip(ch1_timestamps, ch2_timestamps) if\n",
    "                       ch1_t is not None and ch2_t is not None]\n",
    "\n",
    "        mutual_precisions[(p_ch1, p_ch2)] = np.std(differences)"
   ],
   "metadata": {
    "collapsed": false,
    "ExecuteTime": {
     "end_time": "2023-06-10T22:04:10.183073200Z",
     "start_time": "2023-06-10T22:04:10.152895400Z"
    }
   }
  },
  {
   "cell_type": "code",
   "execution_count": 5,
   "outputs": [],
   "source": [
    "channel_mutual_precisions = defaultdict(dict)\n",
    "for ((x_p, x_ch), (y_p, y_ch)), precision in mutual_precisions.items():\n",
    "    assert x_ch == y_ch\n",
    "    channel_mutual_precisions[x_ch][(x_p, y_p)] = precision"
   ],
   "metadata": {
    "collapsed": false,
    "ExecuteTime": {
     "end_time": "2023-06-10T22:04:10.197576100Z",
     "start_time": "2023-06-10T22:04:10.184073300Z"
    }
   }
  },
  {
   "cell_type": "code",
   "execution_count": 6,
   "outputs": [
    {
     "name": "stdout",
     "output_type": "stream",
     "text": [
      "ch  2: (p1 vs p2): 0.056\n",
      "ch  2: (p1 vs p3): 0.070\n",
      "ch  2: (p2 vs p3): 0.072\n",
      "ch 11: (p1 vs p2): 0.063\n",
      "ch 11: (p1 vs p3): 0.077\n",
      "ch 11: (p2 vs p3): 0.081\n"
     ]
    }
   ],
   "source": [
    "for ch, data in channel_mutual_precisions.items():\n",
    "    for (p_1, p_2), prec in data.items():\n",
    "        print(f'ch {ch:2}: (p{p_1} vs p{p_2}): {prec:0.3f}')"
   ],
   "metadata": {
    "collapsed": false,
    "ExecuteTime": {
     "end_time": "2023-06-10T22:04:10.242587400Z",
     "start_time": "2023-06-10T22:04:10.198580800Z"
    }
   }
  },
  {
   "cell_type": "markdown",
   "source": [
    "# Deconvolve"
   ],
   "metadata": {
    "collapsed": false
   }
  },
  {
   "cell_type": "code",
   "execution_count": 7,
   "outputs": [],
   "source": [
    "deconvolved_precisions = {}\n",
    "for ch, prec_dict in channel_mutual_precisions.items():\n",
    "    for p in PLANES:\n",
    "        deconvolved_precisions[(p, ch)] = deconvolve_precision(p, prec_dict)"
   ],
   "metadata": {
    "collapsed": false,
    "ExecuteTime": {
     "end_time": "2023-06-10T22:04:10.248588300Z",
     "start_time": "2023-06-10T22:04:10.214580600Z"
    }
   }
  },
  {
   "cell_type": "code",
   "execution_count": 8,
   "outputs": [
    {
     "name": "stdout",
     "output_type": "stream",
     "text": [
      "(p 1, ch  2): 0.053\n",
      "(p 2, ch  2): 0.059\n",
      "(p 3, ch  2): 0.083\n",
      "(p 1, ch 11): 0.057\n",
      "(p 2, ch 11): 0.069\n",
      "(p 3, ch 11): 0.092\n"
     ]
    }
   ],
   "source": [
    "for (p, ch), prec in deconvolved_precisions.items():\n",
    "    print(f'(p {p}, ch {ch:2}): {prec:0.3f}')"
   ],
   "metadata": {
    "collapsed": false,
    "ExecuteTime": {
     "end_time": "2023-06-10T22:04:10.249588Z",
     "start_time": "2023-06-10T22:04:10.242587400Z"
    }
   }
  },
  {
   "cell_type": "code",
   "execution_count": 8,
   "outputs": [],
   "source": [],
   "metadata": {
    "collapsed": false,
    "ExecuteTime": {
     "end_time": "2023-06-10T22:04:10.259344400Z",
     "start_time": "2023-06-10T22:04:10.244588600Z"
    }
   }
  }
 ],
 "metadata": {
  "kernelspec": {
   "display_name": "Python 3",
   "language": "python",
   "name": "python3"
  },
  "language_info": {
   "codemirror_mode": {
    "name": "ipython",
    "version": 2
   },
   "file_extension": ".py",
   "mimetype": "text/x-python",
   "name": "python",
   "nbconvert_exporter": "python",
   "pygments_lexer": "ipython2",
   "version": "2.7.6"
  }
 },
 "nbformat": 4,
 "nbformat_minor": 0
}
